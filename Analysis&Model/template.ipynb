{
 "cells": [
  {
   "cell_type": "markdown",
   "metadata": {},
   "source": [
    "# State Outage Analysis\n",
    "\n",
    "**Name(s)**: Albert Henderson\n",
    "\n",
    "**Website Link**: https://alberthender.github.io/Outage-State-Predictor/"
   ]
  },
  {
   "cell_type": "code",
   "execution_count": 111,
   "metadata": {
    "ExecuteTime": {
     "end_time": "2019-10-31T23:36:28.652554Z",
     "start_time": "2019-10-31T23:36:27.180520Z"
    }
   },
   "outputs": [],
   "source": [
    "import pandas as pd\n",
    "import numpy as np\n",
    "from pathlib import Path\n",
    "\n",
    "import plotly.express as px\n",
    "pd.options.plotting.backend = 'plotly'\n"
   ]
  },
  {
   "cell_type": "markdown",
   "metadata": {},
   "source": [
    "## Step 1: Introduction"
   ]
  },
  {
   "cell_type": "markdown",
   "metadata": {},
   "source": [
    "Of the 3 datasets, I decided to go with the power outage dataset due to it's usefullness to a majority of the population."
   ]
  },
  {
   "cell_type": "markdown",
   "metadata": {},
   "source": [
    "## Step 2: Data Cleaning and Exploratory Data Analysis"
   ]
  },
  {
   "cell_type": "code",
   "execution_count": 112,
   "metadata": {
    "ExecuteTime": {
     "end_time": "2019-10-31T23:36:28.657068Z",
     "start_time": "2019-10-31T23:36:28.654650Z"
    }
   },
   "outputs": [
    {
     "data": {
      "text/html": [
       "<div>\n",
       "<style scoped>\n",
       "    .dataframe tbody tr th:only-of-type {\n",
       "        vertical-align: middle;\n",
       "    }\n",
       "\n",
       "    .dataframe tbody tr th {\n",
       "        vertical-align: top;\n",
       "    }\n",
       "\n",
       "    .dataframe thead th {\n",
       "        text-align: right;\n",
       "    }\n",
       "</style>\n",
       "<table border=\"1\" class=\"dataframe\">\n",
       "  <thead>\n",
       "    <tr style=\"text-align: right;\">\n",
       "      <th></th>\n",
       "      <th>Unnamed: 1</th>\n",
       "      <th>Unnamed: 2</th>\n",
       "      <th>Unnamed: 3</th>\n",
       "      <th>Unnamed: 4</th>\n",
       "      <th>Unnamed: 5</th>\n",
       "      <th>Unnamed: 6</th>\n",
       "      <th>Unnamed: 7</th>\n",
       "      <th>Unnamed: 8</th>\n",
       "      <th>Unnamed: 9</th>\n",
       "      <th>Unnamed: 10</th>\n",
       "      <th>...</th>\n",
       "      <th>Unnamed: 47</th>\n",
       "      <th>Unnamed: 48</th>\n",
       "      <th>Unnamed: 49</th>\n",
       "      <th>Unnamed: 50</th>\n",
       "      <th>Unnamed: 51</th>\n",
       "      <th>Unnamed: 52</th>\n",
       "      <th>Unnamed: 53</th>\n",
       "      <th>Unnamed: 54</th>\n",
       "      <th>Unnamed: 55</th>\n",
       "      <th>Unnamed: 56</th>\n",
       "    </tr>\n",
       "    <tr>\n",
       "      <th>Major power outage events in the continental U.S.</th>\n",
       "      <th></th>\n",
       "      <th></th>\n",
       "      <th></th>\n",
       "      <th></th>\n",
       "      <th></th>\n",
       "      <th></th>\n",
       "      <th></th>\n",
       "      <th></th>\n",
       "      <th></th>\n",
       "      <th></th>\n",
       "      <th></th>\n",
       "      <th></th>\n",
       "      <th></th>\n",
       "      <th></th>\n",
       "      <th></th>\n",
       "      <th></th>\n",
       "      <th></th>\n",
       "      <th></th>\n",
       "      <th></th>\n",
       "      <th></th>\n",
       "      <th></th>\n",
       "    </tr>\n",
       "  </thead>\n",
       "  <tbody>\n",
       "    <tr>\n",
       "      <th>Time period: January 2000 - July 2016</th>\n",
       "      <td>NaN</td>\n",
       "      <td>NaN</td>\n",
       "      <td>NaN</td>\n",
       "      <td>NaN</td>\n",
       "      <td>NaN</td>\n",
       "      <td>NaN</td>\n",
       "      <td>NaN</td>\n",
       "      <td>NaN</td>\n",
       "      <td>NaN</td>\n",
       "      <td>NaN</td>\n",
       "      <td>...</td>\n",
       "      <td>NaN</td>\n",
       "      <td>NaN</td>\n",
       "      <td>NaN</td>\n",
       "      <td>NaN</td>\n",
       "      <td>NaN</td>\n",
       "      <td>NaN</td>\n",
       "      <td>NaN</td>\n",
       "      <td>NaN</td>\n",
       "      <td>NaN</td>\n",
       "      <td>NaN</td>\n",
       "    </tr>\n",
       "    <tr>\n",
       "      <th>Regions affected: Outages reported in this data file affected a single U.S. state at the time of occurrence</th>\n",
       "      <td>NaN</td>\n",
       "      <td>NaN</td>\n",
       "      <td>NaN</td>\n",
       "      <td>NaN</td>\n",
       "      <td>NaN</td>\n",
       "      <td>NaN</td>\n",
       "      <td>NaN</td>\n",
       "      <td>NaN</td>\n",
       "      <td>NaN</td>\n",
       "      <td>NaN</td>\n",
       "      <td>...</td>\n",
       "      <td>NaN</td>\n",
       "      <td>NaN</td>\n",
       "      <td>NaN</td>\n",
       "      <td>NaN</td>\n",
       "      <td>NaN</td>\n",
       "      <td>NaN</td>\n",
       "      <td>NaN</td>\n",
       "      <td>NaN</td>\n",
       "      <td>NaN</td>\n",
       "      <td>NaN</td>\n",
       "    </tr>\n",
       "    <tr>\n",
       "      <th>NaN</th>\n",
       "      <td>NaN</td>\n",
       "      <td>NaN</td>\n",
       "      <td>NaN</td>\n",
       "      <td>NaN</td>\n",
       "      <td>NaN</td>\n",
       "      <td>NaN</td>\n",
       "      <td>NaN</td>\n",
       "      <td>NaN</td>\n",
       "      <td>NaN</td>\n",
       "      <td>NaN</td>\n",
       "      <td>...</td>\n",
       "      <td>NaN</td>\n",
       "      <td>NaN</td>\n",
       "      <td>NaN</td>\n",
       "      <td>NaN</td>\n",
       "      <td>NaN</td>\n",
       "      <td>NaN</td>\n",
       "      <td>NaN</td>\n",
       "      <td>NaN</td>\n",
       "      <td>NaN</td>\n",
       "      <td>NaN</td>\n",
       "    </tr>\n",
       "    <tr>\n",
       "      <th>NaN</th>\n",
       "      <td>NaN</td>\n",
       "      <td>NaN</td>\n",
       "      <td>NaN</td>\n",
       "      <td>NaN</td>\n",
       "      <td>NaN</td>\n",
       "      <td>NaN</td>\n",
       "      <td>NaN</td>\n",
       "      <td>NaN</td>\n",
       "      <td>NaN</td>\n",
       "      <td>NaN</td>\n",
       "      <td>...</td>\n",
       "      <td>NaN</td>\n",
       "      <td>NaN</td>\n",
       "      <td>NaN</td>\n",
       "      <td>NaN</td>\n",
       "      <td>NaN</td>\n",
       "      <td>NaN</td>\n",
       "      <td>NaN</td>\n",
       "      <td>NaN</td>\n",
       "      <td>NaN</td>\n",
       "      <td>NaN</td>\n",
       "    </tr>\n",
       "    <tr>\n",
       "      <th>variables</th>\n",
       "      <td>OBS</td>\n",
       "      <td>YEAR</td>\n",
       "      <td>MONTH</td>\n",
       "      <td>U.S._STATE</td>\n",
       "      <td>POSTAL.CODE</td>\n",
       "      <td>NERC.REGION</td>\n",
       "      <td>CLIMATE.REGION</td>\n",
       "      <td>ANOMALY.LEVEL</td>\n",
       "      <td>CLIMATE.CATEGORY</td>\n",
       "      <td>OUTAGE.START.DATE</td>\n",
       "      <td>...</td>\n",
       "      <td>POPPCT_URBAN</td>\n",
       "      <td>POPPCT_UC</td>\n",
       "      <td>POPDEN_URBAN</td>\n",
       "      <td>POPDEN_UC</td>\n",
       "      <td>POPDEN_RURAL</td>\n",
       "      <td>AREAPCT_URBAN</td>\n",
       "      <td>AREAPCT_UC</td>\n",
       "      <td>PCT_LAND</td>\n",
       "      <td>PCT_WATER_TOT</td>\n",
       "      <td>PCT_WATER_INLAND</td>\n",
       "    </tr>\n",
       "    <tr>\n",
       "      <th>...</th>\n",
       "      <td>...</td>\n",
       "      <td>...</td>\n",
       "      <td>...</td>\n",
       "      <td>...</td>\n",
       "      <td>...</td>\n",
       "      <td>...</td>\n",
       "      <td>...</td>\n",
       "      <td>...</td>\n",
       "      <td>...</td>\n",
       "      <td>...</td>\n",
       "      <td>...</td>\n",
       "      <td>...</td>\n",
       "      <td>...</td>\n",
       "      <td>...</td>\n",
       "      <td>...</td>\n",
       "      <td>...</td>\n",
       "      <td>...</td>\n",
       "      <td>...</td>\n",
       "      <td>...</td>\n",
       "      <td>...</td>\n",
       "      <td>...</td>\n",
       "    </tr>\n",
       "    <tr>\n",
       "      <th>NaN</th>\n",
       "      <td>1530</td>\n",
       "      <td>2011</td>\n",
       "      <td>12</td>\n",
       "      <td>North Dakota</td>\n",
       "      <td>ND</td>\n",
       "      <td>MRO</td>\n",
       "      <td>West North Central</td>\n",
       "      <td>-0.9</td>\n",
       "      <td>cold</td>\n",
       "      <td>2011-12-06 00:00:00</td>\n",
       "      <td>...</td>\n",
       "      <td>59.9</td>\n",
       "      <td>19.9</td>\n",
       "      <td>2192.2</td>\n",
       "      <td>1868.2</td>\n",
       "      <td>3.9</td>\n",
       "      <td>0.27</td>\n",
       "      <td>0.1</td>\n",
       "      <td>97.599649</td>\n",
       "      <td>2.401765</td>\n",
       "      <td>2.401765</td>\n",
       "    </tr>\n",
       "    <tr>\n",
       "      <th>NaN</th>\n",
       "      <td>1531</td>\n",
       "      <td>2006</td>\n",
       "      <td>NaN</td>\n",
       "      <td>North Dakota</td>\n",
       "      <td>ND</td>\n",
       "      <td>MRO</td>\n",
       "      <td>West North Central</td>\n",
       "      <td>NaN</td>\n",
       "      <td>NaN</td>\n",
       "      <td>NaN</td>\n",
       "      <td>...</td>\n",
       "      <td>59.9</td>\n",
       "      <td>19.9</td>\n",
       "      <td>2192.2</td>\n",
       "      <td>1868.2</td>\n",
       "      <td>3.9</td>\n",
       "      <td>0.27</td>\n",
       "      <td>0.1</td>\n",
       "      <td>97.599649</td>\n",
       "      <td>2.401765</td>\n",
       "      <td>2.401765</td>\n",
       "    </tr>\n",
       "    <tr>\n",
       "      <th>NaN</th>\n",
       "      <td>1532</td>\n",
       "      <td>2009</td>\n",
       "      <td>8</td>\n",
       "      <td>South Dakota</td>\n",
       "      <td>SD</td>\n",
       "      <td>RFC</td>\n",
       "      <td>West North Central</td>\n",
       "      <td>0.5</td>\n",
       "      <td>warm</td>\n",
       "      <td>2009-08-29 00:00:00</td>\n",
       "      <td>...</td>\n",
       "      <td>56.65</td>\n",
       "      <td>26.73</td>\n",
       "      <td>2038.3</td>\n",
       "      <td>1905.4</td>\n",
       "      <td>4.7</td>\n",
       "      <td>0.3</td>\n",
       "      <td>0.15</td>\n",
       "      <td>98.307744</td>\n",
       "      <td>1.692256</td>\n",
       "      <td>1.692256</td>\n",
       "    </tr>\n",
       "    <tr>\n",
       "      <th>NaN</th>\n",
       "      <td>1533</td>\n",
       "      <td>2009</td>\n",
       "      <td>8</td>\n",
       "      <td>South Dakota</td>\n",
       "      <td>SD</td>\n",
       "      <td>MRO</td>\n",
       "      <td>West North Central</td>\n",
       "      <td>0.5</td>\n",
       "      <td>warm</td>\n",
       "      <td>2009-08-29 00:00:00</td>\n",
       "      <td>...</td>\n",
       "      <td>56.65</td>\n",
       "      <td>26.73</td>\n",
       "      <td>2038.3</td>\n",
       "      <td>1905.4</td>\n",
       "      <td>4.7</td>\n",
       "      <td>0.3</td>\n",
       "      <td>0.15</td>\n",
       "      <td>98.307744</td>\n",
       "      <td>1.692256</td>\n",
       "      <td>1.692256</td>\n",
       "    </tr>\n",
       "    <tr>\n",
       "      <th>NaN</th>\n",
       "      <td>1534</td>\n",
       "      <td>2000</td>\n",
       "      <td>NaN</td>\n",
       "      <td>Alaska</td>\n",
       "      <td>AK</td>\n",
       "      <td>ASCC</td>\n",
       "      <td>NaN</td>\n",
       "      <td>NaN</td>\n",
       "      <td>NaN</td>\n",
       "      <td>NaN</td>\n",
       "      <td>...</td>\n",
       "      <td>66.02</td>\n",
       "      <td>21.56</td>\n",
       "      <td>1802.6</td>\n",
       "      <td>1276</td>\n",
       "      <td>0.4</td>\n",
       "      <td>0.05</td>\n",
       "      <td>0.02</td>\n",
       "      <td>85.761154</td>\n",
       "      <td>14.238846</td>\n",
       "      <td>2.901182</td>\n",
       "    </tr>\n",
       "  </tbody>\n",
       "</table>\n",
       "<p>1540 rows × 56 columns</p>\n",
       "</div>"
      ],
      "text/plain": [
       "                                                   Unnamed: 1 Unnamed: 2  \\\n",
       "Major power outage events in the continental U.S.                          \n",
       "Time period: January 2000 - July 2016                     NaN        NaN   \n",
       "Regions affected: Outages reported in this data...        NaN        NaN   \n",
       "NaN                                                       NaN        NaN   \n",
       "NaN                                                       NaN        NaN   \n",
       "variables                                                 OBS       YEAR   \n",
       "...                                                       ...        ...   \n",
       "NaN                                                      1530       2011   \n",
       "NaN                                                      1531       2006   \n",
       "NaN                                                      1532       2009   \n",
       "NaN                                                      1533       2009   \n",
       "NaN                                                      1534       2000   \n",
       "\n",
       "                                                   Unnamed: 3    Unnamed: 4  \\\n",
       "Major power outage events in the continental U.S.                             \n",
       "Time period: January 2000 - July 2016                     NaN           NaN   \n",
       "Regions affected: Outages reported in this data...        NaN           NaN   \n",
       "NaN                                                       NaN           NaN   \n",
       "NaN                                                       NaN           NaN   \n",
       "variables                                               MONTH    U.S._STATE   \n",
       "...                                                       ...           ...   \n",
       "NaN                                                        12  North Dakota   \n",
       "NaN                                                       NaN  North Dakota   \n",
       "NaN                                                         8  South Dakota   \n",
       "NaN                                                         8  South Dakota   \n",
       "NaN                                                       NaN        Alaska   \n",
       "\n",
       "                                                     Unnamed: 5   Unnamed: 6  \\\n",
       "Major power outage events in the continental U.S.                              \n",
       "Time period: January 2000 - July 2016                       NaN          NaN   \n",
       "Regions affected: Outages reported in this data...          NaN          NaN   \n",
       "NaN                                                         NaN          NaN   \n",
       "NaN                                                         NaN          NaN   \n",
       "variables                                           POSTAL.CODE  NERC.REGION   \n",
       "...                                                         ...          ...   \n",
       "NaN                                                          ND          MRO   \n",
       "NaN                                                          ND          MRO   \n",
       "NaN                                                          SD          RFC   \n",
       "NaN                                                          SD          MRO   \n",
       "NaN                                                          AK         ASCC   \n",
       "\n",
       "                                                            Unnamed: 7  \\\n",
       "Major power outage events in the continental U.S.                        \n",
       "Time period: January 2000 - July 2016                              NaN   \n",
       "Regions affected: Outages reported in this data...                 NaN   \n",
       "NaN                                                                NaN   \n",
       "NaN                                                                NaN   \n",
       "variables                                               CLIMATE.REGION   \n",
       "...                                                                ...   \n",
       "NaN                                                 West North Central   \n",
       "NaN                                                 West North Central   \n",
       "NaN                                                 West North Central   \n",
       "NaN                                                 West North Central   \n",
       "NaN                                                                NaN   \n",
       "\n",
       "                                                       Unnamed: 8  \\\n",
       "Major power outage events in the continental U.S.                   \n",
       "Time period: January 2000 - July 2016                         NaN   \n",
       "Regions affected: Outages reported in this data...            NaN   \n",
       "NaN                                                           NaN   \n",
       "NaN                                                           NaN   \n",
       "variables                                           ANOMALY.LEVEL   \n",
       "...                                                           ...   \n",
       "NaN                                                          -0.9   \n",
       "NaN                                                           NaN   \n",
       "NaN                                                           0.5   \n",
       "NaN                                                           0.5   \n",
       "NaN                                                           NaN   \n",
       "\n",
       "                                                          Unnamed: 9  \\\n",
       "Major power outage events in the continental U.S.                      \n",
       "Time period: January 2000 - July 2016                            NaN   \n",
       "Regions affected: Outages reported in this data...               NaN   \n",
       "NaN                                                              NaN   \n",
       "NaN                                                              NaN   \n",
       "variables                                           CLIMATE.CATEGORY   \n",
       "...                                                              ...   \n",
       "NaN                                                             cold   \n",
       "NaN                                                              NaN   \n",
       "NaN                                                             warm   \n",
       "NaN                                                             warm   \n",
       "NaN                                                              NaN   \n",
       "\n",
       "                                                            Unnamed: 10  ...  \\\n",
       "Major power outage events in the continental U.S.                        ...   \n",
       "Time period: January 2000 - July 2016                               NaN  ...   \n",
       "Regions affected: Outages reported in this data...                  NaN  ...   \n",
       "NaN                                                                 NaN  ...   \n",
       "NaN                                                                 NaN  ...   \n",
       "variables                                             OUTAGE.START.DATE  ...   \n",
       "...                                                                 ...  ...   \n",
       "NaN                                                 2011-12-06 00:00:00  ...   \n",
       "NaN                                                                 NaN  ...   \n",
       "NaN                                                 2009-08-29 00:00:00  ...   \n",
       "NaN                                                 2009-08-29 00:00:00  ...   \n",
       "NaN                                                                 NaN  ...   \n",
       "\n",
       "                                                     Unnamed: 47 Unnamed: 48  \\\n",
       "Major power outage events in the continental U.S.                              \n",
       "Time period: January 2000 - July 2016                        NaN         NaN   \n",
       "Regions affected: Outages reported in this data...           NaN         NaN   \n",
       "NaN                                                          NaN         NaN   \n",
       "NaN                                                          NaN         NaN   \n",
       "variables                                           POPPCT_URBAN   POPPCT_UC   \n",
       "...                                                          ...         ...   \n",
       "NaN                                                         59.9        19.9   \n",
       "NaN                                                         59.9        19.9   \n",
       "NaN                                                        56.65       26.73   \n",
       "NaN                                                        56.65       26.73   \n",
       "NaN                                                        66.02       21.56   \n",
       "\n",
       "                                                     Unnamed: 49 Unnamed: 50  \\\n",
       "Major power outage events in the continental U.S.                              \n",
       "Time period: January 2000 - July 2016                        NaN         NaN   \n",
       "Regions affected: Outages reported in this data...           NaN         NaN   \n",
       "NaN                                                          NaN         NaN   \n",
       "NaN                                                          NaN         NaN   \n",
       "variables                                           POPDEN_URBAN   POPDEN_UC   \n",
       "...                                                          ...         ...   \n",
       "NaN                                                       2192.2      1868.2   \n",
       "NaN                                                       2192.2      1868.2   \n",
       "NaN                                                       2038.3      1905.4   \n",
       "NaN                                                       2038.3      1905.4   \n",
       "NaN                                                       1802.6        1276   \n",
       "\n",
       "                                                     Unnamed: 51  \\\n",
       "Major power outage events in the continental U.S.                  \n",
       "Time period: January 2000 - July 2016                        NaN   \n",
       "Regions affected: Outages reported in this data...           NaN   \n",
       "NaN                                                          NaN   \n",
       "NaN                                                          NaN   \n",
       "variables                                           POPDEN_RURAL   \n",
       "...                                                          ...   \n",
       "NaN                                                          3.9   \n",
       "NaN                                                          3.9   \n",
       "NaN                                                          4.7   \n",
       "NaN                                                          4.7   \n",
       "NaN                                                          0.4   \n",
       "\n",
       "                                                      Unnamed: 52 Unnamed: 53  \\\n",
       "Major power outage events in the continental U.S.                               \n",
       "Time period: January 2000 - July 2016                         NaN         NaN   \n",
       "Regions affected: Outages reported in this data...            NaN         NaN   \n",
       "NaN                                                           NaN         NaN   \n",
       "NaN                                                           NaN         NaN   \n",
       "variables                                           AREAPCT_URBAN  AREAPCT_UC   \n",
       "...                                                           ...         ...   \n",
       "NaN                                                          0.27         0.1   \n",
       "NaN                                                          0.27         0.1   \n",
       "NaN                                                           0.3        0.15   \n",
       "NaN                                                           0.3        0.15   \n",
       "NaN                                                          0.05        0.02   \n",
       "\n",
       "                                                   Unnamed: 54    Unnamed: 55  \\\n",
       "Major power outage events in the continental U.S.                               \n",
       "Time period: January 2000 - July 2016                      NaN            NaN   \n",
       "Regions affected: Outages reported in this data...         NaN            NaN   \n",
       "NaN                                                        NaN            NaN   \n",
       "NaN                                                        NaN            NaN   \n",
       "variables                                             PCT_LAND  PCT_WATER_TOT   \n",
       "...                                                        ...            ...   \n",
       "NaN                                                  97.599649       2.401765   \n",
       "NaN                                                  97.599649       2.401765   \n",
       "NaN                                                  98.307744       1.692256   \n",
       "NaN                                                  98.307744       1.692256   \n",
       "NaN                                                  85.761154      14.238846   \n",
       "\n",
       "                                                         Unnamed: 56  \n",
       "Major power outage events in the continental U.S.                     \n",
       "Time period: January 2000 - July 2016                            NaN  \n",
       "Regions affected: Outages reported in this data...               NaN  \n",
       "NaN                                                              NaN  \n",
       "NaN                                                              NaN  \n",
       "variables                                           PCT_WATER_INLAND  \n",
       "...                                                              ...  \n",
       "NaN                                                         2.401765  \n",
       "NaN                                                         2.401765  \n",
       "NaN                                                         1.692256  \n",
       "NaN                                                         1.692256  \n",
       "NaN                                                         2.901182  \n",
       "\n",
       "[1540 rows x 56 columns]"
      ]
     },
     "execution_count": 112,
     "metadata": {},
     "output_type": "execute_result"
    }
   ],
   "source": [
    "data = pd.read_excel('outage.xlsx', index_col=0)\n",
    "data"
   ]
  },
  {
   "cell_type": "code",
   "execution_count": 113,
   "metadata": {},
   "outputs": [
    {
     "data": {
      "text/plain": [
       "Unnamed: 1        1\n",
       "Unnamed: 2        1\n",
       "Unnamed: 3       10\n",
       "Unnamed: 4        1\n",
       "Unnamed: 5        1\n",
       "Unnamed: 6        1\n",
       "Unnamed: 7        7\n",
       "Unnamed: 8        9\n",
       "Unnamed: 9       10\n",
       "Unnamed: 10       9\n",
       "Unnamed: 11       9\n",
       "Unnamed: 12      58\n",
       "Unnamed: 13      58\n",
       "Unnamed: 14       1\n",
       "Unnamed: 15     472\n",
       "Unnamed: 16    1463\n",
       "Unnamed: 17      58\n",
       "Unnamed: 18     705\n",
       "Unnamed: 19     444\n",
       "Unnamed: 20      22\n",
       "Unnamed: 21      22\n",
       "Unnamed: 22      22\n",
       "Unnamed: 23      22\n",
       "Unnamed: 24      22\n",
       "Unnamed: 25      22\n",
       "Unnamed: 26      22\n",
       "Unnamed: 27      22\n",
       "Unnamed: 28      22\n",
       "Unnamed: 29      22\n",
       "Unnamed: 30      22\n",
       "Unnamed: 31       1\n",
       "Unnamed: 32       1\n",
       "Unnamed: 33       1\n",
       "Unnamed: 34       1\n",
       "Unnamed: 35       0\n",
       "Unnamed: 36       0\n",
       "Unnamed: 37       0\n",
       "Unnamed: 38       0\n",
       "Unnamed: 39       0\n",
       "Unnamed: 40       0\n",
       "Unnamed: 41       0\n",
       "Unnamed: 42       0\n",
       "Unnamed: 43       0\n",
       "Unnamed: 44       0\n",
       "Unnamed: 45       0\n",
       "Unnamed: 46       1\n",
       "Unnamed: 47       0\n",
       "Unnamed: 48       0\n",
       "Unnamed: 49       0\n",
       "Unnamed: 50      10\n",
       "Unnamed: 51      10\n",
       "Unnamed: 52       0\n",
       "Unnamed: 53       0\n",
       "Unnamed: 54       0\n",
       "Unnamed: 55       0\n",
       "Unnamed: 56       0\n",
       "dtype: int64"
      ]
     },
     "execution_count": 113,
     "metadata": {},
     "output_type": "execute_result"
    }
   ],
   "source": [
    "# Locate columns with disproportionate amount of missing  values\n",
    "data = data.dropna(how='all')\n",
    "data.isna().sum()"
   ]
  },
  {
   "cell_type": "code",
   "execution_count": 114,
   "metadata": {},
   "outputs": [],
   "source": [
    "data = data.drop(columns=['Unnamed: 16','Unnamed: 18','Unnamed: 15'])\n",
    "data.columns = data.loc['variables'].values\n",
    "data = data.drop(index = 'variables')"
   ]
  },
  {
   "cell_type": "code",
   "execution_count": 115,
   "metadata": {},
   "outputs": [
    {
     "data": {
      "text/plain": [
       "Index(['OBS', 'YEAR', 'MONTH', 'U.S._STATE', 'POSTAL.CODE', 'NERC.REGION',\n",
       "       'CLIMATE.REGION', 'ANOMALY.LEVEL', 'CLIMATE.CATEGORY',\n",
       "       'OUTAGE.START.DATE', 'OUTAGE.START.TIME', 'OUTAGE.RESTORATION.DATE',\n",
       "       'OUTAGE.RESTORATION.TIME', 'CAUSE.CATEGORY', 'OUTAGE.DURATION',\n",
       "       'CUSTOMERS.AFFECTED', 'RES.PRICE', 'COM.PRICE', 'IND.PRICE',\n",
       "       'TOTAL.PRICE', 'RES.SALES', 'COM.SALES', 'IND.SALES', 'TOTAL.SALES',\n",
       "       'RES.PERCEN', 'COM.PERCEN', 'IND.PERCEN', 'RES.CUSTOMERS',\n",
       "       'COM.CUSTOMERS', 'IND.CUSTOMERS', 'TOTAL.CUSTOMERS', 'RES.CUST.PCT',\n",
       "       'COM.CUST.PCT', 'IND.CUST.PCT', 'PC.REALGSP.STATE', 'PC.REALGSP.USA',\n",
       "       'PC.REALGSP.REL', 'PC.REALGSP.CHANGE', 'UTIL.REALGSP', 'TOTAL.REALGSP',\n",
       "       'UTIL.CONTRI', 'PI.UTIL.OFUSA', 'POPULATION', 'POPPCT_URBAN',\n",
       "       'POPPCT_UC', 'POPDEN_URBAN', 'POPDEN_UC', 'POPDEN_RURAL',\n",
       "       'AREAPCT_URBAN', 'AREAPCT_UC', 'PCT_LAND', 'PCT_WATER_TOT',\n",
       "       'PCT_WATER_INLAND'],\n",
       "      dtype='object')"
      ]
     },
     "execution_count": 115,
     "metadata": {},
     "output_type": "execute_result"
    }
   ],
   "source": [
    "#Get exact names of desired columns\n",
    "data.columns"
   ]
  },
  {
   "cell_type": "code",
   "execution_count": 116,
   "metadata": {},
   "outputs": [
    {
     "data": {
      "text/html": [
       "<div>\n",
       "<style scoped>\n",
       "    .dataframe tbody tr th:only-of-type {\n",
       "        vertical-align: middle;\n",
       "    }\n",
       "\n",
       "    .dataframe tbody tr th {\n",
       "        vertical-align: top;\n",
       "    }\n",
       "\n",
       "    .dataframe thead th {\n",
       "        text-align: right;\n",
       "    }\n",
       "</style>\n",
       "<table border=\"1\" class=\"dataframe\">\n",
       "  <thead>\n",
       "    <tr style=\"text-align: right;\">\n",
       "      <th></th>\n",
       "      <th>YEAR</th>\n",
       "      <th>MONTH</th>\n",
       "      <th>U.S._STATE</th>\n",
       "      <th>POSTAL.CODE</th>\n",
       "      <th>CLIMATE.REGION</th>\n",
       "      <th>CLIMATE.CATEGORY</th>\n",
       "      <th>OUTAGE.START.DATE</th>\n",
       "      <th>OUTAGE.START.TIME</th>\n",
       "      <th>OUTAGE.RESTORATION.DATE</th>\n",
       "      <th>OUTAGE.RESTORATION.TIME</th>\n",
       "      <th>CAUSE.CATEGORY</th>\n",
       "      <th>OUTAGE.DURATION</th>\n",
       "      <th>TOTAL.PRICE</th>\n",
       "      <th>TOTAL.SALES</th>\n",
       "      <th>TOTAL.CUSTOMERS</th>\n",
       "      <th>POPULATION</th>\n",
       "      <th>CUSTOMERS.AFFECTED</th>\n",
       "      <th>PCT_LAND</th>\n",
       "    </tr>\n",
       "    <tr>\n",
       "      <th>Major power outage events in the continental U.S.</th>\n",
       "      <th></th>\n",
       "      <th></th>\n",
       "      <th></th>\n",
       "      <th></th>\n",
       "      <th></th>\n",
       "      <th></th>\n",
       "      <th></th>\n",
       "      <th></th>\n",
       "      <th></th>\n",
       "      <th></th>\n",
       "      <th></th>\n",
       "      <th></th>\n",
       "      <th></th>\n",
       "      <th></th>\n",
       "      <th></th>\n",
       "      <th></th>\n",
       "      <th></th>\n",
       "      <th></th>\n",
       "    </tr>\n",
       "  </thead>\n",
       "  <tbody>\n",
       "    <tr>\n",
       "      <th>Units</th>\n",
       "      <td>NaN</td>\n",
       "      <td>NaN</td>\n",
       "      <td>NaN</td>\n",
       "      <td>NaN</td>\n",
       "      <td>NaN</td>\n",
       "      <td>NaN</td>\n",
       "      <td>Day of the week, Month Day, Year</td>\n",
       "      <td>Hour:Minute:Second (AM / PM)</td>\n",
       "      <td>Day of the week, Month Day, Year</td>\n",
       "      <td>Hour:Minute:Second (AM / PM)</td>\n",
       "      <td>NaN</td>\n",
       "      <td>mins</td>\n",
       "      <td>cents / kilowatt-hour</td>\n",
       "      <td>Megawatt-hour</td>\n",
       "      <td>NaN</td>\n",
       "      <td>NaN</td>\n",
       "      <td>NaN</td>\n",
       "      <td>%</td>\n",
       "    </tr>\n",
       "    <tr>\n",
       "      <th>NaN</th>\n",
       "      <td>2011</td>\n",
       "      <td>7</td>\n",
       "      <td>Minnesota</td>\n",
       "      <td>MN</td>\n",
       "      <td>East North Central</td>\n",
       "      <td>normal</td>\n",
       "      <td>2011-07-01 00:00:00</td>\n",
       "      <td>17:00:00</td>\n",
       "      <td>2011-07-03 00:00:00</td>\n",
       "      <td>20:00:00</td>\n",
       "      <td>severe weather</td>\n",
       "      <td>3060</td>\n",
       "      <td>9.28</td>\n",
       "      <td>6562520</td>\n",
       "      <td>2595696</td>\n",
       "      <td>5348119</td>\n",
       "      <td>70000</td>\n",
       "      <td>91.592666</td>\n",
       "    </tr>\n",
       "    <tr>\n",
       "      <th>NaN</th>\n",
       "      <td>2014</td>\n",
       "      <td>5</td>\n",
       "      <td>Minnesota</td>\n",
       "      <td>MN</td>\n",
       "      <td>East North Central</td>\n",
       "      <td>normal</td>\n",
       "      <td>2014-05-11 00:00:00</td>\n",
       "      <td>18:38:00</td>\n",
       "      <td>2014-05-11 00:00:00</td>\n",
       "      <td>18:39:00</td>\n",
       "      <td>intentional attack</td>\n",
       "      <td>1</td>\n",
       "      <td>9.28</td>\n",
       "      <td>5284231</td>\n",
       "      <td>2640737</td>\n",
       "      <td>5457125</td>\n",
       "      <td>NaN</td>\n",
       "      <td>91.592666</td>\n",
       "    </tr>\n",
       "    <tr>\n",
       "      <th>NaN</th>\n",
       "      <td>2010</td>\n",
       "      <td>10</td>\n",
       "      <td>Minnesota</td>\n",
       "      <td>MN</td>\n",
       "      <td>East North Central</td>\n",
       "      <td>cold</td>\n",
       "      <td>2010-10-26 00:00:00</td>\n",
       "      <td>20:00:00</td>\n",
       "      <td>2010-10-28 00:00:00</td>\n",
       "      <td>22:00:00</td>\n",
       "      <td>severe weather</td>\n",
       "      <td>3000</td>\n",
       "      <td>8.15</td>\n",
       "      <td>5222116</td>\n",
       "      <td>2586905</td>\n",
       "      <td>5310903</td>\n",
       "      <td>70000</td>\n",
       "      <td>91.592666</td>\n",
       "    </tr>\n",
       "    <tr>\n",
       "      <th>NaN</th>\n",
       "      <td>2012</td>\n",
       "      <td>6</td>\n",
       "      <td>Minnesota</td>\n",
       "      <td>MN</td>\n",
       "      <td>East North Central</td>\n",
       "      <td>normal</td>\n",
       "      <td>2012-06-19 00:00:00</td>\n",
       "      <td>04:30:00</td>\n",
       "      <td>2012-06-20 00:00:00</td>\n",
       "      <td>23:00:00</td>\n",
       "      <td>severe weather</td>\n",
       "      <td>2550</td>\n",
       "      <td>9.19</td>\n",
       "      <td>5787064</td>\n",
       "      <td>2606813</td>\n",
       "      <td>5380443</td>\n",
       "      <td>68200</td>\n",
       "      <td>91.592666</td>\n",
       "    </tr>\n",
       "    <tr>\n",
       "      <th>...</th>\n",
       "      <td>...</td>\n",
       "      <td>...</td>\n",
       "      <td>...</td>\n",
       "      <td>...</td>\n",
       "      <td>...</td>\n",
       "      <td>...</td>\n",
       "      <td>...</td>\n",
       "      <td>...</td>\n",
       "      <td>...</td>\n",
       "      <td>...</td>\n",
       "      <td>...</td>\n",
       "      <td>...</td>\n",
       "      <td>...</td>\n",
       "      <td>...</td>\n",
       "      <td>...</td>\n",
       "      <td>...</td>\n",
       "      <td>...</td>\n",
       "      <td>...</td>\n",
       "    </tr>\n",
       "    <tr>\n",
       "      <th>NaN</th>\n",
       "      <td>2011</td>\n",
       "      <td>12</td>\n",
       "      <td>North Dakota</td>\n",
       "      <td>ND</td>\n",
       "      <td>West North Central</td>\n",
       "      <td>cold</td>\n",
       "      <td>2011-12-06 00:00:00</td>\n",
       "      <td>08:00:00</td>\n",
       "      <td>2011-12-06 00:00:00</td>\n",
       "      <td>20:00:00</td>\n",
       "      <td>public appeal</td>\n",
       "      <td>720</td>\n",
       "      <td>7.56</td>\n",
       "      <td>1313678</td>\n",
       "      <td>394394</td>\n",
       "      <td>685326</td>\n",
       "      <td>34500</td>\n",
       "      <td>97.599649</td>\n",
       "    </tr>\n",
       "    <tr>\n",
       "      <th>NaN</th>\n",
       "      <td>2006</td>\n",
       "      <td>NaN</td>\n",
       "      <td>North Dakota</td>\n",
       "      <td>ND</td>\n",
       "      <td>West North Central</td>\n",
       "      <td>NaN</td>\n",
       "      <td>NaN</td>\n",
       "      <td>NaN</td>\n",
       "      <td>NaN</td>\n",
       "      <td>NaN</td>\n",
       "      <td>fuel supply emergency</td>\n",
       "      <td>NaN</td>\n",
       "      <td>NaN</td>\n",
       "      <td>NaN</td>\n",
       "      <td>366037</td>\n",
       "      <td>649422</td>\n",
       "      <td>NaN</td>\n",
       "      <td>97.599649</td>\n",
       "    </tr>\n",
       "    <tr>\n",
       "      <th>NaN</th>\n",
       "      <td>2009</td>\n",
       "      <td>8</td>\n",
       "      <td>South Dakota</td>\n",
       "      <td>SD</td>\n",
       "      <td>West North Central</td>\n",
       "      <td>warm</td>\n",
       "      <td>2009-08-29 00:00:00</td>\n",
       "      <td>22:54:00</td>\n",
       "      <td>2009-08-29 00:00:00</td>\n",
       "      <td>23:53:00</td>\n",
       "      <td>islanding</td>\n",
       "      <td>59</td>\n",
       "      <td>7.67</td>\n",
       "      <td>924051</td>\n",
       "      <td>436229</td>\n",
       "      <td>807067</td>\n",
       "      <td>NaN</td>\n",
       "      <td>98.307744</td>\n",
       "    </tr>\n",
       "    <tr>\n",
       "      <th>NaN</th>\n",
       "      <td>2009</td>\n",
       "      <td>8</td>\n",
       "      <td>South Dakota</td>\n",
       "      <td>SD</td>\n",
       "      <td>West North Central</td>\n",
       "      <td>warm</td>\n",
       "      <td>2009-08-29 00:00:00</td>\n",
       "      <td>11:00:00</td>\n",
       "      <td>2009-08-29 00:00:00</td>\n",
       "      <td>14:01:00</td>\n",
       "      <td>islanding</td>\n",
       "      <td>181</td>\n",
       "      <td>7.67</td>\n",
       "      <td>924051</td>\n",
       "      <td>436229</td>\n",
       "      <td>807067</td>\n",
       "      <td>NaN</td>\n",
       "      <td>98.307744</td>\n",
       "    </tr>\n",
       "    <tr>\n",
       "      <th>NaN</th>\n",
       "      <td>2000</td>\n",
       "      <td>NaN</td>\n",
       "      <td>Alaska</td>\n",
       "      <td>AK</td>\n",
       "      <td>NaN</td>\n",
       "      <td>NaN</td>\n",
       "      <td>NaN</td>\n",
       "      <td>NaN</td>\n",
       "      <td>NaN</td>\n",
       "      <td>NaN</td>\n",
       "      <td>equipment failure</td>\n",
       "      <td>NaN</td>\n",
       "      <td>NaN</td>\n",
       "      <td>NaN</td>\n",
       "      <td>273530</td>\n",
       "      <td>627963</td>\n",
       "      <td>14273</td>\n",
       "      <td>85.761154</td>\n",
       "    </tr>\n",
       "  </tbody>\n",
       "</table>\n",
       "<p>1535 rows × 18 columns</p>\n",
       "</div>"
      ],
      "text/plain": [
       "                                                   YEAR MONTH    U.S._STATE  \\\n",
       "Major power outage events in the continental U.S.                             \n",
       "Units                                               NaN   NaN           NaN   \n",
       "NaN                                                2011     7     Minnesota   \n",
       "NaN                                                2014     5     Minnesota   \n",
       "NaN                                                2010    10     Minnesota   \n",
       "NaN                                                2012     6     Minnesota   \n",
       "...                                                 ...   ...           ...   \n",
       "NaN                                                2011    12  North Dakota   \n",
       "NaN                                                2006   NaN  North Dakota   \n",
       "NaN                                                2009     8  South Dakota   \n",
       "NaN                                                2009     8  South Dakota   \n",
       "NaN                                                2000   NaN        Alaska   \n",
       "\n",
       "                                                  POSTAL.CODE  \\\n",
       "Major power outage events in the continental U.S.               \n",
       "Units                                                     NaN   \n",
       "NaN                                                        MN   \n",
       "NaN                                                        MN   \n",
       "NaN                                                        MN   \n",
       "NaN                                                        MN   \n",
       "...                                                       ...   \n",
       "NaN                                                        ND   \n",
       "NaN                                                        ND   \n",
       "NaN                                                        SD   \n",
       "NaN                                                        SD   \n",
       "NaN                                                        AK   \n",
       "\n",
       "                                                       CLIMATE.REGION  \\\n",
       "Major power outage events in the continental U.S.                       \n",
       "Units                                                             NaN   \n",
       "NaN                                                East North Central   \n",
       "NaN                                                East North Central   \n",
       "NaN                                                East North Central   \n",
       "NaN                                                East North Central   \n",
       "...                                                               ...   \n",
       "NaN                                                West North Central   \n",
       "NaN                                                West North Central   \n",
       "NaN                                                West North Central   \n",
       "NaN                                                West North Central   \n",
       "NaN                                                               NaN   \n",
       "\n",
       "                                                  CLIMATE.CATEGORY  \\\n",
       "Major power outage events in the continental U.S.                    \n",
       "Units                                                          NaN   \n",
       "NaN                                                         normal   \n",
       "NaN                                                         normal   \n",
       "NaN                                                           cold   \n",
       "NaN                                                         normal   \n",
       "...                                                            ...   \n",
       "NaN                                                           cold   \n",
       "NaN                                                            NaN   \n",
       "NaN                                                           warm   \n",
       "NaN                                                           warm   \n",
       "NaN                                                            NaN   \n",
       "\n",
       "                                                                  OUTAGE.START.DATE  \\\n",
       "Major power outage events in the continental U.S.                                     \n",
       "Units                                              Day of the week, Month Day, Year   \n",
       "NaN                                                             2011-07-01 00:00:00   \n",
       "NaN                                                             2014-05-11 00:00:00   \n",
       "NaN                                                             2010-10-26 00:00:00   \n",
       "NaN                                                             2012-06-19 00:00:00   \n",
       "...                                                                             ...   \n",
       "NaN                                                             2011-12-06 00:00:00   \n",
       "NaN                                                                             NaN   \n",
       "NaN                                                             2009-08-29 00:00:00   \n",
       "NaN                                                             2009-08-29 00:00:00   \n",
       "NaN                                                                             NaN   \n",
       "\n",
       "                                                              OUTAGE.START.TIME  \\\n",
       "Major power outage events in the continental U.S.                                 \n",
       "Units                                              Hour:Minute:Second (AM / PM)   \n",
       "NaN                                                                    17:00:00   \n",
       "NaN                                                                    18:38:00   \n",
       "NaN                                                                    20:00:00   \n",
       "NaN                                                                    04:30:00   \n",
       "...                                                                         ...   \n",
       "NaN                                                                    08:00:00   \n",
       "NaN                                                                         NaN   \n",
       "NaN                                                                    22:54:00   \n",
       "NaN                                                                    11:00:00   \n",
       "NaN                                                                         NaN   \n",
       "\n",
       "                                                            OUTAGE.RESTORATION.DATE  \\\n",
       "Major power outage events in the continental U.S.                                     \n",
       "Units                                              Day of the week, Month Day, Year   \n",
       "NaN                                                             2011-07-03 00:00:00   \n",
       "NaN                                                             2014-05-11 00:00:00   \n",
       "NaN                                                             2010-10-28 00:00:00   \n",
       "NaN                                                             2012-06-20 00:00:00   \n",
       "...                                                                             ...   \n",
       "NaN                                                             2011-12-06 00:00:00   \n",
       "NaN                                                                             NaN   \n",
       "NaN                                                             2009-08-29 00:00:00   \n",
       "NaN                                                             2009-08-29 00:00:00   \n",
       "NaN                                                                             NaN   \n",
       "\n",
       "                                                        OUTAGE.RESTORATION.TIME  \\\n",
       "Major power outage events in the continental U.S.                                 \n",
       "Units                                              Hour:Minute:Second (AM / PM)   \n",
       "NaN                                                                    20:00:00   \n",
       "NaN                                                                    18:39:00   \n",
       "NaN                                                                    22:00:00   \n",
       "NaN                                                                    23:00:00   \n",
       "...                                                                         ...   \n",
       "NaN                                                                    20:00:00   \n",
       "NaN                                                                         NaN   \n",
       "NaN                                                                    23:53:00   \n",
       "NaN                                                                    14:01:00   \n",
       "NaN                                                                         NaN   \n",
       "\n",
       "                                                          CAUSE.CATEGORY  \\\n",
       "Major power outage events in the continental U.S.                          \n",
       "Units                                                                NaN   \n",
       "NaN                                                       severe weather   \n",
       "NaN                                                   intentional attack   \n",
       "NaN                                                       severe weather   \n",
       "NaN                                                       severe weather   \n",
       "...                                                                  ...   \n",
       "NaN                                                        public appeal   \n",
       "NaN                                                fuel supply emergency   \n",
       "NaN                                                            islanding   \n",
       "NaN                                                            islanding   \n",
       "NaN                                                    equipment failure   \n",
       "\n",
       "                                                  OUTAGE.DURATION  \\\n",
       "Major power outage events in the continental U.S.                   \n",
       "Units                                                        mins   \n",
       "NaN                                                          3060   \n",
       "NaN                                                             1   \n",
       "NaN                                                          3000   \n",
       "NaN                                                          2550   \n",
       "...                                                           ...   \n",
       "NaN                                                           720   \n",
       "NaN                                                           NaN   \n",
       "NaN                                                            59   \n",
       "NaN                                                           181   \n",
       "NaN                                                           NaN   \n",
       "\n",
       "                                                             TOTAL.PRICE  \\\n",
       "Major power outage events in the continental U.S.                          \n",
       "Units                                              cents / kilowatt-hour   \n",
       "NaN                                                                 9.28   \n",
       "NaN                                                                 9.28   \n",
       "NaN                                                                 8.15   \n",
       "NaN                                                                 9.19   \n",
       "...                                                                  ...   \n",
       "NaN                                                                 7.56   \n",
       "NaN                                                                  NaN   \n",
       "NaN                                                                 7.67   \n",
       "NaN                                                                 7.67   \n",
       "NaN                                                                  NaN   \n",
       "\n",
       "                                                     TOTAL.SALES  \\\n",
       "Major power outage events in the continental U.S.                  \n",
       "Units                                              Megawatt-hour   \n",
       "NaN                                                      6562520   \n",
       "NaN                                                      5284231   \n",
       "NaN                                                      5222116   \n",
       "NaN                                                      5787064   \n",
       "...                                                          ...   \n",
       "NaN                                                      1313678   \n",
       "NaN                                                          NaN   \n",
       "NaN                                                       924051   \n",
       "NaN                                                       924051   \n",
       "NaN                                                          NaN   \n",
       "\n",
       "                                                  TOTAL.CUSTOMERS POPULATION  \\\n",
       "Major power outage events in the continental U.S.                              \n",
       "Units                                                         NaN        NaN   \n",
       "NaN                                                       2595696    5348119   \n",
       "NaN                                                       2640737    5457125   \n",
       "NaN                                                       2586905    5310903   \n",
       "NaN                                                       2606813    5380443   \n",
       "...                                                           ...        ...   \n",
       "NaN                                                        394394     685326   \n",
       "NaN                                                        366037     649422   \n",
       "NaN                                                        436229     807067   \n",
       "NaN                                                        436229     807067   \n",
       "NaN                                                        273530     627963   \n",
       "\n",
       "                                                  CUSTOMERS.AFFECTED  \\\n",
       "Major power outage events in the continental U.S.                      \n",
       "Units                                                            NaN   \n",
       "NaN                                                            70000   \n",
       "NaN                                                              NaN   \n",
       "NaN                                                            70000   \n",
       "NaN                                                            68200   \n",
       "...                                                              ...   \n",
       "NaN                                                            34500   \n",
       "NaN                                                              NaN   \n",
       "NaN                                                              NaN   \n",
       "NaN                                                              NaN   \n",
       "NaN                                                            14273   \n",
       "\n",
       "                                                    PCT_LAND  \n",
       "Major power outage events in the continental U.S.             \n",
       "Units                                                      %  \n",
       "NaN                                                91.592666  \n",
       "NaN                                                91.592666  \n",
       "NaN                                                91.592666  \n",
       "NaN                                                91.592666  \n",
       "...                                                      ...  \n",
       "NaN                                                97.599649  \n",
       "NaN                                                97.599649  \n",
       "NaN                                                98.307744  \n",
       "NaN                                                98.307744  \n",
       "NaN                                                85.761154  \n",
       "\n",
       "[1535 rows x 18 columns]"
      ]
     },
     "execution_count": 116,
     "metadata": {},
     "output_type": "execute_result"
    }
   ],
   "source": [
    "keep_columns = ['YEAR','MONTH','U.S._STATE','POSTAL.CODE','CLIMATE.REGION',\n",
    "            'CLIMATE.CATEGORY','OUTAGE.START.DATE','OUTAGE.START.TIME',\n",
    "            'OUTAGE.RESTORATION.DATE','OUTAGE.RESTORATION.TIME','CAUSE.CATEGORY', \n",
    "            'OUTAGE.DURATION','TOTAL.PRICE','TOTAL.SALES','TOTAL.CUSTOMERS',\n",
    "            'POPULATION','CUSTOMERS.AFFECTED','PCT_LAND']\n",
    "\n",
    "outages = data[keep_columns]\n",
    "outages"
   ]
  },
  {
   "cell_type": "code",
   "execution_count": 117,
   "metadata": {},
   "outputs": [
    {
     "name": "stderr",
     "output_type": "stream",
     "text": [
      "C:\\Users\\alebe\\AppData\\Local\\Temp\\ipykernel_9860\\1973965492.py:1: SettingWithCopyWarning:\n",
      "\n",
      "\n",
      "A value is trying to be set on a copy of a slice from a DataFrame\n",
      "\n",
      "See the caveats in the documentation: https://pandas.pydata.org/pandas-docs/stable/user_guide/indexing.html#returning-a-view-versus-a-copy\n",
      "\n"
     ]
    }
   ],
   "source": [
    "outages.loc[outages['OUTAGE.DURATION']==0,'OUTAGE.DURATION'] = np.nan"
   ]
  },
  {
   "cell_type": "code",
   "execution_count": 118,
   "metadata": {},
   "outputs": [
    {
     "data": {
      "application/vnd.plotly.v1+json": {
       "config": {
        "plotlyServerURL": "https://plot.ly"
       },
       "data": [
        {
         "alignmentgroup": "True",
         "hovertemplate": "variable=count<br>YEAR=%{x}<br>value=%{y}<extra></extra>",
         "legendgroup": "count",
         "marker": {
          "color": "#636efa",
          "pattern": {
           "shape": ""
          }
         },
         "name": "count",
         "offsetgroup": "count",
         "orientation": "v",
         "showlegend": true,
         "textposition": "auto",
         "type": "bar",
         "x": [
          2011,
          2012,
          2013,
          2015,
          2014,
          2008,
          2010,
          2009,
          2004,
          2006,
          2016,
          2007,
          2005,
          2003,
          2000,
          2002,
          2001
         ],
         "xaxis": "x",
         "y": [
          269,
          174,
          153,
          119,
          112,
          111,
          106,
          78,
          71,
          67,
          59,
          56,
          55,
          46,
          26,
          17,
          15
         ],
         "yaxis": "y"
        }
       ],
       "layout": {
        "barmode": "relative",
        "legend": {
         "title": {
          "text": "variable"
         },
         "tracegroupgap": 0
        },
        "margin": {
         "t": 60
        },
        "template": {
         "data": {
          "bar": [
           {
            "error_x": {
             "color": "#2a3f5f"
            },
            "error_y": {
             "color": "#2a3f5f"
            },
            "marker": {
             "line": {
              "color": "#E5ECF6",
              "width": 0.5
             },
             "pattern": {
              "fillmode": "overlay",
              "size": 10,
              "solidity": 0.2
             }
            },
            "type": "bar"
           }
          ],
          "barpolar": [
           {
            "marker": {
             "line": {
              "color": "#E5ECF6",
              "width": 0.5
             },
             "pattern": {
              "fillmode": "overlay",
              "size": 10,
              "solidity": 0.2
             }
            },
            "type": "barpolar"
           }
          ],
          "carpet": [
           {
            "aaxis": {
             "endlinecolor": "#2a3f5f",
             "gridcolor": "white",
             "linecolor": "white",
             "minorgridcolor": "white",
             "startlinecolor": "#2a3f5f"
            },
            "baxis": {
             "endlinecolor": "#2a3f5f",
             "gridcolor": "white",
             "linecolor": "white",
             "minorgridcolor": "white",
             "startlinecolor": "#2a3f5f"
            },
            "type": "carpet"
           }
          ],
          "choropleth": [
           {
            "colorbar": {
             "outlinewidth": 0,
             "ticks": ""
            },
            "type": "choropleth"
           }
          ],
          "contour": [
           {
            "colorbar": {
             "outlinewidth": 0,
             "ticks": ""
            },
            "colorscale": [
             [
              0,
              "#0d0887"
             ],
             [
              0.1111111111111111,
              "#46039f"
             ],
             [
              0.2222222222222222,
              "#7201a8"
             ],
             [
              0.3333333333333333,
              "#9c179e"
             ],
             [
              0.4444444444444444,
              "#bd3786"
             ],
             [
              0.5555555555555556,
              "#d8576b"
             ],
             [
              0.6666666666666666,
              "#ed7953"
             ],
             [
              0.7777777777777778,
              "#fb9f3a"
             ],
             [
              0.8888888888888888,
              "#fdca26"
             ],
             [
              1,
              "#f0f921"
             ]
            ],
            "type": "contour"
           }
          ],
          "contourcarpet": [
           {
            "colorbar": {
             "outlinewidth": 0,
             "ticks": ""
            },
            "type": "contourcarpet"
           }
          ],
          "heatmap": [
           {
            "colorbar": {
             "outlinewidth": 0,
             "ticks": ""
            },
            "colorscale": [
             [
              0,
              "#0d0887"
             ],
             [
              0.1111111111111111,
              "#46039f"
             ],
             [
              0.2222222222222222,
              "#7201a8"
             ],
             [
              0.3333333333333333,
              "#9c179e"
             ],
             [
              0.4444444444444444,
              "#bd3786"
             ],
             [
              0.5555555555555556,
              "#d8576b"
             ],
             [
              0.6666666666666666,
              "#ed7953"
             ],
             [
              0.7777777777777778,
              "#fb9f3a"
             ],
             [
              0.8888888888888888,
              "#fdca26"
             ],
             [
              1,
              "#f0f921"
             ]
            ],
            "type": "heatmap"
           }
          ],
          "heatmapgl": [
           {
            "colorbar": {
             "outlinewidth": 0,
             "ticks": ""
            },
            "colorscale": [
             [
              0,
              "#0d0887"
             ],
             [
              0.1111111111111111,
              "#46039f"
             ],
             [
              0.2222222222222222,
              "#7201a8"
             ],
             [
              0.3333333333333333,
              "#9c179e"
             ],
             [
              0.4444444444444444,
              "#bd3786"
             ],
             [
              0.5555555555555556,
              "#d8576b"
             ],
             [
              0.6666666666666666,
              "#ed7953"
             ],
             [
              0.7777777777777778,
              "#fb9f3a"
             ],
             [
              0.8888888888888888,
              "#fdca26"
             ],
             [
              1,
              "#f0f921"
             ]
            ],
            "type": "heatmapgl"
           }
          ],
          "histogram": [
           {
            "marker": {
             "pattern": {
              "fillmode": "overlay",
              "size": 10,
              "solidity": 0.2
             }
            },
            "type": "histogram"
           }
          ],
          "histogram2d": [
           {
            "colorbar": {
             "outlinewidth": 0,
             "ticks": ""
            },
            "colorscale": [
             [
              0,
              "#0d0887"
             ],
             [
              0.1111111111111111,
              "#46039f"
             ],
             [
              0.2222222222222222,
              "#7201a8"
             ],
             [
              0.3333333333333333,
              "#9c179e"
             ],
             [
              0.4444444444444444,
              "#bd3786"
             ],
             [
              0.5555555555555556,
              "#d8576b"
             ],
             [
              0.6666666666666666,
              "#ed7953"
             ],
             [
              0.7777777777777778,
              "#fb9f3a"
             ],
             [
              0.8888888888888888,
              "#fdca26"
             ],
             [
              1,
              "#f0f921"
             ]
            ],
            "type": "histogram2d"
           }
          ],
          "histogram2dcontour": [
           {
            "colorbar": {
             "outlinewidth": 0,
             "ticks": ""
            },
            "colorscale": [
             [
              0,
              "#0d0887"
             ],
             [
              0.1111111111111111,
              "#46039f"
             ],
             [
              0.2222222222222222,
              "#7201a8"
             ],
             [
              0.3333333333333333,
              "#9c179e"
             ],
             [
              0.4444444444444444,
              "#bd3786"
             ],
             [
              0.5555555555555556,
              "#d8576b"
             ],
             [
              0.6666666666666666,
              "#ed7953"
             ],
             [
              0.7777777777777778,
              "#fb9f3a"
             ],
             [
              0.8888888888888888,
              "#fdca26"
             ],
             [
              1,
              "#f0f921"
             ]
            ],
            "type": "histogram2dcontour"
           }
          ],
          "mesh3d": [
           {
            "colorbar": {
             "outlinewidth": 0,
             "ticks": ""
            },
            "type": "mesh3d"
           }
          ],
          "parcoords": [
           {
            "line": {
             "colorbar": {
              "outlinewidth": 0,
              "ticks": ""
             }
            },
            "type": "parcoords"
           }
          ],
          "pie": [
           {
            "automargin": true,
            "type": "pie"
           }
          ],
          "scatter": [
           {
            "fillpattern": {
             "fillmode": "overlay",
             "size": 10,
             "solidity": 0.2
            },
            "type": "scatter"
           }
          ],
          "scatter3d": [
           {
            "line": {
             "colorbar": {
              "outlinewidth": 0,
              "ticks": ""
             }
            },
            "marker": {
             "colorbar": {
              "outlinewidth": 0,
              "ticks": ""
             }
            },
            "type": "scatter3d"
           }
          ],
          "scattercarpet": [
           {
            "marker": {
             "colorbar": {
              "outlinewidth": 0,
              "ticks": ""
             }
            },
            "type": "scattercarpet"
           }
          ],
          "scattergeo": [
           {
            "marker": {
             "colorbar": {
              "outlinewidth": 0,
              "ticks": ""
             }
            },
            "type": "scattergeo"
           }
          ],
          "scattergl": [
           {
            "marker": {
             "colorbar": {
              "outlinewidth": 0,
              "ticks": ""
             }
            },
            "type": "scattergl"
           }
          ],
          "scattermapbox": [
           {
            "marker": {
             "colorbar": {
              "outlinewidth": 0,
              "ticks": ""
             }
            },
            "type": "scattermapbox"
           }
          ],
          "scatterpolar": [
           {
            "marker": {
             "colorbar": {
              "outlinewidth": 0,
              "ticks": ""
             }
            },
            "type": "scatterpolar"
           }
          ],
          "scatterpolargl": [
           {
            "marker": {
             "colorbar": {
              "outlinewidth": 0,
              "ticks": ""
             }
            },
            "type": "scatterpolargl"
           }
          ],
          "scatterternary": [
           {
            "marker": {
             "colorbar": {
              "outlinewidth": 0,
              "ticks": ""
             }
            },
            "type": "scatterternary"
           }
          ],
          "surface": [
           {
            "colorbar": {
             "outlinewidth": 0,
             "ticks": ""
            },
            "colorscale": [
             [
              0,
              "#0d0887"
             ],
             [
              0.1111111111111111,
              "#46039f"
             ],
             [
              0.2222222222222222,
              "#7201a8"
             ],
             [
              0.3333333333333333,
              "#9c179e"
             ],
             [
              0.4444444444444444,
              "#bd3786"
             ],
             [
              0.5555555555555556,
              "#d8576b"
             ],
             [
              0.6666666666666666,
              "#ed7953"
             ],
             [
              0.7777777777777778,
              "#fb9f3a"
             ],
             [
              0.8888888888888888,
              "#fdca26"
             ],
             [
              1,
              "#f0f921"
             ]
            ],
            "type": "surface"
           }
          ],
          "table": [
           {
            "cells": {
             "fill": {
              "color": "#EBF0F8"
             },
             "line": {
              "color": "white"
             }
            },
            "header": {
             "fill": {
              "color": "#C8D4E3"
             },
             "line": {
              "color": "white"
             }
            },
            "type": "table"
           }
          ]
         },
         "layout": {
          "annotationdefaults": {
           "arrowcolor": "#2a3f5f",
           "arrowhead": 0,
           "arrowwidth": 1
          },
          "autotypenumbers": "strict",
          "coloraxis": {
           "colorbar": {
            "outlinewidth": 0,
            "ticks": ""
           }
          },
          "colorscale": {
           "diverging": [
            [
             0,
             "#8e0152"
            ],
            [
             0.1,
             "#c51b7d"
            ],
            [
             0.2,
             "#de77ae"
            ],
            [
             0.3,
             "#f1b6da"
            ],
            [
             0.4,
             "#fde0ef"
            ],
            [
             0.5,
             "#f7f7f7"
            ],
            [
             0.6,
             "#e6f5d0"
            ],
            [
             0.7,
             "#b8e186"
            ],
            [
             0.8,
             "#7fbc41"
            ],
            [
             0.9,
             "#4d9221"
            ],
            [
             1,
             "#276419"
            ]
           ],
           "sequential": [
            [
             0,
             "#0d0887"
            ],
            [
             0.1111111111111111,
             "#46039f"
            ],
            [
             0.2222222222222222,
             "#7201a8"
            ],
            [
             0.3333333333333333,
             "#9c179e"
            ],
            [
             0.4444444444444444,
             "#bd3786"
            ],
            [
             0.5555555555555556,
             "#d8576b"
            ],
            [
             0.6666666666666666,
             "#ed7953"
            ],
            [
             0.7777777777777778,
             "#fb9f3a"
            ],
            [
             0.8888888888888888,
             "#fdca26"
            ],
            [
             1,
             "#f0f921"
            ]
           ],
           "sequentialminus": [
            [
             0,
             "#0d0887"
            ],
            [
             0.1111111111111111,
             "#46039f"
            ],
            [
             0.2222222222222222,
             "#7201a8"
            ],
            [
             0.3333333333333333,
             "#9c179e"
            ],
            [
             0.4444444444444444,
             "#bd3786"
            ],
            [
             0.5555555555555556,
             "#d8576b"
            ],
            [
             0.6666666666666666,
             "#ed7953"
            ],
            [
             0.7777777777777778,
             "#fb9f3a"
            ],
            [
             0.8888888888888888,
             "#fdca26"
            ],
            [
             1,
             "#f0f921"
            ]
           ]
          },
          "colorway": [
           "#636efa",
           "#EF553B",
           "#00cc96",
           "#ab63fa",
           "#FFA15A",
           "#19d3f3",
           "#FF6692",
           "#B6E880",
           "#FF97FF",
           "#FECB52"
          ],
          "font": {
           "color": "#2a3f5f"
          },
          "geo": {
           "bgcolor": "white",
           "lakecolor": "white",
           "landcolor": "#E5ECF6",
           "showlakes": true,
           "showland": true,
           "subunitcolor": "white"
          },
          "hoverlabel": {
           "align": "left"
          },
          "hovermode": "closest",
          "mapbox": {
           "style": "light"
          },
          "paper_bgcolor": "white",
          "plot_bgcolor": "#E5ECF6",
          "polar": {
           "angularaxis": {
            "gridcolor": "white",
            "linecolor": "white",
            "ticks": ""
           },
           "bgcolor": "#E5ECF6",
           "radialaxis": {
            "gridcolor": "white",
            "linecolor": "white",
            "ticks": ""
           }
          },
          "scene": {
           "xaxis": {
            "backgroundcolor": "#E5ECF6",
            "gridcolor": "white",
            "gridwidth": 2,
            "linecolor": "white",
            "showbackground": true,
            "ticks": "",
            "zerolinecolor": "white"
           },
           "yaxis": {
            "backgroundcolor": "#E5ECF6",
            "gridcolor": "white",
            "gridwidth": 2,
            "linecolor": "white",
            "showbackground": true,
            "ticks": "",
            "zerolinecolor": "white"
           },
           "zaxis": {
            "backgroundcolor": "#E5ECF6",
            "gridcolor": "white",
            "gridwidth": 2,
            "linecolor": "white",
            "showbackground": true,
            "ticks": "",
            "zerolinecolor": "white"
           }
          },
          "shapedefaults": {
           "line": {
            "color": "#2a3f5f"
           }
          },
          "ternary": {
           "aaxis": {
            "gridcolor": "white",
            "linecolor": "white",
            "ticks": ""
           },
           "baxis": {
            "gridcolor": "white",
            "linecolor": "white",
            "ticks": ""
           },
           "bgcolor": "#E5ECF6",
           "caxis": {
            "gridcolor": "white",
            "linecolor": "white",
            "ticks": ""
           }
          },
          "title": {
           "x": 0.05
          },
          "xaxis": {
           "automargin": true,
           "gridcolor": "white",
           "linecolor": "white",
           "ticks": "",
           "title": {
            "standoff": 15
           },
           "zerolinecolor": "white",
           "zerolinewidth": 2
          },
          "yaxis": {
           "automargin": true,
           "gridcolor": "white",
           "linecolor": "white",
           "ticks": "",
           "title": {
            "standoff": 15
           },
           "zerolinecolor": "white",
           "zerolinewidth": 2
          }
         }
        },
        "xaxis": {
         "anchor": "y",
         "domain": [
          0,
          1
         ],
         "title": {
          "text": "YEAR"
         }
        },
        "yaxis": {
         "anchor": "x",
         "domain": [
          0,
          1
         ],
         "title": {
          "text": "value"
         }
        }
       }
      }
     },
     "metadata": {},
     "output_type": "display_data"
    }
   ],
   "source": [
    "years = outages['YEAR'].value_counts()\n",
    "px.bar(years)"
   ]
  },
  {
   "cell_type": "code",
   "execution_count": 119,
   "metadata": {},
   "outputs": [
    {
     "data": {
      "application/vnd.plotly.v1+json": {
       "config": {
        "plotlyServerURL": "https://plot.ly"
       },
       "data": [
        {
         "alignmentgroup": "True",
         "hovertemplate": "variable=count<br>REGION=%{x}<br># of Outages=%{y}<extra></extra>",
         "legendgroup": "count",
         "marker": {
          "color": "#636efa",
          "pattern": {
           "shape": ""
          }
         },
         "name": "count",
         "offsetgroup": "count",
         "orientation": "v",
         "showlegend": true,
         "textposition": "auto",
         "type": "bar",
         "x": [
          "Northeast",
          "South",
          "West",
          "Central",
          "Southeast",
          "East North Central",
          "Northwest",
          "Southwest",
          "West North Central"
         ],
         "xaxis": "x",
         "y": [
          350,
          229,
          217,
          200,
          153,
          138,
          132,
          92,
          17
         ],
         "yaxis": "y"
        }
       ],
       "layout": {
        "barmode": "relative",
        "legend": {
         "title": {
          "text": "variable"
         },
         "tracegroupgap": 0
        },
        "margin": {
         "t": 60
        },
        "template": {
         "data": {
          "bar": [
           {
            "error_x": {
             "color": "#2a3f5f"
            },
            "error_y": {
             "color": "#2a3f5f"
            },
            "marker": {
             "line": {
              "color": "#E5ECF6",
              "width": 0.5
             },
             "pattern": {
              "fillmode": "overlay",
              "size": 10,
              "solidity": 0.2
             }
            },
            "type": "bar"
           }
          ],
          "barpolar": [
           {
            "marker": {
             "line": {
              "color": "#E5ECF6",
              "width": 0.5
             },
             "pattern": {
              "fillmode": "overlay",
              "size": 10,
              "solidity": 0.2
             }
            },
            "type": "barpolar"
           }
          ],
          "carpet": [
           {
            "aaxis": {
             "endlinecolor": "#2a3f5f",
             "gridcolor": "white",
             "linecolor": "white",
             "minorgridcolor": "white",
             "startlinecolor": "#2a3f5f"
            },
            "baxis": {
             "endlinecolor": "#2a3f5f",
             "gridcolor": "white",
             "linecolor": "white",
             "minorgridcolor": "white",
             "startlinecolor": "#2a3f5f"
            },
            "type": "carpet"
           }
          ],
          "choropleth": [
           {
            "colorbar": {
             "outlinewidth": 0,
             "ticks": ""
            },
            "type": "choropleth"
           }
          ],
          "contour": [
           {
            "colorbar": {
             "outlinewidth": 0,
             "ticks": ""
            },
            "colorscale": [
             [
              0,
              "#0d0887"
             ],
             [
              0.1111111111111111,
              "#46039f"
             ],
             [
              0.2222222222222222,
              "#7201a8"
             ],
             [
              0.3333333333333333,
              "#9c179e"
             ],
             [
              0.4444444444444444,
              "#bd3786"
             ],
             [
              0.5555555555555556,
              "#d8576b"
             ],
             [
              0.6666666666666666,
              "#ed7953"
             ],
             [
              0.7777777777777778,
              "#fb9f3a"
             ],
             [
              0.8888888888888888,
              "#fdca26"
             ],
             [
              1,
              "#f0f921"
             ]
            ],
            "type": "contour"
           }
          ],
          "contourcarpet": [
           {
            "colorbar": {
             "outlinewidth": 0,
             "ticks": ""
            },
            "type": "contourcarpet"
           }
          ],
          "heatmap": [
           {
            "colorbar": {
             "outlinewidth": 0,
             "ticks": ""
            },
            "colorscale": [
             [
              0,
              "#0d0887"
             ],
             [
              0.1111111111111111,
              "#46039f"
             ],
             [
              0.2222222222222222,
              "#7201a8"
             ],
             [
              0.3333333333333333,
              "#9c179e"
             ],
             [
              0.4444444444444444,
              "#bd3786"
             ],
             [
              0.5555555555555556,
              "#d8576b"
             ],
             [
              0.6666666666666666,
              "#ed7953"
             ],
             [
              0.7777777777777778,
              "#fb9f3a"
             ],
             [
              0.8888888888888888,
              "#fdca26"
             ],
             [
              1,
              "#f0f921"
             ]
            ],
            "type": "heatmap"
           }
          ],
          "heatmapgl": [
           {
            "colorbar": {
             "outlinewidth": 0,
             "ticks": ""
            },
            "colorscale": [
             [
              0,
              "#0d0887"
             ],
             [
              0.1111111111111111,
              "#46039f"
             ],
             [
              0.2222222222222222,
              "#7201a8"
             ],
             [
              0.3333333333333333,
              "#9c179e"
             ],
             [
              0.4444444444444444,
              "#bd3786"
             ],
             [
              0.5555555555555556,
              "#d8576b"
             ],
             [
              0.6666666666666666,
              "#ed7953"
             ],
             [
              0.7777777777777778,
              "#fb9f3a"
             ],
             [
              0.8888888888888888,
              "#fdca26"
             ],
             [
              1,
              "#f0f921"
             ]
            ],
            "type": "heatmapgl"
           }
          ],
          "histogram": [
           {
            "marker": {
             "pattern": {
              "fillmode": "overlay",
              "size": 10,
              "solidity": 0.2
             }
            },
            "type": "histogram"
           }
          ],
          "histogram2d": [
           {
            "colorbar": {
             "outlinewidth": 0,
             "ticks": ""
            },
            "colorscale": [
             [
              0,
              "#0d0887"
             ],
             [
              0.1111111111111111,
              "#46039f"
             ],
             [
              0.2222222222222222,
              "#7201a8"
             ],
             [
              0.3333333333333333,
              "#9c179e"
             ],
             [
              0.4444444444444444,
              "#bd3786"
             ],
             [
              0.5555555555555556,
              "#d8576b"
             ],
             [
              0.6666666666666666,
              "#ed7953"
             ],
             [
              0.7777777777777778,
              "#fb9f3a"
             ],
             [
              0.8888888888888888,
              "#fdca26"
             ],
             [
              1,
              "#f0f921"
             ]
            ],
            "type": "histogram2d"
           }
          ],
          "histogram2dcontour": [
           {
            "colorbar": {
             "outlinewidth": 0,
             "ticks": ""
            },
            "colorscale": [
             [
              0,
              "#0d0887"
             ],
             [
              0.1111111111111111,
              "#46039f"
             ],
             [
              0.2222222222222222,
              "#7201a8"
             ],
             [
              0.3333333333333333,
              "#9c179e"
             ],
             [
              0.4444444444444444,
              "#bd3786"
             ],
             [
              0.5555555555555556,
              "#d8576b"
             ],
             [
              0.6666666666666666,
              "#ed7953"
             ],
             [
              0.7777777777777778,
              "#fb9f3a"
             ],
             [
              0.8888888888888888,
              "#fdca26"
             ],
             [
              1,
              "#f0f921"
             ]
            ],
            "type": "histogram2dcontour"
           }
          ],
          "mesh3d": [
           {
            "colorbar": {
             "outlinewidth": 0,
             "ticks": ""
            },
            "type": "mesh3d"
           }
          ],
          "parcoords": [
           {
            "line": {
             "colorbar": {
              "outlinewidth": 0,
              "ticks": ""
             }
            },
            "type": "parcoords"
           }
          ],
          "pie": [
           {
            "automargin": true,
            "type": "pie"
           }
          ],
          "scatter": [
           {
            "fillpattern": {
             "fillmode": "overlay",
             "size": 10,
             "solidity": 0.2
            },
            "type": "scatter"
           }
          ],
          "scatter3d": [
           {
            "line": {
             "colorbar": {
              "outlinewidth": 0,
              "ticks": ""
             }
            },
            "marker": {
             "colorbar": {
              "outlinewidth": 0,
              "ticks": ""
             }
            },
            "type": "scatter3d"
           }
          ],
          "scattercarpet": [
           {
            "marker": {
             "colorbar": {
              "outlinewidth": 0,
              "ticks": ""
             }
            },
            "type": "scattercarpet"
           }
          ],
          "scattergeo": [
           {
            "marker": {
             "colorbar": {
              "outlinewidth": 0,
              "ticks": ""
             }
            },
            "type": "scattergeo"
           }
          ],
          "scattergl": [
           {
            "marker": {
             "colorbar": {
              "outlinewidth": 0,
              "ticks": ""
             }
            },
            "type": "scattergl"
           }
          ],
          "scattermapbox": [
           {
            "marker": {
             "colorbar": {
              "outlinewidth": 0,
              "ticks": ""
             }
            },
            "type": "scattermapbox"
           }
          ],
          "scatterpolar": [
           {
            "marker": {
             "colorbar": {
              "outlinewidth": 0,
              "ticks": ""
             }
            },
            "type": "scatterpolar"
           }
          ],
          "scatterpolargl": [
           {
            "marker": {
             "colorbar": {
              "outlinewidth": 0,
              "ticks": ""
             }
            },
            "type": "scatterpolargl"
           }
          ],
          "scatterternary": [
           {
            "marker": {
             "colorbar": {
              "outlinewidth": 0,
              "ticks": ""
             }
            },
            "type": "scatterternary"
           }
          ],
          "surface": [
           {
            "colorbar": {
             "outlinewidth": 0,
             "ticks": ""
            },
            "colorscale": [
             [
              0,
              "#0d0887"
             ],
             [
              0.1111111111111111,
              "#46039f"
             ],
             [
              0.2222222222222222,
              "#7201a8"
             ],
             [
              0.3333333333333333,
              "#9c179e"
             ],
             [
              0.4444444444444444,
              "#bd3786"
             ],
             [
              0.5555555555555556,
              "#d8576b"
             ],
             [
              0.6666666666666666,
              "#ed7953"
             ],
             [
              0.7777777777777778,
              "#fb9f3a"
             ],
             [
              0.8888888888888888,
              "#fdca26"
             ],
             [
              1,
              "#f0f921"
             ]
            ],
            "type": "surface"
           }
          ],
          "table": [
           {
            "cells": {
             "fill": {
              "color": "#EBF0F8"
             },
             "line": {
              "color": "white"
             }
            },
            "header": {
             "fill": {
              "color": "#C8D4E3"
             },
             "line": {
              "color": "white"
             }
            },
            "type": "table"
           }
          ]
         },
         "layout": {
          "annotationdefaults": {
           "arrowcolor": "#2a3f5f",
           "arrowhead": 0,
           "arrowwidth": 1
          },
          "autotypenumbers": "strict",
          "coloraxis": {
           "colorbar": {
            "outlinewidth": 0,
            "ticks": ""
           }
          },
          "colorscale": {
           "diverging": [
            [
             0,
             "#8e0152"
            ],
            [
             0.1,
             "#c51b7d"
            ],
            [
             0.2,
             "#de77ae"
            ],
            [
             0.3,
             "#f1b6da"
            ],
            [
             0.4,
             "#fde0ef"
            ],
            [
             0.5,
             "#f7f7f7"
            ],
            [
             0.6,
             "#e6f5d0"
            ],
            [
             0.7,
             "#b8e186"
            ],
            [
             0.8,
             "#7fbc41"
            ],
            [
             0.9,
             "#4d9221"
            ],
            [
             1,
             "#276419"
            ]
           ],
           "sequential": [
            [
             0,
             "#0d0887"
            ],
            [
             0.1111111111111111,
             "#46039f"
            ],
            [
             0.2222222222222222,
             "#7201a8"
            ],
            [
             0.3333333333333333,
             "#9c179e"
            ],
            [
             0.4444444444444444,
             "#bd3786"
            ],
            [
             0.5555555555555556,
             "#d8576b"
            ],
            [
             0.6666666666666666,
             "#ed7953"
            ],
            [
             0.7777777777777778,
             "#fb9f3a"
            ],
            [
             0.8888888888888888,
             "#fdca26"
            ],
            [
             1,
             "#f0f921"
            ]
           ],
           "sequentialminus": [
            [
             0,
             "#0d0887"
            ],
            [
             0.1111111111111111,
             "#46039f"
            ],
            [
             0.2222222222222222,
             "#7201a8"
            ],
            [
             0.3333333333333333,
             "#9c179e"
            ],
            [
             0.4444444444444444,
             "#bd3786"
            ],
            [
             0.5555555555555556,
             "#d8576b"
            ],
            [
             0.6666666666666666,
             "#ed7953"
            ],
            [
             0.7777777777777778,
             "#fb9f3a"
            ],
            [
             0.8888888888888888,
             "#fdca26"
            ],
            [
             1,
             "#f0f921"
            ]
           ]
          },
          "colorway": [
           "#636efa",
           "#EF553B",
           "#00cc96",
           "#ab63fa",
           "#FFA15A",
           "#19d3f3",
           "#FF6692",
           "#B6E880",
           "#FF97FF",
           "#FECB52"
          ],
          "font": {
           "color": "#2a3f5f"
          },
          "geo": {
           "bgcolor": "white",
           "lakecolor": "white",
           "landcolor": "#E5ECF6",
           "showlakes": true,
           "showland": true,
           "subunitcolor": "white"
          },
          "hoverlabel": {
           "align": "left"
          },
          "hovermode": "closest",
          "mapbox": {
           "style": "light"
          },
          "paper_bgcolor": "white",
          "plot_bgcolor": "#E5ECF6",
          "polar": {
           "angularaxis": {
            "gridcolor": "white",
            "linecolor": "white",
            "ticks": ""
           },
           "bgcolor": "#E5ECF6",
           "radialaxis": {
            "gridcolor": "white",
            "linecolor": "white",
            "ticks": ""
           }
          },
          "scene": {
           "xaxis": {
            "backgroundcolor": "#E5ECF6",
            "gridcolor": "white",
            "gridwidth": 2,
            "linecolor": "white",
            "showbackground": true,
            "ticks": "",
            "zerolinecolor": "white"
           },
           "yaxis": {
            "backgroundcolor": "#E5ECF6",
            "gridcolor": "white",
            "gridwidth": 2,
            "linecolor": "white",
            "showbackground": true,
            "ticks": "",
            "zerolinecolor": "white"
           },
           "zaxis": {
            "backgroundcolor": "#E5ECF6",
            "gridcolor": "white",
            "gridwidth": 2,
            "linecolor": "white",
            "showbackground": true,
            "ticks": "",
            "zerolinecolor": "white"
           }
          },
          "shapedefaults": {
           "line": {
            "color": "#2a3f5f"
           }
          },
          "ternary": {
           "aaxis": {
            "gridcolor": "white",
            "linecolor": "white",
            "ticks": ""
           },
           "baxis": {
            "gridcolor": "white",
            "linecolor": "white",
            "ticks": ""
           },
           "bgcolor": "#E5ECF6",
           "caxis": {
            "gridcolor": "white",
            "linecolor": "white",
            "ticks": ""
           }
          },
          "title": {
           "x": 0.05
          },
          "xaxis": {
           "automargin": true,
           "gridcolor": "white",
           "linecolor": "white",
           "ticks": "",
           "title": {
            "standoff": 15
           },
           "zerolinecolor": "white",
           "zerolinewidth": 2
          },
          "yaxis": {
           "automargin": true,
           "gridcolor": "white",
           "linecolor": "white",
           "ticks": "",
           "title": {
            "standoff": 15
           },
           "zerolinecolor": "white",
           "zerolinewidth": 2
          }
         }
        },
        "xaxis": {
         "anchor": "y",
         "domain": [
          0,
          1
         ],
         "title": {
          "text": "REGION"
         }
        },
        "yaxis": {
         "anchor": "x",
         "domain": [
          0,
          1
         ],
         "title": {
          "text": "# of Outages"
         }
        }
       }
      }
     },
     "metadata": {},
     "output_type": "display_data"
    }
   ],
   "source": [
    "regions = outages['CLIMATE.REGION'].value_counts()\n",
    "px.bar(regions,labels={'CLIMATE.REGION':'REGION','value':'# of Outages'})"
   ]
  },
  {
   "cell_type": "code",
   "execution_count": 120,
   "metadata": {},
   "outputs": [
    {
     "data": {
      "application/vnd.plotly.v1+json": {
       "config": {
        "plotlyServerURL": "https://plot.ly"
       },
       "data": [
        {
         "alignmentgroup": "True",
         "hovertemplate": "MONTH=%{x}<br>TOTAL.SALES=%{y}<extra></extra>",
         "legendgroup": "1",
         "marker": {
          "color": "#636efa"
         },
         "name": "1",
         "notched": false,
         "offsetgroup": "1",
         "orientation": "v",
         "showlegend": true,
         "type": "box",
         "x": [
          1,
          1,
          1,
          1,
          1,
          1,
          1,
          1,
          1,
          1,
          1,
          1,
          1,
          1,
          1,
          1,
          1,
          1,
          1,
          1,
          1,
          1,
          1,
          1,
          1,
          1,
          1,
          1,
          1,
          1,
          1,
          1,
          1,
          1,
          1,
          1,
          1,
          1,
          1,
          1,
          1,
          1,
          1,
          1,
          1,
          1,
          1,
          1,
          1,
          1,
          1,
          1,
          1,
          1,
          1,
          1,
          1,
          1,
          1,
          1,
          1,
          1,
          1,
          1,
          1,
          1,
          1,
          1,
          1,
          1,
          1,
          1,
          1,
          1,
          1,
          1,
          1,
          1,
          1,
          1,
          1,
          1,
          1,
          1,
          1,
          1,
          1,
          1,
          1,
          1,
          1,
          1,
          1,
          1,
          1,
          1,
          1,
          1,
          1,
          1,
          1,
          1,
          1,
          1,
          1,
          1,
          1,
          1,
          1,
          1,
          1,
          1,
          1,
          1,
          1,
          1,
          1,
          1,
          1,
          1,
          1,
          1,
          1,
          1,
          1,
          1,
          1,
          1,
          1,
          1,
          1,
          1,
          1,
          1,
          1,
          1
         ],
         "x0": " ",
         "xaxis": "x",
         "y": [
          8926587,
          9549176,
          9549176,
          8707973,
          9549176,
          9549176,
          8739380,
          6442931,
          6442931,
          6442931,
          6083211,
          6442931,
          6442931,
          6442931,
          9092427,
          9306895,
          8986322,
          9122606,
          33491405,
          31637886,
          28330456,
          28330456,
          29993367,
          33491405,
          28331887,
          9430041,
          9430041,
          9274798,
          9430041,
          9430041,
          13272311,
          9215371,
          7931284,
          8988060,
          8610778,
          9257152,
          8988060,
          8988060,
          8988060,
          8988060,
          8988060,
          5549419,
          5549419,
          5549419,
          6367508,
          5745344,
          6278411,
          6278411,
          6247406,
          5745344,
          12958106,
          13027791,
          14385585,
          14385585,
          14385585,
          7762820,
          8482896,
          8482896,
          8482896,
          2574185,
          2560849,
          2574185,
          14475383,
          14089972,
          14552914,
          14123130,
          14552914,
          11402776,
          12873077,
          12873077,
          6578782,
          6105400,
          6578782,
          6578782,
          7643655,
          6586660,
          6899368,
          6586660,
          7643655,
          4318263,
          4529651,
          4318263,
          1018592,
          1004907,
          7824579,
          7824579,
          8224669,
          6259942,
          990197,
          1097708,
          979391,
          1071153,
          1097708,
          990197,
          4132984,
          12843931,
          12283409,
          12424996,
          12424996,
          12843931,
          6863383,
          7228383,
          20264386,
          17648170,
          18842683,
          22619921,
          22619921,
          20256041,
          20470914,
          20256041,
          22619921,
          21744317,
          20256041,
          20256041,
          20188608,
          21744317,
          3772847,
          3772847,
          9946849,
          10887121,
          1960025,
          10973692,
          11103575,
          2635480,
          2616524,
          4693211,
          3978308,
          4920158,
          4693211,
          4923422,
          4923422,
          1088895,
          2599927,
          2579567,
          3190147,
          2063171
         ],
         "y0": " ",
         "yaxis": "y"
        },
        {
         "alignmentgroup": "True",
         "hovertemplate": "MONTH=%{x}<br>TOTAL.SALES=%{y}<extra></extra>",
         "legendgroup": "2",
         "marker": {
          "color": "#EF553B"
         },
         "name": "2",
         "notched": false,
         "offsetgroup": "2",
         "orientation": "v",
         "showlegend": true,
         "type": "box",
         "x": [
          2,
          2,
          2,
          2,
          2,
          2,
          2,
          2,
          2,
          2,
          2,
          2,
          2,
          2,
          2,
          2,
          2,
          2,
          2,
          2,
          2,
          2,
          2,
          2,
          2,
          2,
          2,
          2,
          2,
          2,
          2,
          2,
          2,
          2,
          2,
          2,
          2,
          2,
          2,
          2,
          2,
          2,
          2,
          2,
          2,
          2,
          2,
          2,
          2,
          2,
          2,
          2,
          2,
          2,
          2,
          2,
          2,
          2,
          2,
          2,
          2,
          2,
          2,
          2,
          2,
          2,
          2,
          2,
          2,
          2,
          2,
          2,
          2,
          2,
          2,
          2,
          2,
          2,
          2,
          2,
          2,
          2,
          2,
          2,
          2,
          2,
          2,
          2,
          2,
          2,
          2,
          2,
          2,
          2,
          2,
          2,
          2,
          2,
          2,
          2,
          2,
          2,
          2,
          2,
          2,
          2,
          2,
          2,
          2,
          2,
          2,
          2,
          2,
          2,
          2,
          2,
          2,
          2,
          2,
          2,
          2,
          2,
          2,
          2,
          2,
          2,
          2,
          2,
          2,
          2,
          2,
          2,
          2,
          2,
          2,
          2
         ],
         "x0": " ",
         "xaxis": "x",
         "y": [
          9144470,
          8848352,
          8013690,
          8089925,
          8528059,
          27945669,
          27945669,
          30082500,
          30082500,
          27945669,
          30082500,
          24237577,
          26517691,
          27945669,
          28644756,
          25728887,
          30082500,
          11594099,
          8636742,
          8636742,
          7731265,
          8636742,
          8486806,
          8636742,
          8486806,
          7731265,
          4715638,
          4715638,
          5184547,
          4715638,
          5150759,
          5277647,
          5277647,
          5155310,
          5155310,
          5169554,
          5169554,
          5169554,
          5289853,
          5833935,
          12495939,
          12992227,
          12992227,
          13346603,
          12255316,
          13346603,
          13346603,
          12495939,
          7487036,
          8212696,
          8212696,
          2208136,
          2216458,
          2200942,
          2324351,
          12243748,
          12301983,
          12243748,
          9996911,
          11006447,
          11777304,
          10832900,
          11103291,
          6082133,
          5954081,
          6513433,
          3856593,
          4014413,
          3856593,
          4183695,
          4183695,
          902386,
          846772,
          6755507,
          986394,
          940976,
          3590530,
          3590530,
          12699456,
          11855894,
          11573522,
          11242659,
          11573522,
          12287262,
          12699456,
          16515248,
          16515248,
          16515248,
          16515248,
          16515248,
          18727999,
          18076185,
          19212525,
          19138651,
          19970292,
          19970292,
          18727999,
          18411708,
          19005521,
          19138651,
          19138651,
          17876563,
          19038040,
          18076185,
          17781301,
          19970292,
          18076185,
          19138651,
          18411708,
          17876563,
          18727999,
          19970292,
          19050378,
          19167557,
          3974957,
          3665356,
          9232209,
          8899503,
          8701398,
          1739847,
          1739847,
          1739847,
          473575,
          10381851,
          11280647,
          10819446,
          10819446,
          4344399,
          4577240,
          4577240,
          901223,
          985385,
          912727,
          4108146,
          3709983,
          4145577
         ],
         "y0": " ",
         "yaxis": "y"
        },
        {
         "alignmentgroup": "True",
         "hovertemplate": "MONTH=%{x}<br>TOTAL.SALES=%{y}<extra></extra>",
         "legendgroup": "3",
         "marker": {
          "color": "#00cc96"
         },
         "name": "3",
         "notched": false,
         "offsetgroup": "3",
         "orientation": "v",
         "showlegend": true,
         "type": "box",
         "x": [
          3,
          3,
          3,
          3,
          3,
          3,
          3,
          3,
          3,
          3,
          3,
          3,
          3,
          3,
          3,
          3,
          3,
          3,
          3,
          3,
          3,
          3,
          3,
          3,
          3,
          3,
          3,
          3,
          3,
          3,
          3,
          3,
          3,
          3,
          3,
          3,
          3,
          3,
          3,
          3,
          3,
          3,
          3,
          3,
          3,
          3,
          3,
          3,
          3,
          3,
          3,
          3,
          3,
          3,
          3,
          3,
          3,
          3,
          3,
          3,
          3,
          3,
          3,
          3,
          3,
          3,
          3,
          3,
          3,
          3,
          3,
          3,
          3,
          3,
          3,
          3,
          3,
          3,
          3,
          3,
          3,
          3,
          3,
          3,
          3,
          3,
          3,
          3,
          3,
          3,
          3,
          3,
          3,
          3,
          3,
          3,
          3,
          3,
          3,
          3
         ],
         "x0": " ",
         "xaxis": "x",
         "y": [
          5599486,
          8631202,
          8080023,
          5892307,
          2822167,
          8237896,
          8096999,
          8237896,
          8237896,
          8355044,
          26164763,
          26464992,
          24998018,
          23378775,
          21870637,
          29007544,
          23378775,
          26164763,
          25380423,
          26464992,
          22424411,
          11686951,
          8373220,
          8373220,
          7840102,
          7797125,
          7797125,
          7797125,
          7797125,
          8423104,
          5083188,
          4708475,
          5167745,
          5167745,
          5022748,
          12284653,
          12923209,
          2318322,
          2318322,
          2268269,
          12794812,
          10232001,
          10972259,
          10972259,
          5973784,
          5973784,
          4189416,
          3868621,
          851828,
          885713,
          885713,
          3917027,
          3917027,
          3917027,
          1242527,
          12154725,
          11228223,
          11530654,
          12154725,
          11228223,
          11530654,
          16025933,
          15229219,
          15229219,
          21515349,
          20861122,
          19782727,
          19826857,
          21351409,
          19731468,
          21515349,
          20861122,
          21351409,
          21515349,
          20033300,
          19731468,
          21351409,
          21515349,
          21515349,
          21351409,
          19875740,
          3494367,
          8926177,
          8926177,
          9505687,
          1437691,
          444823,
          2383806,
          2442711,
          4494764,
          4156978,
          4574558,
          864735,
          891995,
          891995,
          2501277,
          4282715,
          3024559,
          1657605,
          1657605
         ],
         "y0": " ",
         "yaxis": "y"
        },
        {
         "alignmentgroup": "True",
         "hovertemplate": "MONTH=%{x}<br>TOTAL.SALES=%{y}<extra></extra>",
         "legendgroup": "4",
         "marker": {
          "color": "#ab63fa"
         },
         "name": "4",
         "notched": false,
         "offsetgroup": "4",
         "orientation": "v",
         "showlegend": true,
         "type": "box",
         "x": [
          4,
          4,
          4,
          4,
          4,
          4,
          4,
          4,
          4,
          4,
          4,
          4,
          4,
          4,
          4,
          4,
          4,
          4,
          4,
          4,
          4,
          4,
          4,
          4,
          4,
          4,
          4,
          4,
          4,
          4,
          4,
          4,
          4,
          4,
          4,
          4,
          4,
          4,
          4,
          4,
          4,
          4,
          4,
          4,
          4,
          4,
          4,
          4,
          4,
          4,
          4,
          4,
          4,
          4,
          4,
          4,
          4,
          4,
          4,
          4,
          4,
          4,
          4,
          4,
          4,
          4,
          4,
          4,
          4,
          4,
          4,
          4,
          4,
          4,
          4,
          4,
          4,
          4,
          4,
          4,
          4,
          4,
          4,
          4,
          4,
          4,
          4,
          4,
          4,
          4,
          4,
          4,
          4,
          4,
          4,
          4,
          4,
          4,
          4,
          4,
          4,
          4,
          4,
          4,
          4,
          4,
          4,
          4,
          4,
          4,
          4
         ],
         "x0": " ",
         "xaxis": "x",
         "y": [
          7278927,
          7583977,
          7278927,
          7278927,
          7278927,
          7278927,
          7278927,
          6776403,
          5330888,
          5055727,
          8450792,
          7799973,
          7445186,
          7445186,
          7858010,
          7799973,
          7724563,
          7823228,
          27654566,
          25670267,
          27654566,
          27846934,
          25670267,
          22746099,
          27789572,
          27789572,
          25670267,
          23166947,
          25670267,
          25400068,
          25230186,
          27654566,
          26338924,
          25670267,
          25670267,
          27789572,
          7914725,
          7669655,
          6479167,
          10403395,
          7565294,
          7565294,
          7848762,
          7464557,
          7565294,
          6785327,
          7565294,
          7565294,
          6536704,
          4330353,
          5226956,
          4158706,
          4753488,
          4246043,
          10953611,
          2216016,
          2216016,
          2188325,
          2188325,
          2177281,
          2188325,
          11675943,
          11675943,
          11257186,
          9245272,
          9195341,
          3673934,
          5823739,
          846219,
          816529,
          841219,
          853333,
          816529,
          841219,
          816529,
          3330865,
          10846529,
          5483500,
          6236365,
          6486644,
          6236365,
          5814212,
          16959888,
          15137142,
          19388692,
          19840018,
          19388692,
          18947640,
          18941265,
          19388692,
          19585631,
          18947640,
          19983832,
          19983832,
          19585631,
          19840018,
          18656348,
          19847009,
          3415507,
          3415507,
          3342743,
          409204,
          9559928,
          2340505,
          4115849,
          4115849,
          915907,
          915907,
          855846,
          4058095,
          2726452
         ],
         "y0": " ",
         "yaxis": "y"
        },
        {
         "alignmentgroup": "True",
         "hovertemplate": "MONTH=%{x}<br>TOTAL.SALES=%{y}<extra></extra>",
         "legendgroup": "5",
         "marker": {
          "color": "#FFA15A"
         },
         "name": "5",
         "notched": false,
         "offsetgroup": "5",
         "orientation": "v",
         "showlegend": true,
         "type": "box",
         "x": [
          5,
          5,
          5,
          5,
          5,
          5,
          5,
          5,
          5,
          5,
          5,
          5,
          5,
          5,
          5,
          5,
          5,
          5,
          5,
          5,
          5,
          5,
          5,
          5,
          5,
          5,
          5,
          5,
          5,
          5,
          5,
          5,
          5,
          5,
          5,
          5,
          5,
          5,
          5,
          5,
          5,
          5,
          5,
          5,
          5,
          5,
          5,
          5,
          5,
          5,
          5,
          5,
          5,
          5,
          5,
          5,
          5,
          5,
          5,
          5,
          5,
          5,
          5,
          5,
          5,
          5,
          5,
          5,
          5,
          5,
          5,
          5,
          5,
          5,
          5,
          5,
          5,
          5,
          5,
          5,
          5,
          5,
          5,
          5,
          5,
          5,
          5,
          5,
          5,
          5,
          5,
          5,
          5,
          5,
          5,
          5,
          5,
          5,
          5,
          5,
          5,
          5,
          5,
          5,
          5,
          5,
          5,
          5,
          5,
          5,
          5,
          5,
          5,
          5,
          5,
          5,
          5,
          5,
          5,
          5,
          5,
          5,
          5,
          5,
          5,
          5,
          5
         ],
         "x0": " ",
         "xaxis": "x",
         "y": [
          5284231,
          5262668,
          7063873,
          8180730,
          8180730,
          8763874,
          8308074,
          8763874,
          8763874,
          8548464,
          8180730,
          28893988,
          24043000,
          29324642,
          26880571,
          24043000,
          28893988,
          25461708,
          28893988,
          26883068,
          25132126,
          25461708,
          8017586,
          8287573,
          8287573,
          8271642,
          8017586,
          8271642,
          3699788,
          3640973,
          3602227,
          10661657,
          10513961,
          10700552,
          10286783,
          6609969,
          7177447,
          6669170,
          7177447,
          7201767,
          6389121,
          5170548,
          4786894,
          11160581,
          11160581,
          6704186,
          2392042,
          2267401,
          2192416,
          2392042,
          2192416,
          2269166,
          12091413,
          12091413,
          12391847,
          12391847,
          9597808,
          10286592,
          10082029,
          5651084,
          3640038,
          3641613,
          5861119,
          6132823,
          6132823,
          5493089,
          5493089,
          6266605,
          873267,
          873267,
          873267,
          11299044,
          10689332,
          10674899,
          10674899,
          11025368,
          11025368,
          10689332,
          10689332,
          10674899,
          6672269,
          6672269,
          6127940,
          6406309,
          17107025,
          17107025,
          17107025,
          20942151,
          20582284,
          21178613,
          20582284,
          21327504,
          19017650,
          19862257,
          20712609,
          21178613,
          20712609,
          21178613,
          18916761,
          19862257,
          19862257,
          20712609,
          20712609,
          19259976,
          3346671,
          8261610,
          8497367,
          1433063,
          434478,
          10772709,
          10581464,
          2300770,
          2065419,
          2661660,
          5029445,
          4584162,
          4584162,
          4586920,
          4139922,
          903177,
          779845,
          779845,
          824542,
          779845,
          2608404,
          4223288,
          852355
         ],
         "y0": " ",
         "yaxis": "y"
        },
        {
         "alignmentgroup": "True",
         "hovertemplate": "MONTH=%{x}<br>TOTAL.SALES=%{y}<extra></extra>",
         "legendgroup": "6",
         "marker": {
          "color": "#19d3f3"
         },
         "name": "6",
         "notched": false,
         "offsetgroup": "6",
         "orientation": "v",
         "showlegend": true,
         "type": "box",
         "x": [
          6,
          6,
          6,
          6,
          6,
          6,
          6,
          6,
          6,
          6,
          6,
          6,
          6,
          6,
          6,
          6,
          6,
          6,
          6,
          6,
          6,
          6,
          6,
          6,
          6,
          6,
          6,
          6,
          6,
          6,
          6,
          6,
          6,
          6,
          6,
          6,
          6,
          6,
          6,
          6,
          6,
          6,
          6,
          6,
          6,
          6,
          6,
          6,
          6,
          6,
          6,
          6,
          6,
          6,
          6,
          6,
          6,
          6,
          6,
          6,
          6,
          6,
          6,
          6,
          6,
          6,
          6,
          6,
          6,
          6,
          6,
          6,
          6,
          6,
          6,
          6,
          6,
          6,
          6,
          6,
          6,
          6,
          6,
          6,
          6,
          6,
          6,
          6,
          6,
          6,
          6,
          6,
          6,
          6,
          6,
          6,
          6,
          6,
          6,
          6,
          6,
          6,
          6,
          6,
          6,
          6,
          6,
          6,
          6,
          6,
          6,
          6,
          6,
          6,
          6,
          6,
          6,
          6,
          6,
          6,
          6,
          6,
          6,
          6,
          6,
          6,
          6,
          6,
          6,
          6,
          6,
          6,
          6,
          6,
          6,
          6,
          6,
          6,
          6,
          6,
          6,
          6,
          6,
          6,
          6,
          6,
          6,
          6,
          6,
          6,
          6,
          6,
          6,
          6,
          6,
          6,
          6,
          6,
          6,
          6,
          6,
          6,
          6,
          6,
          6,
          6,
          6,
          6,
          6,
          6,
          6,
          6,
          6,
          6,
          6,
          6,
          6,
          6,
          6,
          6,
          6,
          6,
          6,
          6,
          6,
          6,
          6,
          6,
          6,
          6,
          6,
          6,
          6,
          6,
          6
         ],
         "x0": " ",
         "xaxis": "x",
         "y": [
          5787064,
          5607498,
          5490631,
          5490631,
          5574073,
          8258806,
          8258806,
          8664304,
          8404698,
          8395017,
          8404698,
          8404698,
          7790440,
          8404698,
          5757447,
          5757447,
          2577255,
          2407180,
          8907617,
          10034838,
          8117814,
          10034838,
          8481747,
          9327963,
          9327963,
          8950183,
          9327963,
          10034838,
          8907617,
          8117814,
          8612724,
          34707247,
          33553242,
          33553242,
          34465581,
          30251814,
          35730168,
          34707247,
          31525789,
          34088196,
          35730168,
          28531900,
          33656686,
          35730168,
          28531900,
          34707247,
          29499229,
          31525789,
          9110926,
          9027043,
          9121925,
          8698240,
          9027043,
          9121925,
          9027043,
          9121925,
          7907462,
          4151539,
          12512370,
          12880287,
          12512370,
          13479208,
          12154984,
          12223612,
          11937603,
          11688135,
          12154984,
          12545025,
          12154984,
          12545025,
          7334593,
          7334593,
          7334593,
          6970472,
          6974162,
          7334593,
          7334593,
          7057869,
          5783132,
          7738942,
          6333137,
          5418546,
          5654256,
          5372325,
          5482301,
          5418546,
          5418546,
          5372325,
          5654256,
          5176902,
          5418546,
          12815127,
          12056707,
          12481231,
          11872524,
          12835148,
          6442827,
          2743924,
          14083913,
          13264303,
          13482365,
          12991997,
          11189364,
          12108140,
          11229201,
          11229201,
          12210188,
          6476106,
          6614106,
          6614106,
          7320536,
          6614106,
          7320536,
          7212763,
          6670682,
          7476646,
          3573211,
          1015794,
          999646,
          996096,
          927076,
          951681,
          946394,
          951681,
          3663965,
          1059449,
          1050775,
          12201514,
          12283323,
          12511957,
          12297255,
          12359479,
          12283323,
          12046524,
          12511957,
          7183486,
          7856828,
          6982794,
          7856828,
          7856828,
          7856828,
          20597429,
          21592345,
          21981278,
          21901510,
          22304475,
          21901510,
          21901510,
          21901510,
          21981278,
          21901510,
          22015226,
          22028050,
          21784929,
          21788563,
          22036601,
          21788563,
          21901510,
          21788563,
          22015226,
          22028050,
          22036601,
          22041117,
          4201911,
          4253036,
          4300120,
          4300120,
          10103576,
          9870197,
          9241797,
          10103576,
          9358568,
          9241797,
          2315602,
          2166169,
          1368127,
          2125121,
          447034,
          443915,
          12894687,
          11895035,
          12894687,
          2287897,
          4597901,
          4582843,
          3618500,
          4074285,
          4539747,
          4783529,
          3858223,
          3722254,
          891580,
          2034123,
          2015509,
          1886871
         ],
         "y0": " ",
         "yaxis": "y"
        },
        {
         "alignmentgroup": "True",
         "hovertemplate": "MONTH=%{x}<br>TOTAL.SALES=%{y}<extra></extra>",
         "legendgroup": "7",
         "marker": {
          "color": "#FF6692"
         },
         "name": "7",
         "notched": false,
         "offsetgroup": "7",
         "orientation": "v",
         "showlegend": true,
         "type": "box",
         "x": [
          7,
          7,
          7,
          7,
          7,
          7,
          7,
          7,
          7,
          7,
          7,
          7,
          7,
          7,
          7,
          7,
          7,
          7,
          7,
          7,
          7,
          7,
          7,
          7,
          7,
          7,
          7,
          7,
          7,
          7,
          7,
          7,
          7,
          7,
          7,
          7,
          7,
          7,
          7,
          7,
          7,
          7,
          7,
          7,
          7,
          7,
          7,
          7,
          7,
          7,
          7,
          7,
          7,
          7,
          7,
          7,
          7,
          7,
          7,
          7,
          7,
          7,
          7,
          7,
          7,
          7,
          7,
          7,
          7,
          7,
          7,
          7,
          7,
          7,
          7,
          7,
          7,
          7,
          7,
          7,
          7,
          7,
          7,
          7,
          7,
          7,
          7,
          7,
          7,
          7,
          7,
          7,
          7,
          7,
          7,
          7,
          7,
          7,
          7,
          7,
          7,
          7,
          7,
          7,
          7,
          7,
          7,
          7,
          7,
          7,
          7,
          7,
          7,
          7,
          7,
          7,
          7,
          7,
          7,
          7,
          7,
          7,
          7,
          7,
          7,
          7,
          7,
          7,
          7,
          7,
          7,
          7,
          7,
          7,
          7,
          7,
          7,
          7,
          7,
          7,
          7,
          7,
          7,
          7,
          7,
          7,
          7,
          7,
          7,
          7,
          7,
          7,
          7,
          7,
          7,
          7,
          7,
          7,
          7,
          7,
          7,
          7,
          7,
          7,
          7,
          7,
          7,
          7,
          7,
          7,
          7,
          7,
          7,
          7,
          7,
          7,
          7,
          7,
          7,
          7,
          7
         ],
         "x0": " ",
         "xaxis": "x",
         "y": [
          6562520,
          5970339,
          6374935,
          6562520,
          9877219,
          9499547,
          8950358,
          null,
          6188772,
          10846247,
          10002112,
          10002112,
          10260246,
          null,
          11002234,
          10846247,
          9933745,
          10368366,
          9776717,
          10846247,
          10639207,
          10368366,
          10846247,
          10846247,
          9933745,
          39740458,
          null,
          38540463,
          32458960,
          35785373,
          null,
          37508391,
          39740458,
          36817135,
          36817135,
          39740458,
          36817135,
          9205202,
          10504000,
          10644457,
          10644457,
          10504000,
          9853190,
          8934377,
          15636182,
          14759220,
          15636182,
          15636182,
          13175400,
          13156935,
          13677722,
          13175400,
          14524133,
          14759220,
          14759220,
          7372409,
          null,
          7146468,
          7146468,
          7412771,
          7146468,
          7372409,
          7342873,
          7412771,
          7146468,
          8548328,
          7071255,
          7078856,
          7078856,
          7071255,
          6782930,
          6782930,
          6676731,
          6676731,
          6782930,
          13779739,
          13761069,
          12637681,
          13836753,
          null,
          13684505,
          13761069,
          13779739,
          14178091,
          13761069,
          8188193,
          2768207,
          2890938,
          2889635,
          2809233,
          2941900,
          13942962,
          15289627,
          13919175,
          15553889,
          15289627,
          14761794,
          15553889,
          15553889,
          13086893,
          13086893,
          null,
          null,
          8374523,
          8570959,
          null,
          1214292,
          1283959,
          null,
          13993053,
          14225043,
          14662838,
          14662838,
          14203370,
          13692504,
          14662838,
          13980141,
          8057532,
          8023652,
          7699580,
          8057532,
          8057532,
          22256850,
          25206304,
          22741963,
          26288469,
          25635015,
          24988989,
          23355017,
          26288469,
          25635015,
          25206304,
          24988989,
          25005524,
          26288469,
          25635015,
          24988989,
          23616311,
          26288469,
          25206304,
          23334005,
          23328704,
          24988989,
          22741963,
          26288469,
          24988989,
          23616311,
          25635015,
          24414205,
          22530176,
          26288469,
          4649836,
          4618234,
          4834799,
          11284286,
          9959314,
          10600512,
          10358394,
          11352424,
          11352424,
          10835131,
          9728455,
          10835131,
          497098,
          2893149,
          2957329,
          3246923,
          null,
          5938338,
          6804721,
          5684134,
          1030593,
          1030593,
          1030593,
          970200,
          1054369,
          985109,
          4746909,
          5182136,
          null,
          null
         ],
         "y0": " ",
         "yaxis": "y"
        },
        {
         "alignmentgroup": "True",
         "hovertemplate": "MONTH=%{x}<br>TOTAL.SALES=%{y}<extra></extra>",
         "legendgroup": "8",
         "marker": {
          "color": "#B6E880"
         },
         "name": "8",
         "notched": false,
         "offsetgroup": "8",
         "orientation": "v",
         "showlegend": true,
         "type": "box",
         "x": [
          8,
          8,
          8,
          8,
          8,
          8,
          8,
          8,
          8,
          8,
          8,
          8,
          8,
          8,
          8,
          8,
          8,
          8,
          8,
          8,
          8,
          8,
          8,
          8,
          8,
          8,
          8,
          8,
          8,
          8,
          8,
          8,
          8,
          8,
          8,
          8,
          8,
          8,
          8,
          8,
          8,
          8,
          8,
          8,
          8,
          8,
          8,
          8,
          8,
          8,
          8,
          8,
          8,
          8,
          8,
          8,
          8,
          8,
          8,
          8,
          8,
          8,
          8,
          8,
          8,
          8,
          8,
          8,
          8,
          8,
          8,
          8,
          8,
          8,
          8,
          8,
          8,
          8,
          8,
          8,
          8,
          8,
          8,
          8,
          8,
          8,
          8,
          8,
          8,
          8,
          8,
          8,
          8,
          8,
          8,
          8,
          8,
          8,
          8,
          8,
          8,
          8,
          8,
          8,
          8,
          8,
          8,
          8,
          8,
          8,
          8,
          8,
          8,
          8,
          8,
          8,
          8,
          8,
          8,
          8,
          8,
          8,
          8,
          8,
          8,
          8,
          8,
          8,
          8,
          8,
          8,
          8,
          8,
          8,
          8,
          8,
          8,
          8,
          8,
          8,
          8,
          8,
          8,
          8,
          8,
          8,
          8,
          8,
          8,
          8,
          8,
          8,
          8
         ],
         "x0": " ",
         "xaxis": "x",
         "y": [
          9791474,
          6291012,
          6717006,
          6291012,
          6291012,
          10086037,
          9328886,
          8944946,
          10311612,
          10086037,
          10708773,
          9328886,
          8944946,
          9886881,
          39226454,
          40357061,
          41667168,
          41667168,
          32002502,
          35633215,
          36275885,
          36275885,
          39328028,
          36275885,
          41667168,
          41667168,
          38732076,
          40357061,
          9080103,
          9766472,
          9766472,
          9647930,
          8257127,
          14587244,
          12389743,
          13339394,
          13391265,
          14172569,
          13015252,
          13665101,
          14063905,
          7190121,
          7366208,
          7366208,
          7190121,
          6788884,
          7311595,
          7436369,
          7366208,
          7366208,
          7190121,
          8298927,
          6098191,
          6957521,
          6957521,
          6098191,
          13591088,
          13591088,
          14020374,
          13591088,
          8088387,
          2818384,
          3069813,
          14996755,
          14579765,
          14579765,
          14199635,
          14579765,
          11562367,
          13267650,
          13267650,
          13267650,
          7827652,
          7827652,
          7827652,
          7531108,
          3956492,
          4007383,
          3956492,
          4007383,
          1084951,
          1167163,
          1167163,
          7835624,
          9118872,
          1040930,
          1040930,
          14159584,
          14159584,
          14574946,
          13851002,
          14159584,
          14159584,
          13851002,
          14159584,
          14159584,
          14159584,
          14286789,
          8015508,
          8505369,
          8505369,
          7954648,
          8505369,
          8505369,
          7954648,
          8433323,
          8433323,
          8433323,
          22575319,
          23004710,
          21982109,
          20510745,
          20841967,
          23004710,
          21982109,
          20841967,
          22420966,
          20841967,
          23004710,
          20841967,
          25147418,
          26405948,
          25919908,
          25919908,
          22224419,
          26405948,
          26405948,
          25919908,
          24507429,
          24533682,
          26232375,
          24681491,
          4581194,
          5147213,
          4745922,
          10355383,
          9403768,
          10700731,
          11076073,
          3039805,
          1365456,
          2218192,
          2995189,
          6686268,
          6686268,
          6206348,
          6686268,
          6686268,
          5096565,
          5093293,
          1017606,
          924051,
          924051
         ],
         "y0": " ",
         "yaxis": "y"
        },
        {
         "alignmentgroup": "True",
         "hovertemplate": "MONTH=%{x}<br>TOTAL.SALES=%{y}<extra></extra>",
         "legendgroup": "9",
         "marker": {
          "color": "#FF97FF"
         },
         "name": "9",
         "notched": false,
         "offsetgroup": "9",
         "orientation": "v",
         "showlegend": true,
         "type": "box",
         "x": [
          9,
          9,
          9,
          9,
          9,
          9,
          9,
          9,
          9,
          9,
          9,
          9,
          9,
          9,
          9,
          9,
          9,
          9,
          9,
          9,
          9,
          9,
          9,
          9,
          9,
          9,
          9,
          9,
          9,
          9,
          9,
          9,
          9,
          9,
          9,
          9,
          9,
          9,
          9,
          9,
          9,
          9,
          9,
          9,
          9,
          9,
          9,
          9,
          9,
          9,
          9,
          9,
          9,
          9,
          9,
          9,
          9,
          9,
          9,
          9,
          9,
          9,
          9,
          9,
          9,
          9,
          9,
          9,
          9,
          9,
          9,
          9,
          9,
          9,
          9,
          9,
          9,
          9,
          9,
          9,
          9,
          9,
          9,
          9,
          9,
          9,
          9,
          9,
          9,
          9,
          9,
          9,
          9,
          9
         ],
         "x0": " ",
         "xaxis": "x",
         "y": [
          5535009,
          5966551,
          9311816,
          9160788,
          8658859,
          9017849,
          8267271,
          7960881,
          8280337,
          33193019,
          33193019,
          33978964,
          30580544,
          33193019,
          33978964,
          30580544,
          34655355,
          30580544,
          30580544,
          36600689,
          9363617,
          6957091,
          6957091,
          6957091,
          6957091,
          6957091,
          6957091,
          5045543,
          6296613,
          5045543,
          11781478,
          11738155,
          12202753,
          12202753,
          12355048,
          12355048,
          12355048,
          7767665,
          7767665,
          2492126,
          12821117,
          12430324,
          12821117,
          12821117,
          11963827,
          11239313,
          10760501,
          10700601,
          11383721,
          10760501,
          6670510,
          6808089,
          6808089,
          6808089,
          3547135,
          920981,
          1029890,
          1029890,
          1029890,
          13843996,
          12805244,
          7168846,
          7168846,
          7168846,
          6893162,
          6893162,
          22804437,
          19824036,
          22804437,
          19824036,
          19824036,
          19824036,
          19824036,
          19824036,
          19824036,
          19824036,
          24974681,
          23475096,
          23995943,
          25340794,
          23995943,
          25582494,
          23995943,
          25582494,
          24974681,
          24117856,
          4330118,
          4421959,
          8696014,
          9400680,
          11018150,
          11018150,
          2518712,
          2518712
         ],
         "y0": " ",
         "yaxis": "y"
        },
        {
         "alignmentgroup": "True",
         "hovertemplate": "MONTH=%{x}<br>TOTAL.SALES=%{y}<extra></extra>",
         "legendgroup": "10",
         "marker": {
          "color": "#FECB52"
         },
         "name": "10",
         "notched": false,
         "offsetgroup": "10",
         "orientation": "v",
         "showlegend": true,
         "type": "box",
         "x": [
          10,
          10,
          10,
          10,
          10,
          10,
          10,
          10,
          10,
          10,
          10,
          10,
          10,
          10,
          10,
          10,
          10,
          10,
          10,
          10,
          10,
          10,
          10,
          10,
          10,
          10,
          10,
          10,
          10,
          10,
          10,
          10,
          10,
          10,
          10,
          10,
          10,
          10,
          10,
          10,
          10,
          10,
          10,
          10,
          10,
          10,
          10,
          10,
          10,
          10,
          10,
          10,
          10,
          10,
          10,
          10,
          10,
          10,
          10,
          10,
          10,
          10,
          10,
          10,
          10,
          10,
          10,
          10,
          10,
          10,
          10,
          10,
          10,
          10,
          10,
          10,
          10,
          10,
          10,
          10,
          10,
          10,
          10,
          10,
          10,
          10,
          10,
          10,
          10,
          10,
          10,
          10,
          10,
          10,
          10,
          10,
          10,
          10,
          10,
          10,
          10,
          10,
          10,
          10,
          10,
          10,
          10,
          10,
          10
         ],
         "x0": " ",
         "xaxis": "x",
         "y": [
          5222116,
          5352037,
          2481277,
          8086396,
          8237593,
          8008227,
          8555330,
          8555330,
          33245579,
          33245579,
          28085863,
          31956045,
          8125037,
          8013425,
          10746745,
          11093533,
          10746745,
          7044482,
          6542025,
          7020528,
          5509794,
          4452722,
          4452722,
          4524914,
          4452722,
          4452722,
          4452722,
          4452722,
          4452722,
          4452722,
          11287927,
          11287927,
          11091812,
          11287927,
          11091812,
          11287927,
          11287927,
          11287927,
          11091812,
          10995382,
          2305683,
          2399055,
          2399055,
          11739373,
          11627578,
          9825955,
          5647321,
          5647321,
          5486658,
          5647321,
          5486658,
          5486658,
          5647321,
          3638061,
          829672,
          829672,
          11163410,
          11163410,
          11361905,
          11361905,
          11085078,
          11085078,
          11163410,
          11361905,
          6888955,
          5895644,
          7154368,
          20194924,
          20194924,
          20194924,
          24125319,
          20927036,
          21866506,
          22723895,
          22151808,
          22506210,
          20927036,
          23816739,
          21974546,
          22723895,
          22723895,
          24125319,
          22506210,
          22506210,
          22667368,
          23816739,
          22667368,
          22667368,
          22667368,
          22667368,
          22151808,
          3843905,
          3843905,
          8067143,
          1416356,
          427661,
          2374160,
          4251082,
          4251082,
          991827,
          838970,
          838970,
          2727874,
          4237235,
          4253635,
          4253635,
          4019838,
          922915,
          922915
         ],
         "y0": " ",
         "yaxis": "y"
        },
        {
         "alignmentgroup": "True",
         "hovertemplate": "MONTH=%{x}<br>TOTAL.SALES=%{y}<extra></extra>",
         "legendgroup": "11",
         "marker": {
          "color": "#636efa"
         },
         "name": "11",
         "notched": false,
         "offsetgroup": "11",
         "orientation": "v",
         "showlegend": true,
         "type": "box",
         "x": [
          11,
          11,
          11,
          11,
          11,
          11,
          11,
          11,
          11,
          11,
          11,
          11,
          11,
          11,
          11,
          11,
          11,
          11,
          11,
          11,
          11,
          11,
          11,
          11,
          11,
          11,
          11,
          11,
          11,
          11,
          11,
          11,
          11,
          11,
          11,
          11,
          11,
          11,
          11,
          11,
          11,
          11,
          11,
          11,
          11,
          11,
          11,
          11,
          11,
          11,
          11,
          11,
          11,
          11,
          11,
          11,
          11,
          11,
          11,
          11,
          11,
          11,
          11,
          11,
          11,
          11,
          11,
          11,
          11,
          11,
          11,
          11
         ],
         "x0": " ",
         "xaxis": "x",
         "y": [
          5374150,
          5398464,
          8667198,
          7779271,
          8134221,
          8378192,
          8134221,
          8667198,
          8378192,
          23854318,
          26384824,
          23901974,
          8139959,
          7371969,
          8139959,
          8139959,
          8139959,
          7934607,
          8139959,
          10953971,
          10223608,
          6636190,
          7642530,
          7491167,
          7302488,
          7309613,
          7302488,
          6636190,
          5268119,
          4672407,
          5268119,
          2344232,
          2344232,
          2344232,
          2344232,
          10820298,
          5242935,
          933076,
          933076,
          933076,
          842791,
          10825773,
          11028819,
          20439478,
          19159063,
          18993756,
          18993756,
          16962605,
          19907608,
          19377182,
          20114545,
          20114545,
          19377182,
          20114545,
          19377182,
          3202284,
          7553119,
          1528811,
          1452960,
          1756432,
          446236,
          9897876,
          9262260,
          2165826,
          2447603,
          4231978,
          4231978,
          4294884,
          926257,
          833194,
          816214,
          833194
         ],
         "y0": " ",
         "yaxis": "y"
        },
        {
         "alignmentgroup": "True",
         "hovertemplate": "MONTH=%{x}<br>TOTAL.SALES=%{y}<extra></extra>",
         "legendgroup": "12",
         "marker": {
          "color": "#EF553B"
         },
         "name": "12",
         "notched": false,
         "offsetgroup": "12",
         "orientation": "v",
         "showlegend": true,
         "type": "box",
         "x": [
          12,
          12,
          12,
          12,
          12,
          12,
          12,
          12,
          12,
          12,
          12,
          12,
          12,
          12,
          12,
          12,
          12,
          12,
          12,
          12,
          12,
          12,
          12,
          12,
          12,
          12,
          12,
          12,
          12,
          12,
          12,
          12,
          12,
          12,
          12,
          12,
          12,
          12,
          12,
          12,
          12,
          12,
          12,
          12,
          12,
          12,
          12,
          12,
          12,
          12,
          12,
          12,
          12,
          12,
          12,
          12,
          12,
          12,
          12,
          12,
          12,
          12,
          12,
          12,
          12,
          12,
          12,
          12,
          12,
          12,
          12,
          12,
          12,
          12,
          12,
          12,
          12,
          12,
          12,
          12,
          12,
          12,
          12,
          12,
          12,
          12,
          12,
          12,
          12,
          12,
          12,
          12,
          12,
          12,
          12,
          12,
          12,
          12,
          12,
          12,
          12,
          12,
          12,
          12,
          12,
          12,
          12,
          12,
          12,
          12,
          12
         ],
         "x0": " ",
         "xaxis": "x",
         "y": [
          9001598,
          8964092,
          8995326,
          8995326,
          8770574,
          8999885,
          8995326,
          8964092,
          8828035,
          8431533,
          26967196,
          30908046,
          30908046,
          30908046,
          28745852,
          27726661,
          9124826,
          9124826,
          7038185,
          12148127,
          8852112,
          8767319,
          8514890,
          8852112,
          8593354,
          8852112,
          8514890,
          7734340,
          7687275,
          8852112,
          8852112,
          7734340,
          7734340,
          7734340,
          5570101,
          5341392,
          5570101,
          5570101,
          5695024,
          12666515,
          12337305,
          12337305,
          2689898,
          2689898,
          2529857,
          12804884,
          12887164,
          13241594,
          10625020,
          10625020,
          10899464,
          6552570,
          4512872,
          4703865,
          4393408,
          4393408,
          4393408,
          6433254,
          6433254,
          7580241,
          12405870,
          12176916,
          12176916,
          12106243,
          16985644,
          21310183,
          21310183,
          21808172,
          21384185,
          20861667,
          22299203,
          22299203,
          22930603,
          22447753,
          20861667,
          21384185,
          21942679,
          21387224,
          19022242,
          20333685,
          22299203,
          20333685,
          21808172,
          22447753,
          22447753,
          19022242,
          21384185,
          21942679,
          20861667,
          3266478,
          9823118,
          9056448,
          9019086,
          2282594,
          10834890,
          4622775,
          4420337,
          4622775,
          4622775,
          4808251,
          1047944,
          989416,
          1008808,
          1077281,
          2720283,
          3092395,
          3270802,
          3092395,
          835405,
          2031531,
          1313678
         ],
         "y0": " ",
         "yaxis": "y"
        }
       ],
       "layout": {
        "boxmode": "overlay",
        "legend": {
         "title": {
          "text": "MONTH"
         },
         "tracegroupgap": 0
        },
        "template": {
         "data": {
          "bar": [
           {
            "error_x": {
             "color": "#2a3f5f"
            },
            "error_y": {
             "color": "#2a3f5f"
            },
            "marker": {
             "line": {
              "color": "#E5ECF6",
              "width": 0.5
             },
             "pattern": {
              "fillmode": "overlay",
              "size": 10,
              "solidity": 0.2
             }
            },
            "type": "bar"
           }
          ],
          "barpolar": [
           {
            "marker": {
             "line": {
              "color": "#E5ECF6",
              "width": 0.5
             },
             "pattern": {
              "fillmode": "overlay",
              "size": 10,
              "solidity": 0.2
             }
            },
            "type": "barpolar"
           }
          ],
          "carpet": [
           {
            "aaxis": {
             "endlinecolor": "#2a3f5f",
             "gridcolor": "white",
             "linecolor": "white",
             "minorgridcolor": "white",
             "startlinecolor": "#2a3f5f"
            },
            "baxis": {
             "endlinecolor": "#2a3f5f",
             "gridcolor": "white",
             "linecolor": "white",
             "minorgridcolor": "white",
             "startlinecolor": "#2a3f5f"
            },
            "type": "carpet"
           }
          ],
          "choropleth": [
           {
            "colorbar": {
             "outlinewidth": 0,
             "ticks": ""
            },
            "type": "choropleth"
           }
          ],
          "contour": [
           {
            "colorbar": {
             "outlinewidth": 0,
             "ticks": ""
            },
            "colorscale": [
             [
              0,
              "#0d0887"
             ],
             [
              0.1111111111111111,
              "#46039f"
             ],
             [
              0.2222222222222222,
              "#7201a8"
             ],
             [
              0.3333333333333333,
              "#9c179e"
             ],
             [
              0.4444444444444444,
              "#bd3786"
             ],
             [
              0.5555555555555556,
              "#d8576b"
             ],
             [
              0.6666666666666666,
              "#ed7953"
             ],
             [
              0.7777777777777778,
              "#fb9f3a"
             ],
             [
              0.8888888888888888,
              "#fdca26"
             ],
             [
              1,
              "#f0f921"
             ]
            ],
            "type": "contour"
           }
          ],
          "contourcarpet": [
           {
            "colorbar": {
             "outlinewidth": 0,
             "ticks": ""
            },
            "type": "contourcarpet"
           }
          ],
          "heatmap": [
           {
            "colorbar": {
             "outlinewidth": 0,
             "ticks": ""
            },
            "colorscale": [
             [
              0,
              "#0d0887"
             ],
             [
              0.1111111111111111,
              "#46039f"
             ],
             [
              0.2222222222222222,
              "#7201a8"
             ],
             [
              0.3333333333333333,
              "#9c179e"
             ],
             [
              0.4444444444444444,
              "#bd3786"
             ],
             [
              0.5555555555555556,
              "#d8576b"
             ],
             [
              0.6666666666666666,
              "#ed7953"
             ],
             [
              0.7777777777777778,
              "#fb9f3a"
             ],
             [
              0.8888888888888888,
              "#fdca26"
             ],
             [
              1,
              "#f0f921"
             ]
            ],
            "type": "heatmap"
           }
          ],
          "heatmapgl": [
           {
            "colorbar": {
             "outlinewidth": 0,
             "ticks": ""
            },
            "colorscale": [
             [
              0,
              "#0d0887"
             ],
             [
              0.1111111111111111,
              "#46039f"
             ],
             [
              0.2222222222222222,
              "#7201a8"
             ],
             [
              0.3333333333333333,
              "#9c179e"
             ],
             [
              0.4444444444444444,
              "#bd3786"
             ],
             [
              0.5555555555555556,
              "#d8576b"
             ],
             [
              0.6666666666666666,
              "#ed7953"
             ],
             [
              0.7777777777777778,
              "#fb9f3a"
             ],
             [
              0.8888888888888888,
              "#fdca26"
             ],
             [
              1,
              "#f0f921"
             ]
            ],
            "type": "heatmapgl"
           }
          ],
          "histogram": [
           {
            "marker": {
             "pattern": {
              "fillmode": "overlay",
              "size": 10,
              "solidity": 0.2
             }
            },
            "type": "histogram"
           }
          ],
          "histogram2d": [
           {
            "colorbar": {
             "outlinewidth": 0,
             "ticks": ""
            },
            "colorscale": [
             [
              0,
              "#0d0887"
             ],
             [
              0.1111111111111111,
              "#46039f"
             ],
             [
              0.2222222222222222,
              "#7201a8"
             ],
             [
              0.3333333333333333,
              "#9c179e"
             ],
             [
              0.4444444444444444,
              "#bd3786"
             ],
             [
              0.5555555555555556,
              "#d8576b"
             ],
             [
              0.6666666666666666,
              "#ed7953"
             ],
             [
              0.7777777777777778,
              "#fb9f3a"
             ],
             [
              0.8888888888888888,
              "#fdca26"
             ],
             [
              1,
              "#f0f921"
             ]
            ],
            "type": "histogram2d"
           }
          ],
          "histogram2dcontour": [
           {
            "colorbar": {
             "outlinewidth": 0,
             "ticks": ""
            },
            "colorscale": [
             [
              0,
              "#0d0887"
             ],
             [
              0.1111111111111111,
              "#46039f"
             ],
             [
              0.2222222222222222,
              "#7201a8"
             ],
             [
              0.3333333333333333,
              "#9c179e"
             ],
             [
              0.4444444444444444,
              "#bd3786"
             ],
             [
              0.5555555555555556,
              "#d8576b"
             ],
             [
              0.6666666666666666,
              "#ed7953"
             ],
             [
              0.7777777777777778,
              "#fb9f3a"
             ],
             [
              0.8888888888888888,
              "#fdca26"
             ],
             [
              1,
              "#f0f921"
             ]
            ],
            "type": "histogram2dcontour"
           }
          ],
          "mesh3d": [
           {
            "colorbar": {
             "outlinewidth": 0,
             "ticks": ""
            },
            "type": "mesh3d"
           }
          ],
          "parcoords": [
           {
            "line": {
             "colorbar": {
              "outlinewidth": 0,
              "ticks": ""
             }
            },
            "type": "parcoords"
           }
          ],
          "pie": [
           {
            "automargin": true,
            "type": "pie"
           }
          ],
          "scatter": [
           {
            "fillpattern": {
             "fillmode": "overlay",
             "size": 10,
             "solidity": 0.2
            },
            "type": "scatter"
           }
          ],
          "scatter3d": [
           {
            "line": {
             "colorbar": {
              "outlinewidth": 0,
              "ticks": ""
             }
            },
            "marker": {
             "colorbar": {
              "outlinewidth": 0,
              "ticks": ""
             }
            },
            "type": "scatter3d"
           }
          ],
          "scattercarpet": [
           {
            "marker": {
             "colorbar": {
              "outlinewidth": 0,
              "ticks": ""
             }
            },
            "type": "scattercarpet"
           }
          ],
          "scattergeo": [
           {
            "marker": {
             "colorbar": {
              "outlinewidth": 0,
              "ticks": ""
             }
            },
            "type": "scattergeo"
           }
          ],
          "scattergl": [
           {
            "marker": {
             "colorbar": {
              "outlinewidth": 0,
              "ticks": ""
             }
            },
            "type": "scattergl"
           }
          ],
          "scattermapbox": [
           {
            "marker": {
             "colorbar": {
              "outlinewidth": 0,
              "ticks": ""
             }
            },
            "type": "scattermapbox"
           }
          ],
          "scatterpolar": [
           {
            "marker": {
             "colorbar": {
              "outlinewidth": 0,
              "ticks": ""
             }
            },
            "type": "scatterpolar"
           }
          ],
          "scatterpolargl": [
           {
            "marker": {
             "colorbar": {
              "outlinewidth": 0,
              "ticks": ""
             }
            },
            "type": "scatterpolargl"
           }
          ],
          "scatterternary": [
           {
            "marker": {
             "colorbar": {
              "outlinewidth": 0,
              "ticks": ""
             }
            },
            "type": "scatterternary"
           }
          ],
          "surface": [
           {
            "colorbar": {
             "outlinewidth": 0,
             "ticks": ""
            },
            "colorscale": [
             [
              0,
              "#0d0887"
             ],
             [
              0.1111111111111111,
              "#46039f"
             ],
             [
              0.2222222222222222,
              "#7201a8"
             ],
             [
              0.3333333333333333,
              "#9c179e"
             ],
             [
              0.4444444444444444,
              "#bd3786"
             ],
             [
              0.5555555555555556,
              "#d8576b"
             ],
             [
              0.6666666666666666,
              "#ed7953"
             ],
             [
              0.7777777777777778,
              "#fb9f3a"
             ],
             [
              0.8888888888888888,
              "#fdca26"
             ],
             [
              1,
              "#f0f921"
             ]
            ],
            "type": "surface"
           }
          ],
          "table": [
           {
            "cells": {
             "fill": {
              "color": "#EBF0F8"
             },
             "line": {
              "color": "white"
             }
            },
            "header": {
             "fill": {
              "color": "#C8D4E3"
             },
             "line": {
              "color": "white"
             }
            },
            "type": "table"
           }
          ]
         },
         "layout": {
          "annotationdefaults": {
           "arrowcolor": "#2a3f5f",
           "arrowhead": 0,
           "arrowwidth": 1
          },
          "autotypenumbers": "strict",
          "coloraxis": {
           "colorbar": {
            "outlinewidth": 0,
            "ticks": ""
           }
          },
          "colorscale": {
           "diverging": [
            [
             0,
             "#8e0152"
            ],
            [
             0.1,
             "#c51b7d"
            ],
            [
             0.2,
             "#de77ae"
            ],
            [
             0.3,
             "#f1b6da"
            ],
            [
             0.4,
             "#fde0ef"
            ],
            [
             0.5,
             "#f7f7f7"
            ],
            [
             0.6,
             "#e6f5d0"
            ],
            [
             0.7,
             "#b8e186"
            ],
            [
             0.8,
             "#7fbc41"
            ],
            [
             0.9,
             "#4d9221"
            ],
            [
             1,
             "#276419"
            ]
           ],
           "sequential": [
            [
             0,
             "#0d0887"
            ],
            [
             0.1111111111111111,
             "#46039f"
            ],
            [
             0.2222222222222222,
             "#7201a8"
            ],
            [
             0.3333333333333333,
             "#9c179e"
            ],
            [
             0.4444444444444444,
             "#bd3786"
            ],
            [
             0.5555555555555556,
             "#d8576b"
            ],
            [
             0.6666666666666666,
             "#ed7953"
            ],
            [
             0.7777777777777778,
             "#fb9f3a"
            ],
            [
             0.8888888888888888,
             "#fdca26"
            ],
            [
             1,
             "#f0f921"
            ]
           ],
           "sequentialminus": [
            [
             0,
             "#0d0887"
            ],
            [
             0.1111111111111111,
             "#46039f"
            ],
            [
             0.2222222222222222,
             "#7201a8"
            ],
            [
             0.3333333333333333,
             "#9c179e"
            ],
            [
             0.4444444444444444,
             "#bd3786"
            ],
            [
             0.5555555555555556,
             "#d8576b"
            ],
            [
             0.6666666666666666,
             "#ed7953"
            ],
            [
             0.7777777777777778,
             "#fb9f3a"
            ],
            [
             0.8888888888888888,
             "#fdca26"
            ],
            [
             1,
             "#f0f921"
            ]
           ]
          },
          "colorway": [
           "#636efa",
           "#EF553B",
           "#00cc96",
           "#ab63fa",
           "#FFA15A",
           "#19d3f3",
           "#FF6692",
           "#B6E880",
           "#FF97FF",
           "#FECB52"
          ],
          "font": {
           "color": "#2a3f5f"
          },
          "geo": {
           "bgcolor": "white",
           "lakecolor": "white",
           "landcolor": "#E5ECF6",
           "showlakes": true,
           "showland": true,
           "subunitcolor": "white"
          },
          "hoverlabel": {
           "align": "left"
          },
          "hovermode": "closest",
          "mapbox": {
           "style": "light"
          },
          "paper_bgcolor": "white",
          "plot_bgcolor": "#E5ECF6",
          "polar": {
           "angularaxis": {
            "gridcolor": "white",
            "linecolor": "white",
            "ticks": ""
           },
           "bgcolor": "#E5ECF6",
           "radialaxis": {
            "gridcolor": "white",
            "linecolor": "white",
            "ticks": ""
           }
          },
          "scene": {
           "xaxis": {
            "backgroundcolor": "#E5ECF6",
            "gridcolor": "white",
            "gridwidth": 2,
            "linecolor": "white",
            "showbackground": true,
            "ticks": "",
            "zerolinecolor": "white"
           },
           "yaxis": {
            "backgroundcolor": "#E5ECF6",
            "gridcolor": "white",
            "gridwidth": 2,
            "linecolor": "white",
            "showbackground": true,
            "ticks": "",
            "zerolinecolor": "white"
           },
           "zaxis": {
            "backgroundcolor": "#E5ECF6",
            "gridcolor": "white",
            "gridwidth": 2,
            "linecolor": "white",
            "showbackground": true,
            "ticks": "",
            "zerolinecolor": "white"
           }
          },
          "shapedefaults": {
           "line": {
            "color": "#2a3f5f"
           }
          },
          "ternary": {
           "aaxis": {
            "gridcolor": "white",
            "linecolor": "white",
            "ticks": ""
           },
           "baxis": {
            "gridcolor": "white",
            "linecolor": "white",
            "ticks": ""
           },
           "bgcolor": "#E5ECF6",
           "caxis": {
            "gridcolor": "white",
            "linecolor": "white",
            "ticks": ""
           }
          },
          "title": {
           "x": 0.05
          },
          "xaxis": {
           "automargin": true,
           "gridcolor": "white",
           "linecolor": "white",
           "ticks": "",
           "title": {
            "standoff": 15
           },
           "zerolinecolor": "white",
           "zerolinewidth": 2
          },
          "yaxis": {
           "automargin": true,
           "gridcolor": "white",
           "linecolor": "white",
           "ticks": "",
           "title": {
            "standoff": 15
           },
           "zerolinecolor": "white",
           "zerolinewidth": 2
          }
         }
        },
        "title": {
         "text": "Box Plot of total sales by month"
        },
        "xaxis": {
         "anchor": "y",
         "categoryarray": [
          1,
          2,
          3,
          4,
          5,
          6,
          7,
          8,
          9,
          10,
          11,
          12,
          null
         ],
         "categoryorder": "array",
         "domain": [
          0,
          1
         ],
         "title": {
          "text": "MONTH"
         }
        },
        "yaxis": {
         "anchor": "x",
         "domain": [
          0,
          1
         ],
         "title": {
          "text": "TOTAL.SALES"
         }
        }
       }
      }
     },
     "metadata": {},
     "output_type": "display_data"
    }
   ],
   "source": [
    "box = outages[['MONTH','TOTAL.SALES']]\n",
    "px.box(box,x='MONTH',y='TOTAL.SALES',color='MONTH', \n",
    "       title='Box Plot of total sales by month',\n",
    "       category_orders={\"MONTH\": [1,2,3,4,5,6,7,8,9,10,11,12]})"
   ]
  },
  {
   "cell_type": "code",
   "execution_count": 121,
   "metadata": {},
   "outputs": [
    {
     "data": {
      "application/vnd.plotly.v1+json": {
       "config": {
        "plotlyServerURL": "https://plot.ly"
       },
       "data": [
        {
         "alignmentgroup": "True",
         "hovertemplate": "U.S._STATE=%{x}<br>OUTAGE.DURATION=%{y}<extra></extra>",
         "legendgroup": "Minnesota",
         "marker": {
          "color": "#EF553B"
         },
         "name": "Minnesota",
         "notched": false,
         "offsetgroup": "Minnesota",
         "orientation": "v",
         "showlegend": true,
         "type": "box",
         "x": [
          "Minnesota",
          "Minnesota",
          "Minnesota",
          "Minnesota",
          "Minnesota",
          "Minnesota",
          "Minnesota",
          "Minnesota",
          "Minnesota",
          "Minnesota",
          "Minnesota",
          "Minnesota",
          "Minnesota",
          "Minnesota",
          "Minnesota"
         ],
         "x0": " ",
         "xaxis": "x",
         "y": [
          3060,
          1,
          3000,
          2550,
          1740,
          1860,
          2970,
          3960,
          155,
          3621,
          7740,
          8880,
          null,
          1322,
          60
         ],
         "y0": " ",
         "yaxis": "y"
        },
        {
         "alignmentgroup": "True",
         "hovertemplate": "U.S._STATE=%{x}<br>OUTAGE.DURATION=%{y}<extra></extra>",
         "legendgroup": "Tennessee",
         "marker": {
          "color": "#00cc96"
         },
         "name": "Tennessee",
         "notched": false,
         "offsetgroup": "Tennessee",
         "orientation": "v",
         "showlegend": true,
         "type": "box",
         "x": [
          "Tennessee",
          "Tennessee",
          "Tennessee",
          "Tennessee",
          "Tennessee",
          "Tennessee",
          "Tennessee",
          "Tennessee",
          "Tennessee",
          "Tennessee",
          "Tennessee",
          "Tennessee",
          "Tennessee",
          "Tennessee",
          "Tennessee",
          "Tennessee",
          "Tennessee",
          "Tennessee",
          "Tennessee",
          "Tennessee",
          "Tennessee",
          "Tennessee",
          "Tennessee",
          "Tennessee",
          "Tennessee",
          "Tennessee",
          "Tennessee",
          "Tennessee",
          "Tennessee",
          "Tennessee",
          "Tennessee",
          "Tennessee",
          "Tennessee",
          "Tennessee"
         ],
         "x0": " ",
         "xaxis": "x",
         "y": [
          19,
          null,
          21,
          196,
          840,
          935,
          1260,
          null,
          619,
          150,
          762,
          null,
          660,
          1,
          2700,
          1,
          4921,
          95,
          251,
          4125,
          2550,
          null,
          1200,
          310,
          2818,
          5054,
          136,
          528,
          150,
          46,
          1,
          1920,
          null,
          32
         ],
         "y0": " ",
         "yaxis": "y"
        },
        {
         "alignmentgroup": "True",
         "hovertemplate": "U.S._STATE=%{x}<br>OUTAGE.DURATION=%{y}<extra></extra>",
         "legendgroup": "Wisconsin",
         "marker": {
          "color": "#ab63fa"
         },
         "name": "Wisconsin",
         "notched": false,
         "offsetgroup": "Wisconsin",
         "orientation": "v",
         "showlegend": true,
         "type": "box",
         "x": [
          "Wisconsin",
          "Wisconsin",
          "Wisconsin",
          "Wisconsin",
          "Wisconsin",
          "Wisconsin",
          "Wisconsin",
          "Wisconsin",
          "Wisconsin",
          "Wisconsin",
          "Wisconsin",
          "Wisconsin",
          "Wisconsin",
          "Wisconsin",
          "Wisconsin",
          "Wisconsin",
          "Wisconsin",
          "Wisconsin",
          "Wisconsin",
          "Wisconsin"
         ],
         "x0": " ",
         "xaxis": "x",
         "y": [
          null,
          135,
          3000,
          32,
          108653,
          8468,
          960,
          44,
          1605,
          4410,
          388,
          480,
          1219,
          90,
          18660,
          538,
          104,
          60,
          1272,
          60
         ],
         "y0": " ",
         "yaxis": "y"
        },
        {
         "alignmentgroup": "True",
         "hovertemplate": "U.S._STATE=%{x}<br>OUTAGE.DURATION=%{y}<extra></extra>",
         "legendgroup": "West Virginia",
         "marker": {
          "color": "#FFA15A"
         },
         "name": "West Virginia",
         "notched": false,
         "offsetgroup": "West Virginia",
         "orientation": "v",
         "showlegend": true,
         "type": "box",
         "x": [
          "West Virginia",
          "West Virginia",
          "West Virginia",
          "West Virginia"
         ],
         "x0": " ",
         "xaxis": "x",
         "y": [
          1,
          1000,
          17339,
          9576
         ],
         "y0": " ",
         "yaxis": "y"
        },
        {
         "alignmentgroup": "True",
         "hovertemplate": "U.S._STATE=%{x}<br>OUTAGE.DURATION=%{y}<extra></extra>",
         "legendgroup": "Michigan",
         "marker": {
          "color": "#19d3f3"
         },
         "name": "Michigan",
         "notched": false,
         "offsetgroup": "Michigan",
         "orientation": "v",
         "showlegend": true,
         "type": "box",
         "x": [
          "Michigan",
          "Michigan",
          "Michigan",
          "Michigan",
          "Michigan",
          "Michigan",
          "Michigan",
          "Michigan",
          "Michigan",
          "Michigan",
          "Michigan",
          "Michigan",
          "Michigan",
          "Michigan",
          "Michigan",
          "Michigan",
          "Michigan",
          "Michigan",
          "Michigan",
          "Michigan",
          "Michigan",
          "Michigan",
          "Michigan",
          "Michigan",
          "Michigan",
          "Michigan",
          "Michigan",
          "Michigan",
          "Michigan",
          "Michigan",
          "Michigan",
          "Michigan",
          "Michigan",
          "Michigan",
          "Michigan",
          "Michigan",
          "Michigan",
          "Michigan",
          "Michigan",
          "Michigan",
          "Michigan",
          "Michigan",
          "Michigan",
          "Michigan",
          "Michigan",
          "Michigan",
          "Michigan",
          "Michigan",
          "Michigan",
          "Michigan",
          "Michigan",
          "Michigan",
          "Michigan",
          "Michigan",
          "Michigan",
          "Michigan",
          "Michigan",
          "Michigan",
          "Michigan",
          "Michigan",
          "Michigan",
          "Michigan",
          "Michigan",
          "Michigan",
          "Michigan",
          "Michigan",
          "Michigan",
          "Michigan",
          "Michigan",
          "Michigan",
          "Michigan",
          "Michigan",
          "Michigan",
          "Michigan",
          "Michigan",
          "Michigan",
          "Michigan",
          "Michigan",
          "Michigan",
          "Michigan",
          "Michigan",
          "Michigan",
          "Michigan",
          "Michigan",
          "Michigan",
          "Michigan",
          "Michigan",
          "Michigan",
          "Michigan",
          "Michigan",
          "Michigan",
          "Michigan",
          "Michigan",
          "Michigan",
          "Michigan"
         ],
         "x0": " ",
         "xaxis": "x",
         "y": [
          3090,
          6510,
          5820,
          1078,
          1513,
          4830,
          3051,
          4200,
          2085,
          5730,
          4290,
          2670,
          3540,
          3637,
          1710,
          4320,
          3915,
          3120,
          4590,
          7530,
          5034,
          8160,
          3300,
          4320,
          1770,
          9857,
          4080,
          5670,
          5700,
          1995,
          300,
          5115,
          2670,
          7650,
          4338,
          761,
          5760,
          2820,
          4110,
          3360,
          3015,
          232,
          11525,
          6420,
          46080,
          5700,
          5610,
          78377,
          270,
          4050,
          5865,
          1,
          2325,
          4170,
          4485,
          2694,
          168,
          5580,
          705,
          11850,
          3494,
          4560,
          2760,
          5760,
          8922,
          6030,
          7800,
          4242,
          3120,
          5700,
          900,
          1046,
          7620,
          3630,
          1260,
          5840,
          5790,
          2820,
          600,
          4259,
          2939,
          7080,
          3600,
          1588,
          4260,
          2700,
          200,
          8430,
          85,
          9150,
          1019,
          420,
          1140,
          7440,
          4458
         ],
         "y0": " ",
         "yaxis": "y"
        },
        {
         "alignmentgroup": "True",
         "hovertemplate": "U.S._STATE=%{x}<br>OUTAGE.DURATION=%{y}<extra></extra>",
         "legendgroup": "Texas",
         "marker": {
          "color": "#FF6692"
         },
         "name": "Texas",
         "notched": false,
         "offsetgroup": "Texas",
         "orientation": "v",
         "showlegend": true,
         "type": "box",
         "x": [
          "Texas",
          "Texas",
          "Texas",
          "Texas",
          "Texas",
          "Texas",
          "Texas",
          "Texas",
          "Texas",
          "Texas",
          "Texas",
          "Texas",
          "Texas",
          "Texas",
          "Texas",
          "Texas",
          "Texas",
          "Texas",
          "Texas",
          "Texas",
          "Texas",
          "Texas",
          "Texas",
          "Texas",
          "Texas",
          "Texas",
          "Texas",
          "Texas",
          "Texas",
          "Texas",
          "Texas",
          "Texas",
          "Texas",
          "Texas",
          "Texas",
          "Texas",
          "Texas",
          "Texas",
          "Texas",
          "Texas",
          "Texas",
          "Texas",
          "Texas",
          "Texas",
          "Texas",
          "Texas",
          "Texas",
          "Texas",
          "Texas",
          "Texas",
          "Texas",
          "Texas",
          "Texas",
          "Texas",
          "Texas",
          "Texas",
          "Texas",
          "Texas",
          "Texas",
          "Texas",
          "Texas",
          "Texas",
          "Texas",
          "Texas",
          "Texas",
          "Texas",
          "Texas",
          "Texas",
          "Texas",
          "Texas",
          "Texas",
          "Texas",
          "Texas",
          "Texas",
          "Texas",
          "Texas",
          "Texas",
          "Texas",
          "Texas",
          "Texas",
          "Texas",
          "Texas",
          "Texas",
          "Texas",
          "Texas",
          "Texas",
          "Texas",
          "Texas",
          "Texas",
          "Texas",
          "Texas",
          "Texas",
          "Texas",
          "Texas",
          "Texas",
          "Texas",
          "Texas",
          "Texas",
          "Texas",
          "Texas",
          "Texas",
          "Texas",
          "Texas",
          "Texas",
          "Texas",
          "Texas",
          "Texas",
          "Texas",
          "Texas",
          "Texas",
          "Texas",
          "Texas",
          "Texas",
          "Texas",
          "Texas",
          "Texas",
          "Texas",
          "Texas",
          "Texas",
          "Texas",
          "Texas",
          "Texas",
          "Texas",
          "Texas",
          "Texas",
          "Texas",
          "Texas"
         ],
         "x0": " ",
         "xaxis": "x",
         "y": [
          373,
          1203,
          868,
          1455,
          206,
          1195,
          1559,
          900,
          2690,
          5115,
          5,
          189,
          2142,
          360,
          null,
          225,
          2340,
          480,
          9486,
          480,
          3000,
          300,
          3020,
          766,
          null,
          1335,
          197,
          245,
          3255,
          12180,
          1077,
          600,
          186,
          690,
          27698,
          402,
          2420,
          327,
          1,
          1860,
          220,
          455,
          318,
          757,
          847,
          410,
          215,
          5,
          570,
          12124,
          2655,
          20160,
          1440,
          600,
          39,
          181,
          1185,
          1500,
          null,
          271,
          1860,
          1200,
          2159,
          6300,
          null,
          1620,
          224,
          70,
          1697,
          95,
          2220,
          null,
          7809,
          1200,
          121,
          63,
          5595,
          1,
          557,
          240,
          3360,
          685,
          2280,
          210,
          167,
          1920,
          3569,
          3300,
          10,
          1560,
          840,
          240,
          990,
          6000,
          17865,
          1282,
          1080,
          7540,
          1320,
          1110,
          27698,
          130,
          3040,
          394,
          10140,
          20160,
          21540,
          45,
          1,
          1200,
          550,
          900,
          885,
          940,
          null,
          3050,
          1830,
          6000,
          1500,
          150,
          1955,
          2220,
          330,
          74,
          420,
          1440,
          255
         ],
         "y0": " ",
         "yaxis": "y"
        },
        {
         "alignmentgroup": "True",
         "hovertemplate": "U.S._STATE=%{x}<br>OUTAGE.DURATION=%{y}<extra></extra>",
         "legendgroup": "Indiana",
         "marker": {
          "color": "#B6E880"
         },
         "name": "Indiana",
         "notched": false,
         "offsetgroup": "Indiana",
         "orientation": "v",
         "showlegend": true,
         "type": "box",
         "x": [
          "Indiana",
          "Indiana",
          "Indiana",
          "Indiana",
          "Indiana",
          "Indiana",
          "Indiana",
          "Indiana",
          "Indiana",
          "Indiana",
          "Indiana",
          "Indiana",
          "Indiana",
          "Indiana",
          "Indiana",
          "Indiana",
          "Indiana",
          "Indiana",
          "Indiana",
          "Indiana",
          "Indiana",
          "Indiana",
          "Indiana",
          "Indiana",
          "Indiana",
          "Indiana",
          "Indiana",
          "Indiana",
          "Indiana",
          "Indiana",
          "Indiana",
          "Indiana",
          "Indiana",
          "Indiana",
          "Indiana",
          "Indiana",
          "Indiana",
          "Indiana",
          "Indiana",
          "Indiana",
          "Indiana",
          "Indiana",
          "Indiana"
         ],
         "x0": " ",
         "xaxis": "x",
         "y": [
          1060,
          12240,
          5250,
          4320,
          120,
          233,
          null,
          65,
          2120,
          96,
          3,
          4320,
          65,
          2146,
          96,
          4032,
          2580,
          6,
          569,
          null,
          15950,
          200,
          1980,
          4045,
          2730,
          3314,
          7319,
          1,
          47,
          1440,
          276,
          null,
          null,
          3646,
          1130,
          2880,
          513,
          35,
          23773,
          10,
          3872,
          23187,
          12240
         ],
         "y0": " ",
         "yaxis": "y"
        },
        {
         "alignmentgroup": "True",
         "hovertemplate": "U.S._STATE=%{x}<br>OUTAGE.DURATION=%{y}<extra></extra>",
         "legendgroup": "Alabama",
         "marker": {
          "color": "#FF97FF"
         },
         "name": "Alabama",
         "notched": false,
         "offsetgroup": "Alabama",
         "orientation": "v",
         "showlegend": true,
         "type": "box",
         "x": [
          "Alabama",
          "Alabama",
          "Alabama",
          "Alabama",
          "Alabama",
          "Alabama"
         ],
         "x0": " ",
         "xaxis": "x",
         "y": [
          390,
          null,
          3264,
          1230,
          803,
          77
         ],
         "y0": " ",
         "yaxis": "y"
        },
        {
         "alignmentgroup": "True",
         "hovertemplate": "U.S._STATE=%{x}<br>OUTAGE.DURATION=%{y}<extra></extra>",
         "legendgroup": "Mississippi",
         "marker": {
          "color": "#FECB52"
         },
         "name": "Mississippi",
         "notched": false,
         "offsetgroup": "Mississippi",
         "orientation": "v",
         "showlegend": true,
         "type": "box",
         "x": [
          "Mississippi",
          "Mississippi",
          "Mississippi",
          "Mississippi"
         ],
         "x0": " ",
         "xaxis": "x",
         "y": [
          30,
          300,
          1,
          5
         ],
         "y0": " ",
         "yaxis": "y"
        },
        {
         "alignmentgroup": "True",
         "hovertemplate": "U.S._STATE=%{x}<br>OUTAGE.DURATION=%{y}<extra></extra>",
         "legendgroup": "Illinois",
         "marker": {
          "color": "#636efa"
         },
         "name": "Illinois",
         "notched": false,
         "offsetgroup": "Illinois",
         "orientation": "v",
         "showlegend": true,
         "type": "box",
         "x": [
          "Illinois",
          "Illinois",
          "Illinois",
          "Illinois",
          "Illinois",
          "Illinois",
          "Illinois",
          "Illinois",
          "Illinois",
          "Illinois",
          "Illinois",
          "Illinois",
          "Illinois",
          "Illinois",
          "Illinois",
          "Illinois",
          "Illinois",
          "Illinois",
          "Illinois",
          "Illinois",
          "Illinois",
          "Illinois",
          "Illinois",
          "Illinois",
          "Illinois",
          "Illinois",
          "Illinois",
          "Illinois",
          "Illinois",
          "Illinois",
          "Illinois",
          "Illinois",
          "Illinois",
          "Illinois",
          "Illinois",
          "Illinois",
          "Illinois",
          "Illinois",
          "Illinois",
          "Illinois",
          "Illinois",
          "Illinois",
          "Illinois",
          "Illinois",
          "Illinois",
          "Illinois"
         ],
         "x0": " ",
         "xaxis": "x",
         "y": [
          1450,
          2680,
          null,
          7609,
          150,
          3000,
          420,
          479,
          1680,
          2700,
          149,
          1110,
          2790,
          659,
          1320,
          1830,
          3000,
          null,
          870,
          810,
          1336,
          1695,
          360,
          360,
          120,
          3000,
          1290,
          1530,
          2370,
          1200,
          1200,
          90,
          120,
          1200,
          2761,
          720,
          1120,
          2100,
          960,
          450,
          1440,
          1020,
          null,
          2010,
          120,
          9230
         ],
         "y0": " ",
         "yaxis": "y"
        },
        {
         "alignmentgroup": "True",
         "hovertemplate": "U.S._STATE=%{x}<br>OUTAGE.DURATION=%{y}<extra></extra>",
         "legendgroup": "Washington",
         "marker": {
          "color": "#EF553B"
         },
         "name": "Washington",
         "notched": false,
         "offsetgroup": "Washington",
         "orientation": "v",
         "showlegend": true,
         "type": "box",
         "x": [
          "Washington",
          "Washington",
          "Washington",
          "Washington",
          "Washington",
          "Washington",
          "Washington",
          "Washington",
          "Washington",
          "Washington",
          "Washington",
          "Washington",
          "Washington",
          "Washington",
          "Washington",
          "Washington",
          "Washington",
          "Washington",
          "Washington",
          "Washington",
          "Washington",
          "Washington",
          "Washington",
          "Washington",
          "Washington",
          "Washington",
          "Washington",
          "Washington",
          "Washington",
          "Washington",
          "Washington",
          "Washington",
          "Washington",
          "Washington",
          "Washington",
          "Washington",
          "Washington",
          "Washington",
          "Washington",
          "Washington",
          "Washington",
          "Washington",
          "Washington",
          "Washington",
          "Washington",
          "Washington",
          "Washington",
          "Washington",
          "Washington",
          "Washington",
          "Washington",
          "Washington",
          "Washington",
          "Washington",
          "Washington",
          "Washington",
          "Washington",
          "Washington",
          "Washington",
          "Washington",
          "Washington",
          "Washington",
          "Washington",
          "Washington",
          "Washington",
          "Washington",
          "Washington",
          "Washington",
          "Washington",
          "Washington",
          "Washington",
          "Washington",
          "Washington",
          "Washington",
          "Washington",
          "Washington",
          "Washington",
          "Washington",
          "Washington",
          "Washington",
          "Washington",
          "Washington",
          "Washington",
          "Washington",
          "Washington",
          "Washington",
          "Washington",
          "Washington",
          "Washington",
          "Washington",
          "Washington",
          "Washington",
          "Washington",
          "Washington",
          "Washington",
          "Washington",
          "Washington"
         ],
         "x0": " ",
         "xaxis": "x",
         "y": [
          1240,
          465,
          null,
          2460,
          1183,
          8880,
          394,
          219,
          487,
          19,
          28,
          null,
          1,
          5340,
          8940,
          467,
          null,
          1920,
          null,
          25,
          420,
          2040,
          null,
          1,
          1423,
          60,
          1620,
          3300,
          385,
          663,
          123,
          1276,
          1919,
          null,
          440,
          6690,
          null,
          null,
          null,
          717,
          1204,
          292,
          313,
          1,
          5,
          6276,
          null,
          74,
          null,
          null,
          248,
          1,
          2700,
          25,
          126,
          1,
          255,
          1207,
          null,
          null,
          245,
          476,
          null,
          null,
          null,
          1,
          2639,
          502,
          548,
          369,
          6480,
          15,
          5,
          null,
          1,
          null,
          432,
          21,
          1697,
          null,
          2615,
          9630,
          3507,
          2820,
          314,
          5855,
          null,
          null,
          1,
          22769,
          70,
          4285,
          355,
          null,
          2520,
          null,
          180
         ],
         "y0": " ",
         "yaxis": "y"
        },
        {
         "alignmentgroup": "True",
         "hovertemplate": "U.S._STATE=%{x}<br>OUTAGE.DURATION=%{y}<extra></extra>",
         "legendgroup": "Arizona",
         "marker": {
          "color": "#00cc96"
         },
         "name": "Arizona",
         "notched": false,
         "offsetgroup": "Arizona",
         "orientation": "v",
         "showlegend": true,
         "type": "box",
         "x": [
          "Arizona",
          "Arizona",
          "Arizona",
          "Arizona",
          "Arizona",
          "Arizona",
          "Arizona",
          "Arizona",
          "Arizona",
          "Arizona",
          "Arizona",
          "Arizona",
          "Arizona",
          "Arizona",
          "Arizona",
          "Arizona",
          "Arizona",
          "Arizona",
          "Arizona",
          "Arizona",
          "Arizona",
          "Arizona",
          "Arizona",
          "Arizona",
          "Arizona",
          "Arizona",
          "Arizona",
          "Arizona"
         ],
         "x0": " ",
         "xaxis": "x",
         "y": [
          554,
          50,
          70,
          180,
          3842,
          35,
          1,
          189,
          49320,
          4200,
          353,
          1,
          87,
          66,
          null,
          1,
          227,
          null,
          1440,
          1,
          2700,
          null,
          49320,
          2,
          215,
          451,
          418,
          100
         ],
         "y0": " ",
         "yaxis": "y"
        },
        {
         "alignmentgroup": "True",
         "hovertemplate": "U.S._STATE=%{x}<br>OUTAGE.DURATION=%{y}<extra></extra>",
         "legendgroup": "Maryland",
         "marker": {
          "color": "#ab63fa"
         },
         "name": "Maryland",
         "notched": false,
         "offsetgroup": "Maryland",
         "orientation": "v",
         "showlegend": true,
         "type": "box",
         "x": [
          "Maryland",
          "Maryland",
          "Maryland",
          "Maryland",
          "Maryland",
          "Maryland",
          "Maryland",
          "Maryland",
          "Maryland",
          "Maryland",
          "Maryland",
          "Maryland",
          "Maryland",
          "Maryland",
          "Maryland",
          "Maryland",
          "Maryland",
          "Maryland",
          "Maryland",
          "Maryland",
          "Maryland",
          "Maryland",
          "Maryland",
          "Maryland",
          "Maryland",
          "Maryland",
          "Maryland",
          "Maryland",
          "Maryland",
          "Maryland",
          "Maryland",
          "Maryland",
          "Maryland",
          "Maryland",
          "Maryland",
          "Maryland",
          "Maryland",
          "Maryland",
          "Maryland",
          "Maryland",
          "Maryland",
          "Maryland",
          "Maryland",
          "Maryland",
          "Maryland",
          "Maryland",
          "Maryland",
          "Maryland",
          "Maryland",
          "Maryland",
          "Maryland",
          "Maryland",
          "Maryland",
          "Maryland",
          "Maryland",
          "Maryland",
          "Maryland",
          "Maryland"
         ],
         "x0": " ",
         "xaxis": "x",
         "y": [
          2021,
          1671,
          3938,
          4470,
          2279,
          4440,
          2760,
          null,
          1,
          null,
          1,
          1840,
          428,
          331,
          1980,
          1,
          1,
          1950,
          3037,
          1,
          1,
          1196,
          5628,
          1440,
          7700,
          2,
          12890,
          4232,
          95,
          2610,
          4320,
          17,
          113,
          null,
          2507,
          null,
          1,
          4920,
          1,
          4080,
          null,
          960,
          185,
          1320,
          1673,
          2855,
          3060,
          565,
          1,
          1,
          7298,
          5790,
          3040,
          11700,
          7987,
          304,
          4517,
          null
         ],
         "y0": " ",
         "yaxis": "y"
        },
        {
         "alignmentgroup": "True",
         "hovertemplate": "U.S._STATE=%{x}<br>OUTAGE.DURATION=%{y}<extra></extra>",
         "legendgroup": "Pennsylvania",
         "marker": {
          "color": "#FFA15A"
         },
         "name": "Pennsylvania",
         "notched": false,
         "offsetgroup": "Pennsylvania",
         "orientation": "v",
         "showlegend": true,
         "type": "box",
         "x": [
          "Pennsylvania",
          "Pennsylvania",
          "Pennsylvania",
          "Pennsylvania",
          "Pennsylvania",
          "Pennsylvania",
          "Pennsylvania",
          "Pennsylvania",
          "Pennsylvania",
          "Pennsylvania",
          "Pennsylvania",
          "Pennsylvania",
          "Pennsylvania",
          "Pennsylvania",
          "Pennsylvania",
          "Pennsylvania",
          "Pennsylvania",
          "Pennsylvania",
          "Pennsylvania",
          "Pennsylvania",
          "Pennsylvania",
          "Pennsylvania",
          "Pennsylvania",
          "Pennsylvania",
          "Pennsylvania",
          "Pennsylvania",
          "Pennsylvania",
          "Pennsylvania",
          "Pennsylvania",
          "Pennsylvania",
          "Pennsylvania",
          "Pennsylvania",
          "Pennsylvania",
          "Pennsylvania",
          "Pennsylvania",
          "Pennsylvania",
          "Pennsylvania",
          "Pennsylvania",
          "Pennsylvania",
          "Pennsylvania",
          "Pennsylvania",
          "Pennsylvania",
          "Pennsylvania",
          "Pennsylvania",
          "Pennsylvania",
          "Pennsylvania",
          "Pennsylvania",
          "Pennsylvania",
          "Pennsylvania",
          "Pennsylvania",
          "Pennsylvania",
          "Pennsylvania",
          "Pennsylvania",
          "Pennsylvania",
          "Pennsylvania",
          "Pennsylvania",
          "Pennsylvania"
         ],
         "x0": " ",
         "xaxis": "x",
         "y": [
          3058,
          13381,
          2865,
          152,
          380,
          9450,
          7803,
          5579,
          8979,
          4800,
          3060,
          4792,
          3894,
          1757,
          2880,
          2985,
          164,
          3232,
          2319,
          4338,
          2880,
          1714,
          90,
          59,
          4139,
          10530,
          6938,
          930,
          278,
          299,
          5320,
          2880,
          1,
          4260,
          6713,
          5160,
          1440,
          78,
          7523,
          2668,
          1,
          376,
          1324,
          6940,
          2684,
          54,
          100,
          720,
          2880,
          3189,
          2790,
          13679,
          2843,
          13488,
          1642,
          7709,
          7080
         ],
         "y0": " ",
         "yaxis": "y"
        },
        {
         "alignmentgroup": "True",
         "hovertemplate": "U.S._STATE=%{x}<br>OUTAGE.DURATION=%{y}<extra></extra>",
         "legendgroup": "Kentucky",
         "marker": {
          "color": "#19d3f3"
         },
         "name": "Kentucky",
         "notched": false,
         "offsetgroup": "Kentucky",
         "orientation": "v",
         "showlegend": true,
         "type": "box",
         "x": [
          "Kentucky",
          "Kentucky",
          "Kentucky",
          "Kentucky",
          "Kentucky",
          "Kentucky",
          "Kentucky",
          "Kentucky",
          "Kentucky",
          "Kentucky",
          "Kentucky",
          "Kentucky",
          "Kentucky"
         ],
         "x0": " ",
         "xaxis": "x",
         "y": [
          1440,
          1,
          1680,
          1579,
          652,
          108,
          300,
          1020,
          3570,
          6492,
          23700,
          10499,
          15180
         ],
         "y0": " ",
         "yaxis": "y"
        },
        {
         "alignmentgroup": "True",
         "hovertemplate": "U.S._STATE=%{x}<br>OUTAGE.DURATION=%{y}<extra></extra>",
         "legendgroup": "Utah",
         "marker": {
          "color": "#FF6692"
         },
         "name": "Utah",
         "notched": false,
         "offsetgroup": "Utah",
         "orientation": "v",
         "showlegend": true,
         "type": "box",
         "x": [
          "Utah",
          "Utah",
          "Utah",
          "Utah",
          "Utah",
          "Utah",
          "Utah",
          "Utah",
          "Utah",
          "Utah",
          "Utah",
          "Utah",
          "Utah",
          "Utah",
          "Utah",
          "Utah",
          "Utah",
          "Utah",
          "Utah",
          "Utah",
          "Utah",
          "Utah",
          "Utah",
          "Utah",
          "Utah",
          "Utah",
          "Utah",
          "Utah",
          "Utah",
          "Utah",
          "Utah",
          "Utah",
          "Utah",
          "Utah",
          "Utah",
          "Utah",
          "Utah",
          "Utah",
          "Utah",
          "Utah",
          "Utah"
         ],
         "x0": " ",
         "xaxis": "x",
         "y": [
          null,
          120,
          1,
          1,
          1,
          1,
          1,
          1,
          60,
          113,
          204,
          31,
          57,
          13,
          2,
          11,
          283,
          null,
          1,
          871,
          1631,
          56,
          15,
          15,
          20,
          60,
          1,
          95,
          300,
          1,
          3186,
          575,
          2275,
          15,
          1,
          44,
          21,
          1,
          114,
          1,
          60
         ],
         "y0": " ",
         "yaxis": "y"
        },
        {
         "alignmentgroup": "True",
         "hovertemplate": "U.S._STATE=%{x}<br>OUTAGE.DURATION=%{y}<extra></extra>",
         "legendgroup": "Ohio",
         "marker": {
          "color": "#B6E880"
         },
         "name": "Ohio",
         "notched": false,
         "offsetgroup": "Ohio",
         "orientation": "v",
         "showlegend": true,
         "type": "box",
         "x": [
          "Ohio",
          "Ohio",
          "Ohio",
          "Ohio",
          "Ohio",
          "Ohio",
          "Ohio",
          "Ohio",
          "Ohio",
          "Ohio",
          "Ohio",
          "Ohio",
          "Ohio",
          "Ohio",
          "Ohio",
          "Ohio",
          "Ohio",
          "Ohio",
          "Ohio",
          "Ohio",
          "Ohio",
          "Ohio",
          "Ohio",
          "Ohio",
          "Ohio",
          "Ohio",
          "Ohio",
          "Ohio",
          "Ohio",
          "Ohio",
          "Ohio",
          "Ohio",
          "Ohio",
          "Ohio",
          "Ohio",
          "Ohio",
          "Ohio",
          "Ohio",
          "Ohio",
          "Ohio",
          "Ohio",
          "Ohio",
          "Ohio"
         ],
         "x0": " ",
         "xaxis": "x",
         "y": [
          4920,
          null,
          4920,
          420,
          null,
          7,
          21,
          340,
          4200,
          805,
          5040,
          7430,
          5490,
          165,
          3630,
          11640,
          1590,
          3137,
          1440,
          7920,
          360,
          null,
          1440,
          1372,
          6480,
          2190,
          285,
          75,
          1843,
          1,
          11531,
          1420,
          null,
          930,
          11420,
          null,
          352,
          null,
          960,
          1733,
          3690,
          10619,
          634
         ],
         "y0": " ",
         "yaxis": "y"
        },
        {
         "alignmentgroup": "True",
         "hovertemplate": "U.S._STATE=%{x}<br>OUTAGE.DURATION=%{y}<extra></extra>",
         "legendgroup": "North Carolina",
         "marker": {
          "color": "#FF97FF"
         },
         "name": "North Carolina",
         "notched": false,
         "offsetgroup": "North Carolina",
         "orientation": "v",
         "showlegend": true,
         "type": "box",
         "x": [
          "North Carolina",
          "North Carolina",
          "North Carolina",
          "North Carolina",
          "North Carolina",
          "North Carolina",
          "North Carolina",
          "North Carolina",
          "North Carolina",
          "North Carolina",
          "North Carolina",
          "North Carolina",
          "North Carolina",
          "North Carolina",
          "North Carolina",
          "North Carolina",
          "North Carolina",
          "North Carolina",
          "North Carolina",
          "North Carolina",
          "North Carolina",
          "North Carolina",
          "North Carolina",
          "North Carolina",
          "North Carolina",
          "North Carolina",
          "North Carolina",
          "North Carolina",
          "North Carolina",
          "North Carolina",
          "North Carolina",
          "North Carolina",
          "North Carolina",
          "North Carolina",
          "North Carolina",
          "North Carolina",
          "North Carolina",
          "North Carolina",
          "North Carolina",
          "North Carolina"
         ],
         "x0": " ",
         "xaxis": "x",
         "y": [
          11280,
          1440,
          180,
          1574,
          45,
          563,
          388,
          373,
          4510,
          290,
          1950,
          270,
          1355,
          1318,
          2490,
          1265,
          195,
          3120,
          3388,
          1025,
          990,
          240,
          1485,
          129,
          null,
          1528,
          1890,
          2551,
          985,
          405,
          1698,
          167,
          1460,
          182,
          4113,
          null,
          885,
          15,
          42,
          1050
         ],
         "y0": " ",
         "yaxis": "y"
        },
        {
         "alignmentgroup": "True",
         "hovertemplate": "U.S._STATE=%{x}<br>OUTAGE.DURATION=%{y}<extra></extra>",
         "legendgroup": "New Jersey",
         "marker": {
          "color": "#FECB52"
         },
         "name": "New Jersey",
         "notched": false,
         "offsetgroup": "New Jersey",
         "orientation": "v",
         "showlegend": true,
         "type": "box",
         "x": [
          "New Jersey",
          "New Jersey",
          "New Jersey",
          "New Jersey",
          "New Jersey",
          "New Jersey",
          "New Jersey",
          "New Jersey",
          "New Jersey",
          "New Jersey",
          "New Jersey",
          "New Jersey",
          "New Jersey",
          "New Jersey",
          "New Jersey",
          "New Jersey",
          "New Jersey",
          "New Jersey",
          "New Jersey",
          "New Jersey",
          "New Jersey",
          "New Jersey",
          "New Jersey",
          "New Jersey",
          "New Jersey",
          "New Jersey",
          "New Jersey",
          "New Jersey",
          "New Jersey",
          "New Jersey",
          "New Jersey",
          "New Jersey",
          "New Jersey",
          "New Jersey",
          "New Jersey"
         ],
         "x0": " ",
         "xaxis": "x",
         "y": [
          1,
          132,
          4140,
          2880,
          null,
          11430,
          3599,
          null,
          2941,
          null,
          6090,
          1365,
          375,
          2520,
          10080,
          76,
          null,
          3720,
          333,
          null,
          353,
          11337,
          null,
          null,
          7020,
          11058,
          null,
          9360,
          3300,
          3339,
          2880,
          11580,
          9600,
          13201,
          9719
         ],
         "y0": " ",
         "yaxis": "y"
        },
        {
         "alignmentgroup": "True",
         "hovertemplate": "U.S._STATE=%{x}<br>OUTAGE.DURATION=%{y}<extra></extra>",
         "legendgroup": "South Carolina",
         "marker": {
          "color": "#636efa"
         },
         "name": "South Carolina",
         "notched": false,
         "offsetgroup": "South Carolina",
         "orientation": "v",
         "showlegend": true,
         "type": "box",
         "x": [
          "South Carolina",
          "South Carolina",
          "South Carolina",
          "South Carolina",
          "South Carolina",
          "South Carolina",
          "South Carolina",
          "South Carolina"
         ],
         "x0": " ",
         "xaxis": "x",
         "y": [
          488,
          2415,
          180,
          4177,
          7440,
          3480,
          6600,
          300
         ],
         "y0": " ",
         "yaxis": "y"
        },
        {
         "alignmentgroup": "True",
         "hovertemplate": "U.S._STATE=%{x}<br>OUTAGE.DURATION=%{y}<extra></extra>",
         "legendgroup": "Oregon",
         "marker": {
          "color": "#EF553B"
         },
         "name": "Oregon",
         "notched": false,
         "offsetgroup": "Oregon",
         "orientation": "v",
         "showlegend": true,
         "type": "box",
         "x": [
          "Oregon",
          "Oregon",
          "Oregon",
          "Oregon",
          "Oregon",
          "Oregon",
          "Oregon",
          "Oregon",
          "Oregon",
          "Oregon",
          "Oregon",
          "Oregon",
          "Oregon",
          "Oregon",
          "Oregon",
          "Oregon",
          "Oregon",
          "Oregon",
          "Oregon",
          "Oregon",
          "Oregon",
          "Oregon",
          "Oregon",
          "Oregon",
          "Oregon",
          "Oregon"
         ],
         "x0": " ",
         "xaxis": "x",
         "y": [
          1526,
          60,
          210,
          2,
          1350,
          73,
          1,
          200,
          null,
          null,
          4380,
          null,
          120,
          2680,
          840,
          989,
          4313,
          214,
          4,
          164,
          91,
          1050,
          838,
          60,
          1,
          1
         ],
         "y0": " ",
         "yaxis": "y"
        },
        {
         "alignmentgroup": "True",
         "hovertemplate": "U.S._STATE=%{x}<br>OUTAGE.DURATION=%{y}<extra></extra>",
         "legendgroup": "District of Columbia",
         "marker": {
          "color": "#00cc96"
         },
         "name": "District of Columbia",
         "notched": false,
         "offsetgroup": "District of Columbia",
         "orientation": "v",
         "showlegend": true,
         "type": "box",
         "x": [
          "District of Columbia",
          "District of Columbia",
          "District of Columbia",
          "District of Columbia",
          "District of Columbia",
          "District of Columbia",
          "District of Columbia",
          "District of Columbia",
          "District of Columbia",
          "District of Columbia"
         ],
         "x0": " ",
         "xaxis": "x",
         "y": [
          9886,
          2425,
          390,
          14500,
          6660,
          159,
          54,
          30,
          8077,
          855
         ],
         "y0": " ",
         "yaxis": "y"
        },
        {
         "alignmentgroup": "True",
         "hovertemplate": "U.S._STATE=%{x}<br>OUTAGE.DURATION=%{y}<extra></extra>",
         "legendgroup": "Missouri",
         "marker": {
          "color": "#ab63fa"
         },
         "name": "Missouri",
         "notched": false,
         "offsetgroup": "Missouri",
         "orientation": "v",
         "showlegend": true,
         "type": "box",
         "x": [
          "Missouri",
          "Missouri",
          "Missouri",
          "Missouri",
          "Missouri",
          "Missouri",
          "Missouri",
          "Missouri",
          "Missouri",
          "Missouri",
          "Missouri",
          "Missouri",
          "Missouri",
          "Missouri",
          "Missouri",
          "Missouri",
          "Missouri"
         ],
         "x0": " ",
         "xaxis": "x",
         "y": [
          65,
          810,
          4150,
          4740,
          25,
          null,
          null,
          2070,
          870,
          12652,
          2880,
          120,
          1199,
          null,
          1470,
          4140,
          15420
         ],
         "y0": " ",
         "yaxis": "y"
        },
        {
         "alignmentgroup": "True",
         "hovertemplate": "U.S._STATE=%{x}<br>OUTAGE.DURATION=%{y}<extra></extra>",
         "legendgroup": "Delaware",
         "marker": {
          "color": "#FFA15A"
         },
         "name": "Delaware",
         "notched": false,
         "offsetgroup": "Delaware",
         "orientation": "v",
         "showlegend": true,
         "type": "box",
         "x": [
          "Delaware",
          "Delaware",
          "Delaware",
          "Delaware",
          "Delaware",
          "Delaware",
          "Delaware",
          "Delaware",
          "Delaware",
          "Delaware",
          "Delaware",
          "Delaware",
          "Delaware",
          "Delaware",
          "Delaware",
          "Delaware",
          "Delaware",
          "Delaware",
          "Delaware",
          "Delaware",
          "Delaware",
          "Delaware",
          "Delaware",
          "Delaware",
          "Delaware",
          "Delaware",
          "Delaware",
          "Delaware",
          "Delaware",
          "Delaware",
          "Delaware",
          "Delaware",
          "Delaware",
          "Delaware",
          "Delaware",
          "Delaware",
          "Delaware",
          "Delaware",
          "Delaware",
          "Delaware",
          "Delaware"
         ],
         "x0": " ",
         "xaxis": "x",
         "y": [
          50,
          null,
          1,
          1,
          null,
          null,
          null,
          457,
          1,
          1,
          null,
          30,
          1,
          1,
          65,
          1,
          null,
          null,
          null,
          1,
          null,
          1,
          null,
          1,
          1,
          110,
          39,
          1,
          1,
          1,
          1,
          1,
          1,
          507,
          213,
          4254,
          1,
          1,
          53,
          null,
          null
         ],
         "y0": " ",
         "yaxis": "y"
        },
        {
         "alignmentgroup": "True",
         "hovertemplate": "U.S._STATE=%{x}<br>OUTAGE.DURATION=%{y}<extra></extra>",
         "legendgroup": "Iowa",
         "marker": {
          "color": "#19d3f3"
         },
         "name": "Iowa",
         "notched": false,
         "offsetgroup": "Iowa",
         "orientation": "v",
         "showlegend": true,
         "type": "box",
         "x": [
          "Iowa",
          "Iowa",
          "Iowa",
          "Iowa",
          "Iowa",
          "Iowa",
          "Iowa",
          "Iowa"
         ],
         "x0": " ",
         "xaxis": "x",
         "y": [
          251,
          347,
          1637,
          21360,
          2161,
          2880,
          1044,
          8670
         ],
         "y0": " ",
         "yaxis": "y"
        },
        {
         "alignmentgroup": "True",
         "hovertemplate": "U.S._STATE=%{x}<br>OUTAGE.DURATION=%{y}<extra></extra>",
         "legendgroup": "Montana",
         "marker": {
          "color": "#FF6692"
         },
         "name": "Montana",
         "notched": false,
         "offsetgroup": "Montana",
         "orientation": "v",
         "showlegend": true,
         "type": "box",
         "x": [
          "Montana",
          "Montana",
          "Montana"
         ],
         "x0": " ",
         "xaxis": "x",
         "y": [
          56,
          93,
          13
         ],
         "y0": " ",
         "yaxis": "y"
        },
        {
         "alignmentgroup": "True",
         "hovertemplate": "U.S._STATE=%{x}<br>OUTAGE.DURATION=%{y}<extra></extra>",
         "legendgroup": "New York",
         "marker": {
          "color": "#B6E880"
         },
         "name": "New York",
         "notched": false,
         "offsetgroup": "New York",
         "orientation": "v",
         "showlegend": true,
         "type": "box",
         "x": [
          "New York",
          "New York",
          "New York",
          "New York",
          "New York",
          "New York",
          "New York",
          "New York",
          "New York",
          "New York",
          "New York",
          "New York",
          "New York",
          "New York",
          "New York",
          "New York",
          "New York",
          "New York",
          "New York",
          "New York",
          "New York",
          "New York",
          "New York",
          "New York",
          "New York",
          "New York",
          "New York",
          "New York",
          "New York",
          "New York",
          "New York",
          "New York",
          "New York",
          "New York",
          "New York",
          "New York",
          "New York",
          "New York",
          "New York",
          "New York",
          "New York",
          "New York",
          "New York",
          "New York",
          "New York",
          "New York",
          "New York",
          "New York",
          "New York",
          "New York",
          "New York",
          "New York",
          "New York",
          "New York",
          "New York",
          "New York",
          "New York",
          "New York",
          "New York",
          "New York",
          "New York",
          "New York",
          "New York",
          "New York",
          "New York",
          "New York",
          "New York",
          "New York",
          "New York",
          "New York",
          "New York"
         ],
         "x0": " ",
         "xaxis": "x",
         "y": [
          2089,
          20280,
          14639,
          2880,
          681,
          494,
          1,
          5355,
          null,
          3943,
          3300,
          191,
          null,
          73,
          4680,
          17310,
          10080,
          10726,
          1,
          5,
          2515,
          25920,
          2730,
          9480,
          5400,
          30,
          3584,
          3600,
          5850,
          4710,
          1,
          1732,
          null,
          23040,
          1800,
          6074,
          null,
          49,
          2299,
          5760,
          420,
          7320,
          2880,
          448,
          2520,
          18717,
          5513,
          21,
          2100,
          3120,
          8221,
          3240,
          2880,
          255,
          2355,
          161,
          50,
          258,
          13140,
          8640,
          18240,
          15492,
          8268,
          null,
          300,
          14400,
          7962,
          2400,
          11296,
          48,
          60480
         ],
         "y0": " ",
         "yaxis": "y"
        },
        {
         "alignmentgroup": "True",
         "hovertemplate": "U.S._STATE=%{x}<br>OUTAGE.DURATION=%{y}<extra></extra>",
         "legendgroup": "Louisiana",
         "marker": {
          "color": "#FF97FF"
         },
         "name": "Louisiana",
         "notched": false,
         "offsetgroup": "Louisiana",
         "orientation": "v",
         "showlegend": true,
         "type": "box",
         "x": [
          "Louisiana",
          "Louisiana",
          "Louisiana",
          "Louisiana",
          "Louisiana",
          "Louisiana",
          "Louisiana",
          "Louisiana",
          "Louisiana",
          "Louisiana",
          "Louisiana",
          "Louisiana",
          "Louisiana",
          "Louisiana",
          "Louisiana",
          "Louisiana",
          "Louisiana",
          "Louisiana",
          "Louisiana",
          "Louisiana",
          "Louisiana",
          "Louisiana",
          "Louisiana",
          "Louisiana",
          "Louisiana",
          "Louisiana",
          "Louisiana",
          "Louisiana",
          "Louisiana",
          "Louisiana",
          "Louisiana",
          "Louisiana",
          "Louisiana",
          "Louisiana",
          "Louisiana",
          "Louisiana",
          "Louisiana",
          "Louisiana",
          "Louisiana",
          "Louisiana"
         ],
         "x0": " ",
         "xaxis": "x",
         "y": [
          28170,
          300,
          8054,
          2775,
          2775,
          2160,
          2100,
          2775,
          3180,
          2775,
          1440,
          430,
          2129,
          1755,
          null,
          692,
          732,
          7,
          510,
          420,
          13215,
          557,
          300,
          17812,
          20416,
          6240,
          467,
          3067,
          3060,
          355,
          430,
          300,
          227,
          52,
          null,
          2880,
          18804,
          1867,
          1690,
          295
         ],
         "y0": " ",
         "yaxis": "y"
        },
        {
         "alignmentgroup": "True",
         "hovertemplate": "U.S._STATE=%{x}<br>OUTAGE.DURATION=%{y}<extra></extra>",
         "legendgroup": "Florida",
         "marker": {
          "color": "#FECB52"
         },
         "name": "Florida",
         "notched": false,
         "offsetgroup": "Florida",
         "orientation": "v",
         "showlegend": true,
         "type": "box",
         "x": [
          "Florida",
          "Florida",
          "Florida",
          "Florida",
          "Florida",
          "Florida",
          "Florida",
          "Florida",
          "Florida",
          "Florida",
          "Florida",
          "Florida",
          "Florida",
          "Florida",
          "Florida",
          "Florida",
          "Florida",
          "Florida",
          "Florida",
          "Florida",
          "Florida",
          "Florida",
          "Florida",
          "Florida",
          "Florida",
          "Florida",
          "Florida",
          "Florida",
          "Florida",
          "Florida",
          "Florida",
          "Florida",
          "Florida",
          "Florida",
          "Florida",
          "Florida",
          "Florida",
          "Florida",
          "Florida",
          "Florida",
          "Florida",
          "Florida",
          "Florida",
          "Florida",
          "Florida"
         ],
         "x0": " ",
         "xaxis": "x",
         "y": [
          17,
          240,
          17520,
          8189,
          182,
          5820,
          83,
          230,
          2009,
          720,
          155,
          4320,
          4320,
          480,
          1005,
          221,
          372,
          13430,
          4320,
          91,
          1419,
          3600,
          10080,
          5071,
          152,
          6840,
          221,
          24780,
          38,
          61,
          7560,
          90,
          10380,
          396,
          2040,
          12060,
          1080,
          1680,
          13920,
          14101,
          1099,
          2460,
          540,
          52,
          816
         ],
         "y0": " ",
         "yaxis": "y"
        },
        {
         "alignmentgroup": "True",
         "hovertemplate": "U.S._STATE=%{x}<br>OUTAGE.DURATION=%{y}<extra></extra>",
         "legendgroup": "California",
         "marker": {
          "color": "#636efa"
         },
         "name": "California",
         "notched": false,
         "offsetgroup": "California",
         "orientation": "v",
         "showlegend": true,
         "type": "box",
         "x": [
          "California",
          "California",
          "California",
          "California",
          "California",
          "California",
          "California",
          "California",
          "California",
          "California",
          "California",
          "California",
          "California",
          "California",
          "California",
          "California",
          "California",
          "California",
          "California",
          "California",
          "California",
          "California",
          "California",
          "California",
          "California",
          "California",
          "California",
          "California",
          "California",
          "California",
          "California",
          "California",
          "California",
          "California",
          "California",
          "California",
          "California",
          "California",
          "California",
          "California",
          "California",
          "California",
          "California",
          "California",
          "California",
          "California",
          "California",
          "California",
          "California",
          "California",
          "California",
          "California",
          "California",
          "California",
          "California",
          "California",
          "California",
          "California",
          "California",
          "California",
          "California",
          "California",
          "California",
          "California",
          "California",
          "California",
          "California",
          "California",
          "California",
          "California",
          "California",
          "California",
          "California",
          "California",
          "California",
          "California",
          "California",
          "California",
          "California",
          "California",
          "California",
          "California",
          "California",
          "California",
          "California",
          "California",
          "California",
          "California",
          "California",
          "California",
          "California",
          "California",
          "California",
          "California",
          "California",
          "California",
          "California",
          "California",
          "California",
          "California",
          "California",
          "California",
          "California",
          "California",
          "California",
          "California",
          "California",
          "California",
          "California",
          "California",
          "California",
          "California",
          "California",
          "California",
          "California",
          "California",
          "California",
          "California",
          "California",
          "California",
          "California",
          "California",
          "California",
          "California",
          "California",
          "California",
          "California",
          "California",
          "California",
          "California",
          "California",
          "California",
          "California",
          "California",
          "California",
          "California",
          "California",
          "California",
          "California",
          "California",
          "California",
          "California",
          "California",
          "California",
          "California",
          "California",
          "California",
          "California",
          "California",
          "California",
          "California",
          "California",
          "California",
          "California",
          "California",
          "California",
          "California",
          "California",
          "California",
          "California",
          "California",
          "California",
          "California",
          "California",
          "California",
          "California",
          "California",
          "California",
          "California",
          "California",
          "California",
          "California",
          "California",
          "California",
          "California",
          "California",
          "California",
          "California",
          "California",
          "California",
          "California",
          "California",
          "California",
          "California",
          "California",
          "California",
          "California",
          "California",
          "California",
          "California",
          "California",
          "California",
          "California",
          "California",
          "California",
          "California",
          "California",
          "California",
          "California",
          "California",
          "California",
          "California",
          "California",
          "California",
          "California",
          "California",
          "California",
          "California",
          "California",
          "California"
         ],
         "x0": " ",
         "xaxis": "x",
         "y": [
          420,
          155,
          437,
          247,
          540,
          1135,
          437,
          180,
          171,
          656,
          84,
          202,
          255,
          1054,
          1,
          1254,
          1456,
          177,
          106,
          32,
          2464,
          55,
          144,
          70,
          64,
          8873,
          945,
          null,
          523,
          56,
          3,
          8472,
          155,
          33,
          749,
          159,
          null,
          270,
          2790,
          224,
          1470,
          334,
          2050,
          370,
          26,
          797,
          12,
          195,
          1,
          230,
          125,
          15,
          316,
          365,
          1560,
          4740,
          294,
          455,
          2878,
          336,
          295,
          480,
          25,
          null,
          223,
          2645,
          2016,
          7371,
          360,
          3408,
          3698,
          4890,
          1,
          871,
          2759,
          250,
          3301,
          249,
          164,
          435,
          420,
          854,
          5160,
          133,
          15180,
          2055,
          451,
          140,
          199,
          721,
          179,
          1524,
          78,
          268,
          39,
          1,
          14190,
          47,
          161,
          900,
          6070,
          697,
          234,
          14,
          5910,
          null,
          34390,
          40,
          166,
          182,
          829,
          15,
          64,
          13,
          245,
          1080,
          null,
          390,
          47,
          269,
          null,
          400,
          660,
          213,
          null,
          761,
          8100,
          180,
          124,
          4320,
          2820,
          3100,
          49427,
          989,
          125,
          44,
          26,
          245,
          null,
          98,
          1,
          null,
          135,
          50,
          1008,
          53,
          554,
          1260,
          2895,
          89,
          98,
          865,
          128,
          230,
          252,
          130,
          5,
          157,
          6914,
          11,
          13,
          2880,
          270,
          962,
          47,
          null,
          20,
          108,
          9855,
          75,
          17,
          21,
          1950,
          11867,
          141,
          959,
          1035,
          617,
          1230,
          572,
          324,
          1835,
          6780,
          900,
          null,
          37,
          72,
          1,
          251,
          620,
          89,
          909,
          236,
          326,
          300,
          751,
          122,
          214,
          193,
          8,
          5227,
          null,
          1414,
          448,
          4605,
          4080,
          null,
          1914,
          759,
          1
         ],
         "y0": " ",
         "yaxis": "y"
        },
        {
         "alignmentgroup": "True",
         "hovertemplate": "U.S._STATE=%{x}<br>OUTAGE.DURATION=%{y}<extra></extra>",
         "legendgroup": "Arkansas",
         "marker": {
          "color": "#EF553B"
         },
         "name": "Arkansas",
         "notched": false,
         "offsetgroup": "Arkansas",
         "orientation": "v",
         "showlegend": true,
         "type": "box",
         "x": [
          "Arkansas",
          "Arkansas",
          "Arkansas",
          "Arkansas",
          "Arkansas",
          "Arkansas",
          "Arkansas",
          "Arkansas",
          "Arkansas",
          "Arkansas",
          "Arkansas",
          "Arkansas",
          "Arkansas",
          "Arkansas",
          "Arkansas",
          "Arkansas",
          "Arkansas",
          "Arkansas",
          "Arkansas",
          "Arkansas",
          "Arkansas",
          "Arkansas",
          "Arkansas",
          "Arkansas",
          "Arkansas"
         ],
         "x0": " ",
         "xaxis": "x",
         "y": [
          10274,
          3,
          2700,
          105,
          240,
          210,
          1,
          1201,
          30,
          2806,
          1226,
          300,
          206,
          270,
          2880,
          513,
          8160,
          3314,
          414,
          126,
          60,
          285,
          110,
          62,
          2363
         ],
         "y0": " ",
         "yaxis": "y"
        },
        {
         "alignmentgroup": "True",
         "hovertemplate": "U.S._STATE=%{x}<br>OUTAGE.DURATION=%{y}<extra></extra>",
         "legendgroup": "Virginia",
         "marker": {
          "color": "#00cc96"
         },
         "name": "Virginia",
         "notched": false,
         "offsetgroup": "Virginia",
         "orientation": "v",
         "showlegend": true,
         "type": "box",
         "x": [
          "Virginia",
          "Virginia",
          "Virginia",
          "Virginia",
          "Virginia",
          "Virginia",
          "Virginia",
          "Virginia",
          "Virginia",
          "Virginia",
          "Virginia",
          "Virginia",
          "Virginia",
          "Virginia",
          "Virginia",
          "Virginia",
          "Virginia",
          "Virginia",
          "Virginia",
          "Virginia",
          "Virginia",
          "Virginia",
          "Virginia",
          "Virginia",
          "Virginia",
          "Virginia",
          "Virginia",
          "Virginia",
          "Virginia",
          "Virginia",
          "Virginia",
          "Virginia",
          "Virginia",
          "Virginia",
          "Virginia",
          "Virginia",
          "Virginia"
         ],
         "x0": " ",
         "xaxis": "x",
         "y": [
          424,
          180,
          null,
          448,
          2,
          624,
          2435,
          131,
          null,
          208,
          103,
          1355,
          1523,
          90,
          1205,
          385,
          144,
          235,
          241,
          6787,
          1337,
          1673,
          3366,
          2640,
          1826,
          570,
          1565,
          2691,
          1072,
          115,
          816,
          168,
          30,
          160,
          485,
          1508,
          1301
         ],
         "y0": " ",
         "yaxis": "y"
        },
        {
         "alignmentgroup": "True",
         "hovertemplate": "U.S._STATE=%{x}<br>OUTAGE.DURATION=%{y}<extra></extra>",
         "legendgroup": "Nebraska",
         "marker": {
          "color": "#ab63fa"
         },
         "name": "Nebraska",
         "notched": false,
         "offsetgroup": "Nebraska",
         "orientation": "v",
         "showlegend": true,
         "type": "box",
         "x": [
          "Nebraska",
          "Nebraska",
          "Nebraska",
          "Nebraska"
         ],
         "x0": " ",
         "xaxis": "x",
         "y": [
          159,
          60,
          4,
          9600
         ],
         "y0": " ",
         "yaxis": "y"
        },
        {
         "alignmentgroup": "True",
         "hovertemplate": "U.S._STATE=%{x}<br>OUTAGE.DURATION=%{y}<extra></extra>",
         "legendgroup": "Wyoming",
         "marker": {
          "color": "#FFA15A"
         },
         "name": "Wyoming",
         "notched": false,
         "offsetgroup": "Wyoming",
         "orientation": "v",
         "showlegend": true,
         "type": "box",
         "x": [
          "Wyoming",
          "Wyoming",
          "Wyoming",
          "Wyoming",
          "Wyoming",
          "Wyoming"
         ],
         "x0": " ",
         "xaxis": "x",
         "y": [
          106,
          null,
          null,
          1,
          32,
          61
         ],
         "y0": " ",
         "yaxis": "y"
        },
        {
         "alignmentgroup": "True",
         "hovertemplate": "U.S._STATE=%{x}<br>OUTAGE.DURATION=%{y}<extra></extra>",
         "legendgroup": "New Mexico",
         "marker": {
          "color": "#19d3f3"
         },
         "name": "New Mexico",
         "notched": false,
         "offsetgroup": "New Mexico",
         "orientation": "v",
         "showlegend": true,
         "type": "box",
         "x": [
          "New Mexico",
          "New Mexico",
          "New Mexico",
          "New Mexico",
          "New Mexico",
          "New Mexico",
          "New Mexico",
          "New Mexico"
         ],
         "x0": " ",
         "xaxis": "x",
         "y": [
          314,
          30,
          null,
          92,
          390,
          161,
          60,
          76
         ],
         "y0": " ",
         "yaxis": "y"
        },
        {
         "alignmentgroup": "True",
         "hovertemplate": "U.S._STATE=%{x}<br>OUTAGE.DURATION=%{y}<extra></extra>",
         "legendgroup": "Vermont",
         "marker": {
          "color": "#FF6692"
         },
         "name": "Vermont",
         "notched": false,
         "offsetgroup": "Vermont",
         "orientation": "v",
         "showlegend": true,
         "type": "box",
         "x": [
          "Vermont",
          "Vermont",
          "Vermont",
          "Vermont",
          "Vermont",
          "Vermont",
          "Vermont",
          "Vermont",
          "Vermont"
         ],
         "x0": " ",
         "xaxis": "x",
         "y": [
          1,
          1,
          160,
          20,
          1,
          1,
          70,
          50,
          15
         ],
         "y0": " ",
         "yaxis": "y"
        },
        {
         "alignmentgroup": "True",
         "hovertemplate": "U.S._STATE=%{x}<br>OUTAGE.DURATION=%{y}<extra></extra>",
         "legendgroup": "Georgia",
         "marker": {
          "color": "#B6E880"
         },
         "name": "Georgia",
         "notched": false,
         "offsetgroup": "Georgia",
         "orientation": "v",
         "showlegend": true,
         "type": "box",
         "x": [
          "Georgia",
          "Georgia",
          "Georgia",
          "Georgia",
          "Georgia",
          "Georgia",
          "Georgia",
          "Georgia",
          "Georgia",
          "Georgia",
          "Georgia",
          "Georgia",
          "Georgia",
          "Georgia",
          "Georgia",
          "Georgia",
          "Georgia"
         ],
         "x0": " ",
         "xaxis": "x",
         "y": [
          810,
          1380,
          1800,
          1560,
          2054,
          1452,
          1865,
          1999,
          120,
          1950,
          360,
          1087,
          1200,
          4122,
          360,
          645,
          108
         ],
         "y0": " ",
         "yaxis": "y"
        },
        {
         "alignmentgroup": "True",
         "hovertemplate": "U.S._STATE=%{x}<br>OUTAGE.DURATION=%{y}<extra></extra>",
         "legendgroup": "Connecticut",
         "marker": {
          "color": "#FF97FF"
         },
         "name": "Connecticut",
         "notched": false,
         "offsetgroup": "Connecticut",
         "orientation": "v",
         "showlegend": true,
         "type": "box",
         "x": [
          "Connecticut",
          "Connecticut",
          "Connecticut",
          "Connecticut",
          "Connecticut",
          "Connecticut",
          "Connecticut",
          "Connecticut",
          "Connecticut",
          "Connecticut",
          "Connecticut",
          "Connecticut",
          "Connecticut",
          "Connecticut",
          "Connecticut",
          "Connecticut",
          "Connecticut",
          "Connecticut"
         ],
         "x0": " ",
         "xaxis": "x",
         "y": [
          null,
          1,
          1440,
          4560,
          1,
          1,
          110,
          210,
          120,
          null,
          4260,
          76,
          210,
          3305,
          5880,
          145,
          60,
          2640
         ],
         "y0": " ",
         "yaxis": "y"
        },
        {
         "alignmentgroup": "True",
         "hovertemplate": "U.S._STATE=%{x}<br>OUTAGE.DURATION=%{y}<extra></extra>",
         "legendgroup": "Oklahoma",
         "marker": {
          "color": "#FECB52"
         },
         "name": "Oklahoma",
         "notched": false,
         "offsetgroup": "Oklahoma",
         "orientation": "v",
         "showlegend": true,
         "type": "box",
         "x": [
          "Oklahoma",
          "Oklahoma",
          "Oklahoma",
          "Oklahoma",
          "Oklahoma",
          "Oklahoma",
          "Oklahoma",
          "Oklahoma",
          "Oklahoma",
          "Oklahoma",
          "Oklahoma",
          "Oklahoma",
          "Oklahoma",
          "Oklahoma",
          "Oklahoma",
          "Oklahoma",
          "Oklahoma",
          "Oklahoma",
          "Oklahoma",
          "Oklahoma",
          "Oklahoma",
          "Oklahoma",
          "Oklahoma",
          "Oklahoma"
         ],
         "x0": " ",
         "xaxis": "x",
         "y": [
          1042,
          110,
          11880,
          2245,
          984,
          7200,
          1381,
          148,
          13972,
          null,
          796,
          300,
          null,
          2612,
          3000,
          431,
          5310,
          1732,
          null,
          6685,
          3300,
          280,
          117,
          2895
         ],
         "y0": " ",
         "yaxis": "y"
        },
        {
         "alignmentgroup": "True",
         "hovertemplate": "U.S._STATE=%{x}<br>OUTAGE.DURATION=%{y}<extra></extra>",
         "legendgroup": "Massachusetts",
         "marker": {
          "color": "#636efa"
         },
         "name": "Massachusetts",
         "notched": false,
         "offsetgroup": "Massachusetts",
         "orientation": "v",
         "showlegend": true,
         "type": "box",
         "x": [
          "Massachusetts",
          "Massachusetts",
          "Massachusetts",
          "Massachusetts",
          "Massachusetts",
          "Massachusetts",
          "Massachusetts",
          "Massachusetts",
          "Massachusetts",
          "Massachusetts",
          "Massachusetts",
          "Massachusetts",
          "Massachusetts",
          "Massachusetts",
          "Massachusetts",
          "Massachusetts",
          "Massachusetts",
          "Massachusetts"
         ],
         "x0": " ",
         "xaxis": "x",
         "y": [
          480,
          31,
          1,
          null,
          null,
          103,
          4745,
          307,
          1656,
          3525,
          374,
          1068,
          1569,
          114,
          115,
          15,
          2891,
          1
         ],
         "y0": " ",
         "yaxis": "y"
        },
        {
         "alignmentgroup": "True",
         "hovertemplate": "U.S._STATE=%{x}<br>OUTAGE.DURATION=%{y}<extra></extra>",
         "legendgroup": "Maine",
         "marker": {
          "color": "#EF553B"
         },
         "name": "Maine",
         "notched": false,
         "offsetgroup": "Maine",
         "orientation": "v",
         "showlegend": true,
         "type": "box",
         "x": [
          "Maine",
          "Maine",
          "Maine",
          "Maine",
          "Maine",
          "Maine",
          "Maine",
          "Maine",
          "Maine",
          "Maine",
          "Maine",
          "Maine",
          "Maine",
          "Maine",
          "Maine",
          "Maine",
          "Maine",
          "Maine",
          "Maine"
         ],
         "x0": " ",
         "xaxis": "x",
         "y": [
          1676,
          null,
          null,
          3604,
          195,
          1,
          null,
          2108,
          198,
          3667,
          1037,
          673,
          null,
          2652,
          300,
          881,
          618,
          1187,
          950
         ],
         "y0": " ",
         "yaxis": "y"
        },
        {
         "alignmentgroup": "True",
         "hovertemplate": "U.S._STATE=%{x}<br>OUTAGE.DURATION=%{y}<extra></extra>",
         "legendgroup": "New Hampshire",
         "marker": {
          "color": "#00cc96"
         },
         "name": "New Hampshire",
         "notched": false,
         "offsetgroup": "New Hampshire",
         "orientation": "v",
         "showlegend": true,
         "type": "box",
         "x": [
          "New Hampshire",
          "New Hampshire",
          "New Hampshire",
          "New Hampshire",
          "New Hampshire",
          "New Hampshire",
          "New Hampshire",
          "New Hampshire",
          "New Hampshire",
          "New Hampshire",
          "New Hampshire",
          "New Hampshire",
          "New Hampshire",
          "New Hampshire"
         ],
         "x0": " ",
         "xaxis": "x",
         "y": [
          2535,
          27,
          108,
          73,
          200,
          5,
          75,
          null,
          77,
          660,
          null,
          92,
          30,
          33
         ],
         "y0": " ",
         "yaxis": "y"
        },
        {
         "alignmentgroup": "True",
         "hovertemplate": "U.S._STATE=%{x}<br>OUTAGE.DURATION=%{y}<extra></extra>",
         "legendgroup": "Nevada",
         "marker": {
          "color": "#ab63fa"
         },
         "name": "Nevada",
         "notched": false,
         "offsetgroup": "Nevada",
         "orientation": "v",
         "showlegend": true,
         "type": "box",
         "x": [
          "Nevada",
          "Nevada",
          "Nevada",
          "Nevada",
          "Nevada",
          "Nevada",
          "Nevada"
         ],
         "x0": " ",
         "xaxis": "x",
         "y": [
          1895,
          274,
          1,
          1534,
          1,
          60,
          108
         ],
         "y0": " ",
         "yaxis": "y"
        },
        {
         "alignmentgroup": "True",
         "hovertemplate": "U.S._STATE=%{x}<br>OUTAGE.DURATION=%{y}<extra></extra>",
         "legendgroup": "Colorado",
         "marker": {
          "color": "#FFA15A"
         },
         "name": "Colorado",
         "notched": false,
         "offsetgroup": "Colorado",
         "orientation": "v",
         "showlegend": true,
         "type": "box",
         "x": [
          "Colorado",
          "Colorado",
          "Colorado",
          "Colorado",
          "Colorado",
          "Colorado",
          "Colorado",
          "Colorado",
          "Colorado",
          "Colorado",
          "Colorado",
          "Colorado",
          "Colorado",
          "Colorado",
          "Colorado"
         ],
         "x0": " ",
         "xaxis": "x",
         "y": [
          2,
          175,
          null,
          2040,
          2710,
          284,
          105,
          4019,
          1,
          391,
          439,
          5,
          201,
          2140,
          103
         ],
         "y0": " ",
         "yaxis": "y"
        },
        {
         "alignmentgroup": "True",
         "hovertemplate": "U.S._STATE=%{x}<br>OUTAGE.DURATION=%{y}<extra></extra>",
         "legendgroup": "Kansas",
         "marker": {
          "color": "#19d3f3"
         },
         "name": "Kansas",
         "notched": false,
         "offsetgroup": "Kansas",
         "orientation": "v",
         "showlegend": true,
         "type": "box",
         "x": [
          "Kansas",
          "Kansas",
          "Kansas",
          "Kansas",
          "Kansas",
          "Kansas",
          "Kansas",
          "Kansas",
          "Kansas"
         ],
         "x0": " ",
         "xaxis": "x",
         "y": [
          null,
          187,
          1406,
          348,
          13650,
          90,
          913,
          null,
          14040
         ],
         "y0": " ",
         "yaxis": "y"
        },
        {
         "alignmentgroup": "True",
         "hovertemplate": "U.S._STATE=%{x}<br>OUTAGE.DURATION=%{y}<extra></extra>",
         "legendgroup": "Hawaii",
         "marker": {
          "color": "#FF6692"
         },
         "name": "Hawaii",
         "notched": false,
         "offsetgroup": "Hawaii",
         "orientation": "v",
         "showlegend": true,
         "type": "box",
         "x": [
          "Hawaii",
          "Hawaii",
          "Hawaii",
          "Hawaii",
          "Hawaii"
         ],
         "x0": " ",
         "xaxis": "x",
         "y": [
          1367,
          174,
          543,
          237,
          1906
         ],
         "y0": " ",
         "yaxis": "y"
        },
        {
         "alignmentgroup": "True",
         "hovertemplate": "U.S._STATE=%{x}<br>OUTAGE.DURATION=%{y}<extra></extra>",
         "legendgroup": "Idaho",
         "marker": {
          "color": "#B6E880"
         },
         "name": "Idaho",
         "notched": false,
         "offsetgroup": "Idaho",
         "orientation": "v",
         "showlegend": true,
         "type": "box",
         "x": [
          "Idaho",
          "Idaho",
          "Idaho",
          "Idaho",
          "Idaho",
          "Idaho",
          "Idaho",
          "Idaho",
          "Idaho"
         ],
         "x0": " ",
         "xaxis": "x",
         "y": [
          224,
          null,
          95,
          360,
          1548,
          870,
          null,
          null,
          220
         ],
         "y0": " ",
         "yaxis": "y"
        },
        {
         "alignmentgroup": "True",
         "hovertemplate": "U.S._STATE=%{x}<br>OUTAGE.DURATION=%{y}<extra></extra>",
         "legendgroup": "North Dakota",
         "marker": {
          "color": "#FF97FF"
         },
         "name": "North Dakota",
         "notched": false,
         "offsetgroup": "North Dakota",
         "orientation": "v",
         "showlegend": true,
         "type": "box",
         "x": [
          "North Dakota",
          "North Dakota"
         ],
         "x0": " ",
         "xaxis": "x",
         "y": [
          720,
          null
         ],
         "y0": " ",
         "yaxis": "y"
        },
        {
         "alignmentgroup": "True",
         "hovertemplate": "U.S._STATE=%{x}<br>OUTAGE.DURATION=%{y}<extra></extra>",
         "legendgroup": "South Dakota",
         "marker": {
          "color": "#FECB52"
         },
         "name": "South Dakota",
         "notched": false,
         "offsetgroup": "South Dakota",
         "orientation": "v",
         "showlegend": true,
         "type": "box",
         "x": [
          "South Dakota",
          "South Dakota"
         ],
         "x0": " ",
         "xaxis": "x",
         "y": [
          59,
          181
         ],
         "y0": " ",
         "yaxis": "y"
        },
        {
         "alignmentgroup": "True",
         "hovertemplate": "U.S._STATE=%{x}<br>OUTAGE.DURATION=%{y}<extra></extra>",
         "legendgroup": "Alaska",
         "marker": {
          "color": "#636efa"
         },
         "name": "Alaska",
         "notched": false,
         "offsetgroup": "Alaska",
         "orientation": "v",
         "showlegend": true,
         "type": "box",
         "x": [
          "Alaska"
         ],
         "x0": " ",
         "xaxis": "x",
         "y": [
          null
         ],
         "y0": " ",
         "yaxis": "y"
        }
       ],
       "layout": {
        "boxmode": "overlay",
        "legend": {
         "title": {
          "text": "U.S._STATE"
         },
         "tracegroupgap": 0
        },
        "template": {
         "data": {
          "bar": [
           {
            "error_x": {
             "color": "#2a3f5f"
            },
            "error_y": {
             "color": "#2a3f5f"
            },
            "marker": {
             "line": {
              "color": "#E5ECF6",
              "width": 0.5
             },
             "pattern": {
              "fillmode": "overlay",
              "size": 10,
              "solidity": 0.2
             }
            },
            "type": "bar"
           }
          ],
          "barpolar": [
           {
            "marker": {
             "line": {
              "color": "#E5ECF6",
              "width": 0.5
             },
             "pattern": {
              "fillmode": "overlay",
              "size": 10,
              "solidity": 0.2
             }
            },
            "type": "barpolar"
           }
          ],
          "carpet": [
           {
            "aaxis": {
             "endlinecolor": "#2a3f5f",
             "gridcolor": "white",
             "linecolor": "white",
             "minorgridcolor": "white",
             "startlinecolor": "#2a3f5f"
            },
            "baxis": {
             "endlinecolor": "#2a3f5f",
             "gridcolor": "white",
             "linecolor": "white",
             "minorgridcolor": "white",
             "startlinecolor": "#2a3f5f"
            },
            "type": "carpet"
           }
          ],
          "choropleth": [
           {
            "colorbar": {
             "outlinewidth": 0,
             "ticks": ""
            },
            "type": "choropleth"
           }
          ],
          "contour": [
           {
            "colorbar": {
             "outlinewidth": 0,
             "ticks": ""
            },
            "colorscale": [
             [
              0,
              "#0d0887"
             ],
             [
              0.1111111111111111,
              "#46039f"
             ],
             [
              0.2222222222222222,
              "#7201a8"
             ],
             [
              0.3333333333333333,
              "#9c179e"
             ],
             [
              0.4444444444444444,
              "#bd3786"
             ],
             [
              0.5555555555555556,
              "#d8576b"
             ],
             [
              0.6666666666666666,
              "#ed7953"
             ],
             [
              0.7777777777777778,
              "#fb9f3a"
             ],
             [
              0.8888888888888888,
              "#fdca26"
             ],
             [
              1,
              "#f0f921"
             ]
            ],
            "type": "contour"
           }
          ],
          "contourcarpet": [
           {
            "colorbar": {
             "outlinewidth": 0,
             "ticks": ""
            },
            "type": "contourcarpet"
           }
          ],
          "heatmap": [
           {
            "colorbar": {
             "outlinewidth": 0,
             "ticks": ""
            },
            "colorscale": [
             [
              0,
              "#0d0887"
             ],
             [
              0.1111111111111111,
              "#46039f"
             ],
             [
              0.2222222222222222,
              "#7201a8"
             ],
             [
              0.3333333333333333,
              "#9c179e"
             ],
             [
              0.4444444444444444,
              "#bd3786"
             ],
             [
              0.5555555555555556,
              "#d8576b"
             ],
             [
              0.6666666666666666,
              "#ed7953"
             ],
             [
              0.7777777777777778,
              "#fb9f3a"
             ],
             [
              0.8888888888888888,
              "#fdca26"
             ],
             [
              1,
              "#f0f921"
             ]
            ],
            "type": "heatmap"
           }
          ],
          "heatmapgl": [
           {
            "colorbar": {
             "outlinewidth": 0,
             "ticks": ""
            },
            "colorscale": [
             [
              0,
              "#0d0887"
             ],
             [
              0.1111111111111111,
              "#46039f"
             ],
             [
              0.2222222222222222,
              "#7201a8"
             ],
             [
              0.3333333333333333,
              "#9c179e"
             ],
             [
              0.4444444444444444,
              "#bd3786"
             ],
             [
              0.5555555555555556,
              "#d8576b"
             ],
             [
              0.6666666666666666,
              "#ed7953"
             ],
             [
              0.7777777777777778,
              "#fb9f3a"
             ],
             [
              0.8888888888888888,
              "#fdca26"
             ],
             [
              1,
              "#f0f921"
             ]
            ],
            "type": "heatmapgl"
           }
          ],
          "histogram": [
           {
            "marker": {
             "pattern": {
              "fillmode": "overlay",
              "size": 10,
              "solidity": 0.2
             }
            },
            "type": "histogram"
           }
          ],
          "histogram2d": [
           {
            "colorbar": {
             "outlinewidth": 0,
             "ticks": ""
            },
            "colorscale": [
             [
              0,
              "#0d0887"
             ],
             [
              0.1111111111111111,
              "#46039f"
             ],
             [
              0.2222222222222222,
              "#7201a8"
             ],
             [
              0.3333333333333333,
              "#9c179e"
             ],
             [
              0.4444444444444444,
              "#bd3786"
             ],
             [
              0.5555555555555556,
              "#d8576b"
             ],
             [
              0.6666666666666666,
              "#ed7953"
             ],
             [
              0.7777777777777778,
              "#fb9f3a"
             ],
             [
              0.8888888888888888,
              "#fdca26"
             ],
             [
              1,
              "#f0f921"
             ]
            ],
            "type": "histogram2d"
           }
          ],
          "histogram2dcontour": [
           {
            "colorbar": {
             "outlinewidth": 0,
             "ticks": ""
            },
            "colorscale": [
             [
              0,
              "#0d0887"
             ],
             [
              0.1111111111111111,
              "#46039f"
             ],
             [
              0.2222222222222222,
              "#7201a8"
             ],
             [
              0.3333333333333333,
              "#9c179e"
             ],
             [
              0.4444444444444444,
              "#bd3786"
             ],
             [
              0.5555555555555556,
              "#d8576b"
             ],
             [
              0.6666666666666666,
              "#ed7953"
             ],
             [
              0.7777777777777778,
              "#fb9f3a"
             ],
             [
              0.8888888888888888,
              "#fdca26"
             ],
             [
              1,
              "#f0f921"
             ]
            ],
            "type": "histogram2dcontour"
           }
          ],
          "mesh3d": [
           {
            "colorbar": {
             "outlinewidth": 0,
             "ticks": ""
            },
            "type": "mesh3d"
           }
          ],
          "parcoords": [
           {
            "line": {
             "colorbar": {
              "outlinewidth": 0,
              "ticks": ""
             }
            },
            "type": "parcoords"
           }
          ],
          "pie": [
           {
            "automargin": true,
            "type": "pie"
           }
          ],
          "scatter": [
           {
            "fillpattern": {
             "fillmode": "overlay",
             "size": 10,
             "solidity": 0.2
            },
            "type": "scatter"
           }
          ],
          "scatter3d": [
           {
            "line": {
             "colorbar": {
              "outlinewidth": 0,
              "ticks": ""
             }
            },
            "marker": {
             "colorbar": {
              "outlinewidth": 0,
              "ticks": ""
             }
            },
            "type": "scatter3d"
           }
          ],
          "scattercarpet": [
           {
            "marker": {
             "colorbar": {
              "outlinewidth": 0,
              "ticks": ""
             }
            },
            "type": "scattercarpet"
           }
          ],
          "scattergeo": [
           {
            "marker": {
             "colorbar": {
              "outlinewidth": 0,
              "ticks": ""
             }
            },
            "type": "scattergeo"
           }
          ],
          "scattergl": [
           {
            "marker": {
             "colorbar": {
              "outlinewidth": 0,
              "ticks": ""
             }
            },
            "type": "scattergl"
           }
          ],
          "scattermapbox": [
           {
            "marker": {
             "colorbar": {
              "outlinewidth": 0,
              "ticks": ""
             }
            },
            "type": "scattermapbox"
           }
          ],
          "scatterpolar": [
           {
            "marker": {
             "colorbar": {
              "outlinewidth": 0,
              "ticks": ""
             }
            },
            "type": "scatterpolar"
           }
          ],
          "scatterpolargl": [
           {
            "marker": {
             "colorbar": {
              "outlinewidth": 0,
              "ticks": ""
             }
            },
            "type": "scatterpolargl"
           }
          ],
          "scatterternary": [
           {
            "marker": {
             "colorbar": {
              "outlinewidth": 0,
              "ticks": ""
             }
            },
            "type": "scatterternary"
           }
          ],
          "surface": [
           {
            "colorbar": {
             "outlinewidth": 0,
             "ticks": ""
            },
            "colorscale": [
             [
              0,
              "#0d0887"
             ],
             [
              0.1111111111111111,
              "#46039f"
             ],
             [
              0.2222222222222222,
              "#7201a8"
             ],
             [
              0.3333333333333333,
              "#9c179e"
             ],
             [
              0.4444444444444444,
              "#bd3786"
             ],
             [
              0.5555555555555556,
              "#d8576b"
             ],
             [
              0.6666666666666666,
              "#ed7953"
             ],
             [
              0.7777777777777778,
              "#fb9f3a"
             ],
             [
              0.8888888888888888,
              "#fdca26"
             ],
             [
              1,
              "#f0f921"
             ]
            ],
            "type": "surface"
           }
          ],
          "table": [
           {
            "cells": {
             "fill": {
              "color": "#EBF0F8"
             },
             "line": {
              "color": "white"
             }
            },
            "header": {
             "fill": {
              "color": "#C8D4E3"
             },
             "line": {
              "color": "white"
             }
            },
            "type": "table"
           }
          ]
         },
         "layout": {
          "annotationdefaults": {
           "arrowcolor": "#2a3f5f",
           "arrowhead": 0,
           "arrowwidth": 1
          },
          "autotypenumbers": "strict",
          "coloraxis": {
           "colorbar": {
            "outlinewidth": 0,
            "ticks": ""
           }
          },
          "colorscale": {
           "diverging": [
            [
             0,
             "#8e0152"
            ],
            [
             0.1,
             "#c51b7d"
            ],
            [
             0.2,
             "#de77ae"
            ],
            [
             0.3,
             "#f1b6da"
            ],
            [
             0.4,
             "#fde0ef"
            ],
            [
             0.5,
             "#f7f7f7"
            ],
            [
             0.6,
             "#e6f5d0"
            ],
            [
             0.7,
             "#b8e186"
            ],
            [
             0.8,
             "#7fbc41"
            ],
            [
             0.9,
             "#4d9221"
            ],
            [
             1,
             "#276419"
            ]
           ],
           "sequential": [
            [
             0,
             "#0d0887"
            ],
            [
             0.1111111111111111,
             "#46039f"
            ],
            [
             0.2222222222222222,
             "#7201a8"
            ],
            [
             0.3333333333333333,
             "#9c179e"
            ],
            [
             0.4444444444444444,
             "#bd3786"
            ],
            [
             0.5555555555555556,
             "#d8576b"
            ],
            [
             0.6666666666666666,
             "#ed7953"
            ],
            [
             0.7777777777777778,
             "#fb9f3a"
            ],
            [
             0.8888888888888888,
             "#fdca26"
            ],
            [
             1,
             "#f0f921"
            ]
           ],
           "sequentialminus": [
            [
             0,
             "#0d0887"
            ],
            [
             0.1111111111111111,
             "#46039f"
            ],
            [
             0.2222222222222222,
             "#7201a8"
            ],
            [
             0.3333333333333333,
             "#9c179e"
            ],
            [
             0.4444444444444444,
             "#bd3786"
            ],
            [
             0.5555555555555556,
             "#d8576b"
            ],
            [
             0.6666666666666666,
             "#ed7953"
            ],
            [
             0.7777777777777778,
             "#fb9f3a"
            ],
            [
             0.8888888888888888,
             "#fdca26"
            ],
            [
             1,
             "#f0f921"
            ]
           ]
          },
          "colorway": [
           "#636efa",
           "#EF553B",
           "#00cc96",
           "#ab63fa",
           "#FFA15A",
           "#19d3f3",
           "#FF6692",
           "#B6E880",
           "#FF97FF",
           "#FECB52"
          ],
          "font": {
           "color": "#2a3f5f"
          },
          "geo": {
           "bgcolor": "white",
           "lakecolor": "white",
           "landcolor": "#E5ECF6",
           "showlakes": true,
           "showland": true,
           "subunitcolor": "white"
          },
          "hoverlabel": {
           "align": "left"
          },
          "hovermode": "closest",
          "mapbox": {
           "style": "light"
          },
          "paper_bgcolor": "white",
          "plot_bgcolor": "#E5ECF6",
          "polar": {
           "angularaxis": {
            "gridcolor": "white",
            "linecolor": "white",
            "ticks": ""
           },
           "bgcolor": "#E5ECF6",
           "radialaxis": {
            "gridcolor": "white",
            "linecolor": "white",
            "ticks": ""
           }
          },
          "scene": {
           "xaxis": {
            "backgroundcolor": "#E5ECF6",
            "gridcolor": "white",
            "gridwidth": 2,
            "linecolor": "white",
            "showbackground": true,
            "ticks": "",
            "zerolinecolor": "white"
           },
           "yaxis": {
            "backgroundcolor": "#E5ECF6",
            "gridcolor": "white",
            "gridwidth": 2,
            "linecolor": "white",
            "showbackground": true,
            "ticks": "",
            "zerolinecolor": "white"
           },
           "zaxis": {
            "backgroundcolor": "#E5ECF6",
            "gridcolor": "white",
            "gridwidth": 2,
            "linecolor": "white",
            "showbackground": true,
            "ticks": "",
            "zerolinecolor": "white"
           }
          },
          "shapedefaults": {
           "line": {
            "color": "#2a3f5f"
           }
          },
          "ternary": {
           "aaxis": {
            "gridcolor": "white",
            "linecolor": "white",
            "ticks": ""
           },
           "baxis": {
            "gridcolor": "white",
            "linecolor": "white",
            "ticks": ""
           },
           "bgcolor": "#E5ECF6",
           "caxis": {
            "gridcolor": "white",
            "linecolor": "white",
            "ticks": ""
           }
          },
          "title": {
           "x": 0.05
          },
          "xaxis": {
           "automargin": true,
           "gridcolor": "white",
           "linecolor": "white",
           "ticks": "",
           "title": {
            "standoff": 15
           },
           "zerolinecolor": "white",
           "zerolinewidth": 2
          },
          "yaxis": {
           "automargin": true,
           "gridcolor": "white",
           "linecolor": "white",
           "ticks": "",
           "title": {
            "standoff": 15
           },
           "zerolinecolor": "white",
           "zerolinewidth": 2
          }
         }
        },
        "title": {
         "text": "Box Plot of OUTAGE.DURATION grouped by state"
        },
        "xaxis": {
         "anchor": "y",
         "categoryarray": [
          null,
          "Minnesota",
          "Tennessee",
          "Wisconsin",
          "West Virginia",
          "Michigan",
          "Texas",
          "Indiana",
          "Alabama",
          "Mississippi",
          "Illinois",
          "Washington",
          "Arizona",
          "Maryland",
          "Pennsylvania",
          "Kentucky",
          "Utah",
          "Ohio",
          "North Carolina",
          "New Jersey",
          "South Carolina",
          "Oregon",
          "District of Columbia",
          "Missouri",
          "Delaware",
          "Iowa",
          "Montana",
          "New York",
          "Louisiana",
          "Florida",
          "California",
          "Arkansas",
          "Virginia",
          "Nebraska",
          "Wyoming",
          "New Mexico",
          "Vermont",
          "Georgia",
          "Connecticut",
          "Oklahoma",
          "Massachusetts",
          "Maine",
          "New Hampshire",
          "Nevada",
          "Colorado",
          "Kansas",
          "Hawaii",
          "Idaho",
          "North Dakota",
          "South Dakota",
          "Alaska"
         ],
         "categoryorder": "array",
         "domain": [
          0,
          1
         ],
         "title": {
          "text": "U.S._STATE"
         }
        },
        "yaxis": {
         "anchor": "x",
         "domain": [
          0,
          1
         ],
         "title": {
          "text": "OUTAGE.DURATION"
         }
        }
       }
      }
     },
     "metadata": {},
     "output_type": "display_data"
    }
   ],
   "source": [
    "box2=outages[['U.S._STATE','OUTAGE.DURATION']]\n",
    "px.box(box2,x='U.S._STATE',y='OUTAGE.DURATION',color='U.S._STATE', \n",
    "       title= 'Box Plot of OUTAGE.DURATION grouped by state')"
   ]
  },
  {
   "cell_type": "code",
   "execution_count": 122,
   "metadata": {},
   "outputs": [
    {
     "data": {
      "application/vnd.plotly.v1+json": {
       "config": {
        "plotlyServerURL": "https://plot.ly"
       },
       "data": [
        {
         "alignmentgroup": "True",
         "hovertemplate": "CAUSE.CATEGORY=intentional attack<br>U.S._STATE=%{x}<br># of outages=%{y}<extra></extra>",
         "legendgroup": "intentional attack",
         "marker": {
          "color": "#636efa",
          "pattern": {
           "shape": ""
          }
         },
         "name": "intentional attack",
         "offsetgroup": "intentional attack",
         "orientation": "v",
         "showlegend": true,
         "textposition": "auto",
         "type": "bar",
         "x": [
          "Alabama",
          "Arizona",
          "Arkansas",
          "California",
          "Colorado",
          "Connecticut",
          "Delaware",
          "Florida",
          "Georgia",
          "Idaho",
          "Illinois",
          "Indiana",
          "Iowa",
          "Kansas",
          "Kentucky",
          "Maine",
          "Maryland",
          "Massachusetts",
          "Michigan",
          "Minnesota",
          "Mississippi",
          "Missouri",
          "Montana",
          "Nevada",
          "New Hampshire",
          "New Jersey",
          "New Mexico",
          "New York",
          "North Carolina",
          "Ohio",
          "Oklahoma",
          "Oregon",
          "Pennsylvania",
          "Tennessee",
          "Texas",
          "Utah",
          "Vermont",
          "Virginia",
          "Washington",
          "West Virginia",
          "Wisconsin",
          "Wyoming"
         ],
         "xaxis": "x",
         "y": [
          1,
          18,
          6,
          24,
          5,
          8,
          37,
          2,
          1,
          5,
          1,
          8,
          5,
          3,
          1,
          7,
          25,
          8,
          4,
          4,
          3,
          5,
          1,
          7,
          12,
          10,
          6,
          13,
          4,
          14,
          3,
          20,
          6,
          8,
          13,
          35,
          9,
          1,
          64,
          1,
          7,
          3
         ],
         "yaxis": "y"
        },
        {
         "alignmentgroup": "True",
         "hovertemplate": "CAUSE.CATEGORY=severe weather<br>U.S._STATE=%{x}<br># of outages=%{y}<extra></extra>",
         "legendgroup": "severe weather",
         "marker": {
          "color": "#EF553B",
          "pattern": {
           "shape": ""
          }
         },
         "name": "severe weather",
         "offsetgroup": "severe weather",
         "orientation": "v",
         "showlegend": true,
         "textposition": "auto",
         "type": "bar",
         "x": [
          "Alabama",
          "Arizona",
          "Arkansas",
          "California",
          "Colorado",
          "Connecticut",
          "Delaware",
          "District of Columbia",
          "Florida",
          "Georgia",
          "Hawaii",
          "Illinois",
          "Indiana",
          "Iowa",
          "Kansas",
          "Kentucky",
          "Louisiana",
          "Maine",
          "Maryland",
          "Massachusetts",
          "Michigan",
          "Minnesota",
          "Missouri",
          "Nebraska",
          "New Hampshire",
          "New Jersey",
          "New York",
          "North Carolina",
          "Ohio",
          "Oklahoma",
          "Oregon",
          "Pennsylvania",
          "South Carolina",
          "Tennessee",
          "Texas",
          "Utah",
          "Virginia",
          "Washington",
          "West Virginia",
          "Wisconsin",
          "Wyoming"
         ],
         "xaxis": "x",
         "y": [
          5,
          4,
          10,
          70,
          4,
          10,
          2,
          9,
          26,
          16,
          4,
          42,
          24,
          3,
          5,
          9,
          16,
          10,
          32,
          7,
          83,
          11,
          11,
          3,
          2,
          23,
          33,
          31,
          26,
          17,
          5,
          48,
          8,
          20,
          65,
          2,
          32,
          24,
          3,
          7,
          1
         ],
         "yaxis": "y"
        },
        {
         "alignmentgroup": "True",
         "hovertemplate": "CAUSE.CATEGORY=equipment failure<br>U.S._STATE=%{x}<br># of outages=%{y}<extra></extra>",
         "legendgroup": "equipment failure",
         "marker": {
          "color": "#00cc96",
          "pattern": {
           "shape": ""
          }
         },
         "name": "equipment failure",
         "offsetgroup": "equipment failure",
         "orientation": "v",
         "showlegend": true,
         "textposition": "auto",
         "type": "bar",
         "x": [
          "Alaska",
          "Arizona",
          "Arkansas",
          "California",
          "Delaware",
          "District of Columbia",
          "Florida",
          "Illinois",
          "Indiana",
          "Kentucky",
          "Louisiana",
          "Michigan",
          "New York",
          "Ohio",
          "Oregon",
          "Pennsylvania",
          "Tennessee",
          "Texas",
          "Utah",
          "Virginia",
          "Washington",
          "Wyoming"
         ],
         "xaxis": "x",
         "y": [
          1,
          4,
          1,
          21,
          1,
          1,
          4,
          1,
          2,
          1,
          3,
          3,
          2,
          1,
          1,
          1,
          2,
          6,
          1,
          1,
          1,
          1
         ],
         "yaxis": "y"
        },
        {
         "alignmentgroup": "True",
         "hovertemplate": "CAUSE.CATEGORY=system operability disruption<br>U.S._STATE=%{x}<br># of outages=%{y}<extra></extra>",
         "legendgroup": "system operability disruption",
         "marker": {
          "color": "#ab63fa",
          "pattern": {
           "shape": ""
          }
         },
         "name": "system operability disruption",
         "offsetgroup": "system operability disruption",
         "orientation": "v",
         "showlegend": true,
         "textposition": "auto",
         "type": "bar",
         "x": [
          "Arizona",
          "California",
          "Colorado",
          "Delaware",
          "Florida",
          "Hawaii",
          "Idaho",
          "Indiana",
          "Louisiana",
          "Maryland",
          "Massachusetts",
          "Michigan",
          "Mississippi",
          "Missouri",
          "New Jersey",
          "New Mexico",
          "New York",
          "North Carolina",
          "Ohio",
          "Pennsylvania",
          "Tennessee",
          "Texas",
          "Utah",
          "Virginia",
          "Washington"
         ],
         "xaxis": "x",
         "y": [
          2,
          41,
          4,
          1,
          10,
          1,
          3,
          5,
          6,
          1,
          2,
          3,
          1,
          1,
          2,
          1,
          7,
          5,
          2,
          2,
          3,
          20,
          2,
          1,
          1
         ],
         "yaxis": "y"
        },
        {
         "alignmentgroup": "True",
         "hovertemplate": "CAUSE.CATEGORY=islanding<br>U.S._STATE=%{x}<br># of outages=%{y}<extra></extra>",
         "legendgroup": "islanding",
         "marker": {
          "color": "#FFA15A",
          "pattern": {
           "shape": ""
          }
         },
         "name": "islanding",
         "offsetgroup": "islanding",
         "orientation": "v",
         "showlegend": true,
         "textposition": "auto",
         "type": "bar",
         "x": [
          "Arkansas",
          "California",
          "Colorado",
          "Indiana",
          "Maine",
          "Michigan",
          "Montana",
          "Oklahoma",
          "South Dakota",
          "Washington",
          "Wyoming"
         ],
         "xaxis": "x",
         "y": [
          1,
          28,
          1,
          3,
          1,
          1,
          2,
          1,
          2,
          5,
          1
         ],
         "yaxis": "y"
        },
        {
         "alignmentgroup": "True",
         "hovertemplate": "CAUSE.CATEGORY=public appeal<br>U.S._STATE=%{x}<br># of outages=%{y}<extra></extra>",
         "legendgroup": "public appeal",
         "marker": {
          "color": "#19d3f3",
          "pattern": {
           "shape": ""
          }
         },
         "name": "public appeal",
         "offsetgroup": "public appeal",
         "orientation": "v",
         "showlegend": true,
         "textposition": "auto",
         "type": "bar",
         "x": [
          "Arkansas",
          "California",
          "Florida",
          "Idaho",
          "Illinois",
          "Kansas",
          "Louisiana",
          "Michigan",
          "Nebraska",
          "New York",
          "North Dakota",
          "Oklahoma",
          "Tennessee",
          "Texas",
          "Utah",
          "Virginia",
          "Washington",
          "Wisconsin"
         ],
         "xaxis": "x",
         "y": [
          7,
          9,
          3,
          1,
          1,
          1,
          14,
          1,
          1,
          4,
          1,
          3,
          1,
          17,
          1,
          2,
          1,
          1
         ],
         "yaxis": "y"
        },
        {
         "alignmentgroup": "True",
         "hovertemplate": "CAUSE.CATEGORY=fuel supply emergency<br>U.S._STATE=%{x}<br># of outages=%{y}<extra></extra>",
         "legendgroup": "fuel supply emergency",
         "marker": {
          "color": "#FF6692",
          "pattern": {
           "shape": ""
          }
         },
         "name": "fuel supply emergency",
         "offsetgroup": "fuel supply emergency",
         "orientation": "v",
         "showlegend": true,
         "textposition": "auto",
         "type": "bar",
         "x": [
          "California",
          "Colorado",
          "Illinois",
          "Indiana",
          "Kentucky",
          "Louisiana",
          "Maine",
          "Massachusetts",
          "New Mexico",
          "New York",
          "North Dakota",
          "Texas",
          "Washington",
          "Wisconsin"
         ],
         "xaxis": "x",
         "y": [
          17,
          1,
          1,
          1,
          2,
          1,
          1,
          1,
          1,
          12,
          1,
          6,
          1,
          5
         ],
         "yaxis": "y"
        }
       ],
       "layout": {
        "barmode": "relative",
        "legend": {
         "title": {
          "text": "CAUSE.CATEGORY"
         },
         "tracegroupgap": 0
        },
        "template": {
         "data": {
          "bar": [
           {
            "error_x": {
             "color": "#2a3f5f"
            },
            "error_y": {
             "color": "#2a3f5f"
            },
            "marker": {
             "line": {
              "color": "#E5ECF6",
              "width": 0.5
             },
             "pattern": {
              "fillmode": "overlay",
              "size": 10,
              "solidity": 0.2
             }
            },
            "type": "bar"
           }
          ],
          "barpolar": [
           {
            "marker": {
             "line": {
              "color": "#E5ECF6",
              "width": 0.5
             },
             "pattern": {
              "fillmode": "overlay",
              "size": 10,
              "solidity": 0.2
             }
            },
            "type": "barpolar"
           }
          ],
          "carpet": [
           {
            "aaxis": {
             "endlinecolor": "#2a3f5f",
             "gridcolor": "white",
             "linecolor": "white",
             "minorgridcolor": "white",
             "startlinecolor": "#2a3f5f"
            },
            "baxis": {
             "endlinecolor": "#2a3f5f",
             "gridcolor": "white",
             "linecolor": "white",
             "minorgridcolor": "white",
             "startlinecolor": "#2a3f5f"
            },
            "type": "carpet"
           }
          ],
          "choropleth": [
           {
            "colorbar": {
             "outlinewidth": 0,
             "ticks": ""
            },
            "type": "choropleth"
           }
          ],
          "contour": [
           {
            "colorbar": {
             "outlinewidth": 0,
             "ticks": ""
            },
            "colorscale": [
             [
              0,
              "#0d0887"
             ],
             [
              0.1111111111111111,
              "#46039f"
             ],
             [
              0.2222222222222222,
              "#7201a8"
             ],
             [
              0.3333333333333333,
              "#9c179e"
             ],
             [
              0.4444444444444444,
              "#bd3786"
             ],
             [
              0.5555555555555556,
              "#d8576b"
             ],
             [
              0.6666666666666666,
              "#ed7953"
             ],
             [
              0.7777777777777778,
              "#fb9f3a"
             ],
             [
              0.8888888888888888,
              "#fdca26"
             ],
             [
              1,
              "#f0f921"
             ]
            ],
            "type": "contour"
           }
          ],
          "contourcarpet": [
           {
            "colorbar": {
             "outlinewidth": 0,
             "ticks": ""
            },
            "type": "contourcarpet"
           }
          ],
          "heatmap": [
           {
            "colorbar": {
             "outlinewidth": 0,
             "ticks": ""
            },
            "colorscale": [
             [
              0,
              "#0d0887"
             ],
             [
              0.1111111111111111,
              "#46039f"
             ],
             [
              0.2222222222222222,
              "#7201a8"
             ],
             [
              0.3333333333333333,
              "#9c179e"
             ],
             [
              0.4444444444444444,
              "#bd3786"
             ],
             [
              0.5555555555555556,
              "#d8576b"
             ],
             [
              0.6666666666666666,
              "#ed7953"
             ],
             [
              0.7777777777777778,
              "#fb9f3a"
             ],
             [
              0.8888888888888888,
              "#fdca26"
             ],
             [
              1,
              "#f0f921"
             ]
            ],
            "type": "heatmap"
           }
          ],
          "heatmapgl": [
           {
            "colorbar": {
             "outlinewidth": 0,
             "ticks": ""
            },
            "colorscale": [
             [
              0,
              "#0d0887"
             ],
             [
              0.1111111111111111,
              "#46039f"
             ],
             [
              0.2222222222222222,
              "#7201a8"
             ],
             [
              0.3333333333333333,
              "#9c179e"
             ],
             [
              0.4444444444444444,
              "#bd3786"
             ],
             [
              0.5555555555555556,
              "#d8576b"
             ],
             [
              0.6666666666666666,
              "#ed7953"
             ],
             [
              0.7777777777777778,
              "#fb9f3a"
             ],
             [
              0.8888888888888888,
              "#fdca26"
             ],
             [
              1,
              "#f0f921"
             ]
            ],
            "type": "heatmapgl"
           }
          ],
          "histogram": [
           {
            "marker": {
             "pattern": {
              "fillmode": "overlay",
              "size": 10,
              "solidity": 0.2
             }
            },
            "type": "histogram"
           }
          ],
          "histogram2d": [
           {
            "colorbar": {
             "outlinewidth": 0,
             "ticks": ""
            },
            "colorscale": [
             [
              0,
              "#0d0887"
             ],
             [
              0.1111111111111111,
              "#46039f"
             ],
             [
              0.2222222222222222,
              "#7201a8"
             ],
             [
              0.3333333333333333,
              "#9c179e"
             ],
             [
              0.4444444444444444,
              "#bd3786"
             ],
             [
              0.5555555555555556,
              "#d8576b"
             ],
             [
              0.6666666666666666,
              "#ed7953"
             ],
             [
              0.7777777777777778,
              "#fb9f3a"
             ],
             [
              0.8888888888888888,
              "#fdca26"
             ],
             [
              1,
              "#f0f921"
             ]
            ],
            "type": "histogram2d"
           }
          ],
          "histogram2dcontour": [
           {
            "colorbar": {
             "outlinewidth": 0,
             "ticks": ""
            },
            "colorscale": [
             [
              0,
              "#0d0887"
             ],
             [
              0.1111111111111111,
              "#46039f"
             ],
             [
              0.2222222222222222,
              "#7201a8"
             ],
             [
              0.3333333333333333,
              "#9c179e"
             ],
             [
              0.4444444444444444,
              "#bd3786"
             ],
             [
              0.5555555555555556,
              "#d8576b"
             ],
             [
              0.6666666666666666,
              "#ed7953"
             ],
             [
              0.7777777777777778,
              "#fb9f3a"
             ],
             [
              0.8888888888888888,
              "#fdca26"
             ],
             [
              1,
              "#f0f921"
             ]
            ],
            "type": "histogram2dcontour"
           }
          ],
          "mesh3d": [
           {
            "colorbar": {
             "outlinewidth": 0,
             "ticks": ""
            },
            "type": "mesh3d"
           }
          ],
          "parcoords": [
           {
            "line": {
             "colorbar": {
              "outlinewidth": 0,
              "ticks": ""
             }
            },
            "type": "parcoords"
           }
          ],
          "pie": [
           {
            "automargin": true,
            "type": "pie"
           }
          ],
          "scatter": [
           {
            "fillpattern": {
             "fillmode": "overlay",
             "size": 10,
             "solidity": 0.2
            },
            "type": "scatter"
           }
          ],
          "scatter3d": [
           {
            "line": {
             "colorbar": {
              "outlinewidth": 0,
              "ticks": ""
             }
            },
            "marker": {
             "colorbar": {
              "outlinewidth": 0,
              "ticks": ""
             }
            },
            "type": "scatter3d"
           }
          ],
          "scattercarpet": [
           {
            "marker": {
             "colorbar": {
              "outlinewidth": 0,
              "ticks": ""
             }
            },
            "type": "scattercarpet"
           }
          ],
          "scattergeo": [
           {
            "marker": {
             "colorbar": {
              "outlinewidth": 0,
              "ticks": ""
             }
            },
            "type": "scattergeo"
           }
          ],
          "scattergl": [
           {
            "marker": {
             "colorbar": {
              "outlinewidth": 0,
              "ticks": ""
             }
            },
            "type": "scattergl"
           }
          ],
          "scattermapbox": [
           {
            "marker": {
             "colorbar": {
              "outlinewidth": 0,
              "ticks": ""
             }
            },
            "type": "scattermapbox"
           }
          ],
          "scatterpolar": [
           {
            "marker": {
             "colorbar": {
              "outlinewidth": 0,
              "ticks": ""
             }
            },
            "type": "scatterpolar"
           }
          ],
          "scatterpolargl": [
           {
            "marker": {
             "colorbar": {
              "outlinewidth": 0,
              "ticks": ""
             }
            },
            "type": "scatterpolargl"
           }
          ],
          "scatterternary": [
           {
            "marker": {
             "colorbar": {
              "outlinewidth": 0,
              "ticks": ""
             }
            },
            "type": "scatterternary"
           }
          ],
          "surface": [
           {
            "colorbar": {
             "outlinewidth": 0,
             "ticks": ""
            },
            "colorscale": [
             [
              0,
              "#0d0887"
             ],
             [
              0.1111111111111111,
              "#46039f"
             ],
             [
              0.2222222222222222,
              "#7201a8"
             ],
             [
              0.3333333333333333,
              "#9c179e"
             ],
             [
              0.4444444444444444,
              "#bd3786"
             ],
             [
              0.5555555555555556,
              "#d8576b"
             ],
             [
              0.6666666666666666,
              "#ed7953"
             ],
             [
              0.7777777777777778,
              "#fb9f3a"
             ],
             [
              0.8888888888888888,
              "#fdca26"
             ],
             [
              1,
              "#f0f921"
             ]
            ],
            "type": "surface"
           }
          ],
          "table": [
           {
            "cells": {
             "fill": {
              "color": "#EBF0F8"
             },
             "line": {
              "color": "white"
             }
            },
            "header": {
             "fill": {
              "color": "#C8D4E3"
             },
             "line": {
              "color": "white"
             }
            },
            "type": "table"
           }
          ]
         },
         "layout": {
          "annotationdefaults": {
           "arrowcolor": "#2a3f5f",
           "arrowhead": 0,
           "arrowwidth": 1
          },
          "autotypenumbers": "strict",
          "coloraxis": {
           "colorbar": {
            "outlinewidth": 0,
            "ticks": ""
           }
          },
          "colorscale": {
           "diverging": [
            [
             0,
             "#8e0152"
            ],
            [
             0.1,
             "#c51b7d"
            ],
            [
             0.2,
             "#de77ae"
            ],
            [
             0.3,
             "#f1b6da"
            ],
            [
             0.4,
             "#fde0ef"
            ],
            [
             0.5,
             "#f7f7f7"
            ],
            [
             0.6,
             "#e6f5d0"
            ],
            [
             0.7,
             "#b8e186"
            ],
            [
             0.8,
             "#7fbc41"
            ],
            [
             0.9,
             "#4d9221"
            ],
            [
             1,
             "#276419"
            ]
           ],
           "sequential": [
            [
             0,
             "#0d0887"
            ],
            [
             0.1111111111111111,
             "#46039f"
            ],
            [
             0.2222222222222222,
             "#7201a8"
            ],
            [
             0.3333333333333333,
             "#9c179e"
            ],
            [
             0.4444444444444444,
             "#bd3786"
            ],
            [
             0.5555555555555556,
             "#d8576b"
            ],
            [
             0.6666666666666666,
             "#ed7953"
            ],
            [
             0.7777777777777778,
             "#fb9f3a"
            ],
            [
             0.8888888888888888,
             "#fdca26"
            ],
            [
             1,
             "#f0f921"
            ]
           ],
           "sequentialminus": [
            [
             0,
             "#0d0887"
            ],
            [
             0.1111111111111111,
             "#46039f"
            ],
            [
             0.2222222222222222,
             "#7201a8"
            ],
            [
             0.3333333333333333,
             "#9c179e"
            ],
            [
             0.4444444444444444,
             "#bd3786"
            ],
            [
             0.5555555555555556,
             "#d8576b"
            ],
            [
             0.6666666666666666,
             "#ed7953"
            ],
            [
             0.7777777777777778,
             "#fb9f3a"
            ],
            [
             0.8888888888888888,
             "#fdca26"
            ],
            [
             1,
             "#f0f921"
            ]
           ]
          },
          "colorway": [
           "#636efa",
           "#EF553B",
           "#00cc96",
           "#ab63fa",
           "#FFA15A",
           "#19d3f3",
           "#FF6692",
           "#B6E880",
           "#FF97FF",
           "#FECB52"
          ],
          "font": {
           "color": "#2a3f5f"
          },
          "geo": {
           "bgcolor": "white",
           "lakecolor": "white",
           "landcolor": "#E5ECF6",
           "showlakes": true,
           "showland": true,
           "subunitcolor": "white"
          },
          "hoverlabel": {
           "align": "left"
          },
          "hovermode": "closest",
          "mapbox": {
           "style": "light"
          },
          "paper_bgcolor": "white",
          "plot_bgcolor": "#E5ECF6",
          "polar": {
           "angularaxis": {
            "gridcolor": "white",
            "linecolor": "white",
            "ticks": ""
           },
           "bgcolor": "#E5ECF6",
           "radialaxis": {
            "gridcolor": "white",
            "linecolor": "white",
            "ticks": ""
           }
          },
          "scene": {
           "xaxis": {
            "backgroundcolor": "#E5ECF6",
            "gridcolor": "white",
            "gridwidth": 2,
            "linecolor": "white",
            "showbackground": true,
            "ticks": "",
            "zerolinecolor": "white"
           },
           "yaxis": {
            "backgroundcolor": "#E5ECF6",
            "gridcolor": "white",
            "gridwidth": 2,
            "linecolor": "white",
            "showbackground": true,
            "ticks": "",
            "zerolinecolor": "white"
           },
           "zaxis": {
            "backgroundcolor": "#E5ECF6",
            "gridcolor": "white",
            "gridwidth": 2,
            "linecolor": "white",
            "showbackground": true,
            "ticks": "",
            "zerolinecolor": "white"
           }
          },
          "shapedefaults": {
           "line": {
            "color": "#2a3f5f"
           }
          },
          "ternary": {
           "aaxis": {
            "gridcolor": "white",
            "linecolor": "white",
            "ticks": ""
           },
           "baxis": {
            "gridcolor": "white",
            "linecolor": "white",
            "ticks": ""
           },
           "bgcolor": "#E5ECF6",
           "caxis": {
            "gridcolor": "white",
            "linecolor": "white",
            "ticks": ""
           }
          },
          "title": {
           "x": 0.05
          },
          "xaxis": {
           "automargin": true,
           "gridcolor": "white",
           "linecolor": "white",
           "ticks": "",
           "title": {
            "standoff": 15
           },
           "zerolinecolor": "white",
           "zerolinewidth": 2
          },
          "yaxis": {
           "automargin": true,
           "gridcolor": "white",
           "linecolor": "white",
           "ticks": "",
           "title": {
            "standoff": 15
           },
           "zerolinecolor": "white",
           "zerolinewidth": 2
          }
         }
        },
        "title": {
         "text": "Number of outages in each state colored by category"
        },
        "xaxis": {
         "anchor": "y",
         "domain": [
          0,
          1
         ],
         "title": {
          "text": "U.S._STATE"
         }
        },
        "yaxis": {
         "anchor": "x",
         "domain": [
          0,
          1
         ],
         "title": {
          "text": "# of outages"
         }
        }
       }
      }
     },
     "metadata": {},
     "output_type": "display_data"
    }
   ],
   "source": [
    "states = outages.groupby(['U.S._STATE','CAUSE.CATEGORY']).count()\n",
    "states = states.reset_index()\n",
    "px.bar(states, x='U.S._STATE',y='YEAR',color='CAUSE.CATEGORY', \n",
    "       labels = {'YEAR' : '# of outages'}, \n",
    "       title= 'Number of outages in each state colored by category')"
   ]
  },
  {
   "cell_type": "code",
   "execution_count": 123,
   "metadata": {},
   "outputs": [
    {
     "data": {
      "text/html": [
       "<div style=\"width:100%;\"><div style=\"position:relative;width:100%;height:0;padding-bottom:60%;\"><span style=\"color:#565656\">Make this Notebook Trusted to load map: File -> Trust Notebook</span><iframe srcdoc=\"&lt;!DOCTYPE html&gt;\n",
       "&lt;html&gt;\n",
       "&lt;head&gt;\n",
       "    \n",
       "    &lt;meta http-equiv=&quot;content-type&quot; content=&quot;text/html; charset=UTF-8&quot; /&gt;\n",
       "    \n",
       "        &lt;script&gt;\n",
       "            L_NO_TOUCH = false;\n",
       "            L_DISABLE_3D = false;\n",
       "        &lt;/script&gt;\n",
       "    \n",
       "    &lt;style&gt;html, body {width: 100%;height: 100%;margin: 0;padding: 0;}&lt;/style&gt;\n",
       "    &lt;style&gt;#map {position:absolute;top:0;bottom:0;right:0;left:0;}&lt;/style&gt;\n",
       "    &lt;script src=&quot;https://cdn.jsdelivr.net/npm/leaflet@1.9.3/dist/leaflet.js&quot;&gt;&lt;/script&gt;\n",
       "    &lt;script src=&quot;https://code.jquery.com/jquery-3.7.1.min.js&quot;&gt;&lt;/script&gt;\n",
       "    &lt;script src=&quot;https://cdn.jsdelivr.net/npm/bootstrap@5.2.2/dist/js/bootstrap.bundle.min.js&quot;&gt;&lt;/script&gt;\n",
       "    &lt;script src=&quot;https://cdnjs.cloudflare.com/ajax/libs/Leaflet.awesome-markers/2.0.2/leaflet.awesome-markers.js&quot;&gt;&lt;/script&gt;\n",
       "    &lt;link rel=&quot;stylesheet&quot; href=&quot;https://cdn.jsdelivr.net/npm/leaflet@1.9.3/dist/leaflet.css&quot;/&gt;\n",
       "    &lt;link rel=&quot;stylesheet&quot; href=&quot;https://cdn.jsdelivr.net/npm/bootstrap@5.2.2/dist/css/bootstrap.min.css&quot;/&gt;\n",
       "    &lt;link rel=&quot;stylesheet&quot; href=&quot;https://netdna.bootstrapcdn.com/bootstrap/3.0.0/css/bootstrap.min.css&quot;/&gt;\n",
       "    &lt;link rel=&quot;stylesheet&quot; href=&quot;https://cdn.jsdelivr.net/npm/@fortawesome/fontawesome-free@6.2.0/css/all.min.css&quot;/&gt;\n",
       "    &lt;link rel=&quot;stylesheet&quot; href=&quot;https://cdnjs.cloudflare.com/ajax/libs/Leaflet.awesome-markers/2.0.2/leaflet.awesome-markers.css&quot;/&gt;\n",
       "    &lt;link rel=&quot;stylesheet&quot; href=&quot;https://cdn.jsdelivr.net/gh/python-visualization/folium/folium/templates/leaflet.awesome.rotate.min.css&quot;/&gt;\n",
       "    \n",
       "            &lt;meta name=&quot;viewport&quot; content=&quot;width=device-width,\n",
       "                initial-scale=1.0, maximum-scale=1.0, user-scalable=no&quot; /&gt;\n",
       "            &lt;style&gt;\n",
       "                #map_eaaf5017f53db494caa98d359915d760 {\n",
       "                    position: relative;\n",
       "                    width: 100.0%;\n",
       "                    height: 100.0%;\n",
       "                    left: 0.0%;\n",
       "                    top: 0.0%;\n",
       "                }\n",
       "                .leaflet-container { font-size: 1rem; }\n",
       "            &lt;/style&gt;\n",
       "        \n",
       "    &lt;script src=&quot;https://cdnjs.cloudflare.com/ajax/libs/d3/3.5.5/d3.min.js&quot;&gt;&lt;/script&gt;\n",
       "&lt;/head&gt;\n",
       "&lt;body&gt;\n",
       "    \n",
       "    \n",
       "            &lt;div class=&quot;folium-map&quot; id=&quot;map_eaaf5017f53db494caa98d359915d760&quot; &gt;&lt;/div&gt;\n",
       "        \n",
       "&lt;/body&gt;\n",
       "&lt;script&gt;\n",
       "    \n",
       "    \n",
       "            var map_eaaf5017f53db494caa98d359915d760 = L.map(\n",
       "                &quot;map_eaaf5017f53db494caa98d359915d760&quot;,\n",
       "                {\n",
       "                    center: [48.0, -102.0],\n",
       "                    crs: L.CRS.EPSG3857,\n",
       "                    zoom: 3,\n",
       "                    zoomControl: true,\n",
       "                    preferCanvas: false,\n",
       "                }\n",
       "            );\n",
       "\n",
       "            \n",
       "\n",
       "        \n",
       "    \n",
       "            var tile_layer_bc3c00f943180c0b38a43417df8ff3cf = L.tileLayer(\n",
       "                &quot;https://tile.openstreetmap.org/{z}/{x}/{y}.png&quot;,\n",
       "                {&quot;attribution&quot;: &quot;\\u0026copy; \\u003ca href=\\&quot;https://www.openstreetmap.org/copyright\\&quot;\\u003eOpenStreetMap\\u003c/a\\u003e contributors&quot;, &quot;detectRetina&quot;: false, &quot;maxNativeZoom&quot;: 19, &quot;maxZoom&quot;: 19, &quot;minZoom&quot;: 0, &quot;noWrap&quot;: false, &quot;opacity&quot;: 1, &quot;subdomains&quot;: &quot;abc&quot;, &quot;tms&quot;: false}\n",
       "            );\n",
       "        \n",
       "    \n",
       "            tile_layer_bc3c00f943180c0b38a43417df8ff3cf.addTo(map_eaaf5017f53db494caa98d359915d760);\n",
       "        \n",
       "    \n",
       "            var choropleth_d2aef6ec99c82cf7d0e78e66320a1347 = L.featureGroup(\n",
       "                {}\n",
       "            );\n",
       "        \n",
       "    \n",
       "        function geo_json_4dce2655293a4b42bc0e08571d6d7b77_styler(feature) {\n",
       "            switch(feature.id) {\n",
       "                case &quot;AL&quot;: case &quot;CO&quot;: case &quot;DE&quot;: case &quot;GA&quot;: case &quot;HI&quot;: case &quot;ID&quot;: case &quot;ME&quot;: case &quot;MA&quot;: case &quot;MS&quot;: case &quot;MT&quot;: case &quot;NV&quot;: case &quot;NH&quot;: case &quot;NM&quot;: case &quot;ND&quot;: case &quot;OR&quot;: case &quot;SD&quot;: case &quot;TN&quot;: case &quot;UT&quot;: case &quot;VT&quot;: case &quot;VA&quot;: case &quot;WY&quot;: \n",
       "                    return {&quot;color&quot;: &quot;black&quot;, &quot;fillColor&quot;: &quot;#f1eef6&quot;, &quot;fillOpacity&quot;: 0.7, &quot;opacity&quot;: 0.2, &quot;weight&quot;: 1};\n",
       "                case &quot;AK&quot;: case &quot;RI&quot;: \n",
       "                    return {&quot;color&quot;: &quot;black&quot;, &quot;fillColor&quot;: &quot;black&quot;, &quot;fillOpacity&quot;: 0.7, &quot;opacity&quot;: 0.2, &quot;weight&quot;: 1};\n",
       "                case &quot;AZ&quot;: case &quot;FL&quot;: case &quot;IA&quot;: case &quot;KS&quot;: case &quot;KY&quot;: case &quot;LA&quot;: case &quot;NJ&quot;: \n",
       "                    return {&quot;color&quot;: &quot;black&quot;, &quot;fillColor&quot;: &quot;#74a9cf&quot;, &quot;fillOpacity&quot;: 0.7, &quot;opacity&quot;: 0.2, &quot;weight&quot;: 1};\n",
       "                case &quot;AR&quot;: case &quot;CA&quot;: case &quot;CT&quot;: case &quot;IL&quot;: case &quot;MD&quot;: case &quot;NE&quot;: case &quot;NC&quot;: case &quot;WA&quot;: \n",
       "                    return {&quot;color&quot;: &quot;black&quot;, &quot;fillColor&quot;: &quot;#d0d1e6&quot;, &quot;fillOpacity&quot;: 0.7, &quot;opacity&quot;: 0.2, &quot;weight&quot;: 1};\n",
       "                case &quot;IN&quot;: case &quot;MN&quot;: case &quot;MO&quot;: case &quot;OH&quot;: case &quot;OK&quot;: case &quot;PA&quot;: case &quot;SC&quot;: case &quot;TX&quot;: \n",
       "                    return {&quot;color&quot;: &quot;black&quot;, &quot;fillColor&quot;: &quot;#a6bddb&quot;, &quot;fillOpacity&quot;: 0.7, &quot;opacity&quot;: 0.2, &quot;weight&quot;: 1};\n",
       "                case &quot;MI&quot;: case &quot;NY&quot;: \n",
       "                    return {&quot;color&quot;: &quot;black&quot;, &quot;fillColor&quot;: &quot;#2b8cbe&quot;, &quot;fillOpacity&quot;: 0.7, &quot;opacity&quot;: 0.2, &quot;weight&quot;: 1};\n",
       "                default:\n",
       "                    return {&quot;color&quot;: &quot;black&quot;, &quot;fillColor&quot;: &quot;#045a8d&quot;, &quot;fillOpacity&quot;: 0.7, &quot;opacity&quot;: 0.2, &quot;weight&quot;: 1};\n",
       "            }\n",
       "        }\n",
       "        function geo_json_4dce2655293a4b42bc0e08571d6d7b77_highlighter(feature) {\n",
       "            switch(feature.id) {\n",
       "                default:\n",
       "                    return {&quot;fillOpacity&quot;: 0.8999999999999999, &quot;weight&quot;: 3};\n",
       "            }\n",
       "        }\n",
       "\n",
       "        function geo_json_4dce2655293a4b42bc0e08571d6d7b77_onEachFeature(feature, layer) {\n",
       "            layer.on({\n",
       "                mouseout: function(e) {\n",
       "                    if(typeof e.target.setStyle === &quot;function&quot;){\n",
       "                            geo_json_4dce2655293a4b42bc0e08571d6d7b77.resetStyle(e.target);\n",
       "                    }\n",
       "                },\n",
       "                mouseover: function(e) {\n",
       "                    if(typeof e.target.setStyle === &quot;function&quot;){\n",
       "                        const highlightStyle = geo_json_4dce2655293a4b42bc0e08571d6d7b77_highlighter(e.target.feature)\n",
       "                        e.target.setStyle(highlightStyle);\n",
       "                    }\n",
       "                },\n",
       "            });\n",
       "        };\n",
       "        var geo_json_4dce2655293a4b42bc0e08571d6d7b77 = L.geoJson(null, {\n",
       "                onEachFeature: geo_json_4dce2655293a4b42bc0e08571d6d7b77_onEachFeature,\n",
       "            \n",
       "                style: geo_json_4dce2655293a4b42bc0e08571d6d7b77_styler,\n",
       "        });\n",
       "\n",
       "        function geo_json_4dce2655293a4b42bc0e08571d6d7b77_add (data) {\n",
       "            geo_json_4dce2655293a4b42bc0e08571d6d7b77\n",
       "                .addData(data);\n",
       "        }\n",
       "            geo_json_4dce2655293a4b42bc0e08571d6d7b77_add({&quot;features&quot;: [{&quot;geometry&quot;: {&quot;coordinates&quot;: [[[-87.359296, 35.00118], [-85.606675, 34.984749], [-85.431413, 34.124869], [-85.184951, 32.859696], [-85.069935, 32.580372], [-84.960397, 32.421541], [-85.004212, 32.322956], [-84.889196, 32.262709], [-85.058981, 32.13674], [-85.053504, 32.01077], [-85.141136, 31.840985], [-85.042551, 31.539753], [-85.113751, 31.27686], [-85.004212, 31.003013], [-85.497137, 30.997536], [-87.600282, 30.997536], [-87.633143, 30.86609], [-87.408589, 30.674397], [-87.446927, 30.510088], [-87.37025, 30.427934], [-87.518128, 30.280057], [-87.655051, 30.247195], [-87.90699, 30.411504], [-87.934375, 30.657966], [-88.011052, 30.685351], [-88.10416, 30.499135], [-88.137022, 30.318396], [-88.394438, 30.367688], [-88.471115, 31.895754], [-88.241084, 33.796253], [-88.098683, 34.891641], [-88.202745, 34.995703], [-87.359296, 35.00118]]], &quot;type&quot;: &quot;Polygon&quot;}, &quot;id&quot;: &quot;AL&quot;, &quot;properties&quot;: {&quot;name&quot;: &quot;Alabama&quot;}, &quot;type&quot;: &quot;Feature&quot;}, {&quot;geometry&quot;: {&quot;coordinates&quot;: [[[[-131.602021, 55.117982], [-131.569159, 55.28229], [-131.355558, 55.183705], [-131.38842, 55.01392], [-131.645836, 55.035827], [-131.602021, 55.117982]]], [[[-131.832052, 55.42469], [-131.645836, 55.304197], [-131.749898, 55.128935], [-131.832052, 55.189182], [-131.832052, 55.42469]]], [[[-132.976733, 56.437924], [-132.735747, 56.459832], [-132.631685, 56.421493], [-132.664547, 56.273616], [-132.878148, 56.240754], [-133.069841, 56.333862], [-132.976733, 56.437924]]], [[[-133.595627, 56.350293], [-133.162949, 56.317431], [-133.05341, 56.125739], [-132.620732, 55.912138], [-132.472854, 55.780691], [-132.4619, 55.671152], [-132.357838, 55.649245], [-132.341408, 55.506844], [-132.166146, 55.364444], [-132.144238, 55.238474], [-132.029222, 55.276813], [-131.97993, 55.178228], [-131.958022, 54.789365], [-132.029222, 54.701734], [-132.308546, 54.718165], [-132.385223, 54.915335], [-132.483808, 54.898904], [-132.686455, 55.046781], [-132.746701, 54.997489], [-132.916486, 55.046781], [-132.889102, 54.898904], [-132.73027, 54.937242], [-132.626209, 54.882473], [-132.675501, 54.679826], [-132.867194, 54.701734], [-133.157472, 54.95915], [-133.239626, 55.090597], [-133.223195, 55.22752], [-133.453227, 55.216566], [-133.453227, 55.320628], [-133.277964, 55.331582], [-133.102702, 55.42469], [-133.17938, 55.588998], [-133.387503, 55.62186], [-133.420365, 55.884753], [-133.497042, 56.0162], [-133.639442, 55.923092], [-133.694212, 56.070969], [-133.546335, 56.142169], [-133.666827, 56.311955], [-133.595627, 56.350293]]], [[[-133.738027, 55.556137], [-133.546335, 55.490413], [-133.414888, 55.572568], [-133.283441, 55.534229], [-133.420365, 55.386352], [-133.633966, 55.430167], [-133.738027, 55.556137]]], [[[-133.907813, 56.930849], [-134.050213, 57.029434], [-133.885905, 57.095157], [-133.343688, 57.002049], [-133.102702, 57.007526], [-132.932917, 56.82131], [-132.620732, 56.667956], [-132.653593, 56.55294], [-132.817901, 56.492694], [-133.042456, 56.520078], [-133.201287, 56.448878], [-133.420365, 56.492694], [-133.66135, 56.448878], [-133.710643, 56.684386], [-133.688735, 56.837741], [-133.869474, 56.843218], [-133.907813, 56.930849]]], [[[-134.115936, 56.48174], [-134.25286, 56.558417], [-134.400737, 56.722725], [-134.417168, 56.848695], [-134.296675, 56.908941], [-134.170706, 56.848695], [-134.143321, 56.952757], [-133.748981, 56.772017], [-133.710643, 56.596755], [-133.847566, 56.574848], [-133.935197, 56.377678], [-133.836612, 56.322908], [-133.957105, 56.092877], [-134.110459, 56.142169], [-134.132367, 55.999769], [-134.230952, 56.070969], [-134.291198, 56.350293], [-134.115936, 56.48174]]], [[[-134.636246, 56.28457], [-134.669107, 56.169554], [-134.806031, 56.235277], [-135.178463, 56.67891], [-135.413971, 56.810356], [-135.331817, 56.914418], [-135.424925, 57.166357], [-135.687818, 57.369004], [-135.419448, 57.566174], [-135.298955, 57.48402], [-135.063447, 57.418296], [-134.849846, 57.407343], [-134.844369, 57.248511], [-134.636246, 56.728202], [-134.636246, 56.28457]]], [[[-134.712923, 58.223407], [-134.373353, 58.14673], [-134.176183, 58.157683], [-134.187137, 58.081006], [-133.902336, 57.807159], [-134.099505, 57.850975], [-134.148798, 57.757867], [-133.935197, 57.615466], [-133.869474, 57.363527], [-134.083075, 57.297804], [-134.154275, 57.210173], [-134.499322, 57.029434], [-134.603384, 57.034911], [-134.6472, 57.226604], [-134.575999, 57.341619], [-134.608861, 57.511404], [-134.729354, 57.719528], [-134.707446, 57.829067], [-134.784123, 58.097437], [-134.91557, 58.212453], [-134.953908, 58.409623], [-134.712923, 58.223407]]], [[[-135.857603, 57.330665], [-135.715203, 57.330665], [-135.567326, 57.149926], [-135.633049, 57.023957], [-135.857603, 56.996572], [-135.824742, 57.193742], [-135.857603, 57.330665]]], [[[-136.279328, 58.206976], [-135.978096, 58.201499], [-135.780926, 58.28913], [-135.496125, 58.168637], [-135.64948, 58.037191], [-135.59471, 57.987898], [-135.45231, 58.135776], [-135.107263, 58.086483], [-134.91557, 57.976944], [-135.025108, 57.779775], [-134.937477, 57.763344], [-134.822462, 57.500451], [-135.085355, 57.462112], [-135.572802, 57.675713], [-135.556372, 57.456635], [-135.709726, 57.369004], [-135.890465, 57.407343], [-136.000004, 57.544266], [-136.208128, 57.637374], [-136.366959, 57.829067], [-136.569606, 57.916698], [-136.558652, 58.075529], [-136.421728, 58.130299], [-136.377913, 58.267222], [-136.279328, 58.206976]]], [[[-147.079854, 60.200582], [-147.501579, 59.948643], [-147.53444, 59.850058], [-147.874011, 59.784335], [-147.80281, 59.937689], [-147.435855, 60.09652], [-147.205824, 60.271782], [-147.079854, 60.200582]]], [[[-147.561825, 60.578491], [-147.616594, 60.370367], [-147.758995, 60.156767], [-147.956165, 60.227967], [-147.791856, 60.474429], [-147.561825, 60.578491]]], [[[-147.786379, 70.245291], [-147.682318, 70.201475], [-147.162008, 70.15766], [-146.888161, 70.185044], [-146.510252, 70.185044], [-146.099482, 70.146706], [-145.858496, 70.168614], [-145.622988, 70.08646], [-145.195787, 69.993352], [-144.620708, 69.971444], [-144.461877, 70.026213], [-144.078491, 70.059075], [-143.914183, 70.130275], [-143.497935, 70.141229], [-143.503412, 70.091936], [-143.25695, 70.119321], [-142.747594, 70.042644], [-142.402547, 69.916674], [-142.079408, 69.856428], [-142.008207, 69.801659], [-141.712453, 69.790705], [-141.433129, 69.697597], [-141.378359, 69.63735], [-141.208574, 69.686643], [-141.00045, 69.648304], [-141.00045, 60.304644], [-140.53491, 60.22249], [-140.474664, 60.310121], [-139.987216, 60.184151], [-139.696939, 60.342983], [-139.088998, 60.359413], [-139.198537, 60.091043], [-139.045183, 59.997935], [-138.700135, 59.910304], [-138.623458, 59.767904], [-137.604747, 59.242118], [-137.445916, 58.908024], [-137.265177, 59.001132], [-136.827022, 59.159963], [-136.580559, 59.16544], [-136.465544, 59.285933], [-136.476498, 59.466672], [-136.301236, 59.466672], [-136.25742, 59.625503], [-135.945234, 59.663842], [-135.479694, 59.800766], [-135.025108, 59.565257], [-135.068924, 59.422857], [-134.959385, 59.280456], [-134.701969, 59.247595], [-134.378829, 59.033994], [-134.400737, 58.973748], [-134.25286, 58.858732], [-133.842089, 58.727285], [-133.173903, 58.152206], [-133.075318, 57.998852], [-132.867194, 57.845498], [-132.560485, 57.505928], [-132.253777, 57.21565], [-132.368792, 57.095157], [-132.05113, 57.051341], [-132.127807, 56.876079], [-131.870391, 56.804879], [-131.837529, 56.602232], [-131.580113, 56.613186], [-131.087188, 56.405062], [-130.78048, 56.366724], [-130.621648, 56.268139], [-130.468294, 56.240754], [-130.424478, 56.142169], [-130.101339, 56.114785], [-130.002754, 55.994292], [-130.150631, 55.769737], [-130.128724, 55.583521], [-129.986323, 55.276813], [-130.095862, 55.200136], [-130.336847, 54.920812], [-130.687372, 54.718165], [-130.785957, 54.822227], [-130.917403, 54.789365], [-131.010511, 54.997489], [-130.983126, 55.08512], [-131.092665, 55.189182], [-130.862634, 55.298721], [-130.928357, 55.337059], [-131.158389, 55.200136], [-131.284358, 55.287767], [-131.426759, 55.238474], [-131.843006, 55.457552], [-131.700606, 55.698537], [-131.963499, 55.616383], [-131.974453, 55.49589], [-132.182576, 55.588998], [-132.226392, 55.704014], [-132.083991, 55.829984], [-132.127807, 55.955953], [-132.324977, 55.851892], [-132.522147, 56.076446], [-132.642639, 56.032631], [-132.719317, 56.218847], [-132.527624, 56.339339], [-132.341408, 56.339339], [-132.396177, 56.487217], [-132.297592, 56.67891], [-132.450946, 56.673433], [-132.768609, 56.837741], [-132.993164, 57.034911], [-133.51895, 57.177311], [-133.507996, 57.577128], [-133.677781, 57.62642], [-133.639442, 57.790728], [-133.814705, 57.834544], [-134.072121, 58.053622], [-134.143321, 58.168637], [-134.586953, 58.206976], [-135.074401, 58.502731], [-135.282525, 59.192825], [-135.38111, 59.033994], [-135.337294, 58.891593], [-135.140124, 58.617746], [-135.189417, 58.573931], [-135.05797, 58.349376], [-135.085355, 58.201499], [-135.277048, 58.234361], [-135.430402, 58.398669], [-135.633049, 58.426053], [-135.91785, 58.382238], [-135.912373, 58.617746], [-136.087635, 58.814916], [-136.246466, 58.75467], [-136.876314, 58.962794], [-136.931084, 58.902547], [-136.586036, 58.836824], [-136.317666, 58.672516], [-136.213604, 58.667039], [-136.180743, 58.535592], [-136.043819, 58.382238], [-136.388867, 58.294607], [-136.591513, 58.349376], [-136.59699, 58.212453], [-136.859883, 58.316515], [-136.947514, 58.393192], [-137.111823, 58.393192], [-137.566409, 58.590362], [-137.900502, 58.765624], [-137.933364, 58.869686], [-138.11958, 59.02304], [-138.634412, 59.132579], [-138.919213, 59.247595], [-139.417615, 59.379041], [-139.746231, 59.505011], [-139.718846, 59.641934], [-139.625738, 59.598119], [-139.5162, 59.68575], [-139.625738, 59.88292], [-139.488815, 59.992458], [-139.554538, 60.041751], [-139.801, 59.833627], [-140.315833, 59.696704], [-140.92925, 59.745996], [-141.444083, 59.871966], [-141.46599, 59.970551], [-141.706976, 59.948643], [-141.964392, 60.019843], [-142.539471, 60.085566], [-142.873564, 60.091043], [-143.623905, 60.036274], [-143.892275, 59.997935], [-144.231845, 60.140336], [-144.65357, 60.206059], [-144.785016, 60.29369], [-144.834309, 60.441568], [-145.124586, 60.430614], [-145.223171, 60.299167], [-145.738004, 60.474429], [-145.820158, 60.551106], [-146.351421, 60.408706], [-146.608837, 60.238921], [-146.718376, 60.397752], [-146.608837, 60.485383], [-146.455483, 60.463475], [-145.951604, 60.578491], [-146.017328, 60.666122], [-146.252836, 60.622307], [-146.345944, 60.737322], [-146.565022, 60.753753], [-146.784099, 61.044031], [-146.866253, 60.972831], [-147.172962, 60.934492], [-147.271547, 60.972831], [-147.375609, 60.879723], [-147.758995, 60.912584], [-147.775426, 60.808523], [-148.032842, 60.781138], [-148.153334, 60.819476], [-148.065703, 61.005692], [-148.175242, 61.000215], [-148.350504, 60.803046], [-148.109519, 60.737322], [-148.087611, 60.594922], [-147.939734, 60.441568], [-148.027365, 60.277259], [-148.219058, 60.332029], [-148.273827, 60.249875], [-148.087611, 60.217013], [-147.983549, 59.997935], [-148.251919, 59.95412], [-148.399797, 59.997935], [-148.635305, 59.937689], [-148.755798, 59.986981], [-149.067984, 59.981505], [-149.05703, 60.063659], [-149.204907, 60.008889], [-149.287061, 59.904827], [-149.418508, 59.997935], [-149.582816, 59.866489], [-149.511616, 59.806242], [-149.741647, 59.729565], [-149.949771, 59.718611], [-150.031925, 59.61455], [-150.25648, 59.521442], [-150.409834, 59.554303], [-150.579619, 59.444764], [-150.716543, 59.450241], [-151.001343, 59.225687], [-151.308052, 59.209256], [-151.406637, 59.280456], [-151.592853, 59.159963], [-151.976239, 59.253071], [-151.888608, 59.422857], [-151.636669, 59.483103], [-151.47236, 59.472149], [-151.423068, 59.537872], [-151.127313, 59.669319], [-151.116359, 59.778858], [-151.505222, 59.63098], [-151.828361, 59.718611], [-151.8667, 59.778858], [-151.702392, 60.030797], [-151.423068, 60.211536], [-151.379252, 60.359413], [-151.297098, 60.386798], [-151.264237, 60.545629], [-151.406637, 60.720892], [-151.06159, 60.786615], [-150.404357, 61.038554], [-150.245526, 60.939969], [-150.042879, 60.912584], [-149.741647, 61.016646], [-150.075741, 61.15357], [-150.207187, 61.257632], [-150.47008, 61.246678], [-150.656296, 61.29597], [-150.711066, 61.252155], [-151.023251, 61.180954], [-151.165652, 61.044031], [-151.477837, 61.011169], [-151.800977, 60.852338], [-151.833838, 60.748276], [-152.080301, 60.693507], [-152.13507, 60.578491], [-152.310332, 60.507291], [-152.392486, 60.304644], [-152.732057, 60.173197], [-152.567748, 60.069136], [-152.704672, 59.915781], [-153.022334, 59.888397], [-153.049719, 59.691227], [-153.345474, 59.620026], [-153.438582, 59.702181], [-153.586459, 59.548826], [-153.761721, 59.543349], [-153.72886, 59.433811], [-154.117723, 59.368087], [-154.1944, 59.066856], [-153.750768, 59.050425], [-153.400243, 58.968271], [-153.301658, 58.869686], [-153.444059, 58.710854], [-153.679567, 58.612269], [-153.898645, 58.606793], [-153.920553, 58.519161], [-154.062953, 58.4863], [-153.99723, 58.376761], [-154.145107, 58.212453], [-154.46277, 58.059098], [-154.643509, 58.059098], [-154.818771, 58.004329], [-154.988556, 58.015283], [-155.120003, 57.955037], [-155.081664, 57.872883], [-155.328126, 57.829067], [-155.377419, 57.708574], [-155.547204, 57.785251], [-155.73342, 57.549743], [-156.045606, 57.566174], [-156.023698, 57.440204], [-156.209914, 57.473066], [-156.34136, 57.418296], [-156.34136, 57.248511], [-156.549484, 56.985618], [-156.883577, 56.952757], [-157.157424, 56.832264], [-157.20124, 56.766541], [-157.376502, 56.859649], [-157.672257, 56.607709], [-157.754411, 56.67891], [-157.918719, 56.657002], [-157.957058, 56.514601], [-158.126843, 56.459832], [-158.32949, 56.48174], [-158.488321, 56.339339], [-158.208997, 56.295524], [-158.510229, 55.977861], [-159.375585, 55.873799], [-159.616571, 55.594475], [-159.676817, 55.654722], [-159.643955, 55.829984], [-159.813741, 55.857368], [-160.027341, 55.791645], [-160.060203, 55.720445], [-160.394296, 55.605429], [-160.536697, 55.473983], [-160.580512, 55.567091], [-160.668143, 55.457552], [-160.865313, 55.528752], [-161.232268, 55.358967], [-161.506115, 55.364444], [-161.467776, 55.49589], [-161.588269, 55.62186], [-161.697808, 55.517798], [-161.686854, 55.408259], [-162.053809, 55.074166], [-162.179779, 55.15632], [-162.218117, 55.03035], [-162.470057, 55.052258], [-162.508395, 55.249428], [-162.661749, 55.293244], [-162.716519, 55.222043], [-162.579595, 55.134412], [-162.645319, 54.997489], [-162.847965, 54.926289], [-163.00132, 55.079643], [-163.187536, 55.090597], [-163.220397, 55.03035], [-163.034181, 54.942719], [-163.373752, 54.800319], [-163.14372, 54.76198], [-163.138243, 54.696257], [-163.329936, 54.74555], [-163.587352, 54.614103], [-164.085754, 54.61958], [-164.332216, 54.531949], [-164.354124, 54.466226], [-164.638925, 54.389548], [-164.847049, 54.416933], [-164.918249, 54.603149], [-164.710125, 54.663395], [-164.551294, 54.88795], [-164.34317, 54.893427], [-163.894061, 55.041304], [-163.532583, 55.046781], [-163.39566, 54.904381], [-163.291598, 55.008443], [-163.313505, 55.128935], [-163.105382, 55.183705], [-162.880827, 55.183705], [-162.579595, 55.446598], [-162.245502, 55.682106], [-161.807347, 55.89023], [-161.292514, 55.983338], [-161.078914, 55.939523], [-160.87079, 55.999769], [-160.816021, 55.912138], [-160.931036, 55.813553], [-160.805067, 55.736876], [-160.766728, 55.857368], [-160.509312, 55.868322], [-160.438112, 55.791645], [-160.27928, 55.76426], [-160.273803, 55.857368], [-160.536697, 55.939523], [-160.558604, 55.994292], [-160.383342, 56.251708], [-160.147834, 56.399586], [-159.830171, 56.541986], [-159.326293, 56.667956], [-158.959338, 56.848695], [-158.784076, 56.782971], [-158.641675, 56.810356], [-158.701922, 56.925372], [-158.658106, 57.034911], [-158.378782, 57.264942], [-157.995396, 57.41282], [-157.688688, 57.609989], [-157.705118, 57.719528], [-157.458656, 58.497254], [-157.07527, 58.705377], [-157.119086, 58.869686], [-158.039212, 58.634177], [-158.32949, 58.661562], [-158.40069, 58.760147], [-158.564998, 58.803962], [-158.619768, 58.913501], [-158.767645, 58.864209], [-158.860753, 58.694424], [-158.701922, 58.480823], [-158.893615, 58.387715], [-159.0634, 58.420577], [-159.392016, 58.760147], [-159.616571, 58.929932], [-159.731586, 58.929932], [-159.808264, 58.803962], [-159.906848, 58.782055], [-160.054726, 58.886116], [-160.235465, 58.902547], [-160.317619, 59.072332], [-160.854359, 58.88064], [-161.33633, 58.743716], [-161.374669, 58.667039], [-161.752577, 58.552023], [-161.938793, 58.656085], [-161.769008, 58.776578], [-161.829255, 59.061379], [-161.955224, 59.36261], [-161.703285, 59.48858], [-161.911409, 59.740519], [-162.092148, 59.88292], [-162.234548, 60.091043], [-162.448149, 60.178674], [-162.502918, 59.997935], [-162.760334, 59.959597], [-163.171105, 59.844581], [-163.66403, 59.795289], [-163.9324, 59.806242], [-164.162431, 59.866489], [-164.189816, 60.02532], [-164.386986, 60.074613], [-164.699171, 60.29369], [-164.962064, 60.337506], [-165.268773, 60.578491], [-165.060649, 60.68803], [-165.016834, 60.890677], [-165.175665, 60.846861], [-165.197573, 60.972831], [-165.120896, 61.076893], [-165.323543, 61.170001], [-165.34545, 61.071416], [-165.591913, 61.109754], [-165.624774, 61.279539], [-165.816467, 61.301447], [-165.920529, 61.416463], [-165.915052, 61.558863], [-166.106745, 61.49314], [-166.139607, 61.630064], [-165.904098, 61.662925], [-166.095791, 61.81628], [-165.756221, 61.827233], [-165.756221, 62.013449], [-165.674067, 62.139419], [-165.044219, 62.539236], [-164.912772, 62.659728], [-164.819664, 62.637821], [-164.874433, 62.807606], [-164.633448, 63.097884], [-164.425324, 63.212899], [-164.036462, 63.262192], [-163.73523, 63.212899], [-163.313505, 63.037637], [-163.039658, 63.059545], [-162.661749, 63.22933], [-162.272887, 63.486746], [-162.075717, 63.514131], [-162.026424, 63.448408], [-161.555408, 63.448408], [-161.13916, 63.503177], [-160.766728, 63.771547], [-160.766728, 63.837271], [-160.952944, 64.08921], [-160.974852, 64.237087], [-161.26513, 64.395918], [-161.374669, 64.532842], [-161.078914, 64.494503], [-160.79959, 64.609519], [-160.783159, 64.719058], [-161.144637, 64.921705], [-161.413007, 64.762873], [-161.664946, 64.790258], [-161.900455, 64.702627], [-162.168825, 64.680719], [-162.234548, 64.620473], [-162.541257, 64.532842], [-162.634365, 64.384965], [-162.787719, 64.324718], [-162.858919, 64.49998], [-163.045135, 64.538319], [-163.176582, 64.401395], [-163.253259, 64.467119], [-163.598306, 64.565704], [-164.304832, 64.560227], [-164.80871, 64.450688], [-165.000403, 64.434257], [-165.411174, 64.49998], [-166.188899, 64.576658], [-166.391546, 64.636904], [-166.484654, 64.735489], [-166.413454, 64.872412], [-166.692778, 64.987428], [-166.638008, 65.113398], [-166.462746, 65.179121], [-166.517516, 65.337952], [-166.796839, 65.337952], [-167.026871, 65.381768], [-167.47598, 65.414629], [-167.711489, 65.496784], [-168.072967, 65.578938], [-168.105828, 65.682999], [-167.541703, 65.819923], [-166.829701, 66.049954], [-166.3313, 66.186878], [-166.046499, 66.110201], [-165.756221, 66.09377], [-165.690498, 66.203309], [-165.86576, 66.21974], [-165.88219, 66.312848], [-165.186619, 66.466202], [-164.403417, 66.581218], [-163.981692, 66.592172], [-163.751661, 66.553833], [-163.872153, 66.389525], [-163.828338, 66.274509], [-163.915969, 66.192355], [-163.768091, 66.060908], [-163.494244, 66.082816], [-163.149197, 66.060908], [-162.749381, 66.088293], [-162.634365, 66.039001], [-162.371472, 66.028047], [-162.14144, 66.077339], [-161.840208, 66.02257], [-161.549931, 66.241647], [-161.341807, 66.252601], [-161.199406, 66.208786], [-161.128206, 66.334755], [-161.528023, 66.395002], [-161.911409, 66.345709], [-161.87307, 66.510017], [-162.174302, 66.68528], [-162.502918, 66.740049], [-162.601503, 66.89888], [-162.344087, 66.937219], [-162.015471, 66.778388], [-162.075717, 66.652418], [-161.916886, 66.553833], [-161.571838, 66.438817], [-161.489684, 66.55931], [-161.884024, 66.718141], [-161.714239, 67.002942], [-161.851162, 67.052235], [-162.240025, 66.991988], [-162.639842, 67.008419], [-162.700088, 67.057712], [-162.902735, 67.008419], [-163.740707, 67.128912], [-163.757138, 67.254881], [-164.009077, 67.534205], [-164.211724, 67.638267], [-164.534863, 67.725898], [-165.192096, 67.966884], [-165.493328, 68.059992], [-165.794559, 68.081899], [-166.243668, 68.246208], [-166.681824, 68.339316], [-166.703731, 68.372177], [-166.375115, 68.42147], [-166.227238, 68.574824], [-166.216284, 68.881533], [-165.329019, 68.859625], [-164.255539, 68.930825], [-163.976215, 68.985595], [-163.532583, 69.138949], [-163.110859, 69.374457], [-163.023228, 69.609966], [-162.842489, 69.812613], [-162.470057, 69.982398], [-162.311225, 70.108367], [-161.851162, 70.311014], [-161.779962, 70.256245], [-161.396576, 70.239814], [-160.837928, 70.343876], [-160.487404, 70.453415], [-159.649432, 70.792985], [-159.33177, 70.809416], [-159.298908, 70.760123], [-158.975769, 70.798462], [-158.658106, 70.787508], [-158.033735, 70.831323], [-157.420318, 70.979201], [-156.812377, 71.285909], [-156.565915, 71.351633], [-156.522099, 71.296863], [-155.585543, 71.170894], [-155.508865, 71.083263], [-155.832005, 70.968247], [-155.979882, 70.96277], [-155.974405, 70.809416], [-155.503388, 70.858708], [-155.476004, 70.940862], [-155.262403, 71.017539], [-155.191203, 70.973724], [-155.032372, 71.148986], [-154.566832, 70.990155], [-154.643509, 70.869662], [-154.353231, 70.8368], [-154.183446, 70.7656], [-153.931507, 70.880616], [-153.487874, 70.886093], [-153.235935, 70.924431], [-152.589656, 70.886093], [-152.26104, 70.842277], [-152.419871, 70.606769], [-151.817408, 70.546523], [-151.773592, 70.486276], [-151.187559, 70.382214], [-151.182082, 70.431507], [-150.760358, 70.49723], [-150.355064, 70.491753], [-150.349588, 70.436984], [-150.114079, 70.431507], [-149.867617, 70.508184], [-149.462323, 70.519138], [-149.177522, 70.486276], [-148.78866, 70.404122], [-148.607921, 70.420553], [-148.350504, 70.305537], [-148.202627, 70.349353], [-147.961642, 70.316491], [-147.786379, 70.245291]]], [[[-152.94018, 58.026237], [-152.945657, 57.982421], [-153.290705, 58.048145], [-153.044242, 58.305561], [-152.819688, 58.327469], [-152.666333, 58.562977], [-152.496548, 58.354853], [-152.354148, 58.426053], [-152.080301, 58.311038], [-152.080301, 58.152206], [-152.480117, 58.130299], [-152.655379, 58.059098], [-152.94018, 58.026237]]], [[[-153.958891, 57.538789], [-153.67409, 57.670236], [-153.931507, 57.69762], [-153.936983, 57.812636], [-153.723383, 57.889313], [-153.570028, 57.834544], [-153.548121, 57.719528], [-153.46049, 57.796205], [-153.455013, 57.96599], [-153.268797, 57.889313], [-153.235935, 57.998852], [-153.071627, 57.933129], [-152.874457, 57.933129], [-152.721103, 57.993375], [-152.469163, 57.889313], [-152.469163, 57.599035], [-152.151501, 57.620943], [-152.359625, 57.42925], [-152.74301, 57.505928], [-152.60061, 57.379958], [-152.710149, 57.275896], [-152.907319, 57.325188], [-152.912796, 57.128019], [-153.214027, 57.073249], [-153.312612, 56.991095], [-153.498828, 57.067772], [-153.695998, 56.859649], [-153.849352, 56.837741], [-154.013661, 56.744633], [-154.073907, 56.969187], [-154.303938, 56.848695], [-154.314892, 56.919895], [-154.523016, 56.991095], [-154.539447, 57.193742], [-154.742094, 57.275896], [-154.627078, 57.511404], [-154.227261, 57.659282], [-153.980799, 57.648328], [-153.958891, 57.538789]]], [[[-154.53397, 56.602232], [-154.742094, 56.399586], [-154.807817, 56.432447], [-154.53397, 56.602232]]], [[[-155.634835, 55.923092], [-155.476004, 55.912138], [-155.530773, 55.704014], [-155.793666, 55.731399], [-155.837482, 55.802599], [-155.634835, 55.923092]]], [[[-159.890418, 55.28229], [-159.950664, 55.068689], [-160.257373, 54.893427], [-160.109495, 55.161797], [-160.005433, 55.134412], [-159.890418, 55.28229]]], [[[-160.520266, 55.358967], [-160.33405, 55.358967], [-160.339527, 55.249428], [-160.525743, 55.128935], [-160.690051, 55.211089], [-160.794113, 55.134412], [-160.854359, 55.320628], [-160.79959, 55.380875], [-160.520266, 55.358967]]], [[[-162.256456, 54.981058], [-162.234548, 54.893427], [-162.349564, 54.838658], [-162.437195, 54.931766], [-162.256456, 54.981058]]], [[[-162.415287, 63.634624], [-162.563165, 63.536039], [-162.612457, 63.62367], [-162.415287, 63.634624]]], [[[-162.80415, 54.488133], [-162.590549, 54.449795], [-162.612457, 54.367641], [-162.782242, 54.373118], [-162.80415, 54.488133]]], [[[-165.548097, 54.29644], [-165.476897, 54.181425], [-165.630251, 54.132132], [-165.685021, 54.252625], [-165.548097, 54.29644]]], [[[-165.73979, 54.15404], [-166.046499, 54.044501], [-166.112222, 54.121178], [-165.980775, 54.219763], [-165.73979, 54.15404]]], [[[-166.364161, 60.359413], [-166.13413, 60.397752], [-166.084837, 60.326552], [-165.88219, 60.342983], [-165.685021, 60.277259], [-165.646682, 59.992458], [-165.750744, 59.89935], [-166.00816, 59.844581], [-166.062929, 59.745996], [-166.440838, 59.855535], [-166.6161, 59.850058], [-166.994009, 59.992458], [-167.125456, 59.992458], [-167.344534, 60.074613], [-167.421211, 60.206059], [-167.311672, 60.238921], [-166.93924, 60.206059], [-166.763978, 60.310121], [-166.577762, 60.321075], [-166.495608, 60.392275], [-166.364161, 60.359413]]], [[[-166.375115, 54.01164], [-166.210807, 53.934962], [-166.5449, 53.748746], [-166.539423, 53.715885], [-166.117699, 53.852808], [-166.112222, 53.776131], [-166.282007, 53.683023], [-166.555854, 53.622777], [-166.583239, 53.529669], [-166.878994, 53.431084], [-167.13641, 53.425607], [-167.306195, 53.332499], [-167.623857, 53.250345], [-167.793643, 53.337976], [-167.459549, 53.442038], [-167.355487, 53.425607], [-167.103548, 53.513238], [-167.163794, 53.611823], [-167.021394, 53.715885], [-166.807793, 53.666592], [-166.785886, 53.732316], [-167.015917, 53.754223], [-167.141887, 53.825424], [-167.032348, 53.945916], [-166.643485, 54.017116], [-166.561331, 53.880193], [-166.375115, 54.01164]]], [[[-168.790446, 53.157237], [-168.40706, 53.34893], [-168.385152, 53.431084], [-168.237275, 53.524192], [-168.007243, 53.568007], [-167.886751, 53.518715], [-167.842935, 53.387268], [-168.270136, 53.244868], [-168.500168, 53.036744], [-168.686384, 52.965544], [-168.790446, 53.157237]]], [[[-169.74891, 52.894344], [-169.705095, 52.795759], [-169.962511, 52.790282], [-169.989896, 52.856005], [-169.74891, 52.894344]]], [[[-170.148727, 57.221127], [-170.28565, 57.128019], [-170.313035, 57.221127], [-170.148727, 57.221127]]], [[[-170.669036, 52.697174], [-170.603313, 52.604066], [-170.789529, 52.538343], [-170.816914, 52.636928], [-170.669036, 52.697174]]], [[[-171.742517, 63.716778], [-170.94836, 63.5689], [-170.488297, 63.69487], [-170.280174, 63.683916], [-170.093958, 63.612716], [-170.044665, 63.492223], [-169.644848, 63.4265], [-169.518879, 63.366254], [-168.99857, 63.338869], [-168.686384, 63.295053], [-168.856169, 63.147176], [-169.108108, 63.180038], [-169.376478, 63.152653], [-169.513402, 63.08693], [-169.639372, 62.939052], [-169.831064, 63.075976], [-170.055619, 63.169084], [-170.263743, 63.180038], [-170.362328, 63.2841], [-170.866206, 63.415546], [-171.101715, 63.421023], [-171.463193, 63.306007], [-171.73704, 63.366254], [-171.852055, 63.486746], [-171.742517, 63.716778]]], [[[-172.432611, 52.390465], [-172.41618, 52.275449], [-172.607873, 52.253542], [-172.569535, 52.352127], [-172.432611, 52.390465]]], [[[-173.626584, 52.14948], [-173.495138, 52.105664], [-173.122706, 52.111141], [-173.106275, 52.07828], [-173.549907, 52.028987], [-173.626584, 52.14948]]], [[[-174.322156, 52.280926], [-174.327632, 52.379511], [-174.185232, 52.41785], [-173.982585, 52.319265], [-174.059262, 52.226157], [-174.179755, 52.231634], [-174.141417, 52.127572], [-174.333109, 52.116618], [-174.738403, 52.007079], [-174.968435, 52.039941], [-174.902711, 52.116618], [-174.656249, 52.105664], [-174.322156, 52.280926]]], [[[-176.469116, 51.853725], [-176.288377, 51.870156], [-176.288377, 51.744186], [-176.518409, 51.760617], [-176.80321, 51.61274], [-176.912748, 51.80991], [-176.792256, 51.815386], [-176.775825, 51.963264], [-176.627947, 51.968741], [-176.627947, 51.859202], [-176.469116, 51.853725]]], [[[-177.153734, 51.946833], [-177.044195, 51.897541], [-177.120872, 51.727755], [-177.274226, 51.678463], [-177.279703, 51.782525], [-177.153734, 51.946833]]], [[[-178.123152, 51.919448], [-177.953367, 51.913971], [-177.800013, 51.793479], [-177.964321, 51.651078], [-178.123152, 51.919448]]], [[[173.107557, 52.992929], [173.293773, 52.927205], [173.304726, 52.823143], [172.90491, 52.762897], [172.642017, 52.927205], [172.642017, 53.003883], [173.107557, 52.992929]]]], &quot;type&quot;: &quot;MultiPolygon&quot;}, &quot;id&quot;: &quot;AK&quot;, &quot;properties&quot;: {&quot;name&quot;: &quot;Alaska&quot;}, &quot;type&quot;: &quot;Feature&quot;}, {&quot;geometry&quot;: {&quot;coordinates&quot;: [[[-109.042503, 37.000263], [-109.04798, 31.331629], [-111.074448, 31.331629], [-112.246513, 31.704061], [-114.815198, 32.492741], [-114.72209, 32.717295], [-114.524921, 32.755634], [-114.470151, 32.843265], [-114.524921, 33.029481], [-114.661844, 33.034958], [-114.727567, 33.40739], [-114.524921, 33.54979], [-114.497536, 33.697668], [-114.535874, 33.933176], [-114.415382, 34.108438], [-114.256551, 34.174162], [-114.136058, 34.305608], [-114.333228, 34.448009], [-114.470151, 34.710902], [-114.634459, 34.87521], [-114.634459, 35.00118], [-114.574213, 35.138103], [-114.596121, 35.324319], [-114.678275, 35.516012], [-114.738521, 36.102045], [-114.371566, 36.140383], [-114.251074, 36.01989], [-114.152489, 36.025367], [-114.048427, 36.195153], [-114.048427, 37.000263], [-110.499369, 37.00574], [-109.042503, 37.000263]]], &quot;type&quot;: &quot;Polygon&quot;}, &quot;id&quot;: &quot;AZ&quot;, &quot;properties&quot;: {&quot;name&quot;: &quot;Arizona&quot;}, &quot;type&quot;: &quot;Feature&quot;}, {&quot;geometry&quot;: {&quot;coordinates&quot;: [[[-94.473842, 36.501861], [-90.152536, 36.496384], [-90.064905, 36.304691], [-90.218259, 36.184199], [-90.377091, 35.997983], [-89.730812, 35.997983], [-89.763673, 35.811767], [-89.911551, 35.756997], [-89.944412, 35.603643], [-90.130628, 35.439335], [-90.114197, 35.198349], [-90.212782, 35.023087], [-90.311367, 34.995703], [-90.251121, 34.908072], [-90.409952, 34.831394], [-90.481152, 34.661609], [-90.585214, 34.617794], [-90.568783, 34.420624], [-90.749522, 34.365854], [-90.744046, 34.300131], [-90.952169, 34.135823], [-90.891923, 34.026284], [-91.072662, 33.867453], [-91.231493, 33.560744], [-91.056231, 33.429298], [-91.143862, 33.347144], [-91.089093, 33.13902], [-91.16577, 33.002096], [-93.608485, 33.018527], [-94.041164, 33.018527], [-94.041164, 33.54979], [-94.183564, 33.593606], [-94.380734, 33.544313], [-94.484796, 33.637421], [-94.430026, 35.395519], [-94.616242, 36.501861], [-94.473842, 36.501861]]], &quot;type&quot;: &quot;Polygon&quot;}, &quot;id&quot;: &quot;AR&quot;, &quot;properties&quot;: {&quot;name&quot;: &quot;Arkansas&quot;}, &quot;type&quot;: &quot;Feature&quot;}, {&quot;geometry&quot;: {&quot;coordinates&quot;: [[[-123.233256, 42.006186], [-122.378853, 42.011663], [-121.037003, 41.995232], [-120.001861, 41.995232], [-119.996384, 40.264519], [-120.001861, 38.999346], [-118.71478, 38.101128], [-117.498899, 37.21934], [-116.540435, 36.501861], [-115.85034, 35.970598], [-114.634459, 35.00118], [-114.634459, 34.87521], [-114.470151, 34.710902], [-114.333228, 34.448009], [-114.136058, 34.305608], [-114.256551, 34.174162], [-114.415382, 34.108438], [-114.535874, 33.933176], [-114.497536, 33.697668], [-114.524921, 33.54979], [-114.727567, 33.40739], [-114.661844, 33.034958], [-114.524921, 33.029481], [-114.470151, 32.843265], [-114.524921, 32.755634], [-114.72209, 32.717295], [-116.04751, 32.624187], [-117.126467, 32.536556], [-117.24696, 32.668003], [-117.252437, 32.876127], [-117.329114, 33.122589], [-117.471515, 33.297851], [-117.7837, 33.538836], [-118.183517, 33.763391], [-118.260194, 33.703145], [-118.413548, 33.741483], [-118.391641, 33.840068], [-118.566903, 34.042715], [-118.802411, 33.998899], [-119.218659, 34.146777], [-119.278905, 34.26727], [-119.558229, 34.415147], [-119.875891, 34.40967], [-120.138784, 34.475393], [-120.472878, 34.448009], [-120.64814, 34.579455], [-120.609801, 34.858779], [-120.670048, 34.902595], [-120.631709, 35.099764], [-120.894602, 35.247642], [-120.905556, 35.450289], [-121.004141, 35.461243], [-121.168449, 35.636505], [-121.283465, 35.674843], [-121.332757, 35.784382], [-121.716143, 36.195153], [-121.896882, 36.315645], [-121.935221, 36.638785], [-121.858544, 36.6114], [-121.787344, 36.803093], [-121.929744, 36.978355], [-122.105006, 36.956447], [-122.335038, 37.115279], [-122.417192, 37.241248], [-122.400761, 37.361741], [-122.515777, 37.520572], [-122.515777, 37.783465], [-122.329561, 37.783465], [-122.406238, 38.15042], [-122.488392, 38.112082], [-122.504823, 37.931343], [-122.701993, 37.893004], [-122.937501, 38.029928], [-122.97584, 38.265436], [-123.129194, 38.451652], [-123.331841, 38.566668], [-123.44138, 38.698114], [-123.737134, 38.95553], [-123.687842, 39.032208], [-123.824765, 39.366301], [-123.764519, 39.552517], [-123.85215, 39.831841], [-124.109566, 40.105688], [-124.361506, 40.259042], [-124.410798, 40.439781], [-124.158859, 40.877937], [-124.109566, 41.025814], [-124.158859, 41.14083], [-124.065751, 41.442061], [-124.147905, 41.715908], [-124.257444, 41.781632], [-124.213628, 42.000709], [-123.233256, 42.006186]]], &quot;type&quot;: &quot;Polygon&quot;}, &quot;id&quot;: &quot;CA&quot;, &quot;properties&quot;: {&quot;name&quot;: &quot;California&quot;}, &quot;type&quot;: &quot;Feature&quot;}, {&quot;geometry&quot;: {&quot;coordinates&quot;: [[[-107.919731, 41.003906], [-105.728954, 40.998429], [-104.053011, 41.003906], [-102.053927, 41.003906], [-102.053927, 40.001626], [-102.042974, 36.994786], [-103.001438, 37.000263], [-104.337812, 36.994786], [-106.868158, 36.994786], [-107.421329, 37.000263], [-109.042503, 37.000263], [-109.042503, 38.166851], [-109.058934, 38.27639], [-109.053457, 39.125316], [-109.04798, 40.998429], [-107.919731, 41.003906]]], &quot;type&quot;: &quot;Polygon&quot;}, &quot;id&quot;: &quot;CO&quot;, &quot;properties&quot;: {&quot;name&quot;: &quot;Colorado&quot;}, &quot;type&quot;: &quot;Feature&quot;}, {&quot;geometry&quot;: {&quot;coordinates&quot;: [[[-73.053528, 42.039048], [-71.799309, 42.022617], [-71.799309, 42.006186], [-71.799309, 41.414677], [-71.859555, 41.321569], [-71.947186, 41.338], [-72.385341, 41.261322], [-72.905651, 41.28323], [-73.130205, 41.146307], [-73.371191, 41.102491], [-73.655992, 40.987475], [-73.727192, 41.102491], [-73.48073, 41.21203], [-73.55193, 41.294184], [-73.486206, 42.050002], [-73.053528, 42.039048]]], &quot;type&quot;: &quot;Polygon&quot;}, &quot;id&quot;: &quot;CT&quot;, &quot;properties&quot;: {&quot;name&quot;: &quot;Connecticut&quot;}, &quot;type&quot;: &quot;Feature&quot;}, {&quot;geometry&quot;: {&quot;coordinates&quot;: [[[-75.414089, 39.804456], [-75.507197, 39.683964], [-75.611259, 39.61824], [-75.589352, 39.459409], [-75.441474, 39.311532], [-75.403136, 39.065069], [-75.189535, 38.807653], [-75.09095, 38.796699], [-75.047134, 38.451652], [-75.693413, 38.462606], [-75.786521, 39.722302], [-75.616736, 39.831841], [-75.414089, 39.804456]]], &quot;type&quot;: &quot;Polygon&quot;}, &quot;id&quot;: &quot;DE&quot;, &quot;properties&quot;: {&quot;name&quot;: &quot;Delaware&quot;}, &quot;type&quot;: &quot;Feature&quot;}, {&quot;geometry&quot;: {&quot;coordinates&quot;: [[[-85.497137, 30.997536], [-85.004212, 31.003013], [-84.867289, 30.712735], [-83.498053, 30.647012], [-82.216449, 30.570335], [-82.167157, 30.356734], [-82.046664, 30.362211], [-82.002849, 30.564858], [-82.041187, 30.751074], [-81.948079, 30.827751], [-81.718048, 30.745597], [-81.444201, 30.707258], [-81.383954, 30.27458], [-81.257985, 29.787132], [-80.967707, 29.14633], [-80.524075, 28.461713], [-80.589798, 28.41242], [-80.56789, 28.094758], [-80.381674, 27.738757], [-80.091397, 27.021277], [-80.03115, 26.796723], [-80.036627, 26.566691], [-80.146166, 25.739673], [-80.239274, 25.723243], [-80.337859, 25.465826], [-80.304997, 25.383672], [-80.49669, 25.197456], [-80.573367, 25.241272], [-80.759583, 25.164595], [-81.077246, 25.120779], [-81.170354, 25.224841], [-81.126538, 25.378195], [-81.351093, 25.821827], [-81.526355, 25.903982], [-81.679709, 25.843735], [-81.800202, 26.090198], [-81.833064, 26.292844], [-82.041187, 26.517399], [-82.09048, 26.665276], [-82.057618, 26.878877], [-82.172634, 26.917216], [-82.145249, 26.791246], [-82.249311, 26.758384], [-82.566974, 27.300601], [-82.692943, 27.437525], [-82.391711, 27.837342], [-82.588881, 27.815434], [-82.720328, 27.689464], [-82.851774, 27.886634], [-82.676512, 28.434328], [-82.643651, 28.888914], [-82.764143, 28.998453], [-82.802482, 29.14633], [-82.994175, 29.179192], [-83.218729, 29.420177], [-83.399469, 29.518762], [-83.410422, 29.66664], [-83.536392, 29.721409], [-83.640454, 29.885717], [-84.02384, 30.104795], [-84.357933, 30.055502], [-84.341502, 29.902148], [-84.451041, 29.929533], [-84.867289, 29.743317], [-85.310921, 29.699501], [-85.299967, 29.80904], [-85.404029, 29.940487], [-85.924338, 30.236241], [-86.29677, 30.362211], [-86.630863, 30.395073], [-86.910187, 30.373165], [-87.518128, 30.280057], [-87.37025, 30.427934], [-87.446927, 30.510088], [-87.408589, 30.674397], [-87.633143, 30.86609], [-87.600282, 30.997536], [-85.497137, 30.997536]]], &quot;type&quot;: &quot;Polygon&quot;}, &quot;id&quot;: &quot;FL&quot;, &quot;properties&quot;: {&quot;name&quot;: &quot;Florida&quot;}, &quot;type&quot;: &quot;Feature&quot;}, {&quot;geometry&quot;: {&quot;coordinates&quot;: [[[-83.109191, 35.00118], [-83.322791, 34.787579], [-83.339222, 34.683517], [-83.005129, 34.469916], [-82.901067, 34.486347], [-82.747713, 34.26727], [-82.714851, 34.152254], [-82.55602, 33.94413], [-82.325988, 33.81816], [-82.194542, 33.631944], [-81.926172, 33.462159], [-81.937125, 33.347144], [-81.761863, 33.160928], [-81.493493, 33.007573], [-81.42777, 32.843265], [-81.416816, 32.629664], [-81.279893, 32.558464], [-81.121061, 32.290094], [-81.115584, 32.120309], [-80.885553, 32.032678], [-81.132015, 31.693108], [-81.175831, 31.517845], [-81.279893, 31.364491], [-81.290846, 31.20566], [-81.400385, 31.13446], [-81.444201, 30.707258], [-81.718048, 30.745597], [-81.948079, 30.827751], [-82.041187, 30.751074], [-82.002849, 30.564858], [-82.046664, 30.362211], [-82.167157, 30.356734], [-82.216449, 30.570335], [-83.498053, 30.647012], [-84.867289, 30.712735], [-85.004212, 31.003013], [-85.113751, 31.27686], [-85.042551, 31.539753], [-85.141136, 31.840985], [-85.053504, 32.01077], [-85.058981, 32.13674], [-84.889196, 32.262709], [-85.004212, 32.322956], [-84.960397, 32.421541], [-85.069935, 32.580372], [-85.184951, 32.859696], [-85.431413, 34.124869], [-85.606675, 34.984749], [-84.319594, 34.990226], [-83.618546, 34.984749], [-83.109191, 35.00118]]], &quot;type&quot;: &quot;Polygon&quot;}, &quot;id&quot;: &quot;GA&quot;, &quot;properties&quot;: {&quot;name&quot;: &quot;Georgia&quot;}, &quot;type&quot;: &quot;Feature&quot;}, {&quot;geometry&quot;: {&quot;coordinates&quot;: [[[[-155.634835, 18.948267], [-155.881297, 19.035898], [-155.919636, 19.123529], [-155.886774, 19.348084], [-156.062036, 19.73147], [-155.925113, 19.857439], [-155.826528, 20.032702], [-155.897728, 20.147717], [-155.87582, 20.26821], [-155.596496, 20.12581], [-155.284311, 20.021748], [-155.092618, 19.868393], [-155.092618, 19.736947], [-154.807817, 19.523346], [-154.983079, 19.348084], [-155.295265, 19.26593], [-155.514342, 19.134483], [-155.634835, 18.948267]]], [[[-156.587823, 21.029505], [-156.472807, 20.892581], [-156.324929, 20.952827], [-156.00179, 20.793996], [-156.051082, 20.651596], [-156.379699, 20.580396], [-156.445422, 20.60778], [-156.461853, 20.783042], [-156.631638, 20.821381], [-156.697361, 20.919966], [-156.587823, 21.029505]]], [[[-156.982162, 21.210244], [-157.080747, 21.106182], [-157.310779, 21.106182], [-157.239579, 21.221198], [-156.982162, 21.210244]]], [[[-157.951581, 21.697691], [-157.842042, 21.462183], [-157.896811, 21.325259], [-158.110412, 21.303352], [-158.252813, 21.582676], [-158.126843, 21.588153], [-157.951581, 21.697691]]], [[[-159.468693, 22.228955], [-159.353678, 22.218001], [-159.298908, 22.113939], [-159.33177, 21.966061], [-159.446786, 21.872953], [-159.764448, 21.987969], [-159.726109, 22.152277], [-159.468693, 22.228955]]]], &quot;type&quot;: &quot;MultiPolygon&quot;}, &quot;id&quot;: &quot;HI&quot;, &quot;properties&quot;: {&quot;name&quot;: &quot;Hawaii&quot;}, &quot;type&quot;: &quot;Feature&quot;}, {&quot;geometry&quot;: {&quot;coordinates&quot;: [[[-116.04751, 49.000239], [-116.04751, 47.976051], [-115.724371, 47.696727], [-115.718894, 47.42288], [-115.527201, 47.302388], [-115.324554, 47.258572], [-115.302646, 47.187372], [-114.930214, 46.919002], [-114.886399, 46.809463], [-114.623506, 46.705401], [-114.612552, 46.639678], [-114.322274, 46.645155], [-114.464674, 46.272723], [-114.492059, 46.037214], [-114.387997, 45.88386], [-114.568736, 45.774321], [-114.497536, 45.670259], [-114.546828, 45.560721], [-114.333228, 45.456659], [-114.086765, 45.593582], [-113.98818, 45.703121], [-113.807441, 45.604536], [-113.834826, 45.522382], [-113.736241, 45.330689], [-113.571933, 45.128042], [-113.45144, 45.056842], [-113.456917, 44.865149], [-113.341901, 44.782995], [-113.133778, 44.772041], [-113.002331, 44.448902], [-112.887315, 44.394132], [-112.783254, 44.48724], [-112.471068, 44.481763], [-112.241036, 44.569394], [-112.104113, 44.520102], [-111.868605, 44.563917], [-111.819312, 44.509148], [-111.616665, 44.547487], [-111.386634, 44.75561], [-111.227803, 44.580348], [-111.047063, 44.476286], [-111.047063, 42.000709], [-112.164359, 41.995232], [-114.04295, 41.995232], [-117.027882, 42.000709], [-117.027882, 43.830007], [-116.896436, 44.158624], [-116.97859, 44.240778], [-117.170283, 44.257209], [-117.241483, 44.394132], [-117.038836, 44.750133], [-116.934774, 44.782995], [-116.830713, 44.930872], [-116.847143, 45.02398], [-116.732128, 45.144473], [-116.671881, 45.319735], [-116.463758, 45.61549], [-116.545912, 45.752413], [-116.78142, 45.823614], [-116.918344, 45.993399], [-116.92382, 46.168661], [-117.055267, 46.343923], [-117.038836, 46.426077], [-117.044313, 47.762451], [-117.033359, 49.000239], [-116.04751, 49.000239]]], &quot;type&quot;: &quot;Polygon&quot;}, &quot;id&quot;: &quot;ID&quot;, &quot;properties&quot;: {&quot;name&quot;: &quot;Idaho&quot;}, &quot;type&quot;: &quot;Feature&quot;}, {&quot;geometry&quot;: {&quot;coordinates&quot;: [[[-90.639984, 42.510065], [-88.788778, 42.493634], [-87.802929, 42.493634], [-87.83579, 42.301941], [-87.682436, 42.077386], [-87.523605, 41.710431], [-87.529082, 39.34987], [-87.63862, 39.169131], [-87.512651, 38.95553], [-87.49622, 38.780268], [-87.62219, 38.637868], [-87.655051, 38.506421], [-87.83579, 38.292821], [-87.950806, 38.27639], [-87.923421, 38.15042], [-88.000098, 38.101128], [-88.060345, 37.865619], [-88.027483, 37.799896], [-88.15893, 37.657496], [-88.065822, 37.482234], [-88.476592, 37.389126], [-88.514931, 37.285064], [-88.421823, 37.153617], [-88.547792, 37.071463], [-88.914747, 37.224817], [-89.029763, 37.213863], [-89.183118, 37.038601], [-89.133825, 36.983832], [-89.292656, 36.994786], [-89.517211, 37.279587], [-89.435057, 37.34531], [-89.517211, 37.537003], [-89.517211, 37.690357], [-89.84035, 37.903958], [-89.949889, 37.88205], [-90.059428, 38.013497], [-90.355183, 38.216144], [-90.349706, 38.374975], [-90.179921, 38.632391], [-90.207305, 38.725499], [-90.10872, 38.845992], [-90.251121, 38.917192], [-90.470199, 38.961007], [-90.585214, 38.867899], [-90.661891, 38.928146], [-90.727615, 39.256762], [-91.061708, 39.470363], [-91.368417, 39.727779], [-91.494386, 40.034488], [-91.50534, 40.237135], [-91.417709, 40.379535], [-91.401278, 40.560274], [-91.121954, 40.669813], [-91.09457, 40.823167], [-90.963123, 40.921752], [-90.946692, 41.097014], [-91.111001, 41.239415], [-91.045277, 41.414677], [-90.656414, 41.463969], [-90.344229, 41.589939], [-90.311367, 41.743293], [-90.179921, 41.809016], [-90.141582, 42.000709], [-90.168967, 42.126679], [-90.393521, 42.225264], [-90.420906, 42.329326], [-90.639984, 42.510065]]], &quot;type&quot;: &quot;Polygon&quot;}, &quot;id&quot;: &quot;IL&quot;, &quot;properties&quot;: {&quot;name&quot;: &quot;Illinois&quot;}, &quot;type&quot;: &quot;Feature&quot;}, {&quot;geometry&quot;: {&quot;coordinates&quot;: [[[-85.990061, 41.759724], [-84.807042, 41.759724], [-84.807042, 41.694001], [-84.801565, 40.500028], [-84.817996, 39.103408], [-84.894673, 39.059592], [-84.812519, 38.785745], [-84.987781, 38.780268], [-85.173997, 38.68716], [-85.431413, 38.730976], [-85.42046, 38.533806], [-85.590245, 38.451652], [-85.655968, 38.325682], [-85.83123, 38.27639], [-85.924338, 38.024451], [-86.039354, 37.958727], [-86.263908, 38.051835], [-86.302247, 38.166851], [-86.521325, 38.040881], [-86.504894, 37.931343], [-86.729448, 37.893004], [-86.795172, 37.991589], [-87.047111, 37.893004], [-87.129265, 37.788942], [-87.381204, 37.93682], [-87.512651, 37.903958], [-87.600282, 37.975158], [-87.682436, 37.903958], [-87.934375, 37.893004], [-88.027483, 37.799896], [-88.060345, 37.865619], [-88.000098, 38.101128], [-87.923421, 38.15042], [-87.950806, 38.27639], [-87.83579, 38.292821], [-87.655051, 38.506421], [-87.62219, 38.637868], [-87.49622, 38.780268], [-87.512651, 38.95553], [-87.63862, 39.169131], [-87.529082, 39.34987], [-87.523605, 41.710431], [-87.42502, 41.644708], [-87.118311, 41.644708], [-86.822556, 41.759724], [-85.990061, 41.759724]]], &quot;type&quot;: &quot;Polygon&quot;}, &quot;id&quot;: &quot;IN&quot;, &quot;properties&quot;: {&quot;name&quot;: &quot;Indiana&quot;}, &quot;type&quot;: &quot;Feature&quot;}, {&quot;geometry&quot;: {&quot;coordinates&quot;: [[[-91.368417, 43.501391], [-91.215062, 43.501391], [-91.204109, 43.353514], [-91.056231, 43.254929], [-91.176724, 43.134436], [-91.143862, 42.909881], [-91.067185, 42.75105], [-90.711184, 42.636034], [-90.639984, 42.510065], [-90.420906, 42.329326], [-90.393521, 42.225264], [-90.168967, 42.126679], [-90.141582, 42.000709], [-90.179921, 41.809016], [-90.311367, 41.743293], [-90.344229, 41.589939], [-90.656414, 41.463969], [-91.045277, 41.414677], [-91.111001, 41.239415], [-90.946692, 41.097014], [-90.963123, 40.921752], [-91.09457, 40.823167], [-91.121954, 40.669813], [-91.401278, 40.560274], [-91.417709, 40.379535], [-91.527248, 40.412397], [-91.729895, 40.615043], [-91.833957, 40.609566], [-93.257961, 40.582182], [-94.632673, 40.571228], [-95.7664, 40.587659], [-95.881416, 40.719105], [-95.826646, 40.976521], [-95.925231, 41.201076], [-95.919754, 41.453015], [-96.095016, 41.540646], [-96.122401, 41.67757], [-96.062155, 41.798063], [-96.127878, 41.973325], [-96.264801, 42.039048], [-96.44554, 42.488157], [-96.631756, 42.707235], [-96.544125, 42.855112], [-96.511264, 43.052282], [-96.434587, 43.123482], [-96.560556, 43.222067], [-96.527695, 43.397329], [-96.582464, 43.479483], [-96.451017, 43.501391], [-91.368417, 43.501391]]], &quot;type&quot;: &quot;Polygon&quot;}, &quot;id&quot;: &quot;IA&quot;, &quot;properties&quot;: {&quot;name&quot;: &quot;Iowa&quot;}, &quot;type&quot;: &quot;Feature&quot;}, {&quot;geometry&quot;: {&quot;coordinates&quot;: [[[-101.90605, 40.001626], [-95.306337, 40.001626], [-95.207752, 39.908518], [-94.884612, 39.831841], [-95.109167, 39.541563], [-94.983197, 39.442978], [-94.824366, 39.20747], [-94.610765, 39.158177], [-94.616242, 37.000263], [-100.087706, 37.000263], [-102.042974, 36.994786], [-102.053927, 40.001626], [-101.90605, 40.001626]]], &quot;type&quot;: &quot;Polygon&quot;}, &quot;id&quot;: &quot;KS&quot;, &quot;properties&quot;: {&quot;name&quot;: &quot;Kansas&quot;}, &quot;type&quot;: &quot;Feature&quot;}, {&quot;geometry&quot;: {&quot;coordinates&quot;: [[[-83.903347, 38.769315], [-83.678792, 38.632391], [-83.519961, 38.703591], [-83.142052, 38.626914], [-83.032514, 38.725499], [-82.890113, 38.758361], [-82.846298, 38.588575], [-82.731282, 38.561191], [-82.594358, 38.424267], [-82.621743, 38.123036], [-82.50125, 37.931343], [-82.342419, 37.783465], [-82.293127, 37.668449], [-82.101434, 37.553434], [-81.969987, 37.537003], [-82.353373, 37.268633], [-82.720328, 37.120755], [-82.720328, 37.044078], [-82.868205, 36.978355], [-82.879159, 36.890724], [-83.070852, 36.852385], [-83.136575, 36.742847], [-83.673316, 36.600446], [-83.689746, 36.584015], [-84.544149, 36.594969], [-85.289013, 36.627831], [-85.486183, 36.616877], [-86.592525, 36.655216], [-87.852221, 36.633308], [-88.071299, 36.677123], [-88.054868, 36.496384], [-89.298133, 36.507338], [-89.418626, 36.496384], [-89.363857, 36.622354], [-89.215979, 36.578538], [-89.133825, 36.983832], [-89.183118, 37.038601], [-89.029763, 37.213863], [-88.914747, 37.224817], [-88.547792, 37.071463], [-88.421823, 37.153617], [-88.514931, 37.285064], [-88.476592, 37.389126], [-88.065822, 37.482234], [-88.15893, 37.657496], [-88.027483, 37.799896], [-87.934375, 37.893004], [-87.682436, 37.903958], [-87.600282, 37.975158], [-87.512651, 37.903958], [-87.381204, 37.93682], [-87.129265, 37.788942], [-87.047111, 37.893004], [-86.795172, 37.991589], [-86.729448, 37.893004], [-86.504894, 37.931343], [-86.521325, 38.040881], [-86.302247, 38.166851], [-86.263908, 38.051835], [-86.039354, 37.958727], [-85.924338, 38.024451], [-85.83123, 38.27639], [-85.655968, 38.325682], [-85.590245, 38.451652], [-85.42046, 38.533806], [-85.431413, 38.730976], [-85.173997, 38.68716], [-84.987781, 38.780268], [-84.812519, 38.785745], [-84.894673, 39.059592], [-84.817996, 39.103408], [-84.43461, 39.103408], [-84.231963, 38.895284], [-84.215533, 38.807653], [-83.903347, 38.769315]]], &quot;type&quot;: &quot;Polygon&quot;}, &quot;id&quot;: &quot;KY&quot;, &quot;properties&quot;: {&quot;name&quot;: &quot;Kentucky&quot;}, &quot;type&quot;: &quot;Feature&quot;}, {&quot;geometry&quot;: {&quot;coordinates&quot;: [[[-93.608485, 33.018527], [-91.16577, 33.002096], [-91.072662, 32.887081], [-91.143862, 32.843265], [-91.154816, 32.640618], [-91.006939, 32.514649], [-90.985031, 32.218894], [-91.105524, 31.988862], [-91.341032, 31.846462], [-91.401278, 31.621907], [-91.499863, 31.643815], [-91.516294, 31.27686], [-91.636787, 31.265906], [-91.565587, 31.068736], [-91.636787, 30.997536], [-89.747242, 30.997536], [-89.845827, 30.66892], [-89.681519, 30.449842], [-89.643181, 30.285534], [-89.522688, 30.181472], [-89.818443, 30.044549], [-89.84035, 29.945964], [-89.599365, 29.88024], [-89.495303, 30.039072], [-89.287179, 29.88024], [-89.30361, 29.754271], [-89.424103, 29.699501], [-89.648657, 29.748794], [-89.621273, 29.655686], [-89.69795, 29.513285], [-89.506257, 29.387316], [-89.199548, 29.348977], [-89.09001, 29.2011], [-89.002379, 29.179192], [-89.16121, 29.009407], [-89.336472, 29.042268], [-89.484349, 29.217531], [-89.851304, 29.310638], [-89.851304, 29.480424], [-90.032043, 29.425654], [-90.021089, 29.283254], [-90.103244, 29.151807], [-90.23469, 29.129899], [-90.333275, 29.277777], [-90.563307, 29.283254], [-90.645461, 29.129899], [-90.798815, 29.086084], [-90.963123, 29.179192], [-91.09457, 29.190146], [-91.220539, 29.436608], [-91.445094, 29.546147], [-91.532725, 29.529716], [-91.620356, 29.73784], [-91.883249, 29.710455], [-91.888726, 29.836425], [-92.146142, 29.715932], [-92.113281, 29.622824], [-92.31045, 29.535193], [-92.617159, 29.579009], [-92.97316, 29.715932], [-93.2251, 29.776178], [-93.767317, 29.726886], [-93.838517, 29.688547], [-93.926148, 29.787132], [-93.690639, 30.143133], [-93.767317, 30.334826], [-93.696116, 30.438888], [-93.728978, 30.575812], [-93.630393, 30.679874], [-93.526331, 30.93729], [-93.542762, 31.15089], [-93.816609, 31.556184], [-93.822086, 31.775262], [-94.041164, 31.994339], [-94.041164, 33.018527], [-93.608485, 33.018527]]], &quot;type&quot;: &quot;Polygon&quot;}, &quot;id&quot;: &quot;LA&quot;, &quot;properties&quot;: {&quot;name&quot;: &quot;Louisiana&quot;}, &quot;type&quot;: &quot;Feature&quot;}, {&quot;geometry&quot;: {&quot;coordinates&quot;: [[[-70.703921, 43.057759], [-70.824413, 43.128959], [-70.807983, 43.227544], [-70.966814, 43.34256], [-71.032537, 44.657025], [-71.08183, 45.303304], [-70.649151, 45.440228], [-70.720352, 45.511428], [-70.556043, 45.664782], [-70.386258, 45.735983], [-70.41912, 45.796229], [-70.260289, 45.889337], [-70.309581, 46.064599], [-70.210996, 46.327492], [-70.057642, 46.415123], [-69.997395, 46.694447], [-69.225147, 47.461219], [-69.044408, 47.428357], [-69.033454, 47.242141], [-68.902007, 47.176418], [-68.578868, 47.285957], [-68.376221, 47.285957], [-68.233821, 47.357157], [-67.954497, 47.198326], [-67.790188, 47.066879], [-67.779235, 45.944106], [-67.801142, 45.675736], [-67.456095, 45.604536], [-67.505388, 45.48952], [-67.417757, 45.379982], [-67.488957, 45.281397], [-67.346556, 45.128042], [-67.16034, 45.160904], [-66.979601, 44.804903], [-67.187725, 44.646072], [-67.308218, 44.706318], [-67.406803, 44.596779], [-67.549203, 44.624164], [-67.565634, 44.531056], [-67.75185, 44.54201], [-68.047605, 44.328409], [-68.118805, 44.476286], [-68.222867, 44.48724], [-68.173574, 44.328409], [-68.403606, 44.251732], [-68.458375, 44.377701], [-68.567914, 44.311978], [-68.82533, 44.311978], [-68.830807, 44.459856], [-68.984161, 44.426994], [-68.956777, 44.322932], [-69.099177, 44.103854], [-69.071793, 44.043608], [-69.258008, 43.923115], [-69.444224, 43.966931], [-69.553763, 43.840961], [-69.707118, 43.82453], [-69.833087, 43.720469], [-69.986442, 43.742376], [-70.030257, 43.851915], [-70.254812, 43.676653], [-70.194565, 43.567114], [-70.358873, 43.528776], [-70.369827, 43.435668], [-70.556043, 43.320652], [-70.703921, 43.057759]]], &quot;type&quot;: &quot;Polygon&quot;}, &quot;id&quot;: &quot;ME&quot;, &quot;properties&quot;: {&quot;name&quot;: &quot;Maine&quot;}, &quot;type&quot;: &quot;Feature&quot;}, {&quot;geometry&quot;: {&quot;coordinates&quot;: [[[[-75.994645, 37.95325], [-76.016553, 37.95325], [-76.043938, 37.95325], [-75.994645, 37.95325]]], [[[-79.477979, 39.722302], [-75.786521, 39.722302], [-75.693413, 38.462606], [-75.047134, 38.451652], [-75.244304, 38.029928], [-75.397659, 38.013497], [-75.671506, 37.95325], [-75.885106, 37.909435], [-75.879629, 38.073743], [-75.961783, 38.139466], [-75.846768, 38.210667], [-76.000122, 38.374975], [-76.049415, 38.303775], [-76.257538, 38.320205], [-76.328738, 38.500944], [-76.263015, 38.500944], [-76.257538, 38.736453], [-76.191815, 38.829561], [-76.279446, 39.147223], [-76.169907, 39.333439], [-76.000122, 39.366301], [-75.972737, 39.557994], [-76.098707, 39.536086], [-76.104184, 39.437501], [-76.367077, 39.311532], [-76.443754, 39.196516], [-76.460185, 38.906238], [-76.55877, 38.769315], [-76.514954, 38.539283], [-76.383508, 38.380452], [-76.399939, 38.259959], [-76.317785, 38.139466], [-76.3616, 38.057312], [-76.591632, 38.216144], [-76.920248, 38.292821], [-77.018833, 38.446175], [-77.205049, 38.358544], [-77.276249, 38.479037], [-77.128372, 38.632391], [-77.040741, 38.791222], [-76.909294, 38.895284], [-77.035264, 38.993869], [-77.117418, 38.933623], [-77.248864, 39.026731], [-77.456988, 39.076023], [-77.456988, 39.223901], [-77.566527, 39.306055], [-77.719881, 39.322485], [-77.834897, 39.601809], [-78.004682, 39.601809], [-78.174467, 39.694917], [-78.267575, 39.61824], [-78.431884, 39.623717], [-78.470222, 39.514178], [-78.765977, 39.585379], [-78.963147, 39.437501], [-79.094593, 39.470363], [-79.291763, 39.300578], [-79.488933, 39.20747], [-79.477979, 39.722302]]]], &quot;type&quot;: &quot;MultiPolygon&quot;}, &quot;id&quot;: &quot;MD&quot;, &quot;properties&quot;: {&quot;name&quot;: &quot;Maryland&quot;}, &quot;type&quot;: &quot;Feature&quot;}, {&quot;geometry&quot;: {&quot;coordinates&quot;: [[[-70.917521, 42.887974], [-70.818936, 42.871543], [-70.780598, 42.696281], [-70.824413, 42.55388], [-70.983245, 42.422434], [-70.988722, 42.269079], [-70.769644, 42.247172], [-70.638197, 42.08834], [-70.660105, 41.962371], [-70.550566, 41.929509], [-70.539613, 41.814493], [-70.260289, 41.715908], [-69.937149, 41.809016], [-70.008349, 41.672093], [-70.484843, 41.5516], [-70.660105, 41.546123], [-70.764167, 41.639231], [-70.928475, 41.611847], [-70.933952, 41.540646], [-71.120168, 41.496831], [-71.196845, 41.67757], [-71.22423, 41.710431], [-71.328292, 41.781632], [-71.383061, 42.01714], [-71.530939, 42.01714], [-71.799309, 42.006186], [-71.799309, 42.022617], [-73.053528, 42.039048], [-73.486206, 42.050002], [-73.508114, 42.08834], [-73.267129, 42.745573], [-72.456542, 42.729142], [-71.29543, 42.696281], [-71.185891, 42.789389], [-70.917521, 42.887974]]], &quot;type&quot;: &quot;Polygon&quot;}, &quot;id&quot;: &quot;MA&quot;, &quot;properties&quot;: {&quot;name&quot;: &quot;Massachusetts&quot;}, &quot;type&quot;: &quot;Feature&quot;}, {&quot;geometry&quot;: {&quot;coordinates&quot;: [[[[-83.454238, 41.732339], [-84.807042, 41.694001], [-84.807042, 41.759724], [-85.990061, 41.759724], [-86.822556, 41.759724], [-86.619909, 41.891171], [-86.482986, 42.115725], [-86.357016, 42.252649], [-86.263908, 42.444341], [-86.209139, 42.718189], [-86.231047, 43.013943], [-86.526801, 43.594499], [-86.433693, 43.813577], [-86.499417, 44.07647], [-86.269385, 44.34484], [-86.220093, 44.569394], [-86.252954, 44.689887], [-86.088646, 44.73918], [-86.066738, 44.903488], [-85.809322, 44.947303], [-85.612152, 45.128042], [-85.628583, 44.766564], [-85.524521, 44.750133], [-85.393075, 44.930872], [-85.387598, 45.237581], [-85.305444, 45.314258], [-85.031597, 45.363551], [-85.119228, 45.577151], [-84.938489, 45.75789], [-84.713934, 45.768844], [-84.461995, 45.653829], [-84.215533, 45.637398], [-84.09504, 45.494997], [-83.908824, 45.484043], [-83.596638, 45.352597], [-83.4871, 45.358074], [-83.317314, 45.144473], [-83.454238, 45.029457], [-83.322791, 44.88158], [-83.273499, 44.711795], [-83.333745, 44.339363], [-83.536392, 44.246255], [-83.585684, 44.054562], [-83.82667, 43.988839], [-83.958116, 43.758807], [-83.908824, 43.671176], [-83.667839, 43.589022], [-83.481623, 43.714992], [-83.262545, 43.972408], [-82.917498, 44.070993], [-82.747713, 43.994316], [-82.643651, 43.851915], [-82.539589, 43.435668], [-82.523158, 43.227544], [-82.413619, 42.975605], [-82.517681, 42.614127], [-82.681989, 42.559357], [-82.687466, 42.690804], [-82.797005, 42.652465], [-82.922975, 42.351234], [-83.125621, 42.236218], [-83.185868, 42.006186], [-83.437807, 41.814493], [-83.454238, 41.732339]]], [[[-85.508091, 45.730506], [-85.49166, 45.610013], [-85.623106, 45.588105], [-85.568337, 45.75789], [-85.508091, 45.730506]]], [[[-87.589328, 45.095181], [-87.742682, 45.199243], [-87.649574, 45.341643], [-87.885083, 45.363551], [-87.791975, 45.500474], [-87.781021, 45.675736], [-87.989145, 45.796229], [-88.10416, 45.922199], [-88.531362, 46.020784], [-88.662808, 45.987922], [-89.09001, 46.135799], [-90.119674, 46.338446], [-90.229213, 46.508231], [-90.415429, 46.568478], [-90.026566, 46.672539], [-89.851304, 46.793032], [-89.413149, 46.842325], [-89.128348, 46.990202], [-88.996902, 46.995679], [-88.887363, 47.099741], [-88.575177, 47.247618], [-88.416346, 47.373588], [-88.180837, 47.455742], [-87.956283, 47.384542], [-88.350623, 47.077833], [-88.443731, 46.973771], [-88.438254, 46.787555], [-88.246561, 46.929956], [-87.901513, 46.908048], [-87.633143, 46.809463], [-87.392158, 46.535616], [-87.260711, 46.486323], [-87.008772, 46.530139], [-86.948526, 46.469893], [-86.696587, 46.437031], [-86.159846, 46.667063], [-85.880522, 46.68897], [-85.508091, 46.678016], [-85.256151, 46.754694], [-85.064458, 46.760171], [-85.02612, 46.480847], [-84.82895, 46.442508], [-84.63178, 46.486323], [-84.549626, 46.4206], [-84.418179, 46.502754], [-84.127902, 46.530139], [-84.122425, 46.179615], [-83.990978, 46.031737], [-83.793808, 45.993399], [-83.7719, 46.091984], [-83.580208, 46.091984], [-83.476146, 45.987922], [-83.563777, 45.911245], [-84.111471, 45.976968], [-84.374364, 45.933153], [-84.659165, 46.053645], [-84.741319, 45.944106], [-84.70298, 45.850998], [-84.82895, 45.872906], [-85.015166, 46.00983], [-85.338305, 46.091984], [-85.502614, 46.097461], [-85.661445, 45.966014], [-85.924338, 45.933153], [-86.209139, 45.960537], [-86.324155, 45.905768], [-86.351539, 45.796229], [-86.663725, 45.703121], [-86.647294, 45.834568], [-86.784218, 45.861952], [-86.838987, 45.725029], [-87.069019, 45.719552], [-87.17308, 45.659305], [-87.326435, 45.423797], [-87.611236, 45.122565], [-87.589328, 45.095181]]], [[[-88.805209, 47.976051], [-89.057148, 47.850082], [-89.188594, 47.833651], [-89.177641, 47.937713], [-88.547792, 48.173221], [-88.668285, 48.008913], [-88.805209, 47.976051]]]], &quot;type&quot;: &quot;MultiPolygon&quot;}, &quot;id&quot;: &quot;MI&quot;, &quot;properties&quot;: {&quot;name&quot;: &quot;Michigan&quot;}, &quot;type&quot;: &quot;Feature&quot;}, {&quot;geometry&quot;: {&quot;coordinates&quot;: [[[-92.014696, 46.705401], [-92.091373, 46.749217], [-92.29402, 46.667063], [-92.29402, 46.075553], [-92.354266, 46.015307], [-92.639067, 45.933153], [-92.869098, 45.719552], [-92.885529, 45.577151], [-92.770513, 45.566198], [-92.644544, 45.440228], [-92.75956, 45.286874], [-92.737652, 45.117088], [-92.808852, 44.750133], [-92.545959, 44.569394], [-92.337835, 44.552964], [-92.233773, 44.443425], [-91.927065, 44.333886], [-91.877772, 44.202439], [-91.592971, 44.032654], [-91.43414, 43.994316], [-91.242447, 43.775238], [-91.269832, 43.616407], [-91.215062, 43.501391], [-91.368417, 43.501391], [-96.451017, 43.501391], [-96.451017, 45.297827], [-96.681049, 45.412843], [-96.856311, 45.604536], [-96.582464, 45.818137], [-96.560556, 45.933153], [-96.598895, 46.332969], [-96.719387, 46.437031], [-96.801542, 46.656109], [-96.785111, 46.924479], [-96.823449, 46.968294], [-96.856311, 47.609096], [-97.053481, 47.948667], [-97.130158, 48.140359], [-97.16302, 48.545653], [-97.097296, 48.682577], [-97.228743, 49.000239], [-95.152983, 49.000239], [-95.152983, 49.383625], [-94.955813, 49.372671], [-94.824366, 49.295994], [-94.69292, 48.775685], [-94.588858, 48.715438], [-94.260241, 48.699007], [-94.221903, 48.649715], [-93.838517, 48.627807], [-93.794701, 48.518268], [-93.466085, 48.545653], [-93.466085, 48.589469], [-93.208669, 48.644238], [-92.984114, 48.62233], [-92.726698, 48.540176], [-92.655498, 48.436114], [-92.50762, 48.447068], [-92.370697, 48.222514], [-92.304974, 48.315622], [-92.053034, 48.359437], [-92.009219, 48.266329], [-91.713464, 48.200606], [-91.713464, 48.112975], [-91.565587, 48.041775], [-91.264355, 48.080113], [-91.083616, 48.178698], [-90.837154, 48.238944], [-90.749522, 48.091067], [-90.579737, 48.123929], [-90.377091, 48.091067], [-90.141582, 48.112975], [-89.873212, 47.987005], [-89.615796, 48.008913], [-89.637704, 47.954144], [-89.971797, 47.828174], [-90.437337, 47.729589], [-90.738569, 47.625527], [-91.171247, 47.368111], [-91.357463, 47.20928], [-91.642264, 47.028541], [-92.091373, 46.787555], [-92.014696, 46.705401]]], &quot;type&quot;: &quot;Polygon&quot;}, &quot;id&quot;: &quot;MN&quot;, &quot;properties&quot;: {&quot;name&quot;: &quot;Minnesota&quot;}, &quot;type&quot;: &quot;Feature&quot;}, {&quot;geometry&quot;: {&quot;coordinates&quot;: [[[-88.471115, 34.995703], [-88.202745, 34.995703], [-88.098683, 34.891641], [-88.241084, 33.796253], [-88.471115, 31.895754], [-88.394438, 30.367688], [-88.503977, 30.323872], [-88.744962, 30.34578], [-88.843547, 30.411504], [-89.084533, 30.367688], [-89.418626, 30.252672], [-89.522688, 30.181472], [-89.643181, 30.285534], [-89.681519, 30.449842], [-89.845827, 30.66892], [-89.747242, 30.997536], [-91.636787, 30.997536], [-91.565587, 31.068736], [-91.636787, 31.265906], [-91.516294, 31.27686], [-91.499863, 31.643815], [-91.401278, 31.621907], [-91.341032, 31.846462], [-91.105524, 31.988862], [-90.985031, 32.218894], [-91.006939, 32.514649], [-91.154816, 32.640618], [-91.143862, 32.843265], [-91.072662, 32.887081], [-91.16577, 33.002096], [-91.089093, 33.13902], [-91.143862, 33.347144], [-91.056231, 33.429298], [-91.231493, 33.560744], [-91.072662, 33.867453], [-90.891923, 34.026284], [-90.952169, 34.135823], [-90.744046, 34.300131], [-90.749522, 34.365854], [-90.568783, 34.420624], [-90.585214, 34.617794], [-90.481152, 34.661609], [-90.409952, 34.831394], [-90.251121, 34.908072], [-90.311367, 34.995703], [-88.471115, 34.995703]]], &quot;type&quot;: &quot;Polygon&quot;}, &quot;id&quot;: &quot;MS&quot;, &quot;properties&quot;: {&quot;name&quot;: &quot;Mississippi&quot;}, &quot;type&quot;: &quot;Feature&quot;}, {&quot;geometry&quot;: {&quot;coordinates&quot;: [[[-91.833957, 40.609566], [-91.729895, 40.615043], [-91.527248, 40.412397], [-91.417709, 40.379535], [-91.50534, 40.237135], [-91.494386, 40.034488], [-91.368417, 39.727779], [-91.061708, 39.470363], [-90.727615, 39.256762], [-90.661891, 38.928146], [-90.585214, 38.867899], [-90.470199, 38.961007], [-90.251121, 38.917192], [-90.10872, 38.845992], [-90.207305, 38.725499], [-90.179921, 38.632391], [-90.349706, 38.374975], [-90.355183, 38.216144], [-90.059428, 38.013497], [-89.949889, 37.88205], [-89.84035, 37.903958], [-89.517211, 37.690357], [-89.517211, 37.537003], [-89.435057, 37.34531], [-89.517211, 37.279587], [-89.292656, 36.994786], [-89.133825, 36.983832], [-89.215979, 36.578538], [-89.363857, 36.622354], [-89.418626, 36.496384], [-89.484349, 36.496384], [-89.539119, 36.496384], [-89.533642, 36.249922], [-89.730812, 35.997983], [-90.377091, 35.997983], [-90.218259, 36.184199], [-90.064905, 36.304691], [-90.152536, 36.496384], [-94.473842, 36.501861], [-94.616242, 36.501861], [-94.616242, 37.000263], [-94.610765, 39.158177], [-94.824366, 39.20747], [-94.983197, 39.442978], [-95.109167, 39.541563], [-94.884612, 39.831841], [-95.207752, 39.908518], [-95.306337, 40.001626], [-95.552799, 40.264519], [-95.7664, 40.587659], [-94.632673, 40.571228], [-93.257961, 40.582182], [-91.833957, 40.609566]]], &quot;type&quot;: &quot;Polygon&quot;}, &quot;id&quot;: &quot;MO&quot;, &quot;properties&quot;: {&quot;name&quot;: &quot;Missouri&quot;}, &quot;type&quot;: &quot;Feature&quot;}, {&quot;geometry&quot;: {&quot;coordinates&quot;: [[[-104.047534, 49.000239], [-104.042057, 47.861036], [-104.047534, 45.944106], [-104.042057, 44.996596], [-104.058488, 44.996596], [-105.91517, 45.002073], [-109.080842, 45.002073], [-111.05254, 45.002073], [-111.047063, 44.476286], [-111.227803, 44.580348], [-111.386634, 44.75561], [-111.616665, 44.547487], [-111.819312, 44.509148], [-111.868605, 44.563917], [-112.104113, 44.520102], [-112.241036, 44.569394], [-112.471068, 44.481763], [-112.783254, 44.48724], [-112.887315, 44.394132], [-113.002331, 44.448902], [-113.133778, 44.772041], [-113.341901, 44.782995], [-113.456917, 44.865149], [-113.45144, 45.056842], [-113.571933, 45.128042], [-113.736241, 45.330689], [-113.834826, 45.522382], [-113.807441, 45.604536], [-113.98818, 45.703121], [-114.086765, 45.593582], [-114.333228, 45.456659], [-114.546828, 45.560721], [-114.497536, 45.670259], [-114.568736, 45.774321], [-114.387997, 45.88386], [-114.492059, 46.037214], [-114.464674, 46.272723], [-114.322274, 46.645155], [-114.612552, 46.639678], [-114.623506, 46.705401], [-114.886399, 46.809463], [-114.930214, 46.919002], [-115.302646, 47.187372], [-115.324554, 47.258572], [-115.527201, 47.302388], [-115.718894, 47.42288], [-115.724371, 47.696727], [-116.04751, 47.976051], [-116.04751, 49.000239], [-111.50165, 48.994762], [-109.453274, 49.000239], [-104.047534, 49.000239]]], &quot;type&quot;: &quot;Polygon&quot;}, &quot;id&quot;: &quot;MT&quot;, &quot;properties&quot;: {&quot;name&quot;: &quot;Montana&quot;}, &quot;type&quot;: &quot;Feature&quot;}, {&quot;geometry&quot;: {&quot;coordinates&quot;: [[[-103.324578, 43.002989], [-101.626726, 42.997512], [-98.499393, 42.997512], [-98.466531, 42.94822], [-97.951699, 42.767481], [-97.831206, 42.866066], [-97.688806, 42.844158], [-97.217789, 42.844158], [-96.692003, 42.657942], [-96.626279, 42.515542], [-96.44554, 42.488157], [-96.264801, 42.039048], [-96.127878, 41.973325], [-96.062155, 41.798063], [-96.122401, 41.67757], [-96.095016, 41.540646], [-95.919754, 41.453015], [-95.925231, 41.201076], [-95.826646, 40.976521], [-95.881416, 40.719105], [-95.7664, 40.587659], [-95.552799, 40.264519], [-95.306337, 40.001626], [-101.90605, 40.001626], [-102.053927, 40.001626], [-102.053927, 41.003906], [-104.053011, 41.003906], [-104.053011, 43.002989], [-103.324578, 43.002989]]], &quot;type&quot;: &quot;Polygon&quot;}, &quot;id&quot;: &quot;NE&quot;, &quot;properties&quot;: {&quot;name&quot;: &quot;Nebraska&quot;}, &quot;type&quot;: &quot;Feature&quot;}, {&quot;geometry&quot;: {&quot;coordinates&quot;: [[[-117.027882, 42.000709], [-114.04295, 41.995232], [-114.048427, 37.000263], [-114.048427, 36.195153], [-114.152489, 36.025367], [-114.251074, 36.01989], [-114.371566, 36.140383], [-114.738521, 36.102045], [-114.678275, 35.516012], [-114.596121, 35.324319], [-114.574213, 35.138103], [-114.634459, 35.00118], [-115.85034, 35.970598], [-116.540435, 36.501861], [-117.498899, 37.21934], [-118.71478, 38.101128], [-120.001861, 38.999346], [-119.996384, 40.264519], [-120.001861, 41.995232], [-118.698349, 41.989755], [-117.027882, 42.000709]]], &quot;type&quot;: &quot;Polygon&quot;}, &quot;id&quot;: &quot;NV&quot;, &quot;properties&quot;: {&quot;name&quot;: &quot;Nevada&quot;}, &quot;type&quot;: &quot;Feature&quot;}, {&quot;geometry&quot;: {&quot;coordinates&quot;: [[[-71.08183, 45.303304], [-71.032537, 44.657025], [-70.966814, 43.34256], [-70.807983, 43.227544], [-70.824413, 43.128959], [-70.703921, 43.057759], [-70.818936, 42.871543], [-70.917521, 42.887974], [-71.185891, 42.789389], [-71.29543, 42.696281], [-72.456542, 42.729142], [-72.544173, 42.80582], [-72.533219, 42.953697], [-72.445588, 43.008466], [-72.456542, 43.150867], [-72.379864, 43.572591], [-72.204602, 43.769761], [-72.116971, 43.994316], [-72.02934, 44.07647], [-72.034817, 44.322932], [-71.700724, 44.41604], [-71.536416, 44.585825], [-71.629524, 44.750133], [-71.4926, 44.914442], [-71.503554, 45.013027], [-71.361154, 45.270443], [-71.131122, 45.243058], [-71.08183, 45.303304]]], &quot;type&quot;: &quot;Polygon&quot;}, &quot;id&quot;: &quot;NH&quot;, &quot;properties&quot;: {&quot;name&quot;: &quot;New Hampshire&quot;}, &quot;type&quot;: &quot;Feature&quot;}, {&quot;geometry&quot;: {&quot;coordinates&quot;: [[[-74.236547, 41.14083], [-73.902454, 40.998429], [-74.022947, 40.708151], [-74.187255, 40.642428], [-74.274886, 40.489074], [-74.001039, 40.412397], [-73.979131, 40.297381], [-74.099624, 39.760641], [-74.411809, 39.360824], [-74.614456, 39.245808], [-74.795195, 38.993869], [-74.888303, 39.158177], [-75.178581, 39.240331], [-75.534582, 39.459409], [-75.55649, 39.607286], [-75.561967, 39.629194], [-75.507197, 39.683964], [-75.414089, 39.804456], [-75.145719, 39.88661], [-75.129289, 39.963288], [-74.82258, 40.127596], [-74.773287, 40.215227], [-75.058088, 40.417874], [-75.069042, 40.543843], [-75.195012, 40.576705], [-75.205966, 40.691721], [-75.052611, 40.866983], [-75.134765, 40.971045], [-74.882826, 41.179168], [-74.828057, 41.288707], [-74.69661, 41.359907], [-74.236547, 41.14083]]], &quot;type&quot;: &quot;Polygon&quot;}, &quot;id&quot;: &quot;NJ&quot;, &quot;properties&quot;: {&quot;name&quot;: &quot;New Jersey&quot;}, &quot;type&quot;: &quot;Feature&quot;}, {&quot;geometry&quot;: {&quot;coordinates&quot;: [[[-107.421329, 37.000263], [-106.868158, 36.994786], [-104.337812, 36.994786], [-103.001438, 37.000263], [-103.001438, 36.501861], [-103.039777, 36.501861], [-103.045254, 34.01533], [-103.067161, 33.002096], [-103.067161, 31.999816], [-106.616219, 31.999816], [-106.643603, 31.901231], [-106.528588, 31.786216], [-108.210008, 31.786216], [-108.210008, 31.331629], [-109.04798, 31.331629], [-109.042503, 37.000263], [-107.421329, 37.000263]]], &quot;type&quot;: &quot;Polygon&quot;}, &quot;id&quot;: &quot;NM&quot;, &quot;properties&quot;: {&quot;name&quot;: &quot;New Mexico&quot;}, &quot;type&quot;: &quot;Feature&quot;}, {&quot;geometry&quot;: {&quot;coordinates&quot;: [[[-73.343806, 45.013027], [-73.332852, 44.804903], [-73.387622, 44.618687], [-73.294514, 44.437948], [-73.321898, 44.246255], [-73.436914, 44.043608], [-73.349283, 43.769761], [-73.404052, 43.687607], [-73.245221, 43.523299], [-73.278083, 42.833204], [-73.267129, 42.745573], [-73.508114, 42.08834], [-73.486206, 42.050002], [-73.55193, 41.294184], [-73.48073, 41.21203], [-73.727192, 41.102491], [-73.655992, 40.987475], [-73.22879, 40.905321], [-73.141159, 40.965568], [-72.774204, 40.965568], [-72.587988, 40.998429], [-72.28128, 41.157261], [-72.259372, 41.042245], [-72.100541, 40.992952], [-72.467496, 40.845075], [-73.239744, 40.625997], [-73.562884, 40.582182], [-73.776484, 40.593136], [-73.935316, 40.543843], [-74.022947, 40.708151], [-73.902454, 40.998429], [-74.236547, 41.14083], [-74.69661, 41.359907], [-74.740426, 41.431108], [-74.89378, 41.436584], [-75.074519, 41.60637], [-75.052611, 41.754247], [-75.173104, 41.869263], [-75.249781, 41.863786], [-75.35932, 42.000709], [-79.76278, 42.000709], [-79.76278, 42.252649], [-79.76278, 42.269079], [-79.149363, 42.55388], [-79.050778, 42.690804], [-78.853608, 42.783912], [-78.930285, 42.953697], [-79.012439, 42.986559], [-79.072686, 43.260406], [-78.486653, 43.375421], [-77.966344, 43.369944], [-77.75822, 43.34256], [-77.533665, 43.233021], [-77.391265, 43.276836], [-76.958587, 43.271359], [-76.695693, 43.34256], [-76.41637, 43.523299], [-76.235631, 43.528776], [-76.230154, 43.802623], [-76.137046, 43.961454], [-76.3616, 44.070993], [-76.312308, 44.196962], [-75.912491, 44.366748], [-75.764614, 44.514625], [-75.282643, 44.848718], [-74.828057, 45.018503], [-74.148916, 44.991119], [-73.343806, 45.013027]]], &quot;type&quot;: &quot;Polygon&quot;}, &quot;id&quot;: &quot;NY&quot;, &quot;properties&quot;: {&quot;name&quot;: &quot;New York&quot;}, &quot;type&quot;: &quot;Feature&quot;}, {&quot;geometry&quot;: {&quot;coordinates&quot;: [[[-80.978661, 36.562108], [-80.294043, 36.545677], [-79.510841, 36.5402], [-75.868676, 36.551154], [-75.75366, 36.151337], [-76.032984, 36.189676], [-76.071322, 36.140383], [-76.410893, 36.080137], [-76.460185, 36.025367], [-76.68474, 36.008937], [-76.673786, 35.937736], [-76.399939, 35.987029], [-76.3616, 35.943213], [-76.060368, 35.992506], [-75.961783, 35.899398], [-75.781044, 35.937736], [-75.715321, 35.696751], [-75.775568, 35.581735], [-75.89606, 35.570781], [-76.147999, 35.324319], [-76.482093, 35.313365], [-76.536862, 35.14358], [-76.394462, 34.973795], [-76.279446, 34.940933], [-76.493047, 34.661609], [-76.673786, 34.694471], [-76.991448, 34.667086], [-77.210526, 34.60684], [-77.555573, 34.415147], [-77.82942, 34.163208], [-77.971821, 33.845545], [-78.179944, 33.916745], [-78.541422, 33.851022], [-79.675149, 34.80401], [-80.797922, 34.820441], [-80.781491, 34.935456], [-80.934845, 35.105241], [-81.038907, 35.044995], [-81.044384, 35.149057], [-82.276696, 35.198349], [-82.550543, 35.160011], [-82.764143, 35.066903], [-83.109191, 35.00118], [-83.618546, 34.984749], [-84.319594, 34.990226], [-84.29221, 35.225734], [-84.09504, 35.247642], [-84.018363, 35.41195], [-83.7719, 35.559827], [-83.498053, 35.565304], [-83.251591, 35.718659], [-82.994175, 35.773428], [-82.775097, 35.997983], [-82.638174, 36.063706], [-82.610789, 35.965121], [-82.216449, 36.156814], [-82.03571, 36.118475], [-81.909741, 36.304691], [-81.723525, 36.353984], [-81.679709, 36.589492], [-80.978661, 36.562108]]], &quot;type&quot;: &quot;Polygon&quot;}, &quot;id&quot;: &quot;NC&quot;, &quot;properties&quot;: {&quot;name&quot;: &quot;North Carolina&quot;}, &quot;type&quot;: &quot;Feature&quot;}, {&quot;geometry&quot;: {&quot;coordinates&quot;: [[[-97.228743, 49.000239], [-97.097296, 48.682577], [-97.16302, 48.545653], [-97.130158, 48.140359], [-97.053481, 47.948667], [-96.856311, 47.609096], [-96.823449, 46.968294], [-96.785111, 46.924479], [-96.801542, 46.656109], [-96.719387, 46.437031], [-96.598895, 46.332969], [-96.560556, 45.933153], [-104.047534, 45.944106], [-104.042057, 47.861036], [-104.047534, 49.000239], [-97.228743, 49.000239]]], &quot;type&quot;: &quot;Polygon&quot;}, &quot;id&quot;: &quot;ND&quot;, &quot;properties&quot;: {&quot;name&quot;: &quot;North Dakota&quot;}, &quot;type&quot;: &quot;Feature&quot;}, {&quot;geometry&quot;: {&quot;coordinates&quot;: [[[-80.518598, 41.978802], [-80.518598, 40.636951], [-80.666475, 40.582182], [-80.595275, 40.472643], [-80.600752, 40.319289], [-80.737675, 40.078303], [-80.830783, 39.711348], [-81.219646, 39.388209], [-81.345616, 39.344393], [-81.455155, 39.410117], [-81.57017, 39.267716], [-81.685186, 39.273193], [-81.811156, 39.0815], [-81.783771, 38.966484], [-81.887833, 38.873376], [-82.03571, 39.026731], [-82.221926, 38.785745], [-82.172634, 38.632391], [-82.293127, 38.577622], [-82.331465, 38.446175], [-82.594358, 38.424267], [-82.731282, 38.561191], [-82.846298, 38.588575], [-82.890113, 38.758361], [-83.032514, 38.725499], [-83.142052, 38.626914], [-83.519961, 38.703591], [-83.678792, 38.632391], [-83.903347, 38.769315], [-84.215533, 38.807653], [-84.231963, 38.895284], [-84.43461, 39.103408], [-84.817996, 39.103408], [-84.801565, 40.500028], [-84.807042, 41.694001], [-83.454238, 41.732339], [-83.065375, 41.595416], [-82.933929, 41.513262], [-82.835344, 41.589939], [-82.616266, 41.431108], [-82.479343, 41.381815], [-82.013803, 41.513262], [-81.739956, 41.485877], [-81.444201, 41.672093], [-81.011523, 41.852832], [-80.518598, 41.978802], [-80.518598, 41.978802]]], &quot;type&quot;: &quot;Polygon&quot;}, &quot;id&quot;: &quot;OH&quot;, &quot;properties&quot;: {&quot;name&quot;: &quot;Ohio&quot;}, &quot;type&quot;: &quot;Feature&quot;}, {&quot;geometry&quot;: {&quot;coordinates&quot;: [[[-100.087706, 37.000263], [-94.616242, 37.000263], [-94.616242, 36.501861], [-94.430026, 35.395519], [-94.484796, 33.637421], [-94.868182, 33.74696], [-94.966767, 33.861976], [-95.224183, 33.960561], [-95.289906, 33.87293], [-95.547322, 33.878407], [-95.602092, 33.933176], [-95.8376, 33.834591], [-95.936185, 33.889361], [-96.149786, 33.840068], [-96.346956, 33.686714], [-96.423633, 33.774345], [-96.631756, 33.845545], [-96.850834, 33.845545], [-96.922034, 33.960561], [-97.173974, 33.736006], [-97.256128, 33.861976], [-97.371143, 33.823637], [-97.458774, 33.905791], [-97.694283, 33.982469], [-97.869545, 33.851022], [-97.946222, 33.987946], [-98.088623, 34.004376], [-98.170777, 34.113915], [-98.36247, 34.157731], [-98.488439, 34.064623], [-98.570593, 34.146777], [-98.767763, 34.135823], [-98.986841, 34.223454], [-99.189488, 34.2125], [-99.260688, 34.404193], [-99.57835, 34.415147], [-99.698843, 34.382285], [-99.923398, 34.573978], [-100.000075, 34.563024], [-100.000075, 36.501861], [-101.812942, 36.501861], [-103.001438, 36.501861], [-103.001438, 37.000263], [-102.042974, 36.994786], [-100.087706, 37.000263]]], &quot;type&quot;: &quot;Polygon&quot;}, &quot;id&quot;: &quot;OK&quot;, &quot;properties&quot;: {&quot;name&quot;: &quot;Oklahoma&quot;}, &quot;type&quot;: &quot;Feature&quot;}, {&quot;geometry&quot;: {&quot;coordinates&quot;: [[[-123.211348, 46.174138], [-123.11824, 46.185092], [-122.904639, 46.08103], [-122.811531, 45.960537], [-122.762239, 45.659305], [-122.247407, 45.549767], [-121.809251, 45.708598], [-121.535404, 45.725029], [-121.217742, 45.670259], [-121.18488, 45.604536], [-120.637186, 45.746937], [-120.505739, 45.697644], [-120.209985, 45.725029], [-119.963522, 45.823614], [-119.525367, 45.911245], [-119.125551, 45.933153], [-118.988627, 45.998876], [-116.918344, 45.993399], [-116.78142, 45.823614], [-116.545912, 45.752413], [-116.463758, 45.61549], [-116.671881, 45.319735], [-116.732128, 45.144473], [-116.847143, 45.02398], [-116.830713, 44.930872], [-116.934774, 44.782995], [-117.038836, 44.750133], [-117.241483, 44.394132], [-117.170283, 44.257209], [-116.97859, 44.240778], [-116.896436, 44.158624], [-117.027882, 43.830007], [-117.027882, 42.000709], [-118.698349, 41.989755], [-120.001861, 41.995232], [-121.037003, 41.995232], [-122.378853, 42.011663], [-123.233256, 42.006186], [-124.213628, 42.000709], [-124.356029, 42.115725], [-124.432706, 42.438865], [-124.416275, 42.663419], [-124.553198, 42.838681], [-124.454613, 43.002989], [-124.383413, 43.271359], [-124.235536, 43.55616], [-124.169813, 43.8081], [-124.060274, 44.657025], [-124.076705, 44.772041], [-123.97812, 45.144473], [-123.939781, 45.659305], [-123.994551, 45.944106], [-123.945258, 46.113892], [-123.545441, 46.261769], [-123.370179, 46.146753], [-123.211348, 46.174138]]], &quot;type&quot;: &quot;Polygon&quot;}, &quot;id&quot;: &quot;OR&quot;, &quot;properties&quot;: {&quot;name&quot;: &quot;Oregon&quot;}, &quot;type&quot;: &quot;Feature&quot;}, {&quot;geometry&quot;: {&quot;coordinates&quot;: [[[-79.76278, 42.252649], [-79.76278, 42.000709], [-75.35932, 42.000709], [-75.249781, 41.863786], [-75.173104, 41.869263], [-75.052611, 41.754247], [-75.074519, 41.60637], [-74.89378, 41.436584], [-74.740426, 41.431108], [-74.69661, 41.359907], [-74.828057, 41.288707], [-74.882826, 41.179168], [-75.134765, 40.971045], [-75.052611, 40.866983], [-75.205966, 40.691721], [-75.195012, 40.576705], [-75.069042, 40.543843], [-75.058088, 40.417874], [-74.773287, 40.215227], [-74.82258, 40.127596], [-75.129289, 39.963288], [-75.145719, 39.88661], [-75.414089, 39.804456], [-75.616736, 39.831841], [-75.786521, 39.722302], [-79.477979, 39.722302], [-80.518598, 39.722302], [-80.518598, 40.636951], [-80.518598, 41.978802], [-80.518598, 41.978802], [-80.332382, 42.033571], [-79.76278, 42.269079], [-79.76278, 42.252649]]], &quot;type&quot;: &quot;Polygon&quot;}, &quot;id&quot;: &quot;PA&quot;, &quot;properties&quot;: {&quot;name&quot;: &quot;Pennsylvania&quot;}, &quot;type&quot;: &quot;Feature&quot;}, {&quot;geometry&quot;: {&quot;coordinates&quot;: [[[[-71.196845, 41.67757], [-71.120168, 41.496831], [-71.317338, 41.474923], [-71.196845, 41.67757]]], [[[-71.530939, 42.01714], [-71.383061, 42.01714], [-71.328292, 41.781632], [-71.22423, 41.710431], [-71.344723, 41.726862], [-71.448785, 41.578985], [-71.481646, 41.370861], [-71.859555, 41.321569], [-71.799309, 41.414677], [-71.799309, 42.006186], [-71.530939, 42.01714]]]], &quot;type&quot;: &quot;MultiPolygon&quot;}, &quot;id&quot;: &quot;RI&quot;, &quot;properties&quot;: {&quot;name&quot;: &quot;Rhode Island&quot;}, &quot;type&quot;: &quot;Feature&quot;}, {&quot;geometry&quot;: {&quot;coordinates&quot;: [[[-82.764143, 35.066903], [-82.550543, 35.160011], [-82.276696, 35.198349], [-81.044384, 35.149057], [-81.038907, 35.044995], [-80.934845, 35.105241], [-80.781491, 34.935456], [-80.797922, 34.820441], [-79.675149, 34.80401], [-78.541422, 33.851022], [-78.716684, 33.80173], [-78.935762, 33.637421], [-79.149363, 33.380005], [-79.187701, 33.171881], [-79.357487, 33.007573], [-79.582041, 33.007573], [-79.631334, 32.887081], [-79.866842, 32.755634], [-79.998289, 32.613234], [-80.206412, 32.552987], [-80.430967, 32.399633], [-80.452875, 32.328433], [-80.660998, 32.246279], [-80.885553, 32.032678], [-81.115584, 32.120309], [-81.121061, 32.290094], [-81.279893, 32.558464], [-81.416816, 32.629664], [-81.42777, 32.843265], [-81.493493, 33.007573], [-81.761863, 33.160928], [-81.937125, 33.347144], [-81.926172, 33.462159], [-82.194542, 33.631944], [-82.325988, 33.81816], [-82.55602, 33.94413], [-82.714851, 34.152254], [-82.747713, 34.26727], [-82.901067, 34.486347], [-83.005129, 34.469916], [-83.339222, 34.683517], [-83.322791, 34.787579], [-83.109191, 35.00118], [-82.764143, 35.066903]]], &quot;type&quot;: &quot;Polygon&quot;}, &quot;id&quot;: &quot;SC&quot;, &quot;properties&quot;: {&quot;name&quot;: &quot;South Carolina&quot;}, &quot;type&quot;: &quot;Feature&quot;}, {&quot;geometry&quot;: {&quot;coordinates&quot;: [[[-104.047534, 45.944106], [-96.560556, 45.933153], [-96.582464, 45.818137], [-96.856311, 45.604536], [-96.681049, 45.412843], [-96.451017, 45.297827], [-96.451017, 43.501391], [-96.582464, 43.479483], [-96.527695, 43.397329], [-96.560556, 43.222067], [-96.434587, 43.123482], [-96.511264, 43.052282], [-96.544125, 42.855112], [-96.631756, 42.707235], [-96.44554, 42.488157], [-96.626279, 42.515542], [-96.692003, 42.657942], [-97.217789, 42.844158], [-97.688806, 42.844158], [-97.831206, 42.866066], [-97.951699, 42.767481], [-98.466531, 42.94822], [-98.499393, 42.997512], [-101.626726, 42.997512], [-103.324578, 43.002989], [-104.053011, 43.002989], [-104.058488, 44.996596], [-104.042057, 44.996596], [-104.047534, 45.944106]]], &quot;type&quot;: &quot;Polygon&quot;}, &quot;id&quot;: &quot;SD&quot;, &quot;properties&quot;: {&quot;name&quot;: &quot;South Dakota&quot;}, &quot;type&quot;: &quot;Feature&quot;}, {&quot;geometry&quot;: {&quot;coordinates&quot;: [[[-88.054868, 36.496384], [-88.071299, 36.677123], [-87.852221, 36.633308], [-86.592525, 36.655216], [-85.486183, 36.616877], [-85.289013, 36.627831], [-84.544149, 36.594969], [-83.689746, 36.584015], [-83.673316, 36.600446], [-81.679709, 36.589492], [-81.723525, 36.353984], [-81.909741, 36.304691], [-82.03571, 36.118475], [-82.216449, 36.156814], [-82.610789, 35.965121], [-82.638174, 36.063706], [-82.775097, 35.997983], [-82.994175, 35.773428], [-83.251591, 35.718659], [-83.498053, 35.565304], [-83.7719, 35.559827], [-84.018363, 35.41195], [-84.09504, 35.247642], [-84.29221, 35.225734], [-84.319594, 34.990226], [-85.606675, 34.984749], [-87.359296, 35.00118], [-88.202745, 34.995703], [-88.471115, 34.995703], [-90.311367, 34.995703], [-90.212782, 35.023087], [-90.114197, 35.198349], [-90.130628, 35.439335], [-89.944412, 35.603643], [-89.911551, 35.756997], [-89.763673, 35.811767], [-89.730812, 35.997983], [-89.533642, 36.249922], [-89.539119, 36.496384], [-89.484349, 36.496384], [-89.418626, 36.496384], [-89.298133, 36.507338], [-88.054868, 36.496384]]], &quot;type&quot;: &quot;Polygon&quot;}, &quot;id&quot;: &quot;TN&quot;, &quot;properties&quot;: {&quot;name&quot;: &quot;Tennessee&quot;}, &quot;type&quot;: &quot;Feature&quot;}, {&quot;geometry&quot;: {&quot;coordinates&quot;: [[[-101.812942, 36.501861], [-100.000075, 36.501861], [-100.000075, 34.563024], [-99.923398, 34.573978], [-99.698843, 34.382285], [-99.57835, 34.415147], [-99.260688, 34.404193], [-99.189488, 34.2125], [-98.986841, 34.223454], [-98.767763, 34.135823], [-98.570593, 34.146777], [-98.488439, 34.064623], [-98.36247, 34.157731], [-98.170777, 34.113915], [-98.088623, 34.004376], [-97.946222, 33.987946], [-97.869545, 33.851022], [-97.694283, 33.982469], [-97.458774, 33.905791], [-97.371143, 33.823637], [-97.256128, 33.861976], [-97.173974, 33.736006], [-96.922034, 33.960561], [-96.850834, 33.845545], [-96.631756, 33.845545], [-96.423633, 33.774345], [-96.346956, 33.686714], [-96.149786, 33.840068], [-95.936185, 33.889361], [-95.8376, 33.834591], [-95.602092, 33.933176], [-95.547322, 33.878407], [-95.289906, 33.87293], [-95.224183, 33.960561], [-94.966767, 33.861976], [-94.868182, 33.74696], [-94.484796, 33.637421], [-94.380734, 33.544313], [-94.183564, 33.593606], [-94.041164, 33.54979], [-94.041164, 33.018527], [-94.041164, 31.994339], [-93.822086, 31.775262], [-93.816609, 31.556184], [-93.542762, 31.15089], [-93.526331, 30.93729], [-93.630393, 30.679874], [-93.728978, 30.575812], [-93.696116, 30.438888], [-93.767317, 30.334826], [-93.690639, 30.143133], [-93.926148, 29.787132], [-93.838517, 29.688547], [-94.002825, 29.68307], [-94.523134, 29.546147], [-94.70935, 29.622824], [-94.742212, 29.787132], [-94.873659, 29.672117], [-94.966767, 29.699501], [-95.016059, 29.557101], [-94.911997, 29.496854], [-94.895566, 29.310638], [-95.081782, 29.113469], [-95.383014, 28.867006], [-95.985477, 28.604113], [-96.045724, 28.647929], [-96.226463, 28.582205], [-96.23194, 28.642452], [-96.478402, 28.598636], [-96.593418, 28.724606], [-96.664618, 28.697221], [-96.401725, 28.439805], [-96.593418, 28.357651], [-96.774157, 28.406943], [-96.801542, 28.226204], [-97.026096, 28.039988], [-97.256128, 27.694941], [-97.404005, 27.333463], [-97.513544, 27.360848], [-97.540929, 27.229401], [-97.425913, 27.262263], [-97.480682, 26.99937], [-97.557359, 26.988416], [-97.562836, 26.840538], [-97.469728, 26.758384], [-97.442344, 26.457153], [-97.332805, 26.353091], [-97.30542, 26.161398], [-97.217789, 25.991613], [-97.524498, 25.887551], [-97.650467, 26.018997], [-97.885976, 26.06829], [-98.198161, 26.057336], [-98.466531, 26.221644], [-98.669178, 26.238075], [-98.822533, 26.369522], [-99.030656, 26.413337], [-99.173057, 26.539307], [-99.266165, 26.840538], [-99.446904, 27.021277], [-99.424996, 27.174632], [-99.50715, 27.33894], [-99.479765, 27.48134], [-99.605735, 27.640172], [-99.709797, 27.656603], [-99.879582, 27.799003], [-99.934351, 27.979742], [-100.082229, 28.14405], [-100.29583, 28.280974], [-100.399891, 28.582205], [-100.498476, 28.66436], [-100.629923, 28.905345], [-100.673738, 29.102515], [-100.799708, 29.244915], [-101.013309, 29.370885], [-101.062601, 29.458516], [-101.259771, 29.535193], [-101.413125, 29.754271], [-101.851281, 29.803563], [-102.114174, 29.792609], [-102.338728, 29.869286], [-102.388021, 29.765225], [-102.629006, 29.732363], [-102.809745, 29.524239], [-102.919284, 29.190146], [-102.97953, 29.184669], [-103.116454, 28.987499], [-103.280762, 28.982022], [-103.527224, 29.135376], [-104.146119, 29.381839], [-104.266611, 29.513285], [-104.507597, 29.639255], [-104.677382, 29.924056], [-104.688336, 30.181472], [-104.858121, 30.389596], [-104.896459, 30.570335], [-105.005998, 30.685351], [-105.394861, 30.855136], [-105.602985, 31.085167], [-105.77277, 31.167321], [-105.953509, 31.364491], [-106.205448, 31.468553], [-106.38071, 31.731446], [-106.528588, 31.786216], [-106.643603, 31.901231], [-106.616219, 31.999816], [-103.067161, 31.999816], [-103.067161, 33.002096], [-103.045254, 34.01533], [-103.039777, 36.501861], [-103.001438, 36.501861], [-101.812942, 36.501861]]], &quot;type&quot;: &quot;Polygon&quot;}, &quot;id&quot;: &quot;TX&quot;, &quot;properties&quot;: {&quot;name&quot;: &quot;Texas&quot;}, &quot;type&quot;: &quot;Feature&quot;}, {&quot;geometry&quot;: {&quot;coordinates&quot;: [[[-112.164359, 41.995232], [-111.047063, 42.000709], [-111.047063, 40.998429], [-109.04798, 40.998429], [-109.053457, 39.125316], [-109.058934, 38.27639], [-109.042503, 38.166851], [-109.042503, 37.000263], [-110.499369, 37.00574], [-114.048427, 37.000263], [-114.04295, 41.995232], [-112.164359, 41.995232]]], &quot;type&quot;: &quot;Polygon&quot;}, &quot;id&quot;: &quot;UT&quot;, &quot;properties&quot;: {&quot;name&quot;: &quot;Utah&quot;}, &quot;type&quot;: &quot;Feature&quot;}, {&quot;geometry&quot;: {&quot;coordinates&quot;: [[[-71.503554, 45.013027], [-71.4926, 44.914442], [-71.629524, 44.750133], [-71.536416, 44.585825], [-71.700724, 44.41604], [-72.034817, 44.322932], [-72.02934, 44.07647], [-72.116971, 43.994316], [-72.204602, 43.769761], [-72.379864, 43.572591], [-72.456542, 43.150867], [-72.445588, 43.008466], [-72.533219, 42.953697], [-72.544173, 42.80582], [-72.456542, 42.729142], [-73.267129, 42.745573], [-73.278083, 42.833204], [-73.245221, 43.523299], [-73.404052, 43.687607], [-73.349283, 43.769761], [-73.436914, 44.043608], [-73.321898, 44.246255], [-73.294514, 44.437948], [-73.387622, 44.618687], [-73.332852, 44.804903], [-73.343806, 45.013027], [-72.308664, 45.002073], [-71.503554, 45.013027]]], &quot;type&quot;: &quot;Polygon&quot;}, &quot;id&quot;: &quot;VT&quot;, &quot;properties&quot;: {&quot;name&quot;: &quot;Vermont&quot;}, &quot;type&quot;: &quot;Feature&quot;}, {&quot;geometry&quot;: {&quot;coordinates&quot;: [[[[-75.397659, 38.013497], [-75.244304, 38.029928], [-75.375751, 37.860142], [-75.512674, 37.799896], [-75.594828, 37.569865], [-75.802952, 37.197433], [-75.972737, 37.120755], [-76.027507, 37.257679], [-75.939876, 37.564388], [-75.671506, 37.95325], [-75.397659, 38.013497]]], [[[-76.016553, 37.95325], [-75.994645, 37.95325], [-76.043938, 37.95325], [-76.016553, 37.95325]]], [[[-78.349729, 39.464886], [-77.82942, 39.130793], [-77.719881, 39.322485], [-77.566527, 39.306055], [-77.456988, 39.223901], [-77.456988, 39.076023], [-77.248864, 39.026731], [-77.117418, 38.933623], [-77.040741, 38.791222], [-77.128372, 38.632391], [-77.248864, 38.588575], [-77.325542, 38.446175], [-77.281726, 38.342113], [-77.013356, 38.374975], [-76.964064, 38.216144], [-76.613539, 38.15042], [-76.514954, 38.024451], [-76.235631, 37.887527], [-76.3616, 37.608203], [-76.246584, 37.389126], [-76.383508, 37.285064], [-76.399939, 37.159094], [-76.273969, 37.082417], [-76.410893, 36.961924], [-76.619016, 37.120755], [-76.668309, 37.065986], [-76.48757, 36.95097], [-75.994645, 36.923586], [-75.868676, 36.551154], [-79.510841, 36.5402], [-80.294043, 36.545677], [-80.978661, 36.562108], [-81.679709, 36.589492], [-83.673316, 36.600446], [-83.136575, 36.742847], [-83.070852, 36.852385], [-82.879159, 36.890724], [-82.868205, 36.978355], [-82.720328, 37.044078], [-82.720328, 37.120755], [-82.353373, 37.268633], [-81.969987, 37.537003], [-81.986418, 37.454849], [-81.849494, 37.285064], [-81.679709, 37.20291], [-81.55374, 37.208387], [-81.362047, 37.339833], [-81.225123, 37.235771], [-80.967707, 37.290541], [-80.513121, 37.482234], [-80.474782, 37.421987], [-80.29952, 37.509618], [-80.294043, 37.690357], [-80.184505, 37.849189], [-79.998289, 37.997066], [-79.921611, 38.177805], [-79.724442, 38.364021], [-79.647764, 38.594052], [-79.477979, 38.457129], [-79.313671, 38.413313], [-79.209609, 38.495467], [-78.996008, 38.851469], [-78.870039, 38.763838], [-78.404499, 39.169131], [-78.349729, 39.464886]]]], &quot;type&quot;: &quot;MultiPolygon&quot;}, &quot;id&quot;: &quot;VA&quot;, &quot;properties&quot;: {&quot;name&quot;: &quot;Virginia&quot;}, &quot;type&quot;: &quot;Feature&quot;}, {&quot;geometry&quot;: {&quot;coordinates&quot;: [[[[-117.033359, 49.000239], [-117.044313, 47.762451], [-117.038836, 46.426077], [-117.055267, 46.343923], [-116.92382, 46.168661], [-116.918344, 45.993399], [-118.988627, 45.998876], [-119.125551, 45.933153], [-119.525367, 45.911245], [-119.963522, 45.823614], [-120.209985, 45.725029], [-120.505739, 45.697644], [-120.637186, 45.746937], [-121.18488, 45.604536], [-121.217742, 45.670259], [-121.535404, 45.725029], [-121.809251, 45.708598], [-122.247407, 45.549767], [-122.762239, 45.659305], [-122.811531, 45.960537], [-122.904639, 46.08103], [-123.11824, 46.185092], [-123.211348, 46.174138], [-123.370179, 46.146753], [-123.545441, 46.261769], [-123.72618, 46.300108], [-123.874058, 46.239861], [-124.065751, 46.327492], [-124.027412, 46.464416], [-123.895966, 46.535616], [-124.098612, 46.74374], [-124.235536, 47.285957], [-124.31769, 47.357157], [-124.427229, 47.740543], [-124.624399, 47.88842], [-124.706553, 48.184175], [-124.597014, 48.381345], [-124.394367, 48.288237], [-123.983597, 48.162267], [-123.704273, 48.167744], [-123.424949, 48.118452], [-123.162056, 48.167744], [-123.036086, 48.080113], [-122.800578, 48.08559], [-122.636269, 47.866512], [-122.515777, 47.882943], [-122.493869, 47.587189], [-122.422669, 47.318818], [-122.324084, 47.346203], [-122.422669, 47.576235], [-122.395284, 47.800789], [-122.230976, 48.030821], [-122.362422, 48.123929], [-122.373376, 48.288237], [-122.471961, 48.468976], [-122.422669, 48.600422], [-122.488392, 48.753777], [-122.647223, 48.775685], [-122.795101, 48.8907], [-122.756762, 49.000239], [-117.033359, 49.000239]]], [[[-122.718423, 48.310145], [-122.586977, 48.35396], [-122.608885, 48.151313], [-122.767716, 48.227991], [-122.718423, 48.310145]]], [[[-123.025132, 48.583992], [-122.915593, 48.715438], [-122.767716, 48.556607], [-122.811531, 48.419683], [-123.041563, 48.458022], [-123.025132, 48.583992]]]], &quot;type&quot;: &quot;MultiPolygon&quot;}, &quot;id&quot;: &quot;WA&quot;, &quot;properties&quot;: {&quot;name&quot;: &quot;Washington&quot;}, &quot;type&quot;: &quot;Feature&quot;}, {&quot;geometry&quot;: {&quot;coordinates&quot;: [[[-80.518598, 40.636951], [-80.518598, 39.722302], [-79.477979, 39.722302], [-79.488933, 39.20747], [-79.291763, 39.300578], [-79.094593, 39.470363], [-78.963147, 39.437501], [-78.765977, 39.585379], [-78.470222, 39.514178], [-78.431884, 39.623717], [-78.267575, 39.61824], [-78.174467, 39.694917], [-78.004682, 39.601809], [-77.834897, 39.601809], [-77.719881, 39.322485], [-77.82942, 39.130793], [-78.349729, 39.464886], [-78.404499, 39.169131], [-78.870039, 38.763838], [-78.996008, 38.851469], [-79.209609, 38.495467], [-79.313671, 38.413313], [-79.477979, 38.457129], [-79.647764, 38.594052], [-79.724442, 38.364021], [-79.921611, 38.177805], [-79.998289, 37.997066], [-80.184505, 37.849189], [-80.294043, 37.690357], [-80.29952, 37.509618], [-80.474782, 37.421987], [-80.513121, 37.482234], [-80.967707, 37.290541], [-81.225123, 37.235771], [-81.362047, 37.339833], [-81.55374, 37.208387], [-81.679709, 37.20291], [-81.849494, 37.285064], [-81.986418, 37.454849], [-81.969987, 37.537003], [-82.101434, 37.553434], [-82.293127, 37.668449], [-82.342419, 37.783465], [-82.50125, 37.931343], [-82.621743, 38.123036], [-82.594358, 38.424267], [-82.331465, 38.446175], [-82.293127, 38.577622], [-82.172634, 38.632391], [-82.221926, 38.785745], [-82.03571, 39.026731], [-81.887833, 38.873376], [-81.783771, 38.966484], [-81.811156, 39.0815], [-81.685186, 39.273193], [-81.57017, 39.267716], [-81.455155, 39.410117], [-81.345616, 39.344393], [-81.219646, 39.388209], [-80.830783, 39.711348], [-80.737675, 40.078303], [-80.600752, 40.319289], [-80.595275, 40.472643], [-80.666475, 40.582182], [-80.518598, 40.636951]]], &quot;type&quot;: &quot;Polygon&quot;}, &quot;id&quot;: &quot;WV&quot;, &quot;properties&quot;: {&quot;name&quot;: &quot;West Virginia&quot;}, &quot;type&quot;: &quot;Feature&quot;}, {&quot;geometry&quot;: {&quot;coordinates&quot;: [[[-90.415429, 46.568478], [-90.229213, 46.508231], [-90.119674, 46.338446], [-89.09001, 46.135799], [-88.662808, 45.987922], [-88.531362, 46.020784], [-88.10416, 45.922199], [-87.989145, 45.796229], [-87.781021, 45.675736], [-87.791975, 45.500474], [-87.885083, 45.363551], [-87.649574, 45.341643], [-87.742682, 45.199243], [-87.589328, 45.095181], [-87.627666, 44.974688], [-87.819359, 44.95278], [-87.983668, 44.722749], [-88.043914, 44.563917], [-87.928898, 44.536533], [-87.775544, 44.640595], [-87.611236, 44.837764], [-87.403112, 44.914442], [-87.238804, 45.166381], [-87.03068, 45.22115], [-87.047111, 45.089704], [-87.189511, 44.969211], [-87.468835, 44.552964], [-87.545512, 44.322932], [-87.540035, 44.158624], [-87.644097, 44.103854], [-87.737205, 43.8793], [-87.704344, 43.687607], [-87.791975, 43.561637], [-87.912467, 43.249452], [-87.885083, 43.002989], [-87.76459, 42.783912], [-87.802929, 42.493634], [-88.788778, 42.493634], [-90.639984, 42.510065], [-90.711184, 42.636034], [-91.067185, 42.75105], [-91.143862, 42.909881], [-91.176724, 43.134436], [-91.056231, 43.254929], [-91.204109, 43.353514], [-91.215062, 43.501391], [-91.269832, 43.616407], [-91.242447, 43.775238], [-91.43414, 43.994316], [-91.592971, 44.032654], [-91.877772, 44.202439], [-91.927065, 44.333886], [-92.233773, 44.443425], [-92.337835, 44.552964], [-92.545959, 44.569394], [-92.808852, 44.750133], [-92.737652, 45.117088], [-92.75956, 45.286874], [-92.644544, 45.440228], [-92.770513, 45.566198], [-92.885529, 45.577151], [-92.869098, 45.719552], [-92.639067, 45.933153], [-92.354266, 46.015307], [-92.29402, 46.075553], [-92.29402, 46.667063], [-92.091373, 46.749217], [-92.014696, 46.705401], [-91.790141, 46.694447], [-91.09457, 46.864232], [-90.837154, 46.95734], [-90.749522, 46.88614], [-90.886446, 46.754694], [-90.55783, 46.584908], [-90.415429, 46.568478]]], &quot;type&quot;: &quot;Polygon&quot;}, &quot;id&quot;: &quot;WI&quot;, &quot;properties&quot;: {&quot;name&quot;: &quot;Wisconsin&quot;}, &quot;type&quot;: &quot;Feature&quot;}, {&quot;geometry&quot;: {&quot;coordinates&quot;: [[[-109.080842, 45.002073], [-105.91517, 45.002073], [-104.058488, 44.996596], [-104.053011, 43.002989], [-104.053011, 41.003906], [-105.728954, 40.998429], [-107.919731, 41.003906], [-109.04798, 40.998429], [-111.047063, 40.998429], [-111.047063, 42.000709], [-111.047063, 44.476286], [-111.05254, 45.002073], [-109.080842, 45.002073]]], &quot;type&quot;: &quot;Polygon&quot;}, &quot;id&quot;: &quot;WY&quot;, &quot;properties&quot;: {&quot;name&quot;: &quot;Wyoming&quot;}, &quot;type&quot;: &quot;Feature&quot;}], &quot;type&quot;: &quot;FeatureCollection&quot;});\n",
       "\n",
       "        \n",
       "    \n",
       "            geo_json_4dce2655293a4b42bc0e08571d6d7b77.addTo(choropleth_d2aef6ec99c82cf7d0e78e66320a1347);\n",
       "        \n",
       "    \n",
       "    var color_map_55a1983e5e7bebbf0e1fab4ef55cf000 = {};\n",
       "\n",
       "    \n",
       "    color_map_55a1983e5e7bebbf0e1fab4ef55cf000.color = d3.scale.threshold()\n",
       "              .domain([35.44444444444444, 51.213303800583624, 66.9821631567228, 82.75102251286198, 98.51988186900115, 114.28874122514034, 130.05760058127953, 145.8264599374187, 161.59531929355788, 177.36417864969707, 193.13303800583623, 208.90189736197544, 224.6707567181146, 240.43961607425376, 256.208475430393, 271.97733478653214, 287.7461941426713, 303.5150534988105, 319.2839128549497, 335.0527722110889, 350.82163156722805, 366.59049092336727, 382.35935027950643, 398.1282096356456, 413.89706899178475, 429.66592834792397, 445.4347877040631, 461.20364706020234, 476.9725064163415, 492.74136577248066, 508.5102251286198, 524.279084484759, 540.0479438408981, 555.8168031970374, 571.5856625531766, 587.3545219093157, 603.1233812654549, 618.8922406215942, 634.6610999777333, 650.4299593338724, 666.1988186900116, 681.9676780461508, 697.7365374022901, 713.5053967584291, 729.2742561145684, 745.0431154707076, 760.8119748268467, 776.5808341829859, 792.349693539125, 808.1185528952643, 823.8874122514035, 839.6562716075426, 855.4251309636818, 871.193990319821, 886.9628496759602, 902.7317090320993, 918.5005683882385, 934.2694277443777, 950.0382871005169, 965.807146456656, 981.5760058127952, 997.3448651689345, 1013.1137245250736, 1028.8825838812127, 1044.651443237352, 1060.420302593491, 1076.1891619496303, 1091.9580213057695, 1107.7268806619086, 1123.4957400180476, 1139.264599374187, 1155.033458730326, 1170.8023180864652, 1186.5711774426045, 1202.3400367987438, 1218.1088961548828, 1233.877755511022, 1249.6466148671611, 1265.4154742233002, 1281.1843335794395, 1296.9531929355787, 1312.722052291718, 1328.490911647857, 1344.2597710039963, 1360.0286303601356, 1375.7974897162744, 1391.5663490724137, 1407.335208428553, 1423.1040677846922, 1438.8729271408313, 1454.6417864969706, 1470.4106458531098, 1486.1795052092489, 1501.948364565388, 1517.7172239215272, 1533.4860832776665, 1549.2549426338055, 1565.0238019899448, 1580.792661346084, 1596.561520702223, 1612.3303800583624, 1628.0992394145017, 1643.8680987706407, 1659.6369581267797, 1675.405817482919, 1691.1746768390583, 1706.9435361951973, 1722.7123955513366, 1738.4812549074759, 1754.2501142636147, 1770.018973619754, 1785.7878329758933, 1801.5566923320325, 1817.3255516881716, 1833.0944110443108, 1848.8632704004501, 1864.6321297565892, 1880.4009891127284, 1896.1698484688675, 1911.9387078250068, 1927.7075671811458, 1943.476426537285, 1959.2452858934244, 1975.0141452495634, 1990.7830046057027, 2006.551863961842, 2022.320723317981, 2038.08958267412, 2053.8584420302595, 2069.627301386399, 2085.3961607425376, 2101.165020098677, 2116.933879454816, 2132.7027388109555, 2148.4715981670947, 2164.2404575232335, 2180.009316879373, 2195.778176235512, 2211.547035591651, 2227.31589494779, 2243.0847543039295, 2258.8536136600687, 2274.6224730162076, 2290.391332372347, 2306.160191728486, 2321.9290510846254, 2337.6979104407646, 2353.466769796904, 2369.235629153043, 2385.004488509182, 2400.7733478653213, 2416.5422072214606, 2432.3110665776, 2448.079925933739, 2463.848785289878, 2479.617644646017, 2495.386504002156, 2511.1553633582953, 2526.9242227144346, 2542.693082070574, 2558.461941426713, 2574.2308007828524, 2589.9996601389917, 2605.7685194951305, 2621.5373788512698, 2637.306238207409, 2653.0750975635483, 2668.8439569196876, 2684.612816275827, 2700.381675631966, 2716.1505349881045, 2731.9193943442438, 2747.688253700383, 2763.4571130565223, 2779.2259724126616, 2794.994831768801, 2810.76369112494, 2826.532550481079, 2842.301409837218, 2858.0702691933575, 2873.8391285494968, 2889.607987905636, 2905.3768472617753, 2921.1457066179146, 2936.9145659740534, 2952.6834253301927, 2968.4522846863315, 2984.2211440424708, 2999.99000339861, 3015.7588627547493, 3031.5277221108886, 3047.2965814670274, 3063.0654408231667, 3078.834300179306, 3094.6031595354452, 3110.3720188915845, 3126.140878247724, 3141.909737603863, 3157.678596960002, 3173.447456316141, 3189.2163156722804, 3204.9851750284197, 3220.754034384559, 3236.522893740698, 3252.291753096837, 3268.060612452976, 3283.829471809115, 3299.5983311652544, 3315.3671905213937, 3331.136049877533, 3346.9049092336722, 3362.6737685898115, 3378.4426279459503, 3394.2114873020896, 3409.980346658229, 3425.749206014368, 3441.5180653705074, 3457.2869247266467, 3473.055784082785, 3488.8246434389243, 3504.5935027950636, 3520.362362151203, 3536.131221507342, 3551.9000808634814, 3567.6689402196207, 3583.4377995757595, 3599.206658931899, 3614.975518288038, 3630.7443776441773, 3646.5132370003166, 3662.282096356456, 3678.050955712595, 3693.819815068734, 3709.5886744248733, 3725.3575337810125, 3741.1263931371514, 3756.8952524932906, 3772.66411184943, 3788.432971205569, 3804.201830561708, 3819.9706899178473, 3835.7395492739865, 3851.508408630126, 3867.277267986265, 3883.0461273424044, 3898.8149866985436, 3914.5838460546825, 3930.3527054108217, 3946.121564766961, 3961.8904241231003, 3977.6592834792395, 3993.4281428353784, 4009.1970021915176, 4024.9658615476565, 4040.7347209037957, 4056.503580259935, 4072.2724396160743, 4088.0412989722136, 4103.810158328353, 4119.579017684492, 4135.347877040631, 4151.11673639677, 4166.8855957529095, 4182.654455109048, 4198.423314465188, 4214.192173821327, 4229.961033177467, 4245.729892533605, 4261.498751889745, 4277.267611245884, 4293.036470602023, 4308.8053299581625, 4324.574189314301, 4340.343048670441, 4356.11190802658, 4371.88076738272, 4387.6496267388575, 4403.418486094996, 4419.187345451136, 4434.956204807275, 4450.725064163415, 4466.493923519553, 4482.262782875693, 4498.031642231832, 4513.800501587971, 4529.5693609441105, 4545.338220300249, 4561.107079656389, 4576.875939012528, 4592.644798368668, 4608.413657724806, 4624.182517080945, 4639.951376437085, 4655.720235793224, 4671.4890951493635, 4687.257954505502, 4703.026813861642, 4718.795673217781, 4734.56453257392, 4750.333391930059, 4766.102251286198, 4781.871110642338, 4797.639969998477, 4813.4088293546165, 4829.177688710755, 4844.946548066894, 4860.715407423034, 4876.484266779172, 4892.2531261353115, 4908.02198549145, 4923.79084484759, 4939.559704203729, 4955.328563559868, 4971.097422916007, 4986.866282272146, 5002.635141628286, 5018.404000984425, 5034.1728603405645, 5049.941719696703, 5065.710579052842, 5081.479438408982, 5097.248297765121, 5113.01715712126, 5128.786016477399, 5144.554875833539, 5160.323735189678, 5176.092594545817, 5191.861453901956, 5207.630313258095, 5223.399172614235, 5239.168031970374, 5254.936891326513, 5270.705750682652, 5286.474610038791, 5302.243469394931, 5318.01232875107, 5333.781188107209, 5349.550047463348, 5365.318906819488, 5381.087766175627, 5396.856625531765, 5412.625484887904, 5428.394344244043, 5444.163203600183, 5459.932062956322, 5475.700922312461, 5491.4697816686, 5507.238641024739, 5523.007500380879, 5538.776359737018, 5554.545219093157, 5570.314078449296, 5586.082937805436, 5601.851797161575, 5617.6206565177135, 5633.389515873853, 5649.158375229992, 5664.927234586132, 5680.696093942271, 5696.46495329841, 5712.233812654549, 5728.002672010688, 5743.771531366828, 5759.540390722967, 5775.309250079106, 5791.078109435245, 5806.846968791385, 5822.615828147524, 5838.3846875036625, 5854.153546859802, 5869.922406215941, 5885.691265572081, 5901.460124928219, 5917.228984284358, 5932.997843640497, 5948.766702996636, 5964.535562352776, 5980.304421708915, 5996.073281065054, 6011.842140421193, 6027.610999777333, 6043.379859133472, 6059.1487184896105, 6074.91757784575, 6090.686437201889, 6106.455296558029, 6122.224155914168, 6137.993015270307, 6153.761874626446, 6169.530733982585, 6185.299593338725, 6201.0684526948635, 6216.837312051003, 6232.606171407142, 6248.375030763282, 6264.143890119421, 6279.912749475559, 6295.681608831699, 6311.450468187838, 6327.219327543978, 6342.9881869001165, 6358.757046256256, 6374.525905612395, 6390.294764968534, 6406.063624324674, 6421.8324836808115, 6437.601343036951, 6453.37020239309, 6469.13906174923, 6484.907921105369, 6500.676780461507, 6516.445639817647, 6532.214499173786, 6547.983358529926, 6563.7522178860645, 6579.521077242204, 6595.289936598343, 6611.058795954482, 6626.827655310622, 6642.59651466676, 6658.3653740229, 6674.134233379039, 6689.903092735179, 6705.6719520913175, 6721.440811447456, 6737.209670803596, 6752.978530159735, 6768.747389515875, 6784.516248872013, 6800.285108228152, 6816.053967584292, 6831.822826940431, 6847.5916862965705, 6863.360545652709, 6879.129405008849, 6894.898264364988, 6910.667123721126, 6926.4359830772655, 6942.204842433404, 6957.973701789544, 6973.742561145683, 6989.511420501823, 7005.280279857961, 7021.0491392141, 7036.81799857024, 7052.586857926379, 7068.3557172825185, 7084.124576638657, 7099.893435994797, 7115.662295350936, 7131.431154707075, 7147.200014063214, 7162.968873419353, 7178.737732775493, 7194.506592131632, 7210.2754514877715, 7226.04431084391, 7241.813170200049, 7257.582029556189, 7273.350888912328, 7289.119748268467, 7304.888607624606, 7320.657466980746, 7336.426326336885, 7352.195185693024, 7367.964045049163, 7383.732904405302, 7399.501763761442, 7415.270623117581, 7431.0394824737195, 7446.808341829858, 7462.577201185997, 7478.346060542137, 7494.114919898276, 7509.8837792544155, 7525.652638610554, 7541.421497966694, 7557.190357322833, 7572.959216678972, 7588.728076035111, 7604.49693539125, 7620.26579474739, 7636.034654103529, 7651.8035134596685, 7667.572372815807, 7683.341232171946, 7699.110091528086, 7714.878950884225, 7730.647810240364, 7746.416669596503, 7762.185528952643, 7777.954388308782, 7793.723247664921, 7809.49210702106, 7825.260966377199, 7841.029825733339, 7856.798685089478, 7872.567544445617, 7888.336403801756, 7904.105263157895])\n",
       "              .range([&#x27;#f1eef6ff&#x27;, &#x27;#f1eef6ff&#x27;, &#x27;#f1eef6ff&#x27;, &#x27;#f1eef6ff&#x27;, &#x27;#f1eef6ff&#x27;, &#x27;#f1eef6ff&#x27;, &#x27;#f1eef6ff&#x27;, &#x27;#f1eef6ff&#x27;, &#x27;#f1eef6ff&#x27;, &#x27;#f1eef6ff&#x27;, &#x27;#f1eef6ff&#x27;, &#x27;#f1eef6ff&#x27;, &#x27;#f1eef6ff&#x27;, &#x27;#f1eef6ff&#x27;, &#x27;#f1eef6ff&#x27;, &#x27;#f1eef6ff&#x27;, &#x27;#f1eef6ff&#x27;, &#x27;#f1eef6ff&#x27;, &#x27;#f1eef6ff&#x27;, &#x27;#f1eef6ff&#x27;, &#x27;#f1eef6ff&#x27;, &#x27;#f1eef6ff&#x27;, &#x27;#f1eef6ff&#x27;, &#x27;#f1eef6ff&#x27;, &#x27;#f1eef6ff&#x27;, &#x27;#f1eef6ff&#x27;, &#x27;#f1eef6ff&#x27;, &#x27;#f1eef6ff&#x27;, &#x27;#f1eef6ff&#x27;, &#x27;#f1eef6ff&#x27;, &#x27;#f1eef6ff&#x27;, &#x27;#f1eef6ff&#x27;, &#x27;#f1eef6ff&#x27;, &#x27;#f1eef6ff&#x27;, &#x27;#f1eef6ff&#x27;, &#x27;#f1eef6ff&#x27;, &#x27;#f1eef6ff&#x27;, &#x27;#f1eef6ff&#x27;, &#x27;#f1eef6ff&#x27;, &#x27;#f1eef6ff&#x27;, &#x27;#f1eef6ff&#x27;, &#x27;#f1eef6ff&#x27;, &#x27;#f1eef6ff&#x27;, &#x27;#f1eef6ff&#x27;, &#x27;#f1eef6ff&#x27;, &#x27;#f1eef6ff&#x27;, &#x27;#f1eef6ff&#x27;, &#x27;#f1eef6ff&#x27;, &#x27;#f1eef6ff&#x27;, &#x27;#f1eef6ff&#x27;, &#x27;#f1eef6ff&#x27;, &#x27;#f1eef6ff&#x27;, &#x27;#f1eef6ff&#x27;, &#x27;#f1eef6ff&#x27;, &#x27;#f1eef6ff&#x27;, &#x27;#f1eef6ff&#x27;, &#x27;#f1eef6ff&#x27;, &#x27;#f1eef6ff&#x27;, &#x27;#f1eef6ff&#x27;, &#x27;#f1eef6ff&#x27;, &#x27;#f1eef6ff&#x27;, &#x27;#f1eef6ff&#x27;, &#x27;#f1eef6ff&#x27;, &#x27;#f1eef6ff&#x27;, &#x27;#f1eef6ff&#x27;, &#x27;#f1eef6ff&#x27;, &#x27;#f1eef6ff&#x27;, &#x27;#f1eef6ff&#x27;, &#x27;#f1eef6ff&#x27;, &#x27;#f1eef6ff&#x27;, &#x27;#f1eef6ff&#x27;, &#x27;#f1eef6ff&#x27;, &#x27;#f1eef6ff&#x27;, &#x27;#f1eef6ff&#x27;, &#x27;#f1eef6ff&#x27;, &#x27;#f1eef6ff&#x27;, &#x27;#f1eef6ff&#x27;, &#x27;#f1eef6ff&#x27;, &#x27;#f1eef6ff&#x27;, &#x27;#f1eef6ff&#x27;, &#x27;#f1eef6ff&#x27;, &#x27;#f1eef6ff&#x27;, &#x27;#f1eef6ff&#x27;, &#x27;#f1eef6ff&#x27;, &#x27;#d0d1e6ff&#x27;, &#x27;#d0d1e6ff&#x27;, &#x27;#d0d1e6ff&#x27;, &#x27;#d0d1e6ff&#x27;, &#x27;#d0d1e6ff&#x27;, &#x27;#d0d1e6ff&#x27;, &#x27;#d0d1e6ff&#x27;, &#x27;#d0d1e6ff&#x27;, &#x27;#d0d1e6ff&#x27;, &#x27;#d0d1e6ff&#x27;, &#x27;#d0d1e6ff&#x27;, &#x27;#d0d1e6ff&#x27;, &#x27;#d0d1e6ff&#x27;, &#x27;#d0d1e6ff&#x27;, &#x27;#d0d1e6ff&#x27;, &#x27;#d0d1e6ff&#x27;, &#x27;#d0d1e6ff&#x27;, &#x27;#d0d1e6ff&#x27;, &#x27;#d0d1e6ff&#x27;, &#x27;#d0d1e6ff&#x27;, &#x27;#d0d1e6ff&#x27;, &#x27;#d0d1e6ff&#x27;, &#x27;#d0d1e6ff&#x27;, &#x27;#d0d1e6ff&#x27;, &#x27;#d0d1e6ff&#x27;, &#x27;#d0d1e6ff&#x27;, &#x27;#d0d1e6ff&#x27;, &#x27;#d0d1e6ff&#x27;, &#x27;#d0d1e6ff&#x27;, &#x27;#d0d1e6ff&#x27;, &#x27;#d0d1e6ff&#x27;, &#x27;#d0d1e6ff&#x27;, &#x27;#d0d1e6ff&#x27;, &#x27;#d0d1e6ff&#x27;, &#x27;#d0d1e6ff&#x27;, &#x27;#d0d1e6ff&#x27;, &#x27;#d0d1e6ff&#x27;, &#x27;#d0d1e6ff&#x27;, &#x27;#d0d1e6ff&#x27;, &#x27;#d0d1e6ff&#x27;, &#x27;#d0d1e6ff&#x27;, &#x27;#d0d1e6ff&#x27;, &#x27;#d0d1e6ff&#x27;, &#x27;#d0d1e6ff&#x27;, &#x27;#d0d1e6ff&#x27;, &#x27;#d0d1e6ff&#x27;, &#x27;#d0d1e6ff&#x27;, &#x27;#d0d1e6ff&#x27;, &#x27;#d0d1e6ff&#x27;, &#x27;#d0d1e6ff&#x27;, &#x27;#d0d1e6ff&#x27;, &#x27;#d0d1e6ff&#x27;, &#x27;#d0d1e6ff&#x27;, &#x27;#d0d1e6ff&#x27;, &#x27;#d0d1e6ff&#x27;, &#x27;#d0d1e6ff&#x27;, &#x27;#d0d1e6ff&#x27;, &#x27;#d0d1e6ff&#x27;, &#x27;#d0d1e6ff&#x27;, &#x27;#d0d1e6ff&#x27;, &#x27;#d0d1e6ff&#x27;, &#x27;#d0d1e6ff&#x27;, &#x27;#d0d1e6ff&#x27;, &#x27;#d0d1e6ff&#x27;, &#x27;#d0d1e6ff&#x27;, &#x27;#d0d1e6ff&#x27;, &#x27;#d0d1e6ff&#x27;, &#x27;#d0d1e6ff&#x27;, &#x27;#d0d1e6ff&#x27;, &#x27;#d0d1e6ff&#x27;, &#x27;#d0d1e6ff&#x27;, &#x27;#d0d1e6ff&#x27;, &#x27;#d0d1e6ff&#x27;, &#x27;#d0d1e6ff&#x27;, &#x27;#d0d1e6ff&#x27;, &#x27;#d0d1e6ff&#x27;, &#x27;#d0d1e6ff&#x27;, &#x27;#d0d1e6ff&#x27;, &#x27;#d0d1e6ff&#x27;, &#x27;#d0d1e6ff&#x27;, &#x27;#d0d1e6ff&#x27;, &#x27;#d0d1e6ff&#x27;, &#x27;#d0d1e6ff&#x27;, &#x27;#a6bddbff&#x27;, &#x27;#a6bddbff&#x27;, &#x27;#a6bddbff&#x27;, &#x27;#a6bddbff&#x27;, &#x27;#a6bddbff&#x27;, &#x27;#a6bddbff&#x27;, &#x27;#a6bddbff&#x27;, &#x27;#a6bddbff&#x27;, &#x27;#a6bddbff&#x27;, &#x27;#a6bddbff&#x27;, &#x27;#a6bddbff&#x27;, &#x27;#a6bddbff&#x27;, &#x27;#a6bddbff&#x27;, &#x27;#a6bddbff&#x27;, &#x27;#a6bddbff&#x27;, &#x27;#a6bddbff&#x27;, &#x27;#a6bddbff&#x27;, &#x27;#a6bddbff&#x27;, &#x27;#a6bddbff&#x27;, &#x27;#a6bddbff&#x27;, &#x27;#a6bddbff&#x27;, &#x27;#a6bddbff&#x27;, &#x27;#a6bddbff&#x27;, &#x27;#a6bddbff&#x27;, &#x27;#a6bddbff&#x27;, &#x27;#a6bddbff&#x27;, &#x27;#a6bddbff&#x27;, &#x27;#a6bddbff&#x27;, &#x27;#a6bddbff&#x27;, &#x27;#a6bddbff&#x27;, &#x27;#a6bddbff&#x27;, &#x27;#a6bddbff&#x27;, &#x27;#a6bddbff&#x27;, &#x27;#a6bddbff&#x27;, &#x27;#a6bddbff&#x27;, &#x27;#a6bddbff&#x27;, &#x27;#a6bddbff&#x27;, &#x27;#a6bddbff&#x27;, &#x27;#a6bddbff&#x27;, &#x27;#a6bddbff&#x27;, &#x27;#a6bddbff&#x27;, &#x27;#a6bddbff&#x27;, &#x27;#a6bddbff&#x27;, &#x27;#a6bddbff&#x27;, &#x27;#a6bddbff&#x27;, &#x27;#a6bddbff&#x27;, &#x27;#a6bddbff&#x27;, &#x27;#a6bddbff&#x27;, &#x27;#a6bddbff&#x27;, &#x27;#a6bddbff&#x27;, &#x27;#a6bddbff&#x27;, &#x27;#a6bddbff&#x27;, &#x27;#a6bddbff&#x27;, &#x27;#a6bddbff&#x27;, &#x27;#a6bddbff&#x27;, &#x27;#a6bddbff&#x27;, &#x27;#a6bddbff&#x27;, &#x27;#a6bddbff&#x27;, &#x27;#a6bddbff&#x27;, &#x27;#a6bddbff&#x27;, &#x27;#a6bddbff&#x27;, &#x27;#a6bddbff&#x27;, &#x27;#a6bddbff&#x27;, &#x27;#a6bddbff&#x27;, &#x27;#a6bddbff&#x27;, &#x27;#a6bddbff&#x27;, &#x27;#a6bddbff&#x27;, &#x27;#a6bddbff&#x27;, &#x27;#a6bddbff&#x27;, &#x27;#a6bddbff&#x27;, &#x27;#a6bddbff&#x27;, &#x27;#a6bddbff&#x27;, &#x27;#a6bddbff&#x27;, &#x27;#a6bddbff&#x27;, &#x27;#a6bddbff&#x27;, &#x27;#a6bddbff&#x27;, &#x27;#a6bddbff&#x27;, &#x27;#a6bddbff&#x27;, &#x27;#a6bddbff&#x27;, &#x27;#a6bddbff&#x27;, &#x27;#a6bddbff&#x27;, &#x27;#a6bddbff&#x27;, &#x27;#a6bddbff&#x27;, &#x27;#74a9cfff&#x27;, &#x27;#74a9cfff&#x27;, &#x27;#74a9cfff&#x27;, &#x27;#74a9cfff&#x27;, &#x27;#74a9cfff&#x27;, &#x27;#74a9cfff&#x27;, &#x27;#74a9cfff&#x27;, &#x27;#74a9cfff&#x27;, &#x27;#74a9cfff&#x27;, &#x27;#74a9cfff&#x27;, &#x27;#74a9cfff&#x27;, &#x27;#74a9cfff&#x27;, &#x27;#74a9cfff&#x27;, &#x27;#74a9cfff&#x27;, &#x27;#74a9cfff&#x27;, &#x27;#74a9cfff&#x27;, &#x27;#74a9cfff&#x27;, &#x27;#74a9cfff&#x27;, &#x27;#74a9cfff&#x27;, &#x27;#74a9cfff&#x27;, &#x27;#74a9cfff&#x27;, &#x27;#74a9cfff&#x27;, &#x27;#74a9cfff&#x27;, &#x27;#74a9cfff&#x27;, &#x27;#74a9cfff&#x27;, &#x27;#74a9cfff&#x27;, &#x27;#74a9cfff&#x27;, &#x27;#74a9cfff&#x27;, &#x27;#74a9cfff&#x27;, &#x27;#74a9cfff&#x27;, &#x27;#74a9cfff&#x27;, &#x27;#74a9cfff&#x27;, &#x27;#74a9cfff&#x27;, &#x27;#74a9cfff&#x27;, &#x27;#74a9cfff&#x27;, &#x27;#74a9cfff&#x27;, &#x27;#74a9cfff&#x27;, &#x27;#74a9cfff&#x27;, &#x27;#74a9cfff&#x27;, &#x27;#74a9cfff&#x27;, &#x27;#74a9cfff&#x27;, &#x27;#74a9cfff&#x27;, &#x27;#74a9cfff&#x27;, &#x27;#74a9cfff&#x27;, &#x27;#74a9cfff&#x27;, &#x27;#74a9cfff&#x27;, &#x27;#74a9cfff&#x27;, &#x27;#74a9cfff&#x27;, &#x27;#74a9cfff&#x27;, &#x27;#74a9cfff&#x27;, &#x27;#74a9cfff&#x27;, &#x27;#74a9cfff&#x27;, &#x27;#74a9cfff&#x27;, &#x27;#74a9cfff&#x27;, &#x27;#74a9cfff&#x27;, &#x27;#74a9cfff&#x27;, &#x27;#74a9cfff&#x27;, &#x27;#74a9cfff&#x27;, &#x27;#74a9cfff&#x27;, &#x27;#74a9cfff&#x27;, &#x27;#74a9cfff&#x27;, &#x27;#74a9cfff&#x27;, &#x27;#74a9cfff&#x27;, &#x27;#74a9cfff&#x27;, &#x27;#74a9cfff&#x27;, &#x27;#74a9cfff&#x27;, &#x27;#74a9cfff&#x27;, &#x27;#74a9cfff&#x27;, &#x27;#74a9cfff&#x27;, &#x27;#74a9cfff&#x27;, &#x27;#74a9cfff&#x27;, &#x27;#74a9cfff&#x27;, &#x27;#74a9cfff&#x27;, &#x27;#74a9cfff&#x27;, &#x27;#74a9cfff&#x27;, &#x27;#74a9cfff&#x27;, &#x27;#74a9cfff&#x27;, &#x27;#74a9cfff&#x27;, &#x27;#74a9cfff&#x27;, &#x27;#74a9cfff&#x27;, &#x27;#74a9cfff&#x27;, &#x27;#74a9cfff&#x27;, &#x27;#74a9cfff&#x27;, &#x27;#2b8cbeff&#x27;, &#x27;#2b8cbeff&#x27;, &#x27;#2b8cbeff&#x27;, &#x27;#2b8cbeff&#x27;, &#x27;#2b8cbeff&#x27;, &#x27;#2b8cbeff&#x27;, &#x27;#2b8cbeff&#x27;, &#x27;#2b8cbeff&#x27;, &#x27;#2b8cbeff&#x27;, &#x27;#2b8cbeff&#x27;, &#x27;#2b8cbeff&#x27;, &#x27;#2b8cbeff&#x27;, &#x27;#2b8cbeff&#x27;, &#x27;#2b8cbeff&#x27;, &#x27;#2b8cbeff&#x27;, &#x27;#2b8cbeff&#x27;, &#x27;#2b8cbeff&#x27;, &#x27;#2b8cbeff&#x27;, &#x27;#2b8cbeff&#x27;, &#x27;#2b8cbeff&#x27;, &#x27;#2b8cbeff&#x27;, &#x27;#2b8cbeff&#x27;, &#x27;#2b8cbeff&#x27;, &#x27;#2b8cbeff&#x27;, &#x27;#2b8cbeff&#x27;, &#x27;#2b8cbeff&#x27;, &#x27;#2b8cbeff&#x27;, &#x27;#2b8cbeff&#x27;, &#x27;#2b8cbeff&#x27;, &#x27;#2b8cbeff&#x27;, &#x27;#2b8cbeff&#x27;, &#x27;#2b8cbeff&#x27;, &#x27;#2b8cbeff&#x27;, &#x27;#2b8cbeff&#x27;, &#x27;#2b8cbeff&#x27;, &#x27;#2b8cbeff&#x27;, &#x27;#2b8cbeff&#x27;, &#x27;#2b8cbeff&#x27;, &#x27;#2b8cbeff&#x27;, &#x27;#2b8cbeff&#x27;, &#x27;#2b8cbeff&#x27;, &#x27;#2b8cbeff&#x27;, &#x27;#2b8cbeff&#x27;, &#x27;#2b8cbeff&#x27;, &#x27;#2b8cbeff&#x27;, &#x27;#2b8cbeff&#x27;, &#x27;#2b8cbeff&#x27;, &#x27;#2b8cbeff&#x27;, &#x27;#2b8cbeff&#x27;, &#x27;#2b8cbeff&#x27;, &#x27;#2b8cbeff&#x27;, &#x27;#2b8cbeff&#x27;, &#x27;#2b8cbeff&#x27;, &#x27;#2b8cbeff&#x27;, &#x27;#2b8cbeff&#x27;, &#x27;#2b8cbeff&#x27;, &#x27;#2b8cbeff&#x27;, &#x27;#2b8cbeff&#x27;, &#x27;#2b8cbeff&#x27;, &#x27;#2b8cbeff&#x27;, &#x27;#2b8cbeff&#x27;, &#x27;#2b8cbeff&#x27;, &#x27;#2b8cbeff&#x27;, &#x27;#2b8cbeff&#x27;, &#x27;#2b8cbeff&#x27;, &#x27;#2b8cbeff&#x27;, &#x27;#2b8cbeff&#x27;, &#x27;#2b8cbeff&#x27;, &#x27;#2b8cbeff&#x27;, &#x27;#2b8cbeff&#x27;, &#x27;#2b8cbeff&#x27;, &#x27;#2b8cbeff&#x27;, &#x27;#2b8cbeff&#x27;, &#x27;#2b8cbeff&#x27;, &#x27;#2b8cbeff&#x27;, &#x27;#2b8cbeff&#x27;, &#x27;#2b8cbeff&#x27;, &#x27;#2b8cbeff&#x27;, &#x27;#2b8cbeff&#x27;, &#x27;#2b8cbeff&#x27;, &#x27;#2b8cbeff&#x27;, &#x27;#2b8cbeff&#x27;, &#x27;#2b8cbeff&#x27;, &#x27;#045a8dff&#x27;, &#x27;#045a8dff&#x27;, &#x27;#045a8dff&#x27;, &#x27;#045a8dff&#x27;, &#x27;#045a8dff&#x27;, &#x27;#045a8dff&#x27;, &#x27;#045a8dff&#x27;, &#x27;#045a8dff&#x27;, &#x27;#045a8dff&#x27;, &#x27;#045a8dff&#x27;, &#x27;#045a8dff&#x27;, &#x27;#045a8dff&#x27;, &#x27;#045a8dff&#x27;, &#x27;#045a8dff&#x27;, &#x27;#045a8dff&#x27;, &#x27;#045a8dff&#x27;, &#x27;#045a8dff&#x27;, &#x27;#045a8dff&#x27;, &#x27;#045a8dff&#x27;, &#x27;#045a8dff&#x27;, &#x27;#045a8dff&#x27;, &#x27;#045a8dff&#x27;, &#x27;#045a8dff&#x27;, &#x27;#045a8dff&#x27;, &#x27;#045a8dff&#x27;, &#x27;#045a8dff&#x27;, &#x27;#045a8dff&#x27;, &#x27;#045a8dff&#x27;, &#x27;#045a8dff&#x27;, &#x27;#045a8dff&#x27;, &#x27;#045a8dff&#x27;, &#x27;#045a8dff&#x27;, &#x27;#045a8dff&#x27;, &#x27;#045a8dff&#x27;, &#x27;#045a8dff&#x27;, &#x27;#045a8dff&#x27;, &#x27;#045a8dff&#x27;, &#x27;#045a8dff&#x27;, &#x27;#045a8dff&#x27;, &#x27;#045a8dff&#x27;, &#x27;#045a8dff&#x27;, &#x27;#045a8dff&#x27;, &#x27;#045a8dff&#x27;, &#x27;#045a8dff&#x27;, &#x27;#045a8dff&#x27;, &#x27;#045a8dff&#x27;, &#x27;#045a8dff&#x27;, &#x27;#045a8dff&#x27;, &#x27;#045a8dff&#x27;, &#x27;#045a8dff&#x27;, &#x27;#045a8dff&#x27;, &#x27;#045a8dff&#x27;, &#x27;#045a8dff&#x27;, &#x27;#045a8dff&#x27;, &#x27;#045a8dff&#x27;, &#x27;#045a8dff&#x27;, &#x27;#045a8dff&#x27;, &#x27;#045a8dff&#x27;, &#x27;#045a8dff&#x27;, &#x27;#045a8dff&#x27;, &#x27;#045a8dff&#x27;, &#x27;#045a8dff&#x27;, &#x27;#045a8dff&#x27;, &#x27;#045a8dff&#x27;, &#x27;#045a8dff&#x27;, &#x27;#045a8dff&#x27;, &#x27;#045a8dff&#x27;, &#x27;#045a8dff&#x27;, &#x27;#045a8dff&#x27;, &#x27;#045a8dff&#x27;, &#x27;#045a8dff&#x27;, &#x27;#045a8dff&#x27;, &#x27;#045a8dff&#x27;, &#x27;#045a8dff&#x27;, &#x27;#045a8dff&#x27;, &#x27;#045a8dff&#x27;, &#x27;#045a8dff&#x27;, &#x27;#045a8dff&#x27;, &#x27;#045a8dff&#x27;, &#x27;#045a8dff&#x27;, &#x27;#045a8dff&#x27;, &#x27;#045a8dff&#x27;, &#x27;#045a8dff&#x27;, &#x27;#045a8dff&#x27;]);\n",
       "    \n",
       "\n",
       "    color_map_55a1983e5e7bebbf0e1fab4ef55cf000.x = d3.scale.linear()\n",
       "              .domain([35.44444444444444, 7904.105263157895])\n",
       "              .range([0, 450 - 50]);\n",
       "\n",
       "    color_map_55a1983e5e7bebbf0e1fab4ef55cf000.legend = L.control({position: &#x27;topright&#x27;});\n",
       "    color_map_55a1983e5e7bebbf0e1fab4ef55cf000.legend.onAdd = function (map) {var div = L.DomUtil.create(&#x27;div&#x27;, &#x27;legend&#x27;); return div};\n",
       "    color_map_55a1983e5e7bebbf0e1fab4ef55cf000.legend.addTo(map_eaaf5017f53db494caa98d359915d760);\n",
       "\n",
       "    color_map_55a1983e5e7bebbf0e1fab4ef55cf000.xAxis = d3.svg.axis()\n",
       "        .scale(color_map_55a1983e5e7bebbf0e1fab4ef55cf000.x)\n",
       "        .orient(&quot;top&quot;)\n",
       "        .tickSize(1)\n",
       "        .tickValues([35.44444444444444, 1346.8879142300195, 2658.3313840155947, 3969.77485380117, 5281.218323586745, 6592.66179337232, 7904.105263157895]);\n",
       "\n",
       "    color_map_55a1983e5e7bebbf0e1fab4ef55cf000.svg = d3.select(&quot;.legend.leaflet-control&quot;).append(&quot;svg&quot;)\n",
       "        .attr(&quot;id&quot;, &#x27;legend&#x27;)\n",
       "        .attr(&quot;width&quot;, 450)\n",
       "        .attr(&quot;height&quot;, 40);\n",
       "\n",
       "    color_map_55a1983e5e7bebbf0e1fab4ef55cf000.g = color_map_55a1983e5e7bebbf0e1fab4ef55cf000.svg.append(&quot;g&quot;)\n",
       "        .attr(&quot;class&quot;, &quot;key&quot;)\n",
       "        .attr(&quot;transform&quot;, &quot;translate(25,16)&quot;);\n",
       "\n",
       "    color_map_55a1983e5e7bebbf0e1fab4ef55cf000.g.selectAll(&quot;rect&quot;)\n",
       "        .data(color_map_55a1983e5e7bebbf0e1fab4ef55cf000.color.range().map(function(d, i) {\n",
       "          return {\n",
       "            x0: i ? color_map_55a1983e5e7bebbf0e1fab4ef55cf000.x(color_map_55a1983e5e7bebbf0e1fab4ef55cf000.color.domain()[i - 1]) : color_map_55a1983e5e7bebbf0e1fab4ef55cf000.x.range()[0],\n",
       "            x1: i &lt; color_map_55a1983e5e7bebbf0e1fab4ef55cf000.color.domain().length ? color_map_55a1983e5e7bebbf0e1fab4ef55cf000.x(color_map_55a1983e5e7bebbf0e1fab4ef55cf000.color.domain()[i]) : color_map_55a1983e5e7bebbf0e1fab4ef55cf000.x.range()[1],\n",
       "            z: d\n",
       "          };\n",
       "        }))\n",
       "      .enter().append(&quot;rect&quot;)\n",
       "        .attr(&quot;height&quot;, 40 - 30)\n",
       "        .attr(&quot;x&quot;, function(d) { return d.x0; })\n",
       "        .attr(&quot;width&quot;, function(d) { return d.x1 - d.x0; })\n",
       "        .style(&quot;fill&quot;, function(d) { return d.z; });\n",
       "\n",
       "    color_map_55a1983e5e7bebbf0e1fab4ef55cf000.g.call(color_map_55a1983e5e7bebbf0e1fab4ef55cf000.xAxis).append(&quot;text&quot;)\n",
       "        .attr(&quot;class&quot;, &quot;caption&quot;)\n",
       "        .attr(&quot;y&quot;, 21)\n",
       "        .text(&quot;Average Outage Duration&quot;);\n",
       "    \n",
       "            choropleth_d2aef6ec99c82cf7d0e78e66320a1347.addTo(map_eaaf5017f53db494caa98d359915d760);\n",
       "        \n",
       "&lt;/script&gt;\n",
       "&lt;/html&gt;\" style=\"position:absolute;width:100%;height:100%;left:0;top:0;border:none !important;\" allowfullscreen webkitallowfullscreen mozallowfullscreen></iframe></div></div>"
      ],
      "text/plain": [
       "<folium.folium.Map at 0x2a1dcf78370>"
      ]
     },
     "execution_count": 123,
     "metadata": {},
     "output_type": "execute_result"
    }
   ],
   "source": [
    "import folium\n",
    "import requests\n",
    "\n",
    "avg_duration = (pd.pivot_table(outages, values = 'OUTAGE.DURATION', \n",
    "                               index='POSTAL.CODE',\n",
    "                                aggfunc='mean')).reset_index()\n",
    "\n",
    "states = requests.get(\n",
    "\"https://raw.githubusercontent.com/python-visualization/folium-example-data/main/us_states.json\"\n",
    ").json()\n",
    "\n",
    "m = folium.Map(location=[48, -102], zoom_start=3)\n",
    "\n",
    "folium.Choropleth(\n",
    "    geo_data=states,\n",
    "    data=avg_duration,\n",
    "    columns=[\"POSTAL.CODE\", \"OUTAGE.DURATION\"],\n",
    "    key_on=\"feature.id\",\n",
    "    fill_color=\"PuBu\",\n",
    "    fill_opacity=0.7,\n",
    "    line_opacity=0.2,\n",
    "    legend_name=\"Average Outage Duration\",\n",
    "    highlight=True,\n",
    ").add_to(m)\n",
    "\n",
    "m"
   ]
  },
  {
   "cell_type": "markdown",
   "metadata": {},
   "source": [
    "## Step 3: Assessment of Missingness"
   ]
  },
  {
   "cell_type": "code",
   "execution_count": 124,
   "metadata": {
    "ExecuteTime": {
     "end_time": "2019-10-31T23:36:28.662099Z",
     "start_time": "2019-10-31T23:36:28.660016Z"
    }
   },
   "outputs": [
    {
     "data": {
      "text/plain": [
       "0.39297736261886734"
      ]
     },
     "execution_count": 124,
     "metadata": {},
     "output_type": "execute_result"
    }
   ],
   "source": [
    "observed = (outages\n",
    "    .assign(duration_missing=outages['OUTAGE.DURATION'].isna())\n",
    "    .pivot_table(index='POSTAL.CODE', columns='duration_missing', aggfunc='size')\n",
    ")\n",
    "observed = observed/observed.sum()\n",
    "observed = observed.fillna(0)\n",
    "observed_tvd_postal = observed.diff(axis=1).iloc[:, -1].abs().sum() / 2\n",
    "observed_tvd_postal"
   ]
  },
  {
   "cell_type": "markdown",
   "metadata": {},
   "source": [
    "Missingness on Postal Code"
   ]
  },
  {
   "cell_type": "code",
   "execution_count": 125,
   "metadata": {},
   "outputs": [],
   "source": [
    "n=1000\n",
    "shuffled = outages.copy()\n",
    "shuffled['duration_missing'] = shuffled['OUTAGE.DURATION'].isna()\n",
    "tvds_postal = []\n",
    "for _ in range(n):\n",
    "    shuffled['POSTAL.CODE'] = np.random.permutation(shuffled['POSTAL.CODE'])\n",
    "    \n",
    "    table = shuffled.pivot_table(index='POSTAL.CODE',\n",
    "                                 columns='duration_missing',aggfunc='size')\n",
    "\n",
    "    table = table/table.sum()\n",
    "\n",
    "    tvd = table.diff(axis=1).iloc[:, -1].abs().sum() / 2\n",
    "    tvds_postal.append(tvd)"
   ]
  },
  {
   "cell_type": "code",
   "execution_count": 126,
   "metadata": {},
   "outputs": [
    {
     "data": {
      "application/vnd.plotly.v1+json": {
       "config": {
        "plotlyServerURL": "https://plot.ly"
       },
       "data": [
        {
         "alignmentgroup": "True",
         "bingroup": "x",
         "histnorm": "probability",
         "hovertemplate": "0=%{x}<br>probability=%{y}<extra></extra>",
         "legendgroup": "",
         "marker": {
          "color": "#636efa",
          "pattern": {
           "shape": ""
          }
         },
         "name": "",
         "nbinsx": 50,
         "offsetgroup": "",
         "orientation": "v",
         "showlegend": false,
         "type": "histogram",
         "x": [
          0.20275814188336275,
          0.17658629975595386,
          0.21903138937978625,
          0.2000862576790373,
          0.16289026340149793,
          0.19006143229824118,
          0.20487250694269124,
          0.16647732054195066,
          0.13461457544391148,
          0.21868951443238238,
          0.13079083564756375,
          0.1874937124401027,
          0.20083312294875033,
          0.18244025077842296,
          0.15945516638869034,
          0.14333501640999746,
          0.19126588403601785,
          0.17658629975595386,
          0.24295211646890513,
          0.1516136497517462,
          0.15957670621896827,
          0.18438104855676177,
          0.2650214592274678,
          0.1802477960447939,
          0.16650887822940336,
          0.1634162248590423,
          0.16607758983421694,
          0.19918160397206092,
          0.18604308676260203,
          0.17401960784313728,
          0.12062400067323065,
          0.14333783390252297,
          0.2150866784482033,
          0.22397016746612808,
          0.1712951274930573,
          0.1726836657409745,
          0.1559265337036102,
          0.11739459732390811,
          0.20489354540099303,
          0.17877429941933856,
          0.1582302448876546,
          0.21050029453841623,
          0.16688757047883532,
          0.20528275687957584,
          0.16538332071025832,
          0.1996234115963982,
          0.2286564840528486,
          0.21997812000336614,
          0.16367920558781454,
          0.19137633594210215,
          0.19190229739964654,
          0.1776171842127409,
          0.21675397626861903,
          0.18302406799629722,
          0.17640747286038877,
          0.16208932306144597,
          0.16760813767567118,
          0.16046032146764283,
          0.15774636034671377,
          0.16859168560127913,
          0.16505722460658082,
          0.2145712362198098,
          0.18661112513674996,
          0.19776030497974745,
          0.1750925692165278,
          0.1610568395414714,
          0.13959017083228142,
          0.18082554910376167,
          0.15580030295379954,
          0.23138096440292855,
          0.19510014306151643,
          0.16401582092064293,
          0.16244845577716063,
          0.1617857443406547,
          0.12117100058907683,
          0.1591243793654801,
          0.19090620284330082,
          0.21815829336026255,
          0.1330998064461836,
          0.2079441218547505,
          0.19794033493225616,
          0.18687410586552217,
          0.18606412522090382,
          0.19028233611040984,
          0.1442607085752756,
          0.19103972060927374,
          0.1587667255743499,
          0.12298030800302956,
          0.17349890600016832,
          0.15217116889674323,
          0.1911869898173862,
          0.18980897079861989,
          0.1646469746696962,
          0.14763738113271058,
          0.19008247075654292,
          0.22430042623037622,
          0.1905768745266347,
          0.19195489354540096,
          0.20145375746865268,
          0.17084280063956914,
          0.1621433981317849,
          0.18932508625767902,
          0.17571320373643018,
          0.17556720408757578,
          0.2201043507531768,
          0.175260876882942,
          0.248401077169065,
          0.21964150467053772,
          0.19474248927038626,
          0.1641210132121518,
          0.15410670706050658,
          0.16956997391231168,
          0.1744298577800219,
          0.2450138853824792,
          0.16212235967348315,
          0.22128250441807623,
          0.17485240780451644,
          0.19610568395414715,
          0.1505617268366574,
          0.18541193301354877,
          0.17891104939830008,
          0.17664734069308768,
          0.15399099553984683,
          0.21485525540688377,
          0.1396006900614323,
          0.14083143987208616,
          0.14678532357148866,
          0.16645628208364893,
          0.1560475048388454,
          0.21104729445426237,
          0.1850700580661449,
          0.18032062610451907,
          0.15568459143313979,
          0.19958133467979466,
          0.16752924345703948,
          0.23229613733905577,
          0.18596945215854582,
          0.16979087772448037,
          0.17853761676344357,
          0.15941891778170494,
          0.18352791676594393,
          0.1846124715980813,
          0.1818459143313978,
          0.1573637254123316,
          0.18462825044180764,
          0.1778624943742885,
          0.21681183202894894,
          0.16454178237818734,
          0.1781852225868888,
          0.16993814693259277,
          0.13698140200286124,
          0.20098039215686275,
          0.16406841706639738,
          0.1946162585205756,
          0.18623243288731803,
          0.23143356054868297,
          0.1912501051922915,
          0.18486493309770258,
          0.19776150803669107,
          0.1550849953715392,
          0.1562158125052596,
          0.11941428932087857,
          0.17523983842464022,
          0.22081965833543718,
          0.17277307918875706,
          0.11234536733148194,
          0.22013590844062944,
          0.1489312463182698,
          0.22177690818816795,
          0.18808907683244974,
          0.18970377850711098,
          0.18564318428507134,
          0.14388201632584363,
          0.1608284944879239,
          0.16933329125641675,
          0.2136034671379281,
          0.17876378019018765,
          0.1566595187038361,
          0.190734662963898,
          0.24243667424051168,
          0.18510687536817302,
          0.169822435411933,
          0.17444037700917275,
          0.2304763106959522,
          0.1552217453505007,
          0.21960994698308506,
          0.16320584027602456,
          0.1977930657241437,
          0.20165362282251958,
          0.1289447109315829,
          0.22796221492889002,
          0.1508983421694858,
          0.1713792813262644,
          0.1479845156946899,
          0.16192253726206549,
          0.16572419453048476,
          0.1960679121433981,
          0.16315324413027016,
          0.1328473449465623,
          0.2022216611966675,
          0.1472692081124295,
          0.19381679710510813,
          0.17928974164773206,
          0.17209458890852478,
          0.17383026171842128,
          0.171934980012178,
          0.19605739291424723,
          0.21286712109736594,
          0.18756837498948076,
          0.1492994193385509,
          0.20213750736346042,
          0.1740459059160145,
          0.16723470504081459,
          0.2144239670116974,
          0.1209290583186064,
          0.1893198266431036,
          0.17774071426680432,
          0.17401960784313725,
          0.200485988386771,
          0.18580640410670707,
          0.21840023563073296,
          0.19717243120424133,
          0.1387381132710595,
          0.18998779769418495,
          0.17117941597239753,
          0.15405411091475216,
          0.18921989396617017,
          0.1583143987208617,
          0.1888201632584364,
          0.18311874105865522,
          0.20270554573760832,
          0.19076622065135068,
          0.2221030042918455,
          0.17876378019018765,
          0.15829336026255997,
          0.17400908861398637,
          0.16497307077337373,
          0.16623537827148027,
          0.1906610283598418,
          0.17221030042918456,
          0.1762391651939746,
          0.20532483379617938,
          0.1822772027265842,
          0.17184212740890348,
          0.18681099049061686,
          0.19414289320878564,
          0.19359589329293947,
          0.16093368677943282,
          0.17978414541782378,
          0.18660060590759908,
          0.1469325927796011,
          0.17540814609105443,
          0.19299234903237764,
          0.17448245392577633,
          0.1544853993099386,
          0.21178364049482454,
          0.21740090886139865,
          0.2026056130606749,
          0.18432845241100732,
          0.2236808886644787,
          0.13772826727257426,
          0.1617121097365985,
          0.14380838172178745,
          0.15272868804174028,
          0.18266641420516705,
          0.250189346124716,
          0.18225616426828242,
          0.1778591264832113,
          0.14403980476310693,
          0.13799124800134643,
          0.15698779551531516,
          0.1893566439451317,
          0.19114491290078264,
          0.2227867541866532,
          0.1800892030631995,
          0.1511718421274089,
          0.15242363039636456,
          0.15070899604476984,
          0.19687789278801648,
          0.21384540940839852,
          0.18783135571825296,
          0.18037322225027352,
          0.16753976268619034,
          0.1752819153412438,
          0.17132142556593452,
          0.14265126651518975,
          0.16149120592442986,
          0.19585752756038036,
          0.18120424135319366,
          0.17898468400235626,
          0.15945573508373304,
          0.17607085752756038,
          0.18136202979045696,
          0.2559433644702516,
          0.16192249431961625,
          0.18723175965665237,
          0.19082933602625599,
          0.16530061154793105,
          0.20285281494572077,
          0.20822814104182444,
          0.1903244130270134,
          0.16907557014221997,
          0.2141031305225953,
          0.2154443322393335,
          0.19033493225616424,
          0.23721913658167126,
          0.20924850626946057,
          0.1838971640158209,
          0.15795674492973152,
          0.181824875873096,
          0.22116679289741645,
          0.15635256248422116,
          0.18250862576790372,
          0.1692123201211815,
          0.19628881595556677,
          0.14513380459479927,
          0.1948792392493478,
          0.15902970630312213,
          0.1846966254312884,
          0.15043549608684675,
          0.1520238996886308,
          0.1922809896490785,
          0.1780063956913237,
          0.19910796936800468,
          0.14711141967516622,
          0.2041256416729782,
          0.18363418328704872,
          0.16961205082891526,
          0.16979087772448032,
          0.12357990406463013,
          0.15508499537153916,
          0.19665698897584785,
          0.18194058739375576,
          0.19255448960700158,
          0.1708283694702565,
          0.1491731885887402,
          0.1773121265673651,
          0.1624063788605571,
          0.19945510392998397,
          0.19464167527069598,
          0.20249516115459057,
          0.23015021459227464,
          0.24000673230665656,
          0.2104476983926618,
          0.18575906757552807,
          0.14917318858874024,
          0.1732306656568207,
          0.2043205464220475,
          0.18548556761760499,
          0.2232390810401414,
          0.1694016662458975,
          0.19755112345367332,
          0.2059559875452327,
          0.18343431793318185,
          0.1557687452663469,
          0.19654127745518812,
          0.2323802911722629,
          0.14949928469241774,
          0.17582891525708993,
          0.1803521837919717,
          0.16493099385677018,
          0.18302406799629725,
          0.13722860388790709,
          0.17952116468905158,
          0.17295716569889757,
          0.23952284776571572,
          0.1322477488849617,
          0.13838045947992933,
          0.14528633341748715,
          0.18265589497601614,
          0.15460111083059835,
          0.18475974080619373,
          0.18556972145081208,
          0.15589177454795752,
          0.16303753260961035,
          0.1496360346713793,
          0.18323935085907925,
          0.19130270133804597,
          0.1438662374821173,
          0.13090302597093165,
          0.15222376504249768,
          0.18475974080619373,
          0.19034545148531515,
          0.1839076832449718,
          0.17940545316839182,
          0.16849701253892113,
          0.1341412101321215,
          0.17812210721198352,
          0.19092400908861398,
          0.202831776487419,
          0.17974732811579566,
          0.17482958848775562,
          0.1231065387528402,
          0.1584301102415215,
          0.15691008162921818,
          0.2146612659836391,
          0.1939535470840697,
          0.1989396617015905,
          0.22240806193722124,
          0.22864596482369773,
          0.20460952621391904,
          0.17221030042918453,
          0.17041677185895818,
          0.16804468568543296,
          0.14100500715307582,
          0.18147774131111674,
          0.16570941681393586,
          0.18046789531263147,
          0.17748043423377935,
          0.18407599091138602,
          0.1755343768408651,
          0.16028149457207774,
          0.1991290078263065,
          0.17114785828494486,
          0.16599343600100985,
          0.1717369351173946,
          0.17621812673567283,
          0.18811537490532693,
          0.18647437515778845,
          0.14508120844904485,
          0.1397109046144071,
          0.1695699739123117,
          0.1919233358579483,
          0.16407893629554826,
          0.1916077589834217,
          0.14154148783977108,
          0.16803416645628208,
          0.1534085193127366,
          0.17614449213161656,
          0.17152655053437685,
          0.19785618109904907,
          0.15369645712362195,
          0.18756837498948076,
          0.16082849448792394,
          0.146848438946394,
          0.1757763191113355,
          0.18972481696541274,
          0.1708112429521165,
          0.1636686863586636,
          0.18561179836741562,
          0.19753008499537156,
          0.17366195405200707,
          0.15085626525288226,
          0.13882138035104438,
          0.16091264832113103,
          0.217274678111588,
          0.2197919148598205,
          0.19705671968358157,
          0.20776529495918536,
          0.18440208701506355,
          0.17088487755617268,
          0.14595430446856855,
          0.17385130017672304,
          0.16889148363207945,
          0.21052133299671802,
          0.1618067827989565,
          0.1550166203820584,
          0.21057392914247244,
          0.16618278212572582,
          0.21153117899520324,
          0.16872843558024067,
          0.12251746192039048,
          0.2231444079777834,
          0.15075107296137336,
          0.20263191113355217,
          0.1805520491458386,
          0.18617457712698812,
          0.15128755364806867,
          0.16414205167045356,
          0.1947214508120845,
          0.15147689977278464,
          0.18136202979045693,
          0.159881396764885,
          0.1630164941513086,
          0.16019734073887065,
          0.2206197929815703,
          0.19783514264074728,
          0.1799314146259362,
          0.1706008583690987,
          0.20862787174955819,
          0.15888243709500968,
          0.19449002777076493,
          0.16976983926617856,
          0.1992762770344189,
          0.23603046368762096,
          0.1659618783135572,
          0.21782167802743416,
          0.14602793907262476,
          0.19071362450559623,
          0.16691912816628798,
          0.20341033409071782,
          0.20622948750315576,
          0.1440555836068333,
          0.19677270049650758,
          0.21334048640915593,
          0.1765442228393503,
          0.18715812505259613,
          0.17795379954556928,
          0.20293696877892786,
          0.1823508373306404,
          0.20168518050997225,
          0.22747833038794918,
          0.17857443406547166,
          0.1960521332996718,
          0.16195405200706892,
          0.17244172347050407,
          0.19045085113705557,
          0.15129807287721952,
          0.14286165109820753,
          0.17376714634351595,
          0.18582218295043337,
          0.14957509332062585,
          0.20909071783219726,
          0.16642472439619624,
          0.15646890636168692,
          0.1903033745687116,
          0.16467327274257343,
          0.16538332071025835,
          0.16775014726920812,
          0.22561642682824204,
          0.14298262223344274,
          0.15910334090717831,
          0.17290456955314315,
          0.17245224269965495,
          0.18956926905461574,
          0.17134196383660288,
          0.15951340904879147,
          0.15500084153833207,
          0.24920053858453253,
          0.17818522258688882,
          0.15173988050155685,
          0.17367247328115798,
          0.1946162585205756,
          0.20089623832365563,
          0.16437347471177313,
          0.15814609105444752,
          0.18488597155600436,
          0.15737818732643274,
          0.18090970293696876,
          0.18087814524951612,
          0.18750525961457545,
          0.1885992594462678,
          0.1330261718421274,
          0.24690734662963898,
          0.1900193553816376,
          0.15677333165025664,
          0.18845199023815534,
          0.18285576032988304,
          0.1548956492468232,
          0.16568311874105865,
          0.21326685180509972,
          0.20023352688714974,
          0.15547420685012203,
          0.22049356223175967,
          0.21400319784566188,
          0.13747580577295296,
          0.14603845830177561,
          0.15798830261718422,
          0.1844677415084849,
          0.19033493225616424,
          0.17446141546747454,
          0.17530295379954558,
          0.17977888580324833,
          0.15240259193806277,
          0.1822666834974333,
          0.21642262055036604,
          0.1867320962719852,
          0.1588876967095851,
          0.17167381974248927,
          0.17394597323908104,
          0.1452705545737608,
          0.2117205251199192,
          0.19633089287217032,
          0.15965034082302448,
          0.15576874526634688,
          0.18167209382363064,
          0.19231254733653116,
          0.19709879660018512,
          0.2008751998653539,
          0.197298661954052,
          0.20020722881427247,
          0.1986127657321367,
          0.13641489953141134,
          0.18603256753345115,
          0.20675544896070014,
          0.1784797610031137,
          0.1963729697887739,
          0.18819952873853407,
          0.14340865101405367,
          0.1774751746192039,
          0.1689598586215602,
          0.19617310443490701,
          0.16573045527223765,
          0.15734662963898005,
          0.18906210552890684,
          0.17071656988975845,
          0.14958343852562483,
          0.22021814523601513,
          0.18752629807287724,
          0.14508120844904485,
          0.18584322140873516,
          0.19345914331397795,
          0.2118046789531263,
          0.21673152781087018,
          0.16885466633005136,
          0.1595451485315156,
          0.17208406967937387,
          0.2158019860304637,
          0.1800892030631995,
          0.15315471682235127,
          0.20836489102078598,
          0.19140789362955482,
          0.15212909198013969,
          0.2367562904990322,
          0.1841969620466212,
          0.1811200875199865,
          0.18118320289489184,
          0.15970293696877894,
          0.22679458049314144,
          0.18769986535386685,
          0.16361609021290918,
          0.18707397121938907,
          0.17306235799040645,
          0.14802659261129342,
          0.21742194731970038,
          0.17149499284692415,
          0.18786291340570563,
          0.1574960950943796,
          0.20049650761592192,
          0.1547641588824371,
          0.138601363292098,
          0.16365816712951275,
          0.12401119245981655,
          0.1457965160313052,
          0.2059349490869309,
          0.2152970630312211,
          0.17537658840360182,
          0.1659513590844063,
          0.173199107969368,
          0.1761234536733148,
          0.1767072708911891,
          0.16468905158629976,
          0.19551039299840106,
          0.14148363207944123,
          0.1573729277118573,
          0.21306698645123287,
          0.15854582176218124,
          0.23650382899941094,
          0.20648194900277708,
          0.18941975932003702,
          0.1956681814356644,
          0.15878776403265166,
          0.15973975427080706,
          0.1862534713456198,
          0.1657620129596903,
          0.16916498359000254,
          0.19355381637633595,
          0.20552469915004626,
          0.22208196583354373,
          0.15826180257510727,
          0.13190061432298242,
          0.2240806193722124,
          0.20686064125220902,
          0.2167659439282027,
          0.17515156328594497,
          0.15505343768408653,
          0.1850332407641168,
          0.1524025919380628,
          0.14673798704030966,
          0.17998835146797976,
          0.22051460069006143,
          0.20980602541445764,
          0.20769862070791306,
          0.22145081208449047,
          0.2053458722544812,
          0.17764874190019356,
          0.18042581839602792,
          0.1860641252209038,
          0.1887570478835311,
          0.16630901287553645,
          0.16614070520912227,
          0.1995287385340402,
          0.17879533787764032,
          0.23121265673651434,
          0.17533451148699822,
          0.16238534040225533,
          0.14999368846250946,
          0.19046116300597493,
          0.2068911656474201,
          0.20136960363544557,
          0.2594988639232517,
          0.18448624084827062,
          0.14588066986451234,
          0.16175418665320204,
          0.2254796768492805,
          0.18228893654197445,
          0.19089245140116134,
          0.1688599259446268,
          0.1771543381301018,
          0.19078725910965244,
          0.19424808550029454,
          0.1318059412606244,
          0.19380627787595725,
          0.17677564588066988,
          0.16776066649835897,
          0.1676870318943028,
          0.16427880164941513,
          0.14288777698355967,
          0.1589560716990659,
          0.2081965833543718,
          0.14196751662038204,
          0.19877661364975174,
          0.1732832618025751,
          0.1830030295379954,
          0.15155053437684085,
          0.16452074391988555,
          0.1613491963308929,
          0.20018093074139526,
          0.19316460489775308,
          0.1728835310948414,
          0.15915593705293277,
          0.17155810822182951,
          0.18239291424724394,
          0.2056824875873096,
          0.2024741226962888,
          0.16613544559454682,
          0.16176470588235295,
          0.13302617184212742,
          0.15857737944963393,
          0.16920180089203063,
          0.15961878313557182,
          0.170201127661365,
          0.1652833880333249,
          0.18652697130354287,
          0.1889516536228225,
          0.15987124463519312,
          0.18032062610451904,
          0.16137549440377008,
          0.19045085113705557,
          0.1347618446520239,
          0.14293528570226374,
          0.17267314651182364,
          0.1876314903643861,
          0.20499873769250188,
          0.14726920811242952,
          0.17663889590170834,
          0.21771648573592525,
          0.2105551584465094,
          0.2293507531768072,
          0.195236893040478,
          0.19582596987292772,
          0.18645333669948666,
          0.17506101152907516,
          0.20248990154001517,
          0.17299924261550115,
          0.16272195573508375,
          0.20967979466464695,
          0.15554784145417822,
          0.19467937389548096,
          0.2534503071614912,
          0.2291239774442062,
          0.15845114869982327,
          0.14734284271648573,
          0.15135066902297398,
          0.15938736009425228,
          0.22300765799882186,
          0.16518871497096693,
          0.21707481275772111,
          0.18377093326601027,
          0.1434086510140537,
          0.1860010098459985,
          0.20003366153328284,
          0.2122675250357654,
          0.16935958932929393,
          0.18906210552890682,
          0.18672683665740974,
          0.1884099133215518,
          0.21123664057897837,
          0.15649457207775813,
          0.20943785239417656,
          0.19423756627114364,
          0.19242299924261547,
          0.2207986198771354,
          0.1569468989312463,
          0.1339528234453181,
          0.19336447025161996,
          0.1739880501556846,
          0.17368225981521193,
          0.19089245140116132,
          0.22354413868551715,
          0.18784187494740387,
          0.16537280148110745,
          0.14937305394260708,
          0.17287827148026594,
          0.19563662374821172,
          0.19071362450559623,
          0.20280021879996635,
          0.16028149457207774,
          0.1623327442565009,
          0.17921610704367583,
          0.18647437515778845,
          0.1892514516536228,
          0.14411343936716317,
          0.18156189514432383,
          0.1517819574181604,
          0.1709374737019271,
          0.2121412942859547,
          0.18024699150046283,
          0.16988555078683837,
          0.17184212740890345,
          0.2000862576790373,
          0.15268661112513673,
          0.19888706555583607,
          0.18169864512328535,
          0.18722124042750146,
          0.1455650929899857,
          0.20082260371959942,
          0.17412480013464612,
          0.16361609021290918,
          0.20489880501556848,
          0.16980139695363122,
          0.19741437347471177,
          0.17646006900614325,
          0.18465454851468482,
          0.16715581082218295,
          0.13393082554910377,
          0.19316460489775308,
          0.224774888496171,
          0.1612071867373559,
          0.2031683918202474,
          0.15581082218295045,
          0.16282188841201717,
          0.20025456534545147,
          0.19320668181435663,
          0.15698897584784988,
          0.19350859079236496,
          0.21290919801396954,
          0.20286333417487168,
          0.16797105108137678,
          0.1622170327358411,
          0.1954052007068922,
          0.1881679710510814,
          0.20640831439872084,
          0.18585374063788607,
          0.18203526045611376,
          0.2040414878397711,
          0.1922073550450223,
          0.15128755364806867,
          0.1629638980055541,
          0.1883520575612219,
          0.12674619203904736,
          0.1744824539257763,
          0.23192796431877472,
          0.1694858200791046,
          0.19178658587898678,
          0.1519607843137255,
          0.19667802743414964,
          0.14840002524614995,
          0.16838130101826138,
          0.16529916687705126,
          0.16691912816628796,
          0.19493183539510228,
          0.19155516283766724,
          0.1633636287132879,
          0.19534734494656233,
          0.19710931582933602,
          0.17784860725406043,
          0.18335016409997476,
          0.1785533956071699,
          0.18160397206092735,
          0.17168433897164015,
          0.22125062875598975,
          0.21155221745350503,
          0.15692586047294454,
          0.17264977629523737,
          0.19524741226962883,
          0.17823781873264324,
          0.19925343499324916,
          0.14512854498022384,
          0.1579304468568543,
          0.17228393503324074,
          0.21901035092148446,
          0.1597029369687789,
          0.18912522090381217,
          0.19531052764453422,
          0.19714613313136414,
          0.18050997222923504,
          0.1987001297222884,
          0.20432550702684507,
          0.22591622485904234,
          0.18215097197677355,
          0.13799124800134643,
          0.15533219725658506,
          0.18772616342674409,
          0.17882689556509299,
          0.1477004965076159,
          0.1768492804847261,
          0.21082639064209371,
          0.17332533871917866,
          0.17024846419254397,
          0.1487734578810065,
          0.17892156862745096,
          0.1942586047294454,
          0.19163931667087433,
          0.22209249993381514,
          0.16829188757047883,
          0.16917024320457796,
          0.19020870150635363,
          0.19664646974669694,
          0.1543696877892788,
          0.16516767651266517,
          0.2270891189093663,
          0.15759909113860135,
          0.15036186148279052,
          0.20568248758730961,
          0.1839707986198771,
          0.17268366574097452,
          0.201611545905916,
          0.1782904148783977,
          0.20894344862408482,
          0.18538037532609608,
          0.13759151729361271,
          0.18772616342674406,
          0.152570899604477,
          0.21672767819574182,
          0.17751568580732266,
          0.15672599511907767,
          0.15623159134898595,
          0.16793476822068673,
          0.18256122191365814,
          0.16086005217537658,
          0.1769439535470841,
          0.16380017672304972,
          0.17860376459375746,
          0.15010939998316924,
          0.12335795409419427,
          0.17626020365227638,
          0.15054594799293106,
          0.14602793907262474,
          0.17893208785660183,
          0.19128166287974416,
          0.13947445931162164,
          0.15768324497180847,
          0.20341033409071785,
          0.22168223512580995,
          0.22095640831439872,
          0.19944984431540858,
          0.18221408735167888,
          0.1706113775982496,
          0.1516241689808971,
          0.14028443995624001,
          0.14785828494487924,
          0.1481738618194059,
          0.13858032483379618,
          0.2113839097870908,
          0.22837246486577464,
          0.18794706723891275,
          0.20547210300429183,
          0.1320970005030048,
          0.19977594041908608,
          0.15927164857359252,
          0.2572477488849617,
          0.1700012623074981,
          0.18464402928553394,
          0.21502356307329798,
          0.21699626717496626,
          0.18426533703610198,
          0.16449845127472004,
          0.1705798199107969,
          0.2100584869140789,
          0.14417129512749305,
          0.17634024303073625,
          0.1930699318353951,
          0.15330724564503911,
          0.2001493730539426,
          0.19803500799461413,
          0.15274972650004207,
          0.1781221072119835,
          0.17687031894302785,
          0.21385592863754943,
          0.24159513590844062,
          0.15123495750231422,
          0.18332912564167297,
          0.17921610704367583,
          0.18970377850711098,
          0.17267314651182358,
          0.20616577978979694,
          0.12492636539594379,
          0.17101110830598334,
          0.18649541361609023,
          0.22502734999579233,
          0.1699573769623805,
          0.19761423882857865,
          0.19424808550029454,
          0.2011592190524278,
          0.1842127408903475,
          0.18195110662290664,
          0.19078725910965244,
          0.15416982243541194,
          0.1908082975679542
         ],
         "xaxis": "x",
         "yaxis": "y"
        }
       ],
       "layout": {
        "annotations": [
         {
          "showarrow": false,
          "text": "<span style=\"color:red\">Observed TVD = 0.39</span>",
          "x": 0.9038479340233948,
          "y": 0.16
         }
        ],
        "barmode": "relative",
        "legend": {
         "tracegroupgap": 0
        },
        "shapes": [
         {
          "line": {
           "color": "red"
          },
          "type": "line",
          "x0": 0.39297736261886734,
          "x1": 0.39297736261886734,
          "xref": "x",
          "y0": 0,
          "y1": 1,
          "yref": "y domain"
         }
        ],
        "template": {
         "data": {
          "bar": [
           {
            "error_x": {
             "color": "#2a3f5f"
            },
            "error_y": {
             "color": "#2a3f5f"
            },
            "marker": {
             "line": {
              "color": "#E5ECF6",
              "width": 0.5
             },
             "pattern": {
              "fillmode": "overlay",
              "size": 10,
              "solidity": 0.2
             }
            },
            "type": "bar"
           }
          ],
          "barpolar": [
           {
            "marker": {
             "line": {
              "color": "#E5ECF6",
              "width": 0.5
             },
             "pattern": {
              "fillmode": "overlay",
              "size": 10,
              "solidity": 0.2
             }
            },
            "type": "barpolar"
           }
          ],
          "carpet": [
           {
            "aaxis": {
             "endlinecolor": "#2a3f5f",
             "gridcolor": "white",
             "linecolor": "white",
             "minorgridcolor": "white",
             "startlinecolor": "#2a3f5f"
            },
            "baxis": {
             "endlinecolor": "#2a3f5f",
             "gridcolor": "white",
             "linecolor": "white",
             "minorgridcolor": "white",
             "startlinecolor": "#2a3f5f"
            },
            "type": "carpet"
           }
          ],
          "choropleth": [
           {
            "colorbar": {
             "outlinewidth": 0,
             "ticks": ""
            },
            "type": "choropleth"
           }
          ],
          "contour": [
           {
            "colorbar": {
             "outlinewidth": 0,
             "ticks": ""
            },
            "colorscale": [
             [
              0,
              "#0d0887"
             ],
             [
              0.1111111111111111,
              "#46039f"
             ],
             [
              0.2222222222222222,
              "#7201a8"
             ],
             [
              0.3333333333333333,
              "#9c179e"
             ],
             [
              0.4444444444444444,
              "#bd3786"
             ],
             [
              0.5555555555555556,
              "#d8576b"
             ],
             [
              0.6666666666666666,
              "#ed7953"
             ],
             [
              0.7777777777777778,
              "#fb9f3a"
             ],
             [
              0.8888888888888888,
              "#fdca26"
             ],
             [
              1,
              "#f0f921"
             ]
            ],
            "type": "contour"
           }
          ],
          "contourcarpet": [
           {
            "colorbar": {
             "outlinewidth": 0,
             "ticks": ""
            },
            "type": "contourcarpet"
           }
          ],
          "heatmap": [
           {
            "colorbar": {
             "outlinewidth": 0,
             "ticks": ""
            },
            "colorscale": [
             [
              0,
              "#0d0887"
             ],
             [
              0.1111111111111111,
              "#46039f"
             ],
             [
              0.2222222222222222,
              "#7201a8"
             ],
             [
              0.3333333333333333,
              "#9c179e"
             ],
             [
              0.4444444444444444,
              "#bd3786"
             ],
             [
              0.5555555555555556,
              "#d8576b"
             ],
             [
              0.6666666666666666,
              "#ed7953"
             ],
             [
              0.7777777777777778,
              "#fb9f3a"
             ],
             [
              0.8888888888888888,
              "#fdca26"
             ],
             [
              1,
              "#f0f921"
             ]
            ],
            "type": "heatmap"
           }
          ],
          "heatmapgl": [
           {
            "colorbar": {
             "outlinewidth": 0,
             "ticks": ""
            },
            "colorscale": [
             [
              0,
              "#0d0887"
             ],
             [
              0.1111111111111111,
              "#46039f"
             ],
             [
              0.2222222222222222,
              "#7201a8"
             ],
             [
              0.3333333333333333,
              "#9c179e"
             ],
             [
              0.4444444444444444,
              "#bd3786"
             ],
             [
              0.5555555555555556,
              "#d8576b"
             ],
             [
              0.6666666666666666,
              "#ed7953"
             ],
             [
              0.7777777777777778,
              "#fb9f3a"
             ],
             [
              0.8888888888888888,
              "#fdca26"
             ],
             [
              1,
              "#f0f921"
             ]
            ],
            "type": "heatmapgl"
           }
          ],
          "histogram": [
           {
            "marker": {
             "pattern": {
              "fillmode": "overlay",
              "size": 10,
              "solidity": 0.2
             }
            },
            "type": "histogram"
           }
          ],
          "histogram2d": [
           {
            "colorbar": {
             "outlinewidth": 0,
             "ticks": ""
            },
            "colorscale": [
             [
              0,
              "#0d0887"
             ],
             [
              0.1111111111111111,
              "#46039f"
             ],
             [
              0.2222222222222222,
              "#7201a8"
             ],
             [
              0.3333333333333333,
              "#9c179e"
             ],
             [
              0.4444444444444444,
              "#bd3786"
             ],
             [
              0.5555555555555556,
              "#d8576b"
             ],
             [
              0.6666666666666666,
              "#ed7953"
             ],
             [
              0.7777777777777778,
              "#fb9f3a"
             ],
             [
              0.8888888888888888,
              "#fdca26"
             ],
             [
              1,
              "#f0f921"
             ]
            ],
            "type": "histogram2d"
           }
          ],
          "histogram2dcontour": [
           {
            "colorbar": {
             "outlinewidth": 0,
             "ticks": ""
            },
            "colorscale": [
             [
              0,
              "#0d0887"
             ],
             [
              0.1111111111111111,
              "#46039f"
             ],
             [
              0.2222222222222222,
              "#7201a8"
             ],
             [
              0.3333333333333333,
              "#9c179e"
             ],
             [
              0.4444444444444444,
              "#bd3786"
             ],
             [
              0.5555555555555556,
              "#d8576b"
             ],
             [
              0.6666666666666666,
              "#ed7953"
             ],
             [
              0.7777777777777778,
              "#fb9f3a"
             ],
             [
              0.8888888888888888,
              "#fdca26"
             ],
             [
              1,
              "#f0f921"
             ]
            ],
            "type": "histogram2dcontour"
           }
          ],
          "mesh3d": [
           {
            "colorbar": {
             "outlinewidth": 0,
             "ticks": ""
            },
            "type": "mesh3d"
           }
          ],
          "parcoords": [
           {
            "line": {
             "colorbar": {
              "outlinewidth": 0,
              "ticks": ""
             }
            },
            "type": "parcoords"
           }
          ],
          "pie": [
           {
            "automargin": true,
            "type": "pie"
           }
          ],
          "scatter": [
           {
            "fillpattern": {
             "fillmode": "overlay",
             "size": 10,
             "solidity": 0.2
            },
            "type": "scatter"
           }
          ],
          "scatter3d": [
           {
            "line": {
             "colorbar": {
              "outlinewidth": 0,
              "ticks": ""
             }
            },
            "marker": {
             "colorbar": {
              "outlinewidth": 0,
              "ticks": ""
             }
            },
            "type": "scatter3d"
           }
          ],
          "scattercarpet": [
           {
            "marker": {
             "colorbar": {
              "outlinewidth": 0,
              "ticks": ""
             }
            },
            "type": "scattercarpet"
           }
          ],
          "scattergeo": [
           {
            "marker": {
             "colorbar": {
              "outlinewidth": 0,
              "ticks": ""
             }
            },
            "type": "scattergeo"
           }
          ],
          "scattergl": [
           {
            "marker": {
             "colorbar": {
              "outlinewidth": 0,
              "ticks": ""
             }
            },
            "type": "scattergl"
           }
          ],
          "scattermapbox": [
           {
            "marker": {
             "colorbar": {
              "outlinewidth": 0,
              "ticks": ""
             }
            },
            "type": "scattermapbox"
           }
          ],
          "scatterpolar": [
           {
            "marker": {
             "colorbar": {
              "outlinewidth": 0,
              "ticks": ""
             }
            },
            "type": "scatterpolar"
           }
          ],
          "scatterpolargl": [
           {
            "marker": {
             "colorbar": {
              "outlinewidth": 0,
              "ticks": ""
             }
            },
            "type": "scatterpolargl"
           }
          ],
          "scatterternary": [
           {
            "marker": {
             "colorbar": {
              "outlinewidth": 0,
              "ticks": ""
             }
            },
            "type": "scatterternary"
           }
          ],
          "surface": [
           {
            "colorbar": {
             "outlinewidth": 0,
             "ticks": ""
            },
            "colorscale": [
             [
              0,
              "#0d0887"
             ],
             [
              0.1111111111111111,
              "#46039f"
             ],
             [
              0.2222222222222222,
              "#7201a8"
             ],
             [
              0.3333333333333333,
              "#9c179e"
             ],
             [
              0.4444444444444444,
              "#bd3786"
             ],
             [
              0.5555555555555556,
              "#d8576b"
             ],
             [
              0.6666666666666666,
              "#ed7953"
             ],
             [
              0.7777777777777778,
              "#fb9f3a"
             ],
             [
              0.8888888888888888,
              "#fdca26"
             ],
             [
              1,
              "#f0f921"
             ]
            ],
            "type": "surface"
           }
          ],
          "table": [
           {
            "cells": {
             "fill": {
              "color": "#EBF0F8"
             },
             "line": {
              "color": "white"
             }
            },
            "header": {
             "fill": {
              "color": "#C8D4E3"
             },
             "line": {
              "color": "white"
             }
            },
            "type": "table"
           }
          ]
         },
         "layout": {
          "annotationdefaults": {
           "arrowcolor": "#2a3f5f",
           "arrowhead": 0,
           "arrowwidth": 1
          },
          "autotypenumbers": "strict",
          "coloraxis": {
           "colorbar": {
            "outlinewidth": 0,
            "ticks": ""
           }
          },
          "colorscale": {
           "diverging": [
            [
             0,
             "#8e0152"
            ],
            [
             0.1,
             "#c51b7d"
            ],
            [
             0.2,
             "#de77ae"
            ],
            [
             0.3,
             "#f1b6da"
            ],
            [
             0.4,
             "#fde0ef"
            ],
            [
             0.5,
             "#f7f7f7"
            ],
            [
             0.6,
             "#e6f5d0"
            ],
            [
             0.7,
             "#b8e186"
            ],
            [
             0.8,
             "#7fbc41"
            ],
            [
             0.9,
             "#4d9221"
            ],
            [
             1,
             "#276419"
            ]
           ],
           "sequential": [
            [
             0,
             "#0d0887"
            ],
            [
             0.1111111111111111,
             "#46039f"
            ],
            [
             0.2222222222222222,
             "#7201a8"
            ],
            [
             0.3333333333333333,
             "#9c179e"
            ],
            [
             0.4444444444444444,
             "#bd3786"
            ],
            [
             0.5555555555555556,
             "#d8576b"
            ],
            [
             0.6666666666666666,
             "#ed7953"
            ],
            [
             0.7777777777777778,
             "#fb9f3a"
            ],
            [
             0.8888888888888888,
             "#fdca26"
            ],
            [
             1,
             "#f0f921"
            ]
           ],
           "sequentialminus": [
            [
             0,
             "#0d0887"
            ],
            [
             0.1111111111111111,
             "#46039f"
            ],
            [
             0.2222222222222222,
             "#7201a8"
            ],
            [
             0.3333333333333333,
             "#9c179e"
            ],
            [
             0.4444444444444444,
             "#bd3786"
            ],
            [
             0.5555555555555556,
             "#d8576b"
            ],
            [
             0.6666666666666666,
             "#ed7953"
            ],
            [
             0.7777777777777778,
             "#fb9f3a"
            ],
            [
             0.8888888888888888,
             "#fdca26"
            ],
            [
             1,
             "#f0f921"
            ]
           ]
          },
          "colorway": [
           "#636efa",
           "#EF553B",
           "#00cc96",
           "#ab63fa",
           "#FFA15A",
           "#19d3f3",
           "#FF6692",
           "#B6E880",
           "#FF97FF",
           "#FECB52"
          ],
          "font": {
           "color": "#2a3f5f"
          },
          "geo": {
           "bgcolor": "white",
           "lakecolor": "white",
           "landcolor": "#E5ECF6",
           "showlakes": true,
           "showland": true,
           "subunitcolor": "white"
          },
          "hoverlabel": {
           "align": "left"
          },
          "hovermode": "closest",
          "mapbox": {
           "style": "light"
          },
          "paper_bgcolor": "white",
          "plot_bgcolor": "#E5ECF6",
          "polar": {
           "angularaxis": {
            "gridcolor": "white",
            "linecolor": "white",
            "ticks": ""
           },
           "bgcolor": "#E5ECF6",
           "radialaxis": {
            "gridcolor": "white",
            "linecolor": "white",
            "ticks": ""
           }
          },
          "scene": {
           "xaxis": {
            "backgroundcolor": "#E5ECF6",
            "gridcolor": "white",
            "gridwidth": 2,
            "linecolor": "white",
            "showbackground": true,
            "ticks": "",
            "zerolinecolor": "white"
           },
           "yaxis": {
            "backgroundcolor": "#E5ECF6",
            "gridcolor": "white",
            "gridwidth": 2,
            "linecolor": "white",
            "showbackground": true,
            "ticks": "",
            "zerolinecolor": "white"
           },
           "zaxis": {
            "backgroundcolor": "#E5ECF6",
            "gridcolor": "white",
            "gridwidth": 2,
            "linecolor": "white",
            "showbackground": true,
            "ticks": "",
            "zerolinecolor": "white"
           }
          },
          "shapedefaults": {
           "line": {
            "color": "#2a3f5f"
           }
          },
          "ternary": {
           "aaxis": {
            "gridcolor": "white",
            "linecolor": "white",
            "ticks": ""
           },
           "baxis": {
            "gridcolor": "white",
            "linecolor": "white",
            "ticks": ""
           },
           "bgcolor": "#E5ECF6",
           "caxis": {
            "gridcolor": "white",
            "linecolor": "white",
            "ticks": ""
           }
          },
          "title": {
           "x": 0.05
          },
          "xaxis": {
           "automargin": true,
           "gridcolor": "white",
           "linecolor": "white",
           "ticks": "",
           "title": {
            "standoff": 15
           },
           "zerolinecolor": "white",
           "zerolinewidth": 2
          },
          "yaxis": {
           "automargin": true,
           "gridcolor": "white",
           "linecolor": "white",
           "ticks": "",
           "title": {
            "standoff": 15
           },
           "zerolinecolor": "white",
           "zerolinewidth": 2
          }
         }
        },
        "title": {
         "text": "Empirical Distribution of the TVD"
        },
        "xaxis": {
         "anchor": "y",
         "domain": [
          0,
          1
         ],
         "title": {
          "text": "0"
         }
        },
        "yaxis": {
         "anchor": "x",
         "domain": [
          0,
          1
         ],
         "range": [
          0,
          0.2
         ],
         "title": {
          "text": "probability"
         }
        }
       }
      }
     },
     "metadata": {},
     "output_type": "display_data"
    }
   ],
   "source": [
    "fig = px.histogram(pd.DataFrame(tvds_postal), x=0, nbins=50,\n",
    "                   histnorm='probability', \n",
    "                   title='Empirical Distribution of the TVD')\n",
    "fig.add_vline(x=observed_tvd_postal, line_color='red')\n",
    "fig.add_annotation(\n",
    "text=\\\n",
    "f'<span style=\"color:red\">Observed TVD = {round(observed_tvd_postal, 2)}</span>',\n",
    "x=2.3 * observed_tvd_postal, showarrow=False, y=0.16)\n",
    "fig.update_layout(yaxis_range=[0, 0.2])"
   ]
  },
  {
   "cell_type": "markdown",
   "metadata": {},
   "source": [
    "Missingness is dependent on postal code"
   ]
  },
  {
   "cell_type": "code",
   "execution_count": 127,
   "metadata": {},
   "outputs": [
    {
     "data": {
      "text/plain": [
       "0.09413335135683149"
      ]
     },
     "execution_count": 127,
     "metadata": {},
     "output_type": "execute_result"
    }
   ],
   "source": [
    "observed_postal = (outages\n",
    "    .assign(duration_missing=outages['OUTAGE.DURATION'].isna())\n",
    "    .pivot_table(index='CLIMATE.CATEGORY', \n",
    "                 columns='duration_missing', aggfunc='size')\n",
    ")\n",
    "observed_postal = observed_postal/observed_postal.sum()\n",
    "observed_postal = observed_postal.fillna(0)\n",
    "observed_tvd_climate = observed_postal.diff(axis=1).iloc[:, -1].abs().sum() / 2\n",
    "observed_tvd_climate"
   ]
  },
  {
   "cell_type": "code",
   "execution_count": 128,
   "metadata": {},
   "outputs": [],
   "source": [
    "n=1000\n",
    "shuffled = outages.copy()\n",
    "shuffled['duration_missing'] = shuffled['OUTAGE.DURATION'].isna()\n",
    "tvds_climate = []\n",
    "for _ in range(n):\n",
    "    shuffled['CLIMATE.CATEGORY'] = np.random.permutation(\n",
    "        shuffled['CLIMATE.CATEGORY'])\n",
    "    \n",
    "    table = shuffled.pivot_table(index='CLIMATE.CATEGORY',\n",
    "                                 columns='duration_missing',\n",
    "                                 aggfunc='size')\n",
    "\n",
    "    table = table/table.sum()\n",
    "\n",
    "    tvd = table.diff(axis=1).iloc[:, -1].abs().sum() / 2\n",
    "    tvds_climate.append(tvd)"
   ]
  },
  {
   "cell_type": "code",
   "execution_count": 129,
   "metadata": {},
   "outputs": [
    {
     "data": {
      "text/plain": [
       "0.066"
      ]
     },
     "execution_count": 129,
     "metadata": {},
     "output_type": "execute_result"
    }
   ],
   "source": [
    "p = (np.array(tvds_climate) >= observed_tvd_climate).mean()\n",
    "p"
   ]
  },
  {
   "cell_type": "code",
   "execution_count": 145,
   "metadata": {},
   "outputs": [
    {
     "data": {
      "application/vnd.plotly.v1+json": {
       "config": {
        "plotlyServerURL": "https://plot.ly"
       },
       "data": [
        {
         "alignmentgroup": "True",
         "bingroup": "x",
         "histnorm": "probability",
         "hovertemplate": "0=%{x}<br>probability=%{y}<extra></extra>",
         "legendgroup": "",
         "marker": {
          "color": "#636efa",
          "pattern": {
           "shape": ""
          }
         },
         "name": "",
         "nbinsx": 50,
         "offsetgroup": "",
         "orientation": "v",
         "showlegend": false,
         "type": "histogram",
         "x": [
          0.0512641341633846,
          0.0608086647185872,
          0.029867954491070048,
          0.054729549693578475,
          0.055038538093423114,
          0.0660547156227502,
          0.07057094112471435,
          0.12578731075034602,
          0.07118430525557955,
          0.012371363232117905,
          0.04167332800426325,
          0.021391818066319415,
          0.10777431923093211,
          0.02274700376911022,
          0.0151345590194511,
          0.04772182254196641,
          0.06982911955278874,
          0.04988009592326138,
          0.01729283240074607,
          0.046602717825739395,
          0.03201430299887652,
          0.08355566848769742,
          0.039594990674127334,
          0.046965654512344926,
          0.0335464961364242,
          0.04990894846059374,
          0.045610468809554036,
          0.059046096456168415,
          0.029464701647397562,
          0.011847287511116758,
          0.10212065387710163,
          0.052735781137509014,
          0.0222222222222222,
          0.09864108713029576,
          0.04279243272049027,
          0.011765400173825338,
          0.05368735045119476,
          0.033763181298437306,
          0.052735781137508986,
          0.06965563749483347,
          0.06888154829966543,
          0.06797165327110882,
          0.09043431921129763,
          0.04279243272049024,
          0.03146815880628828,
          0.045610468809554064,
          0.10668798294697575,
          0.005246050904162955,
          0.09864108713029575,
          0.07548278490661924,
          0.0051181904996941835,
          0.04142837215790207,
          0.02334132693844923,
          0.07721815079884543,
          0.07506913836314925,
          0.014674120188032033,
          0.021391818066319415,
          0.10452970956568078,
          0.02148137815594922,
          0.0254996003197442,
          0.027993054673273177,
          0.07418065547561949,
          0.043971372469070916,
          0.06982911955278874,
          0.02334132693844923,
          0.053683352390632266,
          0.08723687716493475,
          0.04988009592326137,
          0.10668798294697575,
          0.03138822275512926,
          0.011765400173825338,
          0.05503853809342314,
          0.04602615964033174,
          0.018548526488635392,
          0.045610468809554064,
          0.03146815880628828,
          0.02096097513868471,
          0.0869341287809693,
          0.04660271782573942,
          0.04413882183542965,
          0.0051181904996941835,
          0.026538768984812125,
          0.015334672889119341,
          0.08355566848769747,
          0.08230748734345854,
          0.018411937116973087,
          0.06683195056607039,
          0.04988009592326138,
          0.034665600852651204,
          0.036065938254351435,
          0.033763181298437306,
          0.01897259983907168,
          0.03951505462296828,
          0.04602615964033176,
          0.03511836700122814,
          0.02946470164739759,
          0.005246050904162955,
          0.08487934160970845,
          0.02274700376911022,
          0.07548278490661925,
          0.07118430525557955,
          0.06605382360778046,
          0.0151345590194511,
          0.023571860686198265,
          0.00924593658406607,
          0.09404777029602336,
          0.06605382360778045,
          0.055848654409805465,
          0.08539974462697297,
          0.07210231814548357,
          0.03753758522847585,
          0.036065938254351435,
          0.07911004529709566,
          0.040387566123373075,
          0.08355566848769744,
          0.06175623597171047,
          0.07210231814548361,
          0.01942659098468831,
          0.055038538093423114,
          0.0335464961364242,
          0.04990894846059374,
          0.05126413416338457,
          0.05091926458832931,
          0.04279243272049027,
          0.05798183204167197,
          0.0683574725786643,
          0.02044424681319612,
          0.03138822275512923,
          0.05800692779110045,
          0.07098321342925658,
          0.03511836700122814,
          0.029662971984076775,
          0.03959499067412736,
          0.07412759920382837,
          0.09404777029602336,
          0.060334560125325926,
          0.07412759920382843,
          0.06175623597171044,
          0.0335464961364242,
          0.01761741413628086,
          0.10676791899813479,
          0.06982911955278874,
          0.09051425526245672,
          0.08835598188116171,
          0.05792699173994141,
          0.08835598188116173,
          0.018411937116973087,
          0.04466289755643077,
          0.09043431921129762,
          0.036065938254351435,
          0.05306837216384955,
          0.03659001397535255,
          0.08355566848769747,
          0.04167332800426328,
          0.037537585228475875,
          0.07925718883665774,
          0.05472954969357845,
          0.0335464961364242,
          0.025419664268585135,
          0.044491775486335414,
          0.09511572260909684,
          0.0683574725786643,
          0.06285638156141753,
          0.05126413416338457,
          0.04413882183542965,
          0.032205972295245563,
          0.004298479651039647,
          0.044491775486335386,
          0.07005053810744981,
          0.0335464961364242,
          0.04660271782573942,
          0.01089971625799345,
          0.05126413416338457,
          0.04764188649080736,
          0.03959499067412736,
          0.030819887350188452,
          0.08129553526401066,
          0.0512641341633846,
          0.034665600852651204,
          0.05675075377962811,
          0.05800692779110046,
          0.013318934485241199,
          0.06605471562275017,
          0.0660547156227502,
          0.0335464961364242,
          0.09536370903277377,
          0.047641886490807334,
          0.02326139088729018,
          0.0608086647185872,
          0.061756235971710455,
          0.052152966297198386,
          0.04167332800426328,
          0.02541966426858512,
          0.06186894427932228,
          0.026538768984812125,
          0.043971372469070916,
          0.08827604583000268,
          0.03659001397535255,
          0.06389555022648546,
          0.027993054673273204,
          0.03146815880628828,
          0.033763181298437306,
          0.10994452611135554,
          0.04397137246907089,
          0.01729283240074607,
          0.0051181904996941835,
          0.0550385380934231,
          0.06033456012532594,
          0.05368335239063225,
          0.10994452611135551,
          0.052735781137508986,
          0.06496305418719212,
          0.04413882183542965,
          0.05933701774446279,
          0.03578977864094339,
          0.0035838063456978125,
          0.047641886490807334,
          0.018411937116973087,
          0.02506518450164706,
          0.0512641341633846,
          0.052735781137508986,
          0.03362643218758325,
          0.007661190810862986,
          0.0741275992038284,
          0.009166000532907018,
          0.06389555022648549,
          0.025499600319744187,
          0.036310181658207874,
          0.09459531959183234,
          0.033546496136424186,
          0.04183606487951552,
          0.022747003769110208,
          0.01841193711697306,
          0.03466560085265118,
          0.060808664718587174,
          0.06285638156141753,
          0.1021206538771016,
          0.05792699173994141,
          0.0070876632027710995,
          0.04988009592326138,
          0.043971372469070916,
          0.007007727151612048,
          0.046965654512344884,
          0.04319125058230633,
          0.00924593658406607,
          0.01761741413628086,
          0.07299498746867168,
          0.07118430525557956,
          0.03732416279493976,
          0.01729283240074607,
          0.02541966426858512,
          0.036310181658207846,
          0.11584720281201036,
          0.03502290208279317,
          0.0070876632027710995,
          0.07669774778158094,
          0.03631018165820789,
          0.07118430525557955,
          0.0051181904996941835,
          0.07418065547561949,
          0.08641372576370483,
          0.09540295599881422,
          0.07925718883665774,
          0.06613375965893951,
          0.028128587830080362,
          0.08022915001332263,
          0.11019353745817982,
          0.0446628975564308,
          0.05792699173994138,
          0.06717292832400742,
          0.03732416279493976,
          0.036310181658207874,
          0.06888154829966543,
          0.02541966426858512,
          0.04660271782573942,
          0.033626432187583224,
          0.02326139088729015,
          0.019920171092194988,
          0.10124252926596349,
          0.052735781137508986,
          0.027993054673273177,
          0.0985611510791367,
          0.0741275992038284,
          0.06683195056607039,
          0.08238742339461765,
          0.08693412878096932,
          0.07098321342925658,
          0.041753264055422304,
          0.011847287511116758,
          0.03324677832977457,
          0.07311394143588312,
          0.176931660890372,
          0.0683574725786643,
          0.015842784638990512,
          0.041753264055422304,
          0.03146815880628828,
          0.03659001397535255,
          0.03951505462296828,
          0.061756235971710455,
          0.024396876155670127,
          0.011847287511116758,
          0.08220048278490663,
          0.02334132693844923,
          0.03889277093126671,
          0.06982911955278874,
          0.04279243272049027,
          0.06740990132554102,
          0.07548278490661924,
          0.07415474747041216,
          0.055038538093423114,
          0.03753758522847586,
          0.11760571692221854,
          0.03578977864094339,
          0.07620884106818768,
          0.013318934485241171,
          0.08827604583000269,
          0.041753264055422304,
          0.05798183204167197,
          0.030819887350188452,
          0.046965654512344884,
          0.08355566848769747,
          0.013318934485241171,
          0.08220048278490662,
          0.0070876632027710995,
          0.03889277093126667,
          0.07210231814548358,
          0.04167332800426325,
          0.03578977864094339,
          0.07721815079884545,
          0.03180904848327716,
          0.06835747257866433,
          0.04466289755643077,
          0.019946994001952836,
          0.06397548627764456,
          0.07721815079884543,
          0.06389555022648546,
          0.06982911955278873,
          0.0954029559988142,
          0.03951505462296828,
          0.049908948460593724,
          0.04772182254196644,
          0.03889277093126668,
          0.011765400173825324,
          0.07529976019184653,
          0.05800692779110046,
          0.04319125058230633,
          0.03951505462296828,
          0.04988009592326138,
          0.028517130394274337,
          0.04960996598602961,
          0.05933701774446279,
          0.045610468809554064,
          0.027993054673273177,
          0.11019353745817984,
          0.03466560085265118,
          0.08502731546182189,
          0.07133611781852986,
          0.055038538093423114,
          0.06028458899758608,
          0.04319125058230633,
          0.028517130394274337,
          0.012371363232117905,
          0.04466289755643077,
          0.010285105249134022,
          0.010285105249134022,
          0.057791559814157095,
          0.02569029771735909,
          0.013318934485241171,
          0.01992017109219496,
          0.07426059152677862,
          0.021391818066319374,
          0.08238742339461767,
          0.01942659098468831,
          0.07925718883665776,
          0.0151345590194511,
          0.03659001397535255,
          0.044491775486335414,
          0.04990894846059374,
          0.06903655697071795,
          0.014674120188032033,
          0.061756235971710496,
          0.02326139088729018,
          0.03753758522847586,
          0.03659001397535255,
          0.019946994001952878,
          0.05221170541650781,
          0.015214495070610179,
          0.015214495070610179,
          0.04413882183542965,
          0.04988009592326138,
          0.08539974462697297,
          0.04319125058230633,
          0.03466560085265118,
          0.015539927404718698,
          0.029662971984076775,
          0.012371363232117877,
          0.033626432187583224,
          0.10212065387710159,
          0.03606593825435141,
          0.13703703703703707,
          0.07527439287874861,
          0.04988009592326138,
          0.02326139088729018,
          0.06389555022648549,
          0.08238742339461765,
          0.05091926458832931,
          0.007302739607639802,
          0.05933701774446279,
          0.07202238209432454,
          0.08502731546182186,
          0.052735781137509014,
          0.0035838063456978125,
          0.07299498746867168,
          0.04167332800426325,
          0.07005053810744982,
          0.06605382360778043,
          0.041753264055422304,
          0.0752997601918465,
          0.06493234760775558,
          0.07925718883665776,
          0.028128587830080362,
          0.10124252926596349,
          0.07925718883665776,
          0.0402514907959554,
          0.039594990674127334,
          0.10668798294697573,
          0.03138822275512923,
          0.049800159872102345,
          0.08129553526401068,
          0.11265654143351983,
          0.07412759920382837,
          0.03324677832977457,
          0.11265654143351984,
          0.06397548627764456,
          0.04319125058230633,
          0.04772182254196641,
          0.08502731546182189,
          0.034665600852651204,
          0.005246050904162955,
          0.09155342392752464,
          0.05420775346845928,
          0.054729549693578475,
          0.059337017744462775,
          0.02334132693844926,
          0.045610468809554064,
          0.04856915995150057,
          0.028517130394274337,
          0.09640287769784173,
          0.04772182254196644,
          0.02044424681319612,
          0.05221170541650781,
          0.03201430299887649,
          0.027045483420149924,
          0.11019353745817982,
          0.11584720281201036,
          0.08022915001332265,
          0.04772182254196641,
          0.11731884978613477,
          0.059337017744462775,
          0.01942659098468831,
          0.07118430525557955,
          0.07202238209432453,
          0.05584865440980549,
          0.03511836700122817,
          0.03951505462296828,
          0.027045483420149896,
          0.06493234760775561,
          0.052735781137508986,
          0.041836064879515494,
          0.02569029771735909,
          0.041753264055422304,
          0.07202238209432453,
          0.05904609645616836,
          0.02946470164739759,
          0.036310181658207874,
          0.05933701774446279,
          0.11506271661104975,
          0.04990894846059374,
          0.02334132693844926,
          0.03466560085265118,
          0.0151345590194511,
          0.046965654512344884,
          0.07911004529709569,
          0.033626432187583224,
          0.04988009592326137,
          0.018548526488635392,
          0.03784456581220422,
          0.028517130394274337,
          0.09043431921129765,
          0.039594990674127334,
          0.037844565812204245,
          0.037537585228475875,
          0.033763181298437306,
          0.1319929699741668,
          0.052152966297198414,
          0.05798183204167198,
          0.027993054673273177,
          0.025065184501647034,
          0.019920171092194988,
          0.06613375965893953,
          0.08827604583000268,
          0.09511572260909686,
          0.0444917754863354,
          0.06285638156141753,
          0.08230748734345857,
          0.025690297717359076,
          0.07005053810744981,
          0.060854963142590424,
          0.07210231814548361,
          0.09306093543783599,
          0.013318934485241171,
          0.07875253495284179,
          0.08230748734345857,
          0.04449177548633543,
          0.09864108713029573,
          0.04279243272049027,
          0.13576737390420535,
          0.025065184501647034,
          0.06175623597171047,
          0.05904609645616839,
          0.017292832400746097,
          0.0526733693144629,
          0.06683195056607037,
          0.021391818066319415,
          0.06605471562275017,
          0.06493234760775561,
          0.036310181658207846,
          0.05798183204167198,
          0.02818747416737366,
          0.025065184501647034,
          0.13199296997416676,
          0.05904609645616836,
          0.0742605915267786,
          0.030819887350188452,
          0.027045483420149924,
          0.046965654512344926,
          0.004298479651039647,
          0.021391818066319415,
          0.0222222222222222,
          0.027045483420149924,
          0.07118430525557955,
          0.09640287769784173,
          0.06028458899758608,
          0.04413882183542962,
          0.03138822275512926,
          0.05221170541650781,
          0.037537585228475875,
          0.04980015987210233,
          0.009544530555202643,
          0.04167332800426328,
          0.021391818066319415,
          0.04602615964033176,
          0.05126413416338457,
          0.04980015987210233,
          0.08238742339461766,
          0.060854963142590396,
          0.019920171092194988,
          0.014095390354383175,
          0.045610468809554064,
          0.06982911955278873,
          0.03959499067412736,
          0.010285105249134022,
          0.010311338691556468,
          0.0953637090327738,
          0.07506913836314925,
          0.008701996845392024,
          0.07925718883665774,
          0.030819887350188452,
          0.04988009592326138,
          0.08238742339461766,
          0.07202238209432453,
          0.0335464961364242,
          0.06605382360778043,
          0.021391818066319374,
          0.030819887350188452,
          0.006601236606953789,
          0.036310181658207874,
          0.04449177548633543,
          0.06982911955278874,
          0.04167332800426325,
          0.04449177548633543,
          0.08487934160970845,
          0.046455219822054,
          0.036065938254351435,
          0.07418065547561949,
          0.06080866471858723,
          0.01897259983907168,
          0.09864108713029573,
          0.0512641341633846,
          0.07057094112471432,
          0.03951505462296828,
          0.07527439287874861,
          0.052735781137509014,
          0.03889277093126668,
          0.034665600852651204,
          0.010285105249134022,
          0.03466560085265118,
          0.045610468809554064,
          0.052735781137508986,
          0.013318934485241199,
          0.0151345590194511,
          0.055768718358646385,
          0.06835747257866424,
          0.034665600852651204,
          0.03138822275512926,
          0.06028458899758608,
          0.005246050904162955,
          0.028128587830080348,
          0.0985611510791367,
          0.039594990674127334,
          0.04466289755643077,
          0.09162855206877568,
          0.036310181658207846,
          0.06888154829966543,
          0.02334132693844923,
          0.027045483420149896,
          0.04413882183542962,
          0.0742605915267786,
          0.021391818066319374,
          0.0608086647185872,
          0.05576871835864641,
          0.03138822275512926,
          0.0070876632027710995,
          0.0254996003197442,
          0.08733007241773598,
          0.02326139088729018,
          0.08487934160970846,
          0.017617414136280873,
          0.12294164668265391,
          0.04183606487951552,
          0.03753758522847585,
          0.004298479651039647,
          0.07823213193557732,
          0.03606593825435141,
          0.05091926458832931,
          0.04449177548633543,
          0.10942412309409098,
          0.033763181298437306,
          0.08487934160970846,
          0.13927524646949108,
          0.039594990674127334,
          0.007007727151612048,
          0.02334132693844923,
          0.030819887350188466,
          0.05792699173994141,
          0.04183606487951552,
          0.0709832134292566,
          0.03951505462296828,
          0.056750753779628085,
          0.03146815880628828,
          0.0254996003197442,
          0.04167332800426328,
          0.052735781137508986,
          0.026785714285714288,
          0.0608086647185872,
          0.03659001397535255,
          0.041673328004263266,
          0.101762932283228,
          0.014095390354383175,
          0.08143742978134992,
          0.03146815880628828,
          0.07098321342925658,
          0.07548278490661925,
          0.01897259983907168,
          0.055848654409805465,
          0.03606593825435141,
          0.05800692779110045,
          0.017617414136280873,
          0.11154872316097064,
          0.060808664718587174,
          0.005246050904162955,
          0.03847588595790036,
          0.07790200313386696,
          0.04602615964033176,
          0.03408845389335409,
          0.01897259983907168,
          0.06080866471858723,
          0.07529976019184653,
          0.021391818066319374,
          0.06903655697071795,
          0.04183606487951552,
          0.04856915995150057,
          0.07695443188074366,
          0.01729283240074607,
          0.03138822275512923,
          0.011847287511116758,
          0.06033456012532594,
          0.01737276845190512,
          0.05576871835864637,
          0.04142837215790207,
          0.011847287511116758,
          0.03659001397535255,
          0.09536370903277375,
          0.019920171092194988,
          0.0741275992038284,
          0.06175623597171047,
          0.0721023181454836,
          0.05675075377962811,
          0.0151345590194511,
          0.09834624994706308,
          0.06982911955278873,
          0.08238742339461769,
          0.0882760458300027,
          0.04990894846059374,
          0.07098321342925658,
          0.07098321342925658,
          0.07415474747041219,
          0.03511836700122814,
          0.028128587830080376,
          0.0254996003197442,
          0.06311142167450133,
          0.10994452611135552,
          0.07790200313386696,
          0.04279243272049027,
          0.029464701647397562,
          0.04466289755643077,
          0.0403875661233731,
          0.03951505462296828,
          0.04734897588799586,
          0.03138822275512926,
          0.03951505462296828,
          0.025499600319744187,
          0.0414283721579021,
          0.033626432187583224,
          0.05800692779110046,
          0.029142568966812235,
          0.036065938254351435,
          0.030349054090061306,
          0.04413882183542965,
          0.029662971984076775,
          0.06797165327110881,
          0.02569029771735909,
          0.04602615964033177,
          0.050357574971912566,
          0.041753264055422304,
          0.02946470164739759,
          0.13602369174973444,
          0.04561046880955405,
          0.08342659205968557,
          0.010311338691556468,
          0.04397137246907089,
          0.10452970956568078,
          0.02851713039427431,
          0.03847588595790036,
          0.03146815880628828,
          0.027045483420149896,
          0.04175326405542232,
          0.0332467783297746,
          0.07415474747041216,
          0.1799094058086864,
          0.08597488671494515,
          0.030819887350188466,
          0.0335464961364242,
          0.060854963142590424,
          0.026538768984812125,
          0.026538768984812125,
          0.08597488671494515,
          0.009166000532907018,
          0.09051425526245675,
          0.08238742339461765,
          0.02851713039427431,
          0.060854963142590424,
          0.01942659098468831,
          0.06740990132554103,
          0.0512641341633846,
          0.04466289755643077,
          0.07418065547561949,
          0.07426059152677858,
          0.1067679189981348,
          0.009544530555202643,
          0.04319125058230633,
          0.005246050904162955,
          0.03146815880628828,
          0.039594990674127334,
          0.06851615395345344,
          0.04772182254196641,
          0.10942412309409101,
          0.11826642103925804,
          0.055038538093423114,
          0.032014302998876504,
          0.0021582733812949423,
          0.030819887350188466,
          0.012779381310557211,
          0.03146815880628828,
          0.009166000532907018,
          0.03784456581220422,
          0.026538768984812153,
          0.049800159872102345,
          0.0469656545123449,
          0.09856115107913668,
          0.04772182254196641,
          0.07202238209432453,
          0.020444246813196093,
          0.033658552502773595,
          0.05368735045119476,
          0.03889277093126668,
          0.00924593658406607,
          0.07415474747041213,
          0.05798183204167198,
          0.0683574725786643,
          0.056750753779628085,
          0.06311142167450136,
          0.01124499715656084,
          0.018411937116973087,
          0.05420775346845931,
          0.02541966426858512,
          0.04856915995150057,
          0.037844565812204245,
          0.052673369314462884,
          0.0070876632027710995,
          0.06389555022648546,
          0.02274700376911022,
          0.036065938254351435,
          0.032205972295245563,
          0.06605382360778043,
          0.05091926458832931,
          0.03659001397535255,
          0.03511836700122814,
          0.03847588595790036,
          0.020444246813196093,
          0.05368335239063228,
          0.06605471562275013,
          0.01841193711697306,
          0.06717292832400745,
          0.07118430525557955,
          0.04466289755643077,
          0.024024378467118038,
          0.04183606487951552,
          0.030819887350188452,
          0.0335464961364242,
          0.049800159872102345,
          0.01737276845190512,
          0.05035757497191258,
          0.049908948460593724,
          0.03146815880628828,
          0.055768718358646385,
          0.0709832134292566,
          0.06175623597171047,
          0.025065184501647034,
          0.010285105249134022,
          0.041753264055422304,
          0.03511836700122817,
          0.052735781137508986,
          0.05584865440980549,
          0.0403875661233731,
          0.08733007241773601,
          0.03511836700122814,
          0.06888154829966543,
          0.03146815880628828,
          0.053687350451194785,
          0.07311394143588312,
          0.04175326405542232,
          0.05584865440980549,
          0.09051425526245674,
          0.052735781137508986,
          0.00924593658406607,
          0.041753264055422304,
          0.010285105249134022,
          0.0403875661233731,
          0.018411937116973087,
          0.06605382360778043,
          0.02274700376911022,
          0.007661190810862986,
          0.03889277093126667,
          0.09257612332189896,
          0.0021582733812949423,
          0.03324677832977457,
          0.01761741413628086,
          0.04561046880955405,
          0.101762932283228,
          0.02569029771735909,
          0.05126413416338457,
          0.10801788955146488,
          0.03631018165820789,
          0.015539927404718698,
          0.009166000532907018,
          0.01761741413628086,
          0.04764188649080736,
          0.06605471562275014,
          0.041836064879515536,
          0.06903655697071795,
          0.030819887350188452,
          0.07202238209432453,
          0.02148137815594925,
          0.02274700376911022,
          0.04167332800426325,
          0.08014921396216361,
          0.02541966426858512,
          0.018411937116973087,
          0.033763181298437306,
          0.060284588997586055,
          0.03951505462296828,
          0.08487934160970846,
          0.03732416279493973,
          0.026538768984812153,
          0.03659001397535255,
          0.035118367001228154,
          0.04449177548633543,
          0.025690297717359076,
          0.06238934729658681,
          0.10460964561683987,
          0.034665600852651204,
          0.06285638156141753,
          0.06285638156141753,
          0.07695443188074366,
          0.03138822275512923,
          0.02044424681319612,
          0.04279243272049027,
          0.09640287769784171,
          0.010285105249134022,
          0.05904609645616839,
          0.030819887350188452,
          0.054748852487545935,
          0.04990894846059374,
          0.06605382360778043,
          0.08502731546182186,
          0.06397548627764454,
          0.05798183204167197,
          0.04466289755643077,
          0.02569029771735909,
          0.053683352390632266,
          0.023777115201797608,
          0.036310181658207846,
          0.014095390354383175,
          0.06851615395345341,
          0.027993054673273177,
          0.017617414136280873,
          0.06903655697071796,
          0.06717292832400745,
          0.0151345590194511,
          0.05584865440980549,
          0.055038538093423114,
          0.002074150894477572,
          0.06740990132554103,
          0.00924593658406607,
          0.06605471562275017,
          0.04764188649080736,
          0.053683352390632266,
          0.05584865440980549,
          0.016883590673519522,
          0.06740990132554103,
          0.04988009592326137,
          0.05584865440980548,
          0.09051425526245675,
          0.016883590673519522,
          0.045610468809554036,
          0.06586503948312994,
          0.0335464961364242,
          0.0741806554756195,
          0.06605471562275014,
          0.03959499067412736,
          0.028128587830080362,
          0.04466289755643077,
          0.017292832400746097,
          0.05420775346845927,
          0.052735781137508986,
          0.028517130394274337,
          0.05221170541650781,
          0.022222222222222227,
          0.06028458899758608,
          0.02274700376911022,
          0.10117308262397831,
          0.0864137257637048,
          0.1021206538771016,
          0.03753758522847586,
          0.08502731546182189,
          0.015214495070610179,
          0.016103243490178165,
          0.025419664268585135,
          0.013318934485241171,
          0.030349054090061306,
          0.006601236606953789,
          0.07418065547561949,
          0.07426059152677858,
          0.07311394143588315,
          0.036065938254351435,
          0.05933701774446279,
          0.07529976019184653,
          0.00924593658406607,
          0.06080866471858723,
          0.04856915995150057,
          0.07911004529709566,
          0.01124499715656084,
          0.02096097513868471,
          0.1021206538771016,
          0.05091926458832931,
          0.04988009592326138,
          0.04960996598602964,
          0.04183606487951552,
          0.01729283240074607,
          0.04413882183542965,
          0.08597488671494515,
          0.02334132693844923,
          0.011847287511116758,
          0.03362643218758324,
          0.08733007241773598,
          0.0070876632027710995,
          0.07548278490661925,
          0.0721023181454836,
          0.05576871835864641
         ],
         "xaxis": "x",
         "yaxis": "y"
        }
       ],
       "layout": {
        "annotations": [
         {
          "showarrow": false,
          "text": "<span style=      \"color:red\">Observed TVD = 0.09</span>",
          "x": 0.2165067081207124,
          "y": 0.3
         }
        ],
        "barmode": "relative",
        "legend": {
         "tracegroupgap": 0
        },
        "shapes": [
         {
          "line": {
           "color": "red"
          },
          "type": "line",
          "x0": 0.09413335135683149,
          "x1": 0.09413335135683149,
          "xref": "x",
          "y0": 0,
          "y1": 1,
          "yref": "y domain"
         }
        ],
        "template": {
         "data": {
          "bar": [
           {
            "error_x": {
             "color": "#2a3f5f"
            },
            "error_y": {
             "color": "#2a3f5f"
            },
            "marker": {
             "line": {
              "color": "#E5ECF6",
              "width": 0.5
             },
             "pattern": {
              "fillmode": "overlay",
              "size": 10,
              "solidity": 0.2
             }
            },
            "type": "bar"
           }
          ],
          "barpolar": [
           {
            "marker": {
             "line": {
              "color": "#E5ECF6",
              "width": 0.5
             },
             "pattern": {
              "fillmode": "overlay",
              "size": 10,
              "solidity": 0.2
             }
            },
            "type": "barpolar"
           }
          ],
          "carpet": [
           {
            "aaxis": {
             "endlinecolor": "#2a3f5f",
             "gridcolor": "white",
             "linecolor": "white",
             "minorgridcolor": "white",
             "startlinecolor": "#2a3f5f"
            },
            "baxis": {
             "endlinecolor": "#2a3f5f",
             "gridcolor": "white",
             "linecolor": "white",
             "minorgridcolor": "white",
             "startlinecolor": "#2a3f5f"
            },
            "type": "carpet"
           }
          ],
          "choropleth": [
           {
            "colorbar": {
             "outlinewidth": 0,
             "ticks": ""
            },
            "type": "choropleth"
           }
          ],
          "contour": [
           {
            "colorbar": {
             "outlinewidth": 0,
             "ticks": ""
            },
            "colorscale": [
             [
              0,
              "#0d0887"
             ],
             [
              0.1111111111111111,
              "#46039f"
             ],
             [
              0.2222222222222222,
              "#7201a8"
             ],
             [
              0.3333333333333333,
              "#9c179e"
             ],
             [
              0.4444444444444444,
              "#bd3786"
             ],
             [
              0.5555555555555556,
              "#d8576b"
             ],
             [
              0.6666666666666666,
              "#ed7953"
             ],
             [
              0.7777777777777778,
              "#fb9f3a"
             ],
             [
              0.8888888888888888,
              "#fdca26"
             ],
             [
              1,
              "#f0f921"
             ]
            ],
            "type": "contour"
           }
          ],
          "contourcarpet": [
           {
            "colorbar": {
             "outlinewidth": 0,
             "ticks": ""
            },
            "type": "contourcarpet"
           }
          ],
          "heatmap": [
           {
            "colorbar": {
             "outlinewidth": 0,
             "ticks": ""
            },
            "colorscale": [
             [
              0,
              "#0d0887"
             ],
             [
              0.1111111111111111,
              "#46039f"
             ],
             [
              0.2222222222222222,
              "#7201a8"
             ],
             [
              0.3333333333333333,
              "#9c179e"
             ],
             [
              0.4444444444444444,
              "#bd3786"
             ],
             [
              0.5555555555555556,
              "#d8576b"
             ],
             [
              0.6666666666666666,
              "#ed7953"
             ],
             [
              0.7777777777777778,
              "#fb9f3a"
             ],
             [
              0.8888888888888888,
              "#fdca26"
             ],
             [
              1,
              "#f0f921"
             ]
            ],
            "type": "heatmap"
           }
          ],
          "heatmapgl": [
           {
            "colorbar": {
             "outlinewidth": 0,
             "ticks": ""
            },
            "colorscale": [
             [
              0,
              "#0d0887"
             ],
             [
              0.1111111111111111,
              "#46039f"
             ],
             [
              0.2222222222222222,
              "#7201a8"
             ],
             [
              0.3333333333333333,
              "#9c179e"
             ],
             [
              0.4444444444444444,
              "#bd3786"
             ],
             [
              0.5555555555555556,
              "#d8576b"
             ],
             [
              0.6666666666666666,
              "#ed7953"
             ],
             [
              0.7777777777777778,
              "#fb9f3a"
             ],
             [
              0.8888888888888888,
              "#fdca26"
             ],
             [
              1,
              "#f0f921"
             ]
            ],
            "type": "heatmapgl"
           }
          ],
          "histogram": [
           {
            "marker": {
             "pattern": {
              "fillmode": "overlay",
              "size": 10,
              "solidity": 0.2
             }
            },
            "type": "histogram"
           }
          ],
          "histogram2d": [
           {
            "colorbar": {
             "outlinewidth": 0,
             "ticks": ""
            },
            "colorscale": [
             [
              0,
              "#0d0887"
             ],
             [
              0.1111111111111111,
              "#46039f"
             ],
             [
              0.2222222222222222,
              "#7201a8"
             ],
             [
              0.3333333333333333,
              "#9c179e"
             ],
             [
              0.4444444444444444,
              "#bd3786"
             ],
             [
              0.5555555555555556,
              "#d8576b"
             ],
             [
              0.6666666666666666,
              "#ed7953"
             ],
             [
              0.7777777777777778,
              "#fb9f3a"
             ],
             [
              0.8888888888888888,
              "#fdca26"
             ],
             [
              1,
              "#f0f921"
             ]
            ],
            "type": "histogram2d"
           }
          ],
          "histogram2dcontour": [
           {
            "colorbar": {
             "outlinewidth": 0,
             "ticks": ""
            },
            "colorscale": [
             [
              0,
              "#0d0887"
             ],
             [
              0.1111111111111111,
              "#46039f"
             ],
             [
              0.2222222222222222,
              "#7201a8"
             ],
             [
              0.3333333333333333,
              "#9c179e"
             ],
             [
              0.4444444444444444,
              "#bd3786"
             ],
             [
              0.5555555555555556,
              "#d8576b"
             ],
             [
              0.6666666666666666,
              "#ed7953"
             ],
             [
              0.7777777777777778,
              "#fb9f3a"
             ],
             [
              0.8888888888888888,
              "#fdca26"
             ],
             [
              1,
              "#f0f921"
             ]
            ],
            "type": "histogram2dcontour"
           }
          ],
          "mesh3d": [
           {
            "colorbar": {
             "outlinewidth": 0,
             "ticks": ""
            },
            "type": "mesh3d"
           }
          ],
          "parcoords": [
           {
            "line": {
             "colorbar": {
              "outlinewidth": 0,
              "ticks": ""
             }
            },
            "type": "parcoords"
           }
          ],
          "pie": [
           {
            "automargin": true,
            "type": "pie"
           }
          ],
          "scatter": [
           {
            "fillpattern": {
             "fillmode": "overlay",
             "size": 10,
             "solidity": 0.2
            },
            "type": "scatter"
           }
          ],
          "scatter3d": [
           {
            "line": {
             "colorbar": {
              "outlinewidth": 0,
              "ticks": ""
             }
            },
            "marker": {
             "colorbar": {
              "outlinewidth": 0,
              "ticks": ""
             }
            },
            "type": "scatter3d"
           }
          ],
          "scattercarpet": [
           {
            "marker": {
             "colorbar": {
              "outlinewidth": 0,
              "ticks": ""
             }
            },
            "type": "scattercarpet"
           }
          ],
          "scattergeo": [
           {
            "marker": {
             "colorbar": {
              "outlinewidth": 0,
              "ticks": ""
             }
            },
            "type": "scattergeo"
           }
          ],
          "scattergl": [
           {
            "marker": {
             "colorbar": {
              "outlinewidth": 0,
              "ticks": ""
             }
            },
            "type": "scattergl"
           }
          ],
          "scattermapbox": [
           {
            "marker": {
             "colorbar": {
              "outlinewidth": 0,
              "ticks": ""
             }
            },
            "type": "scattermapbox"
           }
          ],
          "scatterpolar": [
           {
            "marker": {
             "colorbar": {
              "outlinewidth": 0,
              "ticks": ""
             }
            },
            "type": "scatterpolar"
           }
          ],
          "scatterpolargl": [
           {
            "marker": {
             "colorbar": {
              "outlinewidth": 0,
              "ticks": ""
             }
            },
            "type": "scatterpolargl"
           }
          ],
          "scatterternary": [
           {
            "marker": {
             "colorbar": {
              "outlinewidth": 0,
              "ticks": ""
             }
            },
            "type": "scatterternary"
           }
          ],
          "surface": [
           {
            "colorbar": {
             "outlinewidth": 0,
             "ticks": ""
            },
            "colorscale": [
             [
              0,
              "#0d0887"
             ],
             [
              0.1111111111111111,
              "#46039f"
             ],
             [
              0.2222222222222222,
              "#7201a8"
             ],
             [
              0.3333333333333333,
              "#9c179e"
             ],
             [
              0.4444444444444444,
              "#bd3786"
             ],
             [
              0.5555555555555556,
              "#d8576b"
             ],
             [
              0.6666666666666666,
              "#ed7953"
             ],
             [
              0.7777777777777778,
              "#fb9f3a"
             ],
             [
              0.8888888888888888,
              "#fdca26"
             ],
             [
              1,
              "#f0f921"
             ]
            ],
            "type": "surface"
           }
          ],
          "table": [
           {
            "cells": {
             "fill": {
              "color": "#EBF0F8"
             },
             "line": {
              "color": "white"
             }
            },
            "header": {
             "fill": {
              "color": "#C8D4E3"
             },
             "line": {
              "color": "white"
             }
            },
            "type": "table"
           }
          ]
         },
         "layout": {
          "annotationdefaults": {
           "arrowcolor": "#2a3f5f",
           "arrowhead": 0,
           "arrowwidth": 1
          },
          "autotypenumbers": "strict",
          "coloraxis": {
           "colorbar": {
            "outlinewidth": 0,
            "ticks": ""
           }
          },
          "colorscale": {
           "diverging": [
            [
             0,
             "#8e0152"
            ],
            [
             0.1,
             "#c51b7d"
            ],
            [
             0.2,
             "#de77ae"
            ],
            [
             0.3,
             "#f1b6da"
            ],
            [
             0.4,
             "#fde0ef"
            ],
            [
             0.5,
             "#f7f7f7"
            ],
            [
             0.6,
             "#e6f5d0"
            ],
            [
             0.7,
             "#b8e186"
            ],
            [
             0.8,
             "#7fbc41"
            ],
            [
             0.9,
             "#4d9221"
            ],
            [
             1,
             "#276419"
            ]
           ],
           "sequential": [
            [
             0,
             "#0d0887"
            ],
            [
             0.1111111111111111,
             "#46039f"
            ],
            [
             0.2222222222222222,
             "#7201a8"
            ],
            [
             0.3333333333333333,
             "#9c179e"
            ],
            [
             0.4444444444444444,
             "#bd3786"
            ],
            [
             0.5555555555555556,
             "#d8576b"
            ],
            [
             0.6666666666666666,
             "#ed7953"
            ],
            [
             0.7777777777777778,
             "#fb9f3a"
            ],
            [
             0.8888888888888888,
             "#fdca26"
            ],
            [
             1,
             "#f0f921"
            ]
           ],
           "sequentialminus": [
            [
             0,
             "#0d0887"
            ],
            [
             0.1111111111111111,
             "#46039f"
            ],
            [
             0.2222222222222222,
             "#7201a8"
            ],
            [
             0.3333333333333333,
             "#9c179e"
            ],
            [
             0.4444444444444444,
             "#bd3786"
            ],
            [
             0.5555555555555556,
             "#d8576b"
            ],
            [
             0.6666666666666666,
             "#ed7953"
            ],
            [
             0.7777777777777778,
             "#fb9f3a"
            ],
            [
             0.8888888888888888,
             "#fdca26"
            ],
            [
             1,
             "#f0f921"
            ]
           ]
          },
          "colorway": [
           "#636efa",
           "#EF553B",
           "#00cc96",
           "#ab63fa",
           "#FFA15A",
           "#19d3f3",
           "#FF6692",
           "#B6E880",
           "#FF97FF",
           "#FECB52"
          ],
          "font": {
           "color": "#2a3f5f"
          },
          "geo": {
           "bgcolor": "white",
           "lakecolor": "white",
           "landcolor": "#E5ECF6",
           "showlakes": true,
           "showland": true,
           "subunitcolor": "white"
          },
          "hoverlabel": {
           "align": "left"
          },
          "hovermode": "closest",
          "mapbox": {
           "style": "light"
          },
          "paper_bgcolor": "white",
          "plot_bgcolor": "#E5ECF6",
          "polar": {
           "angularaxis": {
            "gridcolor": "white",
            "linecolor": "white",
            "ticks": ""
           },
           "bgcolor": "#E5ECF6",
           "radialaxis": {
            "gridcolor": "white",
            "linecolor": "white",
            "ticks": ""
           }
          },
          "scene": {
           "xaxis": {
            "backgroundcolor": "#E5ECF6",
            "gridcolor": "white",
            "gridwidth": 2,
            "linecolor": "white",
            "showbackground": true,
            "ticks": "",
            "zerolinecolor": "white"
           },
           "yaxis": {
            "backgroundcolor": "#E5ECF6",
            "gridcolor": "white",
            "gridwidth": 2,
            "linecolor": "white",
            "showbackground": true,
            "ticks": "",
            "zerolinecolor": "white"
           },
           "zaxis": {
            "backgroundcolor": "#E5ECF6",
            "gridcolor": "white",
            "gridwidth": 2,
            "linecolor": "white",
            "showbackground": true,
            "ticks": "",
            "zerolinecolor": "white"
           }
          },
          "shapedefaults": {
           "line": {
            "color": "#2a3f5f"
           }
          },
          "ternary": {
           "aaxis": {
            "gridcolor": "white",
            "linecolor": "white",
            "ticks": ""
           },
           "baxis": {
            "gridcolor": "white",
            "linecolor": "white",
            "ticks": ""
           },
           "bgcolor": "#E5ECF6",
           "caxis": {
            "gridcolor": "white",
            "linecolor": "white",
            "ticks": ""
           }
          },
          "title": {
           "x": 0.05
          },
          "xaxis": {
           "automargin": true,
           "gridcolor": "white",
           "linecolor": "white",
           "ticks": "",
           "title": {
            "standoff": 15
           },
           "zerolinecolor": "white",
           "zerolinewidth": 2
          },
          "yaxis": {
           "automargin": true,
           "gridcolor": "white",
           "linecolor": "white",
           "ticks": "",
           "title": {
            "standoff": 15
           },
           "zerolinecolor": "white",
           "zerolinewidth": 2
          }
         }
        },
        "title": {
         "text": "Empirical Distribution of the TVD"
        },
        "xaxis": {
         "anchor": "y",
         "domain": [
          0,
          1
         ],
         "title": {
          "text": "0"
         }
        },
        "yaxis": {
         "anchor": "x",
         "domain": [
          0,
          1
         ],
         "range": [
          0,
          0.2
         ],
         "title": {
          "text": "probability"
         }
        }
       }
      }
     },
     "metadata": {},
     "output_type": "display_data"
    }
   ],
   "source": [
    "fig = px.histogram(pd.DataFrame(tvds_climate), x=0, nbins=50,\n",
    "                    histnorm='probability',\n",
    "                    title='Empirical Distribution of the TVD')\n",
    "fig.add_vline(x=observed_tvd_climate, line_color='red')\n",
    "fig.add_annotation(\n",
    "text=(f'<span style=\\\n",
    "      \"color:red\">Observed TVD = {round(observed_tvd_climate, 2)}</span>'),\n",
    "                   x=2.3 * observed_tvd_climate, \n",
    "                   showarrow=False, y=0.30)\n",
    "fig.update_layout(yaxis_range=[0, 0.2])"
   ]
  },
  {
   "cell_type": "markdown",
   "metadata": {},
   "source": [
    "Missingness not dependent on month"
   ]
  },
  {
   "cell_type": "markdown",
   "metadata": {},
   "source": [
    "NMAR Analysis\n",
    "\n",
    "Of all the columns in the dataset, CUSTOMERS.AFFECTED has a marginally higher number of missing values compared to any other column in the dataset. Due to the datasets method of collecting the data from various companies, I believe this high number of missing values in this column is caused by some companies not providing the number of customers affected by their outages.\n",
    "\n",
    "This belief also causes me to think that the CUSTOMER.AFFECTED column is NMAR. I would check if this column is MAR by collecting the companies name for each of the outages and testing if missingness in the column is dependent on the company."
   ]
  },
  {
   "cell_type": "markdown",
   "metadata": {},
   "source": [
    "## Step 4: Hypothesis Testing"
   ]
  },
  {
   "cell_type": "markdown",
   "metadata": {},
   "source": [
    "Groups: Northeast and South region\n",
    "\n",
    "Null: On average, the northwest region has the same duration of power outages as the south region\n",
    "\n",
    "Alt: On average, the northwest region has longer power outage durations than the south region\n",
    "\n",
    "Test stat = difference in means"
   ]
  },
  {
   "cell_type": "code",
   "execution_count": 131,
   "metadata": {
    "ExecuteTime": {
     "end_time": "2019-10-31T23:36:28.666489Z",
     "start_time": "2019-10-31T23:36:28.664381Z"
    }
   },
   "outputs": [
    {
     "data": {
      "text/plain": [
       "458.064095649047"
      ]
     },
     "execution_count": 131,
     "metadata": {},
     "output_type": "execute_result"
    }
   ],
   "source": [
    "n=1000\n",
    "nsdf = outages.copy()\n",
    "nsdf = nsdf[nsdf['CLIMATE.REGION'].isin(['Northeast','South'])]\n",
    "differences = []\n",
    "for _ in range(n):\n",
    "\n",
    "    shuffled = nsdf.assign(shuffled_duration=np.random.permutation(\n",
    "        nsdf['OUTAGE.DURATION']))\n",
    "\n",
    "    group_means = (\n",
    "        shuffled\n",
    "        .groupby('CLIMATE.REGION')['shuffled_duration'].mean()\n",
    "    )\n",
    "    difference = group_means.loc['Northeast'] - group_means.loc['South']\n",
    "    \n",
    "    differences.append(difference)\n",
    "\n",
    "observed_diff = nsdf.groupby('CLIMATE.REGION')['OUTAGE.DURATION'].mean()\n",
    "observed_diff = observed_diff.loc['Northeast'] - observed_diff.loc['South']\n",
    "observed_diff"
   ]
  },
  {
   "cell_type": "code",
   "execution_count": 132,
   "metadata": {},
   "outputs": [
    {
     "data": {
      "text/plain": [
       "0.16"
      ]
     },
     "execution_count": 132,
     "metadata": {},
     "output_type": "execute_result"
    }
   ],
   "source": [
    "pvalue = (np.array(differences) >= observed_diff).mean()\n",
    "pvalue"
   ]
  },
  {
   "cell_type": "markdown",
   "metadata": {},
   "source": [
    "pvalue = 0.158 so the null hypothesis can be rejected"
   ]
  },
  {
   "cell_type": "code",
   "execution_count": 133,
   "metadata": {},
   "outputs": [
    {
     "data": {
      "application/vnd.plotly.v1+json": {
       "config": {
        "plotlyServerURL": "https://plot.ly"
       },
       "data": [
        {
         "alignmentgroup": "True",
         "bingroup": "x",
         "histnorm": "probability",
         "hovertemplate": "0=%{x}<br>probability=%{y}<extra></extra>",
         "legendgroup": "",
         "marker": {
          "color": "#636efa",
          "pattern": {
           "shape": ""
          }
         },
         "name": "",
         "nbinsx": 100,
         "offsetgroup": "",
         "orientation": "v",
         "showlegend": false,
         "type": "histogram",
         "x": [
          -585.3708141227858,
          462.7580532637712,
          735.4566278859484,
          801.5682078485743,
          -621.8650793650795,
          -553.7468423775754,
          -115.08730158730168,
          141.21951219512175,
          319.2894324672934,
          267.68368902439033,
          -373.2573542709024,
          419.75947852946547,
          -438.5227341664645,
          359.2901740953421,
          381.9032012195121,
          -375.4529877918185,
          -166.11164559281679,
          -151.02817818424091,
          -798.4841269841272,
          591.7991615853657,
          202.47478953425025,
          29.965532458836606,
          -1307.0620271625194,
          -520.1570317680394,
          -85.46637346527405,
          -692.9620903833797,
          -389.09014821803567,
          2.04835475344089,
          -337.7762904262154,
          194.19080623635045,
          -452.51901227780854,
          420.7015105180244,
          -283.03827054532076,
          992.8412698412699,
          -498.7396015431914,
          108.74669020300053,
          432.0443516788232,
          -365.1967627642175,
          -506.26408152140993,
          -272.2246401071311,
          -411.2142857142858,
          680.8117369886486,
          -181.21683144514236,
          -831.6919733148188,
          52.93310592568014,
          640.4815564415494,
          227.76927290988215,
          484.7567489423868,
          197.6024843783016,
          117.8935375079759,
          318.1442674580585,
          -427.13300304878067,
          184.84348844994975,
          369.15842037749644,
          911.9761904761904,
          -242.15058713436156,
          325.33766702780804,
          767.7606315214753,
          359.19417358124883,
          320.96197468044056,
          461.3419841317909,
          -494.9265247834901,
          -266.97570371269103,
          357.4527174079635,
          752.0510798349915,
          224.68595775986296,
          799.9679992720212,
          -534.579723488393,
          142.9349373145178,
          -824.7643169133707,
          666.4328288036886,
          703.9430284857572,
          141.93603405077465,
          464.2885077761207,
          114.72738716330969,
          393.57640685394244,
          852.3240816698572,
          180.38214383374316,
          -137.36187465640478,
          -474.17027807872864,
          -142.10347913127907,
          -123.37548992799202,
          415.09984756097583,
          -341.2362136541792,
          -175.57684724581395,
          -251.7621951219512,
          -599.6391955835961,
          575.5478078570777,
          67.44699079031898,
          549.4898753894081,
          -143.79458785347242,
          -94.20084768936294,
          737.1431158873424,
          -399.3149264126946,
          -1296.2006450057265,
          -108.54262409836565,
          -605.487676378963,
          -174.16094007696574,
          199.06730769230808,
          160.6909298780488,
          -172.10853032801924,
          -696.060277996487,
          -86.639285930592,
          -14.829727993146207,
          404.05705952055405,
          -72.49134080758358,
          566.4586113807327,
          -306.1865812460055,
          -864.7380952380954,
          618.0663810576743,
          181.9434214931366,
          -139.08927231807957,
          -474.1459142198496,
          73.10702437836699,
          855.4265791632483,
          -424.80374909002694,
          -229.5057164634145,
          298.6950247388677,
          887.6123493428627,
          303.37576742506326,
          516.5851118423038,
          -360.4413909397499,
          -229.01124570106822,
          217.1239617190322,
          -381.2222222222222,
          -276.6587301587301,
          344.3432267653484,
          -740.3023109054302,
          -586.255758245808,
          -276.7628369607869,
          22.669965182334636,
          913.7567489686971,
          -95.46825396825398,
          559.4833747198836,
          119.3809523809523,
          50.00068719076444,
          53.73869662508014,
          -223.3014310454837,
          -63.442454268292295,
          -388.8664680390034,
          362.98412698412676,
          880.1563679174087,
          -169.86507936507905,
          -73.03081776267891,
          18.799512446247718,
          -851.8628048780488,
          186.56083781590905,
          1364.243996713029,
          -350.21754764473235,
          -393.39630824481856,
          296.5383738948135,
          559.4191214787115,
          162.19420519219648,
          -646.2713029136885,
          -293.7545512957804,
          -112.56349206349205,
          -280.81299266518545,
          270.1726542623305,
          -155.34353557240865,
          -250.0571217984152,
          48.17867600446789,
          -90.22439585730717,
          -126.5683483738112,
          167.1487901769592,
          269.5043063954554,
          102.97619047619037,
          176.0833105459851,
          46.51140427322207,
          315.5392156862745,
          21.436970194148216,
          144.4055954563214,
          26.36775914634154,
          676.3418812449058,
          -79.16485301780949,
          662.4142504068964,
          -831.5074798619103,
          -463.7295279021546,
          -1092.2665949972743,
          -4.307998900495022,
          -461.94940924709135,
          893.2467414091698,
          -259.0208893047966,
          -173.74658172311183,
          817.3655514438242,
          -523.335496724726,
          352.3180758282356,
          513.863479279983,
          771.8953343275402,
          -389.33981436544536,
          -303.05788860619805,
          505.92930470595365,
          -384.2670038156384,
          -616.7124692370799,
          -533.3584928630121,
          782.3484686228317,
          323.1928536982341,
          584.8904217103873,
          -356.98628048780483,
          572.4857716772685,
          -387.51534726039927,
          -531.6009254168957,
          -179.56482484651497,
          522.592083562397,
          121.10769300884112,
          -416.6223099644344,
          709.7100552419474,
          -137.16687393836446,
          -130.26225558335636,
          261.73641814547864,
          302.4953253839317,
          -513.313633864761,
          -220.019683847132,
          -590.6825396825398,
          174.33114673696446,
          -35.92309672339661,
          -228.2283075143805,
          851.5077499393351,
          615.4006410256407,
          -65.04694835680766,
          522.4544253030717,
          203.92161062325977,
          -268.8180202351655,
          -561.5594074667815,
          -253.350872145842,
          485.3025914634145,
          417.4314758354212,
          -1151.6739586181752,
          84.5822464207713,
          -803.4971032516378,
          -10.940769230769092,
          -1259.3818668776821,
          -458.8571428571431,
          -29.859409123999285,
          122.55995678242107,
          -190.27777777777783,
          47.166165345000536,
          -98.90818369327826,
          -456.3669230769233,
          -281.276093553628,
          -572.1375272991995,
          65.79129762193634,
          -424.8717521652229,
          -470.3734756097565,
          -482.2038682776879,
          -59.64337305886602,
          792.9285714285711,
          -82.31482043193364,
          -49.540706976182264,
          482.36524918743225,
          43.53676292162072,
          -149.0190548780488,
          -533.1468431649487,
          55.379066865507866,
          160.24058924744168,
          -270.87101023560035,
          -110.28429878048792,
          124.28931467151688,
          106.9989062072741,
          -853.0224005095852,
          358.8523560050876,
          -330.0690448791711,
          376.3276510555693,
          186.9809451219512,
          -554.1132948506506,
          556.3242219337703,
          -253.26675947740387,
          138.3650793650795,
          -76.35904513467585,
          -1251.2089509084822,
          -1068.9355581127734,
          292.6093374319021,
          471.96855185263075,
          -230.36778780421082,
          -1053.3370996117446,
          795.4365091325576,
          -743.8186382900317,
          -471.67216419277975,
          -130.4430089792927,
          -347.78474581412274,
          -633.0194359756097,
          -575.5163813370305,
          263.56474471564434,
          74.29365079365107,
          837.4970879440889,
          -78.45617378048792,
          475.8713436169892,
          -746.4425405388833,
          580.7170868768221,
          847.5222191680409,
          -313.42568597560967,
          -30.512314972093918,
          -231.08099604458812,
          154.80987722191685,
          262.4742064095931,
          184.85926049300497,
          -104.4841281918616,
          -261.7460317460318,
          152.89534990650782,
          -185.8406511030198,
          -321.79814916620853,
          -1327.7371640746264,
          -220.7631365113757,
          150.22167487684737,
          483.22153846153833,
          -193.8352116547553,
          -321.0532800432734,
          -851.3121877203203,
          -15.828362297227613,
          -321.90516928108536,
          55.69047619047615,
          -367.3516297896949,
          207.30952380952385,
          232.76937877954924,
          444.2541229385306,
          371.02823980438916,
          455.0865608114227,
          185.73367754830133,
          -936.683979438852,
          275.6045191689868,
          -873.9761904761904,
          -182.42048012002988,
          160.13871951219517,
          -344.4067253069452,
          -20.444444444444343,
          -624.6242378048782,
          536.2636272787836,
          1381.3968253968255,
          -651.5139579878387,
          -589.4758909853253,
          -911.4450972079221,
          -306.69148871633115,
          498.4596036585367,
          802.531746031746,
          -275.1768690800968,
          146.4587847598409,
          -241.75416895730268,
          -76.83005195515443,
          447.5362042682923,
          822.0124781481704,
          363.2256734469488,
          -361.6036741799526,
          -303.83333333333303,
          638.4830462127429,
          -3.6317034700314252,
          -384.3968253968251,
          -165.60656038116213,
          30.914163285082395,
          -96.16135239142386,
          120.7607201759206,
          -25.05182926829275,
          321.0639323195546,
          -413.369934481922,
          271.6051861019714,
          -1066.0083841463415,
          -255.2074739140985,
          -367.9862820162243,
          -16.43154563624239,
          -15.614914462509205,
          -486.2796771849071,
          -186.58069946614887,
          234.80744690547817,
          -647.236009327115,
          -525.4706836932783,
          161.28656383010866,
          -717.7484249931522,
          832.1655963721582,
          -574.0086599126425,
          139.1635828682356,
          167.77863164622477,
          406.3619998177014,
          -79.03928538875243,
          -61.10334263528239,
          671.3303482886076,
          -418.71261526328544,
          400.4507600993279,
          -243.14464025721918,
          -505.2483049294483,
          -61.327831957989474,
          -578.525746747297,
          -323.371275527285,
          121.86537234527395,
          112.07136997538964,
          -436.3130070185034,
          -43.631640253808655,
          255.89698447092815,
          4.298934633442059,
          -223.0562958027981,
          -180.5284386108833,
          917.3107322391133,
          -457.2568448697439,
          -15.272537005581398,
          -514.2104183757178,
          148.2757764535936,
          517.757782690328,
          570.7694367102163,
          224.56775700934577,
          443.11732636980014,
          325.3765296280667,
          703.6678637733207,
          -497.07810898788375,
          -770.712788259958,
          -394.45238095238074,
          -193.691781236751,
          401.8398505149944,
          -672.618753390801,
          -567.1522650624374,
          -44.04247561753709,
          694.3809523809523,
          718.699000705024,
          -504.95875489927994,
          337.3334244827274,
          471.88316556007703,
          -894.0059588299027,
          111.71635063256917,
          618.0079365079364,
          -230.3294579541648,
          319.0550685513226,
          -32.222677969191864,
          819.7761833369032,
          485.2920230087957,
          -376.06349206349205,
          -705.7773976731569,
          215.47622319956008,
          -8.71428571428578,
          1229.3742807825088,
          -372.68253968253975,
          308.2077100115075,
          -178.18847063819476,
          7.5435238355667025,
          75.7114922238793,
          -49.23956563940783,
          251.38147865853625,
          176.79040995830428,
          190.99793739383676,
          -430.3805796135907,
          987.690674742064,
          -193.0278201219512,
          587.436507936508,
          486.541153846154,
          834.0190826916637,
          290.3809523809523,
          -41.904997413032106,
          -295.934466755642,
          -131.33849490414968,
          -870.5555555555552,
          -764.7333476119084,
          -457.3130538308519,
          436.699321664345,
          208.73577444380726,
          983.0053142752427,
          243.53048780487825,
          -587.9085791046582,
          119.3799528807026,
          -979.364566667673,
          43.76936524202756,
          1292.4320937015768,
          54.54761904761881,
          961.4846041055716,
          -192.61735140519795,
          -946.8589939024387,
          787.0803555066886,
          618.7768003149417,
          -182.23468362905896,
          -682.9813294291666,
          -50.57574410691814,
          -460.6657971366176,
          -161.9920634920636,
          -56.11531061022515,
          -258.7805172101994,
          -501.49993869355967,
          58.660312700792474,
          -566.2222222222222,
          -337.71247876728967,
          -29.03734756097583,
          497.29040281485095,
          375.8804060017651,
          -415.64929979731005,
          386.8318506162541,
          245.17766381592946,
          -864.8288894997249,
          333.8665933663183,
          206.2297530939095,
          -37.20061878184924,
          -298.27978306444265,
          1061.9419758346776,
          -736.211385701677,
          588.5094791729457,
          -863.1452721275427,
          -458.7703383946632,
          683.4995608987947,
          -74.39693216057458,
          181.30594755011816,
          430.31058830690563,
          -228.9466870571132,
          -471.76578017931024,
          292.54868357194846,
          715.7155248501081,
          587.4894238670604,
          -300.04741616272713,
          -42.3224085365855,
          -366.24912499619586,
          -217.52282618620075,
          118.4279008294593,
          40.607100465654185,
          -231.7418076675949,
          97.46320873961713,
          -750.092316720838,
          414.73171622485324,
          -278.21998010729976,
          -301.62154771670794,
          -118.535442073171,
          -138.80822167532597,
          311.3730158730159,
          117.35563135810662,
          -216.85972547706706,
          -368.07260070371285,
          -413.321286179505,
          290.0925416895734,
          -231.6265243902435,
          634.6428571428569,
          57.571428571428896,
          -443.51805785885426,
          22.30936059208898,
          45.407122189402344,
          111.2937332085612,
          431.0873015873017,
          735.257022856621,
          -195.35588388560245,
          -551.6507936507937,
          734.5060413306146,
          144.05081109048342,
          219.00380245556153,
          158.40205792682946,
          145.698412698413,
          -453.04013194062645,
          -69.78762191231408,
          949.5138136511373,
          59.2442835365855,
          630.5190674742066,
          -195.12927521357187,
          692.1589116719242,
          525.8849712390056,
          -689.5818011935617,
          344.63115498758407,
          244.29040196882715,
          -455.45016149968296,
          -511.58191313908765,
          -548.2268411793257,
          510.897916161126,
          247.7757269164158,
          179.52934247162148,
          396.4527439024391,
          580.0380167059329,
          523.5044683987471,
          522.0421827920991,
          -62.24312601538759,
          1341.4394355873187,
          -70.28860569715152,
          206.40492295559307,
          -48.192470402045274,
          980.3401304072204,
          941.775964571706,
          137.9030646235842,
          -14.046349466776064,
          -576.1005265240283,
          906.5750762195121,
          -806.7601246105919,
          -458.8105890560546,
          -203.2477134146343,
          -309.51907131011603,
          248.18957908512675,
          418.6993238144114,
          854.1791158536585,
          56.221586621185,
          199.7481981709161,
          230.31848695705457,
          -176.83067619571193,
          -1115.9554115853662,
          278.7478044939735,
          543.1633712531602,
          177.1371951219512,
          -366.87004573170725,
          602.5959776433938,
          258.2222222222222,
          19.929587093245573,
          205.85714285714312,
          -459.3783611338981,
          494.2434140072819,
          274.5218674863804,
          -83.66511712697138,
          -262.5481497183696,
          -707.0555555555552,
          -489.1978871541387,
          -460.04830917874415,
          -236.31563805947553,
          -317.6555296044653,
          -255.29559911130082,
          -76.67149390243912,
          -528.4468143286849,
          -184.99441543152125,
          -391.5931357680174,
          -200.46212851889823,
          168.86987955444192,
          -185.87767246078374,
          -1116.3253968253966,
          278.26079678607266,
          165.40745563563723,
          -351.7639689679113,
          -819.1387209089244,
          117.39401005390346,
          -146.0757692307693,
          118.26047786324307,
          75.39814366180099,
          606.4264816204054,
          -1020.6438889225365,
          -355.17131041144694,
          1100.7823221379558,
          -558.0183459522423,
          -234.5191084731391,
          67.82144794743499,
          -468.5089956832794,
          200.81205919585273,
          -433.64771970201673,
          540.729691792194,
          -857.7956362425052,
          -40.246031746031804,
          11.858308267249868,
          -253.58467778689237,
          -174.93156077766344,
          508.7842949594383,
          573.5828025477708,
          469.848966734638,
          594.4870421931892,
          -26.22028745163061,
          45.294969512195166,
          -111.92204096539581,
          1040.8468714208211,
          -224.08730158730123,
          11.816586457407084,
          -225.8395471284657,
          370.18253968253975,
          -355.6554919803998,
          86.26241910491262,
          -384.3362045392396,
          -328.45541158536616,
          -673.8846524805595,
          56.9094024416363,
          239.46263097329074,
          -230.4972304227408,
          -573.0326870986396,
          -312.6111111111113,
          -628.8968253968255,
          -68.46763271939335,
          -387.3412854889589,
          -434.61326134433375,
          309.198412698413,
          342.1506699480451,
          -349.9295870932456,
          18.74006861682892,
          675.2723840345197,
          434.11111111111086,
          12.536231884057997,
          793.3702449192288,
          196.48425787106453,
          -345.20186569413454,
          373.4388387567219,
          -264.6279465407838,
          411.84732164523166,
          -663.5339501476092,
          517.7887157050409,
          644.8968253968255,
          369.4419581277011,
          -300.91752751126523,
          -20.085898845519296,
          -156.34126984126988,
          -641.4064289589487,
          171.9677681473454,
          -479.2843407425353,
          -207.60655386592452,
          137.73037490900242,
          632.3657825175464,
          294.9732091647297,
          -3.6347176728668273,
          -731.2515898491915,
          -282.3047124236623,
          823.126092020967,
          964.6898682168185,
          -383.7582655908759,
          327.3125937031482,
          255.91031707758157,
          -120.13558602281,
          -776.137957317073,
          917.3109439990358,
          -290.5870899761776,
          -674.9105213500925,
          -33.262957317073415,
          516.6405801913847,
          71.71428571428578,
          -211,
          1050.2067533405566,
          -481.61452014074257,
          -216.02516076195116,
          -175.91730182926858,
          219.29428143071345,
          107.25692307692316,
          217.56426032266882,
          -152.41269841269832,
          131.89130170131193,
          191.04137108702844,
          81.88888888888869,
          79.79563498052948,
          -70.36993769470428,
          556.6190476190477,
          -426.05485770952873,
          399.44915510871533,
          -84.60708524819665,
          304.00188696472605,
          -280.7345001213298,
          284.76158699344796,
          318.28735388528867,
          -567.5333052022424,
          90.1399245214111,
          -307.4874237804879,
          372.82055574154674,
          38.65453863465882,
          110.58056872037923,
          -407.8309968847352,
          409.15933543818755,
          346.28853821103576,
          263.7747242730834,
          -179.24673585537357,
          736.3412698412699,
          156.86218211648884,
          395.01509039068196,
          248.70088565602464,
          -75.06803188565118,
          317.1025152439024,
          -500.91513991431975,
          -200.8968545256007,
          460.2927500902856,
          373.2614704256498,
          -147.93064024390242,
          -712.1404377279832,
          -110.34832317073187,
          -206.1357804811787,
          169.04890890829938,
          -1017.7139195583595,
          16.30344921567439,
          -3.689762261726628,
          59.504375170905405,
          -58.96031746031758,
          253.88501503965017,
          -222.68161550594505,
          308.9920634920636,
          -317.52813334142184,
          -989.2857142857142,
          260.5,
          -97.1287016973638,
          -10.158730158730123,
          -436.424517764965,
          -240.7792859968954,
          -100.8113432288801,
          330.4968454258674,
          -252.26984126984098,
          246.11614983950085,
          525.1102907665663,
          -684.7460317460318,
          13.154725609756042,
          -891.8803876062448,
          -406.7156594658645,
          230.19756631118435,
          -188.45898479331754,
          -87.20611141652898,
          117.34631457815976,
          -761.4483741810236,
          -1152.094099321972,
          -135.37822990534733,
          -131.08710417484235,
          -76.96825396825398,
          828.2728605460875,
          -436.991861212251,
          -673.9534249894009,
          -250.46087593916036,
          -421.66188132348907,
          -425.98411297440407,
          559.6909298780488,
          -241.62079674448523,
          -104.12762703652152,
          -673.897165041531,
          -407.96854551541537,
          -1095.5211872118416,
          -1247.2380322745444,
          873.4824695121952,
          453.88497328173935,
          -146.6988769516388,
          319.08543080622076,
          82.65320121951254,
          291.70507540427616,
          -64.57660239708184,
          126.03809655426585,
          223.1393956145198,
          4.4332340195014694,
          -297.7311252797108,
          1076.6490325112445,
          -257.63329616010606,
          349.56795187312036,
          -581.9496936034052,
          557.9026558149499,
          -848.0392881939201,
          -644.3815384615386,
          -267.73799706798627,
          192.6070884146343,
          -38.21803384022269,
          153.92079522742415,
          198.8648346258774,
          -353.3689024390246,
          290.9398677815675,
          -88.77267787605251,
          -348.3730158730159,
          442.07862860273326,
          -596.8942522153234,
          -246.24381528312233,
          -381.99351947186733,
          -274.2653358855164,
          90.4575699571601,
          553.9509084822107,
          142.81249048908876,
          60.11229510671046,
          9.816561844863372,
          390.43613707165105,
          -142.22041366361827,
          -590.6746031746034,
          -389.6158603628369,
          -662.7427591463415,
          545.7391284598148,
          -107.38719512195121,
          -76.51756429512943,
          36.07865185498258,
          -284.61425691772047,
          -708.6628383921247,
          97.7790697674418,
          -793.4291072768192,
          -268.21278715247354,
          -251.68815214753704,
          412.62105565986303,
          -141.02025438543615,
          138.18215136521894,
          14.043032725305693,
          -990.8459187342683,
          -303.2836386799322,
          -99.55681061110772,
          168.52243412566804,
          246.02516076195116,
          -122.23285060975604,
          -1108.742911442847,
          -92.80532280426814,
          124.28125094333927,
          375.02858231707296,
          450.1239631756448,
          -757.8137621315332,
          -130.75289399325493,
          1014.0335463258784,
          140.2240009739171,
          -97.73643328689968,
          346.0815548780488,
          -8.874483050080016,
          -291.4653201219512,
          -194.3182025339529,
          289.9750176256016,
          4.22059536066854,
          -353.5238095238092,
          584.2923018292681,
          390.4285714285711,
          -151.51330781150318,
          1024.4919969512198,
          745.1476093374317,
          188.20589304100304,
          -549.1610615698332,
          -235.02380952380918,
          -83.85491112332784,
          278.962434134819,
          341.48766415241744,
          -109.74463499909598,
          956.307025058899,
          409.3082030413366,
          201.4776722661295,
          628.5463476688228,
          82.55716463414637,
          -826.1258644746422,
          71.92462793316463,
          -16.491463006360846,
          351.55494821634056,
          618.042196425281,
          -314.8131437425941,
          -669.5052226498078,
          459.57490032565374,
          395.4139148431077,
          435.1482041414697,
          -183.08803353658504,
          346.0513723365839,
          983.0409806129592,
          -206.1015667949423,
          -132.19841967968932,
          -661.7124793842768,
          -215.01395292404732,
          160.96788534571124,
          38.28153771847701,
          41.48666040821263,
          489.730506837323,
          696.4696719809422,
          272.55543254064514,
          503.613567073171,
          218.57698170731692,
          -414.4582399612382,
          -498.15079365079373,
          385.5285823170734,
          -111.44218435037556,
          334.8370704584813,
          712.6476854247189,
          -506.46692321788487,
          586.1045446215871,
          -272.7085355496238,
          -595.5769230769229,
          208.46112804878067,
          179.72336811453533,
          -337.21085598155787,
          -333.0949074772843,
          877.9176920973473,
          163.59181630672174,
          992.3643363666802,
          474.7492265226888,
          -297.20675959460686,
          111.57297965915359,
          -214.22330097087388,
          305.6469043378511,
          -232.15836024994724,
          284.3676923076923,
          228.92147479719233,
          -1344.0590285175153,
          138.91714520098412,
          -164.7464010713088,
          108.6817518913499,
          196.10483895311972,
          182.3827651055567,
          -595.0950252798843,
          647.8862455564672,
          254.88088693421332,
          -251.6190476190477,
          -227.83379262309973,
          270.1269412763895,
          103.29118563313159,
          447.00949367088606,
          188.8799745207475,
          5.048676834047001,
          163.8465959599057,
          620.4203519439839,
          43.412698412698774,
          -35.76931856225474,
          440.22221032340985,
          17.608695652173992,
          563.4047619047619,
          -121.16937428416395,
          -585.661150142329,
          84.2342404251417,
          150.69866351960263,
          287.0860820963899,
          -267.5135147516953,
          -127.57234287794245,
          -173.75019021821845,
          617.7950310559004,
          -48.38751438434974,
          414.97686457760665,
          0.2220334870175975,
          9.269841269840981,
          134.88723864016765,
          134.72514867026894,
          -266.0170587698208,
          -100.69047619047615,
          310.99239800141004,
          870.3543182298426,
          -945.8942762678962,
          45.36065374197278,
          -402.7835773199017,
          -31.431923076922885,
          50.4098061295922,
          418.2559098405718,
          -1568.0308775731314,
          -1027.9916760507654,
          -356.3571428571431,
          195.20254385436147,
          446.2222222222222,
          -335.33333333333303,
          371.30493097835915,
          288.9186358430288,
          -175.3715411398207,
          359.8644152766383,
          10.468702683059746,
          -368.0885252365929,
          -148.810472787246,
          -390.8128336568793
         ],
         "xaxis": "x",
         "yaxis": "y"
        }
       ],
       "layout": {
        "annotations": [
         {
          "showarrow": false,
          "text": "<span style=\"color:red\">Observed difference = 458.06</span>",
          "x": 1053.547419992808,
          "y": 0.08
         }
        ],
        "barmode": "relative",
        "legend": {
         "tracegroupgap": 0
        },
        "margin": {
         "t": 60
        },
        "shapes": [
         {
          "line": {
           "color": "red"
          },
          "type": "line",
          "x0": 458.064095649047,
          "x1": 458.064095649047,
          "xref": "x",
          "y0": 0,
          "y1": 1,
          "yref": "y domain"
         }
        ],
        "template": {
         "data": {
          "bar": [
           {
            "error_x": {
             "color": "#2a3f5f"
            },
            "error_y": {
             "color": "#2a3f5f"
            },
            "marker": {
             "line": {
              "color": "#E5ECF6",
              "width": 0.5
             },
             "pattern": {
              "fillmode": "overlay",
              "size": 10,
              "solidity": 0.2
             }
            },
            "type": "bar"
           }
          ],
          "barpolar": [
           {
            "marker": {
             "line": {
              "color": "#E5ECF6",
              "width": 0.5
             },
             "pattern": {
              "fillmode": "overlay",
              "size": 10,
              "solidity": 0.2
             }
            },
            "type": "barpolar"
           }
          ],
          "carpet": [
           {
            "aaxis": {
             "endlinecolor": "#2a3f5f",
             "gridcolor": "white",
             "linecolor": "white",
             "minorgridcolor": "white",
             "startlinecolor": "#2a3f5f"
            },
            "baxis": {
             "endlinecolor": "#2a3f5f",
             "gridcolor": "white",
             "linecolor": "white",
             "minorgridcolor": "white",
             "startlinecolor": "#2a3f5f"
            },
            "type": "carpet"
           }
          ],
          "choropleth": [
           {
            "colorbar": {
             "outlinewidth": 0,
             "ticks": ""
            },
            "type": "choropleth"
           }
          ],
          "contour": [
           {
            "colorbar": {
             "outlinewidth": 0,
             "ticks": ""
            },
            "colorscale": [
             [
              0,
              "#0d0887"
             ],
             [
              0.1111111111111111,
              "#46039f"
             ],
             [
              0.2222222222222222,
              "#7201a8"
             ],
             [
              0.3333333333333333,
              "#9c179e"
             ],
             [
              0.4444444444444444,
              "#bd3786"
             ],
             [
              0.5555555555555556,
              "#d8576b"
             ],
             [
              0.6666666666666666,
              "#ed7953"
             ],
             [
              0.7777777777777778,
              "#fb9f3a"
             ],
             [
              0.8888888888888888,
              "#fdca26"
             ],
             [
              1,
              "#f0f921"
             ]
            ],
            "type": "contour"
           }
          ],
          "contourcarpet": [
           {
            "colorbar": {
             "outlinewidth": 0,
             "ticks": ""
            },
            "type": "contourcarpet"
           }
          ],
          "heatmap": [
           {
            "colorbar": {
             "outlinewidth": 0,
             "ticks": ""
            },
            "colorscale": [
             [
              0,
              "#0d0887"
             ],
             [
              0.1111111111111111,
              "#46039f"
             ],
             [
              0.2222222222222222,
              "#7201a8"
             ],
             [
              0.3333333333333333,
              "#9c179e"
             ],
             [
              0.4444444444444444,
              "#bd3786"
             ],
             [
              0.5555555555555556,
              "#d8576b"
             ],
             [
              0.6666666666666666,
              "#ed7953"
             ],
             [
              0.7777777777777778,
              "#fb9f3a"
             ],
             [
              0.8888888888888888,
              "#fdca26"
             ],
             [
              1,
              "#f0f921"
             ]
            ],
            "type": "heatmap"
           }
          ],
          "heatmapgl": [
           {
            "colorbar": {
             "outlinewidth": 0,
             "ticks": ""
            },
            "colorscale": [
             [
              0,
              "#0d0887"
             ],
             [
              0.1111111111111111,
              "#46039f"
             ],
             [
              0.2222222222222222,
              "#7201a8"
             ],
             [
              0.3333333333333333,
              "#9c179e"
             ],
             [
              0.4444444444444444,
              "#bd3786"
             ],
             [
              0.5555555555555556,
              "#d8576b"
             ],
             [
              0.6666666666666666,
              "#ed7953"
             ],
             [
              0.7777777777777778,
              "#fb9f3a"
             ],
             [
              0.8888888888888888,
              "#fdca26"
             ],
             [
              1,
              "#f0f921"
             ]
            ],
            "type": "heatmapgl"
           }
          ],
          "histogram": [
           {
            "marker": {
             "pattern": {
              "fillmode": "overlay",
              "size": 10,
              "solidity": 0.2
             }
            },
            "type": "histogram"
           }
          ],
          "histogram2d": [
           {
            "colorbar": {
             "outlinewidth": 0,
             "ticks": ""
            },
            "colorscale": [
             [
              0,
              "#0d0887"
             ],
             [
              0.1111111111111111,
              "#46039f"
             ],
             [
              0.2222222222222222,
              "#7201a8"
             ],
             [
              0.3333333333333333,
              "#9c179e"
             ],
             [
              0.4444444444444444,
              "#bd3786"
             ],
             [
              0.5555555555555556,
              "#d8576b"
             ],
             [
              0.6666666666666666,
              "#ed7953"
             ],
             [
              0.7777777777777778,
              "#fb9f3a"
             ],
             [
              0.8888888888888888,
              "#fdca26"
             ],
             [
              1,
              "#f0f921"
             ]
            ],
            "type": "histogram2d"
           }
          ],
          "histogram2dcontour": [
           {
            "colorbar": {
             "outlinewidth": 0,
             "ticks": ""
            },
            "colorscale": [
             [
              0,
              "#0d0887"
             ],
             [
              0.1111111111111111,
              "#46039f"
             ],
             [
              0.2222222222222222,
              "#7201a8"
             ],
             [
              0.3333333333333333,
              "#9c179e"
             ],
             [
              0.4444444444444444,
              "#bd3786"
             ],
             [
              0.5555555555555556,
              "#d8576b"
             ],
             [
              0.6666666666666666,
              "#ed7953"
             ],
             [
              0.7777777777777778,
              "#fb9f3a"
             ],
             [
              0.8888888888888888,
              "#fdca26"
             ],
             [
              1,
              "#f0f921"
             ]
            ],
            "type": "histogram2dcontour"
           }
          ],
          "mesh3d": [
           {
            "colorbar": {
             "outlinewidth": 0,
             "ticks": ""
            },
            "type": "mesh3d"
           }
          ],
          "parcoords": [
           {
            "line": {
             "colorbar": {
              "outlinewidth": 0,
              "ticks": ""
             }
            },
            "type": "parcoords"
           }
          ],
          "pie": [
           {
            "automargin": true,
            "type": "pie"
           }
          ],
          "scatter": [
           {
            "fillpattern": {
             "fillmode": "overlay",
             "size": 10,
             "solidity": 0.2
            },
            "type": "scatter"
           }
          ],
          "scatter3d": [
           {
            "line": {
             "colorbar": {
              "outlinewidth": 0,
              "ticks": ""
             }
            },
            "marker": {
             "colorbar": {
              "outlinewidth": 0,
              "ticks": ""
             }
            },
            "type": "scatter3d"
           }
          ],
          "scattercarpet": [
           {
            "marker": {
             "colorbar": {
              "outlinewidth": 0,
              "ticks": ""
             }
            },
            "type": "scattercarpet"
           }
          ],
          "scattergeo": [
           {
            "marker": {
             "colorbar": {
              "outlinewidth": 0,
              "ticks": ""
             }
            },
            "type": "scattergeo"
           }
          ],
          "scattergl": [
           {
            "marker": {
             "colorbar": {
              "outlinewidth": 0,
              "ticks": ""
             }
            },
            "type": "scattergl"
           }
          ],
          "scattermapbox": [
           {
            "marker": {
             "colorbar": {
              "outlinewidth": 0,
              "ticks": ""
             }
            },
            "type": "scattermapbox"
           }
          ],
          "scatterpolar": [
           {
            "marker": {
             "colorbar": {
              "outlinewidth": 0,
              "ticks": ""
             }
            },
            "type": "scatterpolar"
           }
          ],
          "scatterpolargl": [
           {
            "marker": {
             "colorbar": {
              "outlinewidth": 0,
              "ticks": ""
             }
            },
            "type": "scatterpolargl"
           }
          ],
          "scatterternary": [
           {
            "marker": {
             "colorbar": {
              "outlinewidth": 0,
              "ticks": ""
             }
            },
            "type": "scatterternary"
           }
          ],
          "surface": [
           {
            "colorbar": {
             "outlinewidth": 0,
             "ticks": ""
            },
            "colorscale": [
             [
              0,
              "#0d0887"
             ],
             [
              0.1111111111111111,
              "#46039f"
             ],
             [
              0.2222222222222222,
              "#7201a8"
             ],
             [
              0.3333333333333333,
              "#9c179e"
             ],
             [
              0.4444444444444444,
              "#bd3786"
             ],
             [
              0.5555555555555556,
              "#d8576b"
             ],
             [
              0.6666666666666666,
              "#ed7953"
             ],
             [
              0.7777777777777778,
              "#fb9f3a"
             ],
             [
              0.8888888888888888,
              "#fdca26"
             ],
             [
              1,
              "#f0f921"
             ]
            ],
            "type": "surface"
           }
          ],
          "table": [
           {
            "cells": {
             "fill": {
              "color": "#EBF0F8"
             },
             "line": {
              "color": "white"
             }
            },
            "header": {
             "fill": {
              "color": "#C8D4E3"
             },
             "line": {
              "color": "white"
             }
            },
            "type": "table"
           }
          ]
         },
         "layout": {
          "annotationdefaults": {
           "arrowcolor": "#2a3f5f",
           "arrowhead": 0,
           "arrowwidth": 1
          },
          "autotypenumbers": "strict",
          "coloraxis": {
           "colorbar": {
            "outlinewidth": 0,
            "ticks": ""
           }
          },
          "colorscale": {
           "diverging": [
            [
             0,
             "#8e0152"
            ],
            [
             0.1,
             "#c51b7d"
            ],
            [
             0.2,
             "#de77ae"
            ],
            [
             0.3,
             "#f1b6da"
            ],
            [
             0.4,
             "#fde0ef"
            ],
            [
             0.5,
             "#f7f7f7"
            ],
            [
             0.6,
             "#e6f5d0"
            ],
            [
             0.7,
             "#b8e186"
            ],
            [
             0.8,
             "#7fbc41"
            ],
            [
             0.9,
             "#4d9221"
            ],
            [
             1,
             "#276419"
            ]
           ],
           "sequential": [
            [
             0,
             "#0d0887"
            ],
            [
             0.1111111111111111,
             "#46039f"
            ],
            [
             0.2222222222222222,
             "#7201a8"
            ],
            [
             0.3333333333333333,
             "#9c179e"
            ],
            [
             0.4444444444444444,
             "#bd3786"
            ],
            [
             0.5555555555555556,
             "#d8576b"
            ],
            [
             0.6666666666666666,
             "#ed7953"
            ],
            [
             0.7777777777777778,
             "#fb9f3a"
            ],
            [
             0.8888888888888888,
             "#fdca26"
            ],
            [
             1,
             "#f0f921"
            ]
           ],
           "sequentialminus": [
            [
             0,
             "#0d0887"
            ],
            [
             0.1111111111111111,
             "#46039f"
            ],
            [
             0.2222222222222222,
             "#7201a8"
            ],
            [
             0.3333333333333333,
             "#9c179e"
            ],
            [
             0.4444444444444444,
             "#bd3786"
            ],
            [
             0.5555555555555556,
             "#d8576b"
            ],
            [
             0.6666666666666666,
             "#ed7953"
            ],
            [
             0.7777777777777778,
             "#fb9f3a"
            ],
            [
             0.8888888888888888,
             "#fdca26"
            ],
            [
             1,
             "#f0f921"
            ]
           ]
          },
          "colorway": [
           "#636efa",
           "#EF553B",
           "#00cc96",
           "#ab63fa",
           "#FFA15A",
           "#19d3f3",
           "#FF6692",
           "#B6E880",
           "#FF97FF",
           "#FECB52"
          ],
          "font": {
           "color": "#2a3f5f"
          },
          "geo": {
           "bgcolor": "white",
           "lakecolor": "white",
           "landcolor": "#E5ECF6",
           "showlakes": true,
           "showland": true,
           "subunitcolor": "white"
          },
          "hoverlabel": {
           "align": "left"
          },
          "hovermode": "closest",
          "mapbox": {
           "style": "light"
          },
          "paper_bgcolor": "white",
          "plot_bgcolor": "#E5ECF6",
          "polar": {
           "angularaxis": {
            "gridcolor": "white",
            "linecolor": "white",
            "ticks": ""
           },
           "bgcolor": "#E5ECF6",
           "radialaxis": {
            "gridcolor": "white",
            "linecolor": "white",
            "ticks": ""
           }
          },
          "scene": {
           "xaxis": {
            "backgroundcolor": "#E5ECF6",
            "gridcolor": "white",
            "gridwidth": 2,
            "linecolor": "white",
            "showbackground": true,
            "ticks": "",
            "zerolinecolor": "white"
           },
           "yaxis": {
            "backgroundcolor": "#E5ECF6",
            "gridcolor": "white",
            "gridwidth": 2,
            "linecolor": "white",
            "showbackground": true,
            "ticks": "",
            "zerolinecolor": "white"
           },
           "zaxis": {
            "backgroundcolor": "#E5ECF6",
            "gridcolor": "white",
            "gridwidth": 2,
            "linecolor": "white",
            "showbackground": true,
            "ticks": "",
            "zerolinecolor": "white"
           }
          },
          "shapedefaults": {
           "line": {
            "color": "#2a3f5f"
           }
          },
          "ternary": {
           "aaxis": {
            "gridcolor": "white",
            "linecolor": "white",
            "ticks": ""
           },
           "baxis": {
            "gridcolor": "white",
            "linecolor": "white",
            "ticks": ""
           },
           "bgcolor": "#E5ECF6",
           "caxis": {
            "gridcolor": "white",
            "linecolor": "white",
            "ticks": ""
           }
          },
          "title": {
           "x": 0.05
          },
          "xaxis": {
           "automargin": true,
           "gridcolor": "white",
           "linecolor": "white",
           "ticks": "",
           "title": {
            "standoff": 15
           },
           "zerolinecolor": "white",
           "zerolinewidth": 2
          },
          "yaxis": {
           "automargin": true,
           "gridcolor": "white",
           "linecolor": "white",
           "ticks": "",
           "title": {
            "standoff": 15
           },
           "zerolinecolor": "white",
           "zerolinewidth": 2
          }
         }
        },
        "title": {
         "text": "Empirical Distribution of the Mean Differences <br>         in outage duration (Northeast - South)"
        },
        "xaxis": {
         "anchor": "y",
         "domain": [
          0,
          1
         ],
         "range": [
          -2000,
          2000
         ],
         "title": {
          "text": "0"
         }
        },
        "yaxis": {
         "anchor": "x",
         "domain": [
          0,
          1
         ],
         "title": {
          "text": "probability"
         }
        }
       }
      }
     },
     "metadata": {},
     "output_type": "display_data"
    }
   ],
   "source": [
    "fig = px.histogram(pd.DataFrame(differences), x=0, nbins=100, \n",
    "                   histnorm='probability', \n",
    "    title='Empirical Distribution of the Mean Differences <br> \\\n",
    "        in outage duration (Northeast - South)')\n",
    "fig.add_vline(x=observed_diff, line_color='red')\n",
    "fig.add_annotation(text=\\\n",
    "f'<span style=\"color:red\">Observed difference = {round(observed_diff, 2)}</span>',\n",
    "    x=2.3 * observed_diff, showarrow=False, y=0.08)\n",
    "fig.update_layout(xaxis_range=[-2000, 2000], margin=dict(t=60))"
   ]
  },
  {
   "cell_type": "markdown",
   "metadata": {},
   "source": [
    "## Step 5: Framing a Prediction Problem"
   ]
  },
  {
   "cell_type": "markdown",
   "metadata": {},
   "source": [
    "I want to focus on the CLIMATE.REGION column in the dataset as I want to attempt to predict where the power outage occured. This will be a classification problem"
   ]
  },
  {
   "cell_type": "markdown",
   "metadata": {},
   "source": [
    "## Step 6: Baseline Model"
   ]
  },
  {
   "cell_type": "code",
   "execution_count": 134,
   "metadata": {
    "ExecuteTime": {
     "end_time": "2019-10-31T23:36:28.662099Z",
     "start_time": "2019-10-31T23:36:28.660016Z"
    }
   },
   "outputs": [
    {
     "name": "stderr",
     "output_type": "stream",
     "text": [
      "c:\\Users\\alebe\\miniforge3\\envs\\dsc80\\lib\\site-packages\\sklearn\\linear_model\\_logistic.py:814: ConvergenceWarning:\n",
      "\n",
      "lbfgs failed to converge (status=1):\n",
      "STOP: TOTAL NO. of ITERATIONS REACHED LIMIT.\n",
      "\n",
      "Increase the number of iterations (max_iter) or scale the data as shown in:\n",
      "    https://scikit-learn.org/stable/modules/preprocessing.html\n",
      "Please also refer to the documentation for alternative solver options:\n",
      "    https://scikit-learn.org/stable/modules/linear_model.html#logistic-regression\n",
      "\n"
     ]
    },
    {
     "data": {
      "text/plain": [
       "0.42196531791907516"
      ]
     },
     "execution_count": 134,
     "metadata": {},
     "output_type": "execute_result"
    }
   ],
   "source": [
    "from sklearn.pipeline import Pipeline\n",
    "from sklearn.linear_model import LogisticRegression\n",
    "from sklearn.model_selection import train_test_split\n",
    "from sklearn.preprocessing import OneHotEncoder\n",
    "from sklearn.compose import ColumnTransformer\n",
    "\n",
    "model_df = outages.copy()\n",
    "model_df = model_df.drop(axis=1, index='Units')\n",
    "model_df = model_df.reset_index().drop(\n",
    "    labels='Major power outage events in the continental U.S.',\n",
    "    axis=1)\n",
    "model_df = model_df[['CLIMATE.CATEGORY','POPULATION','TOTAL.PRICE',\n",
    "                     'TOTAL.SALES','OUTAGE.DURATION',\n",
    "                     'CLIMATE.REGION']]\n",
    "model_df=model_df.dropna(how='any')\n",
    "\n",
    "preproc = ColumnTransformer(transformers=[('onehot',OneHotEncoder(),\n",
    "                                           ['CLIMATE.CATEGORY'])],\n",
    "                            remainder='passthrough')\n",
    "mdl_pipeline = Pipeline([('preproc',preproc),\n",
    "                         ('model',LogisticRegression(max_iter=2000))])\n",
    "\n",
    "X_train,X_test,Y_train,Y_test = train_test_split(\n",
    "    model_df.drop('CLIMATE.REGION',axis=1),\n",
    "    model_df['CLIMATE.REGION'],test_size=0.25)\n",
    "mdl_pipeline.fit(X_train,Y_train).score(X_test,Y_test)\n",
    "\n",
    "\n"
   ]
  },
  {
   "cell_type": "markdown",
   "metadata": {},
   "source": [
    "## Step 7: Final Model"
   ]
  },
  {
   "cell_type": "code",
   "execution_count": 135,
   "metadata": {},
   "outputs": [
    {
     "data": {
      "text/plain": [
       "TOTAL.PRICE    10.117851\n",
       "dtype: object"
      ]
     },
     "execution_count": 135,
     "metadata": {},
     "output_type": "execute_result"
    }
   ],
   "source": [
    "mean_price = outages.copy()\n",
    "mean_price = mean_price['TOTAL.PRICE'].dropna(\n",
    "    how='any').drop(axis=1,index='Units')\n",
    "mean_price.reset_index().drop(\n",
    "    labels='Major power outage events in the continental U.S.',\n",
    "    axis=1).mean()"
   ]
  },
  {
   "cell_type": "code",
   "execution_count": 136,
   "metadata": {
    "ExecuteTime": {
     "end_time": "2019-10-31T23:36:28.662099Z",
     "start_time": "2019-10-31T23:36:28.660016Z"
    }
   },
   "outputs": [
    {
     "data": {
      "text/plain": [
       "GridSearchCV(cv=5,\n",
       "             estimator=Pipeline(steps=[('preproc',\n",
       "                                        ColumnTransformer(remainder='passthrough',\n",
       "                                                          transformers=[('Binary',\n",
       "                                                                         Binarizer(threshold=10),\n",
       "                                                                         ['TOTAL.PRICE']),\n",
       "                                                                        ('Standard',\n",
       "                                                                         StandardScaler(),\n",
       "                                                                         ['TOTAL.SALES',\n",
       "                                                                          'OUTAGE.DURATION']),\n",
       "                                                                        ('onehot',\n",
       "                                                                         OneHotEncoder(),\n",
       "                                                                         ['CLIMATE.CATEGORY'])])),\n",
       "                                       ('model', RandomForestClassifier())]),\n",
       "             param_grid={'model__criterion': ['gini', 'entropy'],\n",
       "                         'model__max_depth': [10, 20, 40, 80, 100, None],\n",
       "                         'model__min_samples_split': [2, 5, 10, 20, 50, 100,\n",
       "                                                      200]})"
      ]
     },
     "execution_count": 136,
     "metadata": {},
     "output_type": "execute_result"
    }
   ],
   "source": [
    "from sklearn.ensemble import RandomForestClassifier\n",
    "from sklearn.pipeline import Pipeline\n",
    "from sklearn.model_selection import train_test_split, GridSearchCV\n",
    "from sklearn.preprocessing import OneHotEncoder, Binarizer, StandardScaler\n",
    "from sklearn.compose import ColumnTransformer\n",
    "\n",
    "# Creating dataframe for final model\n",
    "\n",
    "final_df = outages.copy()\n",
    "final_df = final_df.drop(axis=1, index='Units')\n",
    "final_df = final_df.reset_index().drop(\n",
    "    labels='Major power outage events in the continental U.S.',\n",
    "    axis=1)\n",
    "final_df = final_df[['CLIMATE.CATEGORY','POPULATION',\n",
    "                     'TOTAL.PRICE','TOTAL.SALES', 'OUTAGE.DURATION',\n",
    "                     'CLIMATE.REGION']]\n",
    "final_df = final_df.dropna(how='any')\n",
    "\n",
    "# Engineering two new features (Binarizer and StandardScaler)\n",
    "\n",
    "preproc = ColumnTransformer(\n",
    "    transformers=[('Binary',Binarizer(threshold=10),['TOTAL.PRICE']),\n",
    "                ('Standard', StandardScaler(),['TOTAL.SALES','OUTAGE.DURATION']),\n",
    "                ('onehot', OneHotEncoder(),['CLIMATE.CATEGORY'])],\n",
    "                remainder='passthrough')\n",
    "\n",
    "hyperparams =  {'model__max_depth': [10,20,40,80,100,None],\n",
    "                'model__min_samples_split': [2, 5, 10, 20, 50, 100, 200],\n",
    "                'model__criterion': ['gini','entropy']}\n",
    "\n",
    "pipe = Pipeline([('preproc',preproc),\n",
    "                 ('model',RandomForestClassifier())])\n",
    "\n",
    "X_train,X_test,Y_train,Y_test = train_test_split(\n",
    "    final_df.drop(['CLIMATE.REGION'],axis=1),\n",
    "    final_df['CLIMATE.REGION'],test_size=0.25)\n",
    "\n",
    "search = GridSearchCV(pipe,hyperparams,cv=5)\n",
    "search.fit(X_train,Y_train)"
   ]
  },
  {
   "cell_type": "code",
   "execution_count": 137,
   "metadata": {},
   "outputs": [
    {
     "data": {
      "text/plain": [
       "{'model__criterion': 'entropy',\n",
       " 'model__max_depth': 100,\n",
       " 'model__min_samples_split': 2}"
      ]
     },
     "execution_count": 137,
     "metadata": {},
     "output_type": "execute_result"
    }
   ],
   "source": [
    "search.best_params_"
   ]
  },
  {
   "cell_type": "code",
   "execution_count": 138,
   "metadata": {},
   "outputs": [
    {
     "data": {
      "text/plain": [
       "0.9075144508670521"
      ]
     },
     "execution_count": 138,
     "metadata": {},
     "output_type": "execute_result"
    }
   ],
   "source": [
    "tunedparams =  {'max_depth': None,\n",
    "                'min_samples_split': 2,\n",
    "                'criterion': 'entropy'}\n",
    "\n",
    "final_pipe = Pipeline([('preproc',preproc),\n",
    "                       ('model',RandomForestClassifier(\n",
    "                           **tunedparams))])\n",
    "final_pipe.fit(X_train,Y_train)\n",
    "final_pipe.score(X_test,Y_test)"
   ]
  },
  {
   "cell_type": "markdown",
   "metadata": {},
   "source": [
    "## Step 8: Fairness Analysis"
   ]
  },
  {
   "cell_type": "code",
   "execution_count": 139,
   "metadata": {
    "ExecuteTime": {
     "end_time": "2019-10-31T23:36:28.666489Z",
     "start_time": "2019-10-31T23:36:28.664381Z"
    }
   },
   "outputs": [
    {
     "data": {
      "application/vnd.plotly.v1+json": {
       "config": {
        "plotlyServerURL": "https://plot.ly"
       },
       "data": [
        {
         "alignmentgroup": "True",
         "bingroup": "x",
         "histnorm": "probability",
         "hovertemplate": "0=%{x}<br>probability=%{y}<extra></extra>",
         "legendgroup": "",
         "marker": {
          "color": "#636efa",
          "pattern": {
           "shape": ""
          }
         },
         "name": "",
         "nbinsx": 50,
         "offsetgroup": "",
         "orientation": "v",
         "showlegend": false,
         "type": "histogram",
         "x": [
          -0.03538230884557714,
          0.04242878560719643,
          0.029460269865067445,
          -0.04835082458770623,
          -0.022413793103448265,
          0.016491754122938462,
          0.029460269865067445,
          0.00352323838080959,
          -0.03538230884557714,
          -0.009445277361319393,
          -0.009445277361319393,
          -0.009445277361319393,
          0.016491754122938462,
          0.00352323838080959,
          0.0553973013493253,
          0.016491754122938462,
          -0.04835082458770623,
          0.029460269865067445,
          0.0553973013493253,
          0.04242878560719643,
          0.00352323838080959,
          0.00352323838080959,
          0.00352323838080959,
          -0.03538230884557714,
          0.016491754122938462,
          0.00352323838080959,
          0.04242878560719643,
          0.016491754122938462,
          0.016491754122938462,
          -0.022413793103448265,
          0.016491754122938462,
          -0.009445277361319393,
          0.00352323838080959,
          -0.022413793103448265,
          -0.022413793103448265,
          -0.03538230884557714,
          -0.03538230884557714,
          0.016491754122938462,
          0.016491754122938462,
          0.0553973013493253,
          -0.009445277361319393,
          -0.022413793103448265,
          0.016491754122938462,
          -0.03538230884557714,
          0.029460269865067445,
          -0.022413793103448265,
          -0.022413793103448265,
          0.029460269865067445,
          -0.022413793103448265,
          0.00352323838080959,
          0.04242878560719643,
          0.00352323838080959,
          0.016491754122938462,
          0.08133433283358327,
          0.029460269865067445,
          0.029460269865067445,
          0.04242878560719643,
          0.029460269865067445,
          -0.022413793103448265,
          -0.03538230884557714,
          0.016491754122938462,
          -0.03538230884557714,
          -0.009445277361319393,
          -0.07428785607196398,
          0.016491754122938462,
          -0.022413793103448265,
          0.04242878560719643,
          0.029460269865067445,
          0.06836581709145428,
          0.029460269865067445,
          0.04242878560719643,
          -0.03538230884557714,
          0.016491754122938462,
          0.029460269865067445,
          0.00352323838080959,
          -0.03538230884557714,
          -0.009445277361319393,
          -0.03538230884557714,
          -0.04835082458770623,
          -0.009445277361319393,
          0.04242878560719643,
          -0.022413793103448265,
          -0.04835082458770623,
          0.016491754122938462,
          0.04242878560719643,
          -0.009445277361319393,
          -0.03538230884557714,
          -0.009445277361319393,
          0.029460269865067445,
          -0.061319340329835104,
          0.00352323838080959,
          0.00352323838080959,
          0.00352323838080959,
          -0.009445277361319393,
          0.00352323838080959,
          0.016491754122938462,
          -0.009445277361319393,
          -0.009445277361319393,
          0.00352323838080959,
          0.029460269865067445,
          -0.08725637181409296,
          -0.04835082458770623,
          0.00352323838080959,
          0.029460269865067445,
          -0.009445277361319393,
          -0.07428785607196398,
          0.016491754122938462,
          -0.04835082458770623,
          0.06836581709145428,
          -0.009445277361319393,
          -0.009445277361319393,
          0.06836581709145428,
          0.029460269865067445,
          0.016491754122938462,
          0.029460269865067445,
          0.016491754122938462,
          -0.061319340329835104,
          -0.022413793103448265,
          0.0553973013493253,
          0.00352323838080959,
          0.016491754122938462,
          0.04242878560719643,
          -0.022413793103448265,
          -0.009445277361319393,
          0.09430284857571214,
          -0.022413793103448265,
          -0.009445277361319393,
          0.0553973013493253,
          -0.022413793103448265,
          0.00352323838080959,
          -0.03538230884557714,
          0.00352323838080959,
          -0.009445277361319393,
          -0.061319340329835104,
          -0.009445277361319393,
          -0.03538230884557714,
          -0.009445277361319393,
          0.029460269865067445,
          0.00352323838080959,
          -0.03538230884557714,
          0.04242878560719643,
          -0.061319340329835104,
          0.00352323838080959,
          -0.009445277361319393,
          -0.009445277361319393,
          -0.03538230884557714,
          -0.009445277361319393,
          -0.03538230884557714,
          0.029460269865067445,
          0.04242878560719643,
          -0.061319340329835104,
          -0.022413793103448265,
          0.06836581709145428,
          0.016491754122938462,
          0.016491754122938462,
          -0.03538230884557714,
          -0.04835082458770623,
          0.029460269865067445,
          0.016491754122938462,
          0.00352323838080959,
          -0.009445277361319393,
          -0.009445277361319393,
          0.016491754122938462,
          -0.009445277361319393,
          -0.04835082458770623,
          -0.04835082458770623,
          -0.009445277361319393,
          -0.022413793103448265,
          0.016491754122938462,
          0.016491754122938462,
          0.029460269865067445,
          0.0553973013493253,
          0.00352323838080959,
          -0.061319340329835104,
          0.04242878560719643,
          0.00352323838080959,
          -0.009445277361319393,
          -0.022413793103448265,
          0.0553973013493253,
          -0.061319340329835104,
          0.016491754122938462,
          -0.04835082458770623,
          0.016491754122938462,
          -0.04835082458770623,
          0.04242878560719643,
          -0.022413793103448265,
          0.04242878560719643,
          0.06836581709145428,
          0.029460269865067445,
          0.016491754122938462,
          -0.022413793103448265,
          0.029460269865067445,
          0.00352323838080959,
          0.016491754122938462,
          0.00352323838080959,
          -0.03538230884557714,
          -0.009445277361319393,
          0.04242878560719643,
          -0.009445277361319393,
          0.04242878560719643,
          0.00352323838080959,
          -0.03538230884557714,
          0.04242878560719643,
          -0.022413793103448265,
          0.029460269865067445,
          0.00352323838080959,
          0.016491754122938462,
          0.04242878560719643,
          -0.009445277361319393,
          -0.022413793103448265,
          0.0553973013493253,
          0.029460269865067445,
          -0.009445277361319393,
          0.029460269865067445,
          -0.022413793103448265,
          0.016491754122938462,
          0.06836581709145428,
          0.029460269865067445,
          -0.009445277361319393,
          0.08133433283358327,
          -0.022413793103448265,
          0.04242878560719643,
          -0.009445277361319393,
          -0.022413793103448265,
          0.04242878560719643,
          0.00352323838080959,
          0.0553973013493253,
          -0.022413793103448265,
          -0.009445277361319393,
          0.00352323838080959,
          0.04242878560719643,
          -0.061319340329835104,
          -0.03538230884557714,
          -0.03538230884557714,
          -0.022413793103448265,
          -0.009445277361319393,
          -0.009445277361319393,
          -0.009445277361319393,
          0.00352323838080959,
          -0.03538230884557714,
          -0.022413793103448265,
          0.016491754122938462,
          -0.07428785607196398,
          0.08133433283358327,
          -0.022413793103448265,
          -0.07428785607196398,
          -0.009445277361319393,
          0.04242878560719643,
          0.016491754122938462,
          -0.04835082458770623,
          0.029460269865067445,
          -0.009445277361319393,
          -0.022413793103448265,
          0.029460269865067445,
          -0.07428785607196398,
          -0.03538230884557714,
          -0.009445277361319393,
          -0.009445277361319393,
          -0.03538230884557714,
          -0.009445277361319393,
          0.029460269865067445,
          0.016491754122938462,
          0.029460269865067445,
          0.06836581709145428,
          0.016491754122938462,
          0.016491754122938462,
          -0.009445277361319393,
          -0.009445277361319393,
          0.016491754122938462,
          -0.061319340329835104,
          -0.009445277361319393,
          0.00352323838080959,
          0.0553973013493253,
          -0.009445277361319393,
          -0.022413793103448265,
          -0.04835082458770623,
          0.016491754122938462,
          -0.009445277361319393,
          -0.022413793103448265,
          0.016491754122938462,
          -0.009445277361319393,
          -0.04835082458770623,
          0.016491754122938462,
          -0.03538230884557714,
          0.04242878560719643,
          -0.009445277361319393,
          0.016491754122938462,
          0.04242878560719643,
          0.016491754122938462,
          0.0553973013493253,
          -0.07428785607196398,
          0.00352323838080959,
          -0.009445277361319393,
          -0.009445277361319393,
          -0.009445277361319393,
          0.00352323838080959,
          -0.022413793103448265,
          0.00352323838080959,
          -0.022413793103448265,
          -0.009445277361319393,
          0.016491754122938462,
          -0.009445277361319393,
          -0.022413793103448265,
          0.00352323838080959,
          0.029460269865067445,
          0.029460269865067445,
          0.00352323838080959,
          -0.009445277361319393,
          0.00352323838080959,
          0.016491754122938462,
          0.029460269865067445,
          -0.061319340329835104,
          -0.022413793103448265,
          0.029460269865067445,
          0.0553973013493253,
          0.029460269865067445,
          -0.009445277361319393,
          0.00352323838080959,
          -0.04835082458770623,
          -0.03538230884557714,
          0.06836581709145428,
          0.00352323838080959,
          0.016491754122938462,
          -0.022413793103448265,
          0.00352323838080959,
          -0.04835082458770623,
          0.04242878560719643,
          0.029460269865067445,
          0.06836581709145428,
          0.00352323838080959,
          0.016491754122938462,
          -0.022413793103448265,
          0.016491754122938462,
          -0.009445277361319393,
          0.029460269865067445,
          -0.009445277361319393,
          0.016491754122938462,
          0.00352323838080959,
          -0.04835082458770623,
          -0.03538230884557714,
          0.0553973013493253,
          0.016491754122938462,
          -0.04835082458770623,
          -0.009445277361319393,
          0.00352323838080959,
          -0.061319340329835104,
          0.029460269865067445,
          0.00352323838080959,
          -0.04835082458770623,
          0.016491754122938462,
          0.04242878560719643,
          -0.07428785607196398,
          0.016491754122938462,
          -0.022413793103448265,
          0.00352323838080959,
          0.029460269865067445,
          0.04242878560719643,
          0.00352323838080959,
          -0.022413793103448265,
          0.029460269865067445,
          -0.009445277361319393,
          0.016491754122938462,
          0.08133433283358327,
          0.0553973013493253,
          -0.022413793103448265,
          -0.009445277361319393,
          0.029460269865067445,
          -0.022413793103448265,
          -0.03538230884557714,
          -0.07428785607196398,
          -0.03538230884557714,
          0.016491754122938462,
          0.00352323838080959,
          -0.009445277361319393,
          0.016491754122938462,
          -0.061319340329835104,
          -0.009445277361319393,
          -0.009445277361319393,
          0.06836581709145428,
          0.016491754122938462,
          0.00352323838080959,
          0.016491754122938462,
          0.06836581709145428,
          0.00352323838080959,
          -0.009445277361319393,
          0.029460269865067445,
          -0.009445277361319393,
          0.0553973013493253,
          0.016491754122938462,
          0.029460269865067445,
          -0.009445277361319393,
          -0.03538230884557714,
          0.029460269865067445,
          -0.03538230884557714,
          0.016491754122938462,
          -0.009445277361319393,
          0.029460269865067445,
          0.00352323838080959,
          -0.04835082458770623,
          -0.022413793103448265,
          0.06836581709145428,
          0.04242878560719643,
          -0.061319340329835104,
          0.016491754122938462,
          0.016491754122938462,
          -0.03538230884557714,
          0.016491754122938462,
          0.00352323838080959,
          -0.07428785607196398,
          -0.04835082458770623,
          0.00352323838080959,
          0.04242878560719643,
          0.016491754122938462,
          -0.061319340329835104,
          0.029460269865067445,
          -0.04835082458770623,
          0.00352323838080959,
          0.016491754122938462,
          0.08133433283358327,
          0.04242878560719643,
          0.016491754122938462,
          -0.03538230884557714,
          -0.04835082458770623,
          0.029460269865067445,
          0.00352323838080959,
          0.016491754122938462,
          0.00352323838080959,
          0.016491754122938462,
          0.00352323838080959,
          0.029460269865067445,
          -0.009445277361319393,
          0.0553973013493253,
          0.029460269865067445,
          -0.022413793103448265,
          -0.03538230884557714,
          0.029460269865067445,
          0.016491754122938462,
          -0.022413793103448265,
          0.016491754122938462,
          -0.04835082458770623,
          0.00352323838080959,
          -0.022413793103448265,
          -0.061319340329835104,
          -0.022413793103448265,
          0.00352323838080959,
          -0.022413793103448265,
          -0.009445277361319393,
          0.06836581709145428,
          -0.009445277361319393,
          -0.009445277361319393,
          0.029460269865067445,
          0.016491754122938462,
          0.00352323838080959,
          -0.03538230884557714,
          0.016491754122938462,
          0.0553973013493253,
          0.016491754122938462,
          0.00352323838080959,
          -0.03538230884557714,
          0.04242878560719643,
          0.00352323838080959,
          0.016491754122938462,
          0.029460269865067445,
          -0.009445277361319393,
          0.00352323838080959,
          0.016491754122938462,
          -0.022413793103448265,
          0.04242878560719643,
          -0.009445277361319393,
          0.029460269865067445,
          -0.009445277361319393,
          0.00352323838080959,
          0.029460269865067445,
          -0.009445277361319393,
          0.06836581709145428,
          0.00352323838080959,
          -0.04835082458770623,
          0.029460269865067445,
          0.00352323838080959,
          -0.022413793103448265,
          -0.03538230884557714,
          -0.009445277361319393,
          0.0553973013493253,
          -0.061319340329835104,
          0.04242878560719643,
          0.00352323838080959,
          0.016491754122938462,
          -0.022413793103448265,
          -0.009445277361319393,
          -0.03538230884557714,
          -0.009445277361319393,
          -0.009445277361319393,
          0.029460269865067445,
          -0.009445277361319393,
          0.0553973013493253,
          0.016491754122938462,
          0.016491754122938462,
          0.016491754122938462,
          -0.04835082458770623,
          0.06836581709145428
         ],
         "xaxis": "x",
         "yaxis": "y"
        }
       ],
       "layout": {
        "annotations": [
         {
          "showarrow": false,
          "text": "<span style=\"color:red\">Observed difference = -0.11</span>",
          "x": -0.26034482758620686,
          "y": 0.16
         }
        ],
        "barmode": "relative",
        "legend": {
         "tracegroupgap": 0
        },
        "shapes": [
         {
          "line": {
           "color": "red"
          },
          "type": "line",
          "x0": -0.11319340329835081,
          "x1": -0.11319340329835081,
          "xref": "x",
          "y0": 0,
          "y1": 1,
          "yref": "y domain"
         }
        ],
        "template": {
         "data": {
          "bar": [
           {
            "error_x": {
             "color": "#2a3f5f"
            },
            "error_y": {
             "color": "#2a3f5f"
            },
            "marker": {
             "line": {
              "color": "#E5ECF6",
              "width": 0.5
             },
             "pattern": {
              "fillmode": "overlay",
              "size": 10,
              "solidity": 0.2
             }
            },
            "type": "bar"
           }
          ],
          "barpolar": [
           {
            "marker": {
             "line": {
              "color": "#E5ECF6",
              "width": 0.5
             },
             "pattern": {
              "fillmode": "overlay",
              "size": 10,
              "solidity": 0.2
             }
            },
            "type": "barpolar"
           }
          ],
          "carpet": [
           {
            "aaxis": {
             "endlinecolor": "#2a3f5f",
             "gridcolor": "white",
             "linecolor": "white",
             "minorgridcolor": "white",
             "startlinecolor": "#2a3f5f"
            },
            "baxis": {
             "endlinecolor": "#2a3f5f",
             "gridcolor": "white",
             "linecolor": "white",
             "minorgridcolor": "white",
             "startlinecolor": "#2a3f5f"
            },
            "type": "carpet"
           }
          ],
          "choropleth": [
           {
            "colorbar": {
             "outlinewidth": 0,
             "ticks": ""
            },
            "type": "choropleth"
           }
          ],
          "contour": [
           {
            "colorbar": {
             "outlinewidth": 0,
             "ticks": ""
            },
            "colorscale": [
             [
              0,
              "#0d0887"
             ],
             [
              0.1111111111111111,
              "#46039f"
             ],
             [
              0.2222222222222222,
              "#7201a8"
             ],
             [
              0.3333333333333333,
              "#9c179e"
             ],
             [
              0.4444444444444444,
              "#bd3786"
             ],
             [
              0.5555555555555556,
              "#d8576b"
             ],
             [
              0.6666666666666666,
              "#ed7953"
             ],
             [
              0.7777777777777778,
              "#fb9f3a"
             ],
             [
              0.8888888888888888,
              "#fdca26"
             ],
             [
              1,
              "#f0f921"
             ]
            ],
            "type": "contour"
           }
          ],
          "contourcarpet": [
           {
            "colorbar": {
             "outlinewidth": 0,
             "ticks": ""
            },
            "type": "contourcarpet"
           }
          ],
          "heatmap": [
           {
            "colorbar": {
             "outlinewidth": 0,
             "ticks": ""
            },
            "colorscale": [
             [
              0,
              "#0d0887"
             ],
             [
              0.1111111111111111,
              "#46039f"
             ],
             [
              0.2222222222222222,
              "#7201a8"
             ],
             [
              0.3333333333333333,
              "#9c179e"
             ],
             [
              0.4444444444444444,
              "#bd3786"
             ],
             [
              0.5555555555555556,
              "#d8576b"
             ],
             [
              0.6666666666666666,
              "#ed7953"
             ],
             [
              0.7777777777777778,
              "#fb9f3a"
             ],
             [
              0.8888888888888888,
              "#fdca26"
             ],
             [
              1,
              "#f0f921"
             ]
            ],
            "type": "heatmap"
           }
          ],
          "heatmapgl": [
           {
            "colorbar": {
             "outlinewidth": 0,
             "ticks": ""
            },
            "colorscale": [
             [
              0,
              "#0d0887"
             ],
             [
              0.1111111111111111,
              "#46039f"
             ],
             [
              0.2222222222222222,
              "#7201a8"
             ],
             [
              0.3333333333333333,
              "#9c179e"
             ],
             [
              0.4444444444444444,
              "#bd3786"
             ],
             [
              0.5555555555555556,
              "#d8576b"
             ],
             [
              0.6666666666666666,
              "#ed7953"
             ],
             [
              0.7777777777777778,
              "#fb9f3a"
             ],
             [
              0.8888888888888888,
              "#fdca26"
             ],
             [
              1,
              "#f0f921"
             ]
            ],
            "type": "heatmapgl"
           }
          ],
          "histogram": [
           {
            "marker": {
             "pattern": {
              "fillmode": "overlay",
              "size": 10,
              "solidity": 0.2
             }
            },
            "type": "histogram"
           }
          ],
          "histogram2d": [
           {
            "colorbar": {
             "outlinewidth": 0,
             "ticks": ""
            },
            "colorscale": [
             [
              0,
              "#0d0887"
             ],
             [
              0.1111111111111111,
              "#46039f"
             ],
             [
              0.2222222222222222,
              "#7201a8"
             ],
             [
              0.3333333333333333,
              "#9c179e"
             ],
             [
              0.4444444444444444,
              "#bd3786"
             ],
             [
              0.5555555555555556,
              "#d8576b"
             ],
             [
              0.6666666666666666,
              "#ed7953"
             ],
             [
              0.7777777777777778,
              "#fb9f3a"
             ],
             [
              0.8888888888888888,
              "#fdca26"
             ],
             [
              1,
              "#f0f921"
             ]
            ],
            "type": "histogram2d"
           }
          ],
          "histogram2dcontour": [
           {
            "colorbar": {
             "outlinewidth": 0,
             "ticks": ""
            },
            "colorscale": [
             [
              0,
              "#0d0887"
             ],
             [
              0.1111111111111111,
              "#46039f"
             ],
             [
              0.2222222222222222,
              "#7201a8"
             ],
             [
              0.3333333333333333,
              "#9c179e"
             ],
             [
              0.4444444444444444,
              "#bd3786"
             ],
             [
              0.5555555555555556,
              "#d8576b"
             ],
             [
              0.6666666666666666,
              "#ed7953"
             ],
             [
              0.7777777777777778,
              "#fb9f3a"
             ],
             [
              0.8888888888888888,
              "#fdca26"
             ],
             [
              1,
              "#f0f921"
             ]
            ],
            "type": "histogram2dcontour"
           }
          ],
          "mesh3d": [
           {
            "colorbar": {
             "outlinewidth": 0,
             "ticks": ""
            },
            "type": "mesh3d"
           }
          ],
          "parcoords": [
           {
            "line": {
             "colorbar": {
              "outlinewidth": 0,
              "ticks": ""
             }
            },
            "type": "parcoords"
           }
          ],
          "pie": [
           {
            "automargin": true,
            "type": "pie"
           }
          ],
          "scatter": [
           {
            "fillpattern": {
             "fillmode": "overlay",
             "size": 10,
             "solidity": 0.2
            },
            "type": "scatter"
           }
          ],
          "scatter3d": [
           {
            "line": {
             "colorbar": {
              "outlinewidth": 0,
              "ticks": ""
             }
            },
            "marker": {
             "colorbar": {
              "outlinewidth": 0,
              "ticks": ""
             }
            },
            "type": "scatter3d"
           }
          ],
          "scattercarpet": [
           {
            "marker": {
             "colorbar": {
              "outlinewidth": 0,
              "ticks": ""
             }
            },
            "type": "scattercarpet"
           }
          ],
          "scattergeo": [
           {
            "marker": {
             "colorbar": {
              "outlinewidth": 0,
              "ticks": ""
             }
            },
            "type": "scattergeo"
           }
          ],
          "scattergl": [
           {
            "marker": {
             "colorbar": {
              "outlinewidth": 0,
              "ticks": ""
             }
            },
            "type": "scattergl"
           }
          ],
          "scattermapbox": [
           {
            "marker": {
             "colorbar": {
              "outlinewidth": 0,
              "ticks": ""
             }
            },
            "type": "scattermapbox"
           }
          ],
          "scatterpolar": [
           {
            "marker": {
             "colorbar": {
              "outlinewidth": 0,
              "ticks": ""
             }
            },
            "type": "scatterpolar"
           }
          ],
          "scatterpolargl": [
           {
            "marker": {
             "colorbar": {
              "outlinewidth": 0,
              "ticks": ""
             }
            },
            "type": "scatterpolargl"
           }
          ],
          "scatterternary": [
           {
            "marker": {
             "colorbar": {
              "outlinewidth": 0,
              "ticks": ""
             }
            },
            "type": "scatterternary"
           }
          ],
          "surface": [
           {
            "colorbar": {
             "outlinewidth": 0,
             "ticks": ""
            },
            "colorscale": [
             [
              0,
              "#0d0887"
             ],
             [
              0.1111111111111111,
              "#46039f"
             ],
             [
              0.2222222222222222,
              "#7201a8"
             ],
             [
              0.3333333333333333,
              "#9c179e"
             ],
             [
              0.4444444444444444,
              "#bd3786"
             ],
             [
              0.5555555555555556,
              "#d8576b"
             ],
             [
              0.6666666666666666,
              "#ed7953"
             ],
             [
              0.7777777777777778,
              "#fb9f3a"
             ],
             [
              0.8888888888888888,
              "#fdca26"
             ],
             [
              1,
              "#f0f921"
             ]
            ],
            "type": "surface"
           }
          ],
          "table": [
           {
            "cells": {
             "fill": {
              "color": "#EBF0F8"
             },
             "line": {
              "color": "white"
             }
            },
            "header": {
             "fill": {
              "color": "#C8D4E3"
             },
             "line": {
              "color": "white"
             }
            },
            "type": "table"
           }
          ]
         },
         "layout": {
          "annotationdefaults": {
           "arrowcolor": "#2a3f5f",
           "arrowhead": 0,
           "arrowwidth": 1
          },
          "autotypenumbers": "strict",
          "coloraxis": {
           "colorbar": {
            "outlinewidth": 0,
            "ticks": ""
           }
          },
          "colorscale": {
           "diverging": [
            [
             0,
             "#8e0152"
            ],
            [
             0.1,
             "#c51b7d"
            ],
            [
             0.2,
             "#de77ae"
            ],
            [
             0.3,
             "#f1b6da"
            ],
            [
             0.4,
             "#fde0ef"
            ],
            [
             0.5,
             "#f7f7f7"
            ],
            [
             0.6,
             "#e6f5d0"
            ],
            [
             0.7,
             "#b8e186"
            ],
            [
             0.8,
             "#7fbc41"
            ],
            [
             0.9,
             "#4d9221"
            ],
            [
             1,
             "#276419"
            ]
           ],
           "sequential": [
            [
             0,
             "#0d0887"
            ],
            [
             0.1111111111111111,
             "#46039f"
            ],
            [
             0.2222222222222222,
             "#7201a8"
            ],
            [
             0.3333333333333333,
             "#9c179e"
            ],
            [
             0.4444444444444444,
             "#bd3786"
            ],
            [
             0.5555555555555556,
             "#d8576b"
            ],
            [
             0.6666666666666666,
             "#ed7953"
            ],
            [
             0.7777777777777778,
             "#fb9f3a"
            ],
            [
             0.8888888888888888,
             "#fdca26"
            ],
            [
             1,
             "#f0f921"
            ]
           ],
           "sequentialminus": [
            [
             0,
             "#0d0887"
            ],
            [
             0.1111111111111111,
             "#46039f"
            ],
            [
             0.2222222222222222,
             "#7201a8"
            ],
            [
             0.3333333333333333,
             "#9c179e"
            ],
            [
             0.4444444444444444,
             "#bd3786"
            ],
            [
             0.5555555555555556,
             "#d8576b"
            ],
            [
             0.6666666666666666,
             "#ed7953"
            ],
            [
             0.7777777777777778,
             "#fb9f3a"
            ],
            [
             0.8888888888888888,
             "#fdca26"
            ],
            [
             1,
             "#f0f921"
            ]
           ]
          },
          "colorway": [
           "#636efa",
           "#EF553B",
           "#00cc96",
           "#ab63fa",
           "#FFA15A",
           "#19d3f3",
           "#FF6692",
           "#B6E880",
           "#FF97FF",
           "#FECB52"
          ],
          "font": {
           "color": "#2a3f5f"
          },
          "geo": {
           "bgcolor": "white",
           "lakecolor": "white",
           "landcolor": "#E5ECF6",
           "showlakes": true,
           "showland": true,
           "subunitcolor": "white"
          },
          "hoverlabel": {
           "align": "left"
          },
          "hovermode": "closest",
          "mapbox": {
           "style": "light"
          },
          "paper_bgcolor": "white",
          "plot_bgcolor": "#E5ECF6",
          "polar": {
           "angularaxis": {
            "gridcolor": "white",
            "linecolor": "white",
            "ticks": ""
           },
           "bgcolor": "#E5ECF6",
           "radialaxis": {
            "gridcolor": "white",
            "linecolor": "white",
            "ticks": ""
           }
          },
          "scene": {
           "xaxis": {
            "backgroundcolor": "#E5ECF6",
            "gridcolor": "white",
            "gridwidth": 2,
            "linecolor": "white",
            "showbackground": true,
            "ticks": "",
            "zerolinecolor": "white"
           },
           "yaxis": {
            "backgroundcolor": "#E5ECF6",
            "gridcolor": "white",
            "gridwidth": 2,
            "linecolor": "white",
            "showbackground": true,
            "ticks": "",
            "zerolinecolor": "white"
           },
           "zaxis": {
            "backgroundcolor": "#E5ECF6",
            "gridcolor": "white",
            "gridwidth": 2,
            "linecolor": "white",
            "showbackground": true,
            "ticks": "",
            "zerolinecolor": "white"
           }
          },
          "shapedefaults": {
           "line": {
            "color": "#2a3f5f"
           }
          },
          "ternary": {
           "aaxis": {
            "gridcolor": "white",
            "linecolor": "white",
            "ticks": ""
           },
           "baxis": {
            "gridcolor": "white",
            "linecolor": "white",
            "ticks": ""
           },
           "bgcolor": "#E5ECF6",
           "caxis": {
            "gridcolor": "white",
            "linecolor": "white",
            "ticks": ""
           }
          },
          "title": {
           "x": 0.05
          },
          "xaxis": {
           "automargin": true,
           "gridcolor": "white",
           "linecolor": "white",
           "ticks": "",
           "title": {
            "standoff": 15
           },
           "zerolinecolor": "white",
           "zerolinewidth": 2
          },
          "yaxis": {
           "automargin": true,
           "gridcolor": "white",
           "linecolor": "white",
           "ticks": "",
           "title": {
            "standoff": 15
           },
           "zerolinecolor": "white",
           "zerolinewidth": 2
          }
         }
        },
        "title": {
         "text": "Difference in Accuracy of Large vs. Small (Large - Small) Populations"
        },
        "xaxis": {
         "anchor": "y",
         "domain": [
          0,
          1
         ],
         "title": {
          "text": "0"
         }
        },
        "yaxis": {
         "anchor": "x",
         "domain": [
          0,
          1
         ],
         "range": [
          0,
          0.2
         ],
         "title": {
          "text": "probability"
         }
        }
       }
      }
     },
     "metadata": {},
     "output_type": "display_data"
    }
   ],
   "source": [
    "# Does the model has the accuracy for larger populations as it does for smaller populations\n",
    "\n",
    "# Null Hypothesis: The model has the same accuracy for large populations as it does small populations\n",
    "# Alternate Hypothesis: The model has higher accuracy for larger populations than it does for small populations\n",
    "\n",
    "from sklearn.metrics import accuracy_score\n",
    "\n",
    "cutoff = outages['POPULATION'].mean()\n",
    "\n",
    "fair_df = X_test\n",
    "fair_df['preds'] = final_pipe.predict(X_test)\n",
    "fair_df['region'] = Y_test\n",
    "fair_df['is_large'] = (\n",
    "    fair_df['POPULATION'] > cutoff).replace(\n",
    "        {True: 'large', False: 'small'})\n",
    "\n",
    "calc_accuracy = lambda x: accuracy_score(x['region'], x['preds'])\n",
    "\n",
    "observed_pop = fair_df.groupby('is_large').apply(\n",
    "    calc_accuracy).diff().iloc[-1]\n",
    "\n",
    "diffs = []\n",
    "for _ in range(500):\n",
    "    s = (\n",
    "        fair_df[['is_large', 'preds', 'region']]\n",
    "        .assign(is_large=np.random.permutation(fair_df['is_large']))\n",
    "        .groupby('is_large')\n",
    "        .apply(calc_accuracy)\n",
    "        .diff()\n",
    "        .iloc[-1]\n",
    "    )\n",
    "    \n",
    "    diffs.append(s)\n",
    "\n",
    "fig = px.histogram(pd.DataFrame(diffs), x=0, nbins=50, \n",
    "                   histnorm='probability', \n",
    "title='Difference in Accuracy of Large vs. Small (Large - Small) Populations')\n",
    "\n",
    "fig.add_vline(x=observed_pop, line_color='red')\n",
    "fig.add_annotation(text=\\\n",
    "f'<span style=\"color:red\">Observed difference = {round(observed_pop, 2)}</span>',\n",
    "                   x=2.3 * observed_pop, showarrow=False, y=0.16)\n",
    "fig.update_layout(yaxis_range=[0, 0.2])"
   ]
  },
  {
   "cell_type": "code",
   "execution_count": null,
   "metadata": {},
   "outputs": [],
   "source": []
  }
 ],
 "metadata": {
  "kernelspec": {
   "display_name": "Python 3 (ipykernel)",
   "language": "python",
   "name": "python3"
  },
  "language_info": {
   "codemirror_mode": {
    "name": "ipython",
    "version": 3
   },
   "file_extension": ".py",
   "mimetype": "text/x-python",
   "name": "python",
   "nbconvert_exporter": "python",
   "pygments_lexer": "ipython3",
   "version": "3.8.19"
  }
 },
 "nbformat": 4,
 "nbformat_minor": 2
}
